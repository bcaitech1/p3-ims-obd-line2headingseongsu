{
 "cells": [
  {
   "cell_type": "code",
   "execution_count": 1,
   "metadata": {},
   "outputs": [
    {
     "name": "stdout",
     "output_type": "stream",
     "text": [
      "Thu May 20 02:47:22 2021       \n",
      "+-----------------------------------------------------------------------------+\n",
      "| NVIDIA-SMI 418.67       Driver Version: 418.67       CUDA Version: 10.1     |\n",
      "|-------------------------------+----------------------+----------------------+\n",
      "| GPU  Name        Persistence-M| Bus-Id        Disp.A | Volatile Uncorr. ECC |\n",
      "| Fan  Temp  Perf  Pwr:Usage/Cap|         Memory-Usage | GPU-Util  Compute M. |\n",
      "|===============================+======================+======================|\n",
      "|   0  Tesla P40           On   | 00000000:00:05.0 Off |                  Off |\n",
      "| N/A   44C    P0    60W / 250W |      0MiB / 24451MiB |      0%      Default |\n",
      "+-------------------------------+----------------------+----------------------+\n",
      "                                                                               \n",
      "+-----------------------------------------------------------------------------+\n",
      "| Processes:                                                       GPU Memory |\n",
      "|  GPU       PID   Type   Process name                             Usage      |\n",
      "|=============================================================================|\n",
      "|  No running processes found                                                 |\n",
      "+-----------------------------------------------------------------------------+\n"
     ]
    }
   ],
   "source": [
    "!nvidia-smi"
   ]
  },
  {
   "cell_type": "code",
   "execution_count": 2,
   "metadata": {
    "pycharm": {
     "name": "#%%\n"
    }
   },
   "outputs": [
    {
     "name": "stdout",
     "output_type": "stream",
     "text": [
      "apex is not installed\n",
      "apex is not installed\n",
      "apex is not installed\n",
      "apex is not installed\n"
     ]
    }
   ],
   "source": [
    "from mmcv import Config\n",
    "from mmdet.datasets import build_dataset\n",
    "from mmdet.models import build_detector\n",
    "from mmdet.apis import train_detector\n",
    "from mmdet.datasets import (build_dataloader, build_dataset,\n",
    "                            replace_ImageToTensor)\n",
    "from mmdet.utils import collect_env\n",
    "import os.path as osp\n",
    "import torch.distributed as dist\n",
    "from mmcv.runner import load_checkpoint\n",
    "import time\n",
    "from mmcv.parallel import MMDataParallel\n",
    "#from swin_transformer.apex.apex import apex"
   ]
  },
  {
   "cell_type": "code",
   "execution_count": 3,
   "metadata": {
    "pycharm": {
     "name": "#%%\n"
    }
   },
   "outputs": [],
   "source": [
    "classes = (\"UNKNOWN\", \"General trash\", \"Paper\", \"Paper pack\", \"Metal\", \"Glass\", \n",
    "           \"Plastic\", \"Styrofoam\", \"Plastic bag\", \"Battery\", \"Clothing\")\n",
    "\n",
    "# config file 들고오기\n",
    "cfg = Config.fromfile('/opt/ml/code/swin_transformer/configs/swin/cascade_mask_rcnn_swin_tiny_patch4_window7_mstrain_480-800_giou_4conv1f_adamw_3x_coco.py')\n",
    "#cfg = Config.fromfile('./configs/faster_rcnn/faster_rcnn_r50_fpn_1x_coco.py')\n",
    "PREFIX = '/opt/ml/input/data/'\n",
    "epoch = 480\n",
    "\n",
    "from sklearn.model_selection import StratifiedKFold\n",
    "\n",
    "# dataset 바꾸기\n",
    "cfg.data.train.classes = classes\n",
    "cfg.data.train.img_prefix = PREFIX\n",
    "cfg.data.train.ann_file = PREFIX + 'train.json'\n",
    "cfg.data.train.seg_prefix=PREFIX\n",
    "#cfg.data.train.pipeline[2]['img_scale'] = (512, 512)\n",
    "\n",
    "cfg.data.val.classes = classes\n",
    "cfg.data.val.img_prefix = PREFIX\n",
    "cfg.data.val.ann_file = PREFIX + 'val.json'\n",
    "cfg.data.train.seg_prefix=PREFIX\n",
    "#cfg.data.val.pipeline[1]['img_scale'] = (512, 512)\n",
    "\n",
    "cfg.data.test.classes = classes\n",
    "cfg.data.test.img_prefix = PREFIX\n",
    "cfg.data.test.ann_file = PREFIX + 'test.json'\n",
    "cfg.data.train.seg_prefix=PREFIX\n",
    "#cfg.data.test.pipeline[1]['img_scale'] = (512, 512)\n",
    "\n",
    "PREFIX = '../../input/data/'\n",
    "\n",
    "cfg.data.samples_per_gpu = 4\n",
    "\n",
    "cfg.seed=2020\n",
    "cfg.gpu_ids = [0]\n",
    "cfg.work_dir = './work_dirs/faster_rcnn_r50_fpn_1x_trash'\n",
    "cfg.model.roi_head.bbox_head[0].num_classes=11\n",
    "cfg.model.roi_head.bbox_head[1].num_classes=11\n",
    "cfg.model.roi_head.bbox_head[2].num_classes=11\n",
    "\n",
    "\n",
    "# #inferance 노트북\n",
    "# for i, out in enumerate(output):\n",
    "#     prediction_string = ''\n",
    "#     image_info = coco.loadImgs(coco.getImgIds(imgIds=i))[0]\n",
    "#     for j in range(class_num):\n",
    "#         for o in out[0][j]:  #삼중 포문에서 마스크 쓴 모델은 이렇게 바꿔줍니다.  \n",
    "# #cfg.model.roi_head.bbox_head.num_classes = 11\n",
    "# #cfg.optimizer_config.grad_clip = dict(max_norm=35, norm_type=2)"
   ]
  },
  {
   "cell_type": "code",
   "execution_count": 4,
   "metadata": {
    "pycharm": {
     "name": "#%%\n"
    }
   },
   "outputs": [
    {
     "name": "stdout",
     "output_type": "stream",
     "text": [
      "Use load_from_local loader\n"
     ]
    }
   ],
   "source": [
    "import os\n",
    "epoch = 1\n",
    "model = build_detector(cfg.model, train_cfg=cfg.get('train_cfg'), test_cfg=cfg.get('test_cfg'))\n",
    "checkpoint_path = os.path.join(cfg.work_dir, f'epoch_{epoch}.pth')\n",
    "checkpoint = load_checkpoint(model, checkpoint_path, map_location='cpu')"
   ]
  },
  {
   "cell_type": "code",
   "execution_count": 5,
   "metadata": {
    "pycharm": {
     "name": "#%%\n"
    }
   },
   "outputs": [
    {
     "name": "stdout",
     "output_type": "stream",
     "text": [
      "loading annotations into memory...\n",
      "Done (t=3.65s)\n",
      "creating index...\n",
      "index created!\n"
     ]
    },
    {
     "name": "stderr",
     "output_type": "stream",
     "text": [
      "/opt/conda/lib/python3.7/site-packages/albumentations/augmentations/transforms.py:2611: UserWarning: blur_limit and sigma_limit minimum value can not be both equal to 0. blur_limit minimum value changed to 3.\n",
      "  \"blur_limit and sigma_limit minimum value can not be both equal to 0. \"\n"
     ]
    }
   ],
   "source": [
    "datasets = [build_dataset(cfg.data.train)]"
   ]
  },
  {
   "cell_type": "code",
   "execution_count": null,
   "metadata": {
    "pycharm": {
     "name": "#%%\n"
    }
   },
   "outputs": [
    {
     "name": "stdout",
     "output_type": "stream",
     "text": [
      "loading annotations into memory...\n"
     ]
    },
    {
     "name": "stderr",
     "output_type": "stream",
     "text": [
      "2021-05-20 02:47:52,452 - mmdet - INFO - load checkpoint from /opt/ml/code/cascade_mask_rcnn_swin_tiny_patch4_window7.pth\n",
      "2021-05-20 02:47:52,453 - mmdet - INFO - Use load_from_local loader\n"
     ]
    },
    {
     "name": "stdout",
     "output_type": "stream",
     "text": [
      "Done (t=1.32s)\n",
      "creating index...\n",
      "index created!\n"
     ]
    },
    {
     "name": "stderr",
     "output_type": "stream",
     "text": [
      "2021-05-20 02:47:52,736 - mmdet - WARNING - The model and loaded state dict do not match exactly\n",
      "\n",
      "size mismatch for rpn_head.rpn_cls.weight: copying a param with shape torch.Size([3, 256, 1, 1]) from checkpoint, the shape in current model is torch.Size([21, 256, 1, 1]).\n",
      "size mismatch for rpn_head.rpn_cls.bias: copying a param with shape torch.Size([3]) from checkpoint, the shape in current model is torch.Size([21]).\n",
      "size mismatch for rpn_head.rpn_reg.weight: copying a param with shape torch.Size([12, 256, 1, 1]) from checkpoint, the shape in current model is torch.Size([84, 256, 1, 1]).\n",
      "size mismatch for rpn_head.rpn_reg.bias: copying a param with shape torch.Size([12]) from checkpoint, the shape in current model is torch.Size([84]).\n",
      "size mismatch for roi_head.bbox_head.0.fc_cls.weight: copying a param with shape torch.Size([81, 1024]) from checkpoint, the shape in current model is torch.Size([12, 1024]).\n",
      "size mismatch for roi_head.bbox_head.0.fc_cls.bias: copying a param with shape torch.Size([81]) from checkpoint, the shape in current model is torch.Size([12]).\n",
      "size mismatch for roi_head.bbox_head.0.fc_reg.weight: copying a param with shape torch.Size([320, 1024]) from checkpoint, the shape in current model is torch.Size([4, 1024]).\n",
      "size mismatch for roi_head.bbox_head.0.fc_reg.bias: copying a param with shape torch.Size([320]) from checkpoint, the shape in current model is torch.Size([4]).\n",
      "size mismatch for roi_head.bbox_head.1.fc_cls.weight: copying a param with shape torch.Size([81, 1024]) from checkpoint, the shape in current model is torch.Size([12, 1024]).\n",
      "size mismatch for roi_head.bbox_head.1.fc_cls.bias: copying a param with shape torch.Size([81]) from checkpoint, the shape in current model is torch.Size([12]).\n",
      "size mismatch for roi_head.bbox_head.1.fc_reg.weight: copying a param with shape torch.Size([320, 1024]) from checkpoint, the shape in current model is torch.Size([4, 1024]).\n",
      "size mismatch for roi_head.bbox_head.1.fc_reg.bias: copying a param with shape torch.Size([320]) from checkpoint, the shape in current model is torch.Size([4]).\n",
      "size mismatch for roi_head.bbox_head.2.fc_cls.weight: copying a param with shape torch.Size([81, 1024]) from checkpoint, the shape in current model is torch.Size([12, 1024]).\n",
      "size mismatch for roi_head.bbox_head.2.fc_cls.bias: copying a param with shape torch.Size([81]) from checkpoint, the shape in current model is torch.Size([12]).\n",
      "size mismatch for roi_head.bbox_head.2.fc_reg.weight: copying a param with shape torch.Size([320, 1024]) from checkpoint, the shape in current model is torch.Size([4, 1024]).\n",
      "size mismatch for roi_head.bbox_head.2.fc_reg.bias: copying a param with shape torch.Size([320]) from checkpoint, the shape in current model is torch.Size([4]).\n",
      "size mismatch for roi_head.mask_head.0.conv_logits.weight: copying a param with shape torch.Size([80, 256, 1, 1]) from checkpoint, the shape in current model is torch.Size([11, 256, 1, 1]).\n",
      "size mismatch for roi_head.mask_head.0.conv_logits.bias: copying a param with shape torch.Size([80]) from checkpoint, the shape in current model is torch.Size([11]).\n",
      "size mismatch for roi_head.mask_head.1.conv_logits.weight: copying a param with shape torch.Size([80, 256, 1, 1]) from checkpoint, the shape in current model is torch.Size([11, 256, 1, 1]).\n",
      "size mismatch for roi_head.mask_head.1.conv_logits.bias: copying a param with shape torch.Size([80]) from checkpoint, the shape in current model is torch.Size([11]).\n",
      "size mismatch for roi_head.mask_head.2.conv_logits.weight: copying a param with shape torch.Size([80, 256, 1, 1]) from checkpoint, the shape in current model is torch.Size([11, 256, 1, 1]).\n",
      "size mismatch for roi_head.mask_head.2.conv_logits.bias: copying a param with shape torch.Size([80]) from checkpoint, the shape in current model is torch.Size([11]).\n",
      "unexpected key in source state_dict: roi_head.bbox_head.0.shared_convs.0.conv.weight, roi_head.bbox_head.0.shared_convs.0.bn.weight, roi_head.bbox_head.0.shared_convs.0.bn.bias, roi_head.bbox_head.0.shared_convs.0.bn.running_mean, roi_head.bbox_head.0.shared_convs.0.bn.running_var, roi_head.bbox_head.0.shared_convs.0.bn.num_batches_tracked, roi_head.bbox_head.0.shared_convs.1.conv.weight, roi_head.bbox_head.0.shared_convs.1.bn.weight, roi_head.bbox_head.0.shared_convs.1.bn.bias, roi_head.bbox_head.0.shared_convs.1.bn.running_mean, roi_head.bbox_head.0.shared_convs.1.bn.running_var, roi_head.bbox_head.0.shared_convs.1.bn.num_batches_tracked, roi_head.bbox_head.0.shared_convs.2.conv.weight, roi_head.bbox_head.0.shared_convs.2.bn.weight, roi_head.bbox_head.0.shared_convs.2.bn.bias, roi_head.bbox_head.0.shared_convs.2.bn.running_mean, roi_head.bbox_head.0.shared_convs.2.bn.running_var, roi_head.bbox_head.0.shared_convs.2.bn.num_batches_tracked, roi_head.bbox_head.0.shared_convs.3.conv.weight, roi_head.bbox_head.0.shared_convs.3.bn.weight, roi_head.bbox_head.0.shared_convs.3.bn.bias, roi_head.bbox_head.0.shared_convs.3.bn.running_mean, roi_head.bbox_head.0.shared_convs.3.bn.running_var, roi_head.bbox_head.0.shared_convs.3.bn.num_batches_tracked, roi_head.bbox_head.1.shared_convs.0.conv.weight, roi_head.bbox_head.1.shared_convs.0.bn.weight, roi_head.bbox_head.1.shared_convs.0.bn.bias, roi_head.bbox_head.1.shared_convs.0.bn.running_mean, roi_head.bbox_head.1.shared_convs.0.bn.running_var, roi_head.bbox_head.1.shared_convs.0.bn.num_batches_tracked, roi_head.bbox_head.1.shared_convs.1.conv.weight, roi_head.bbox_head.1.shared_convs.1.bn.weight, roi_head.bbox_head.1.shared_convs.1.bn.bias, roi_head.bbox_head.1.shared_convs.1.bn.running_mean, roi_head.bbox_head.1.shared_convs.1.bn.running_var, roi_head.bbox_head.1.shared_convs.1.bn.num_batches_tracked, roi_head.bbox_head.1.shared_convs.2.conv.weight, roi_head.bbox_head.1.shared_convs.2.bn.weight, roi_head.bbox_head.1.shared_convs.2.bn.bias, roi_head.bbox_head.1.shared_convs.2.bn.running_mean, roi_head.bbox_head.1.shared_convs.2.bn.running_var, roi_head.bbox_head.1.shared_convs.2.bn.num_batches_tracked, roi_head.bbox_head.1.shared_convs.3.conv.weight, roi_head.bbox_head.1.shared_convs.3.bn.weight, roi_head.bbox_head.1.shared_convs.3.bn.bias, roi_head.bbox_head.1.shared_convs.3.bn.running_mean, roi_head.bbox_head.1.shared_convs.3.bn.running_var, roi_head.bbox_head.1.shared_convs.3.bn.num_batches_tracked, roi_head.bbox_head.2.shared_convs.0.conv.weight, roi_head.bbox_head.2.shared_convs.0.bn.weight, roi_head.bbox_head.2.shared_convs.0.bn.bias, roi_head.bbox_head.2.shared_convs.0.bn.running_mean, roi_head.bbox_head.2.shared_convs.0.bn.running_var, roi_head.bbox_head.2.shared_convs.0.bn.num_batches_tracked, roi_head.bbox_head.2.shared_convs.1.conv.weight, roi_head.bbox_head.2.shared_convs.1.bn.weight, roi_head.bbox_head.2.shared_convs.1.bn.bias, roi_head.bbox_head.2.shared_convs.1.bn.running_mean, roi_head.bbox_head.2.shared_convs.1.bn.running_var, roi_head.bbox_head.2.shared_convs.1.bn.num_batches_tracked, roi_head.bbox_head.2.shared_convs.2.conv.weight, roi_head.bbox_head.2.shared_convs.2.bn.weight, roi_head.bbox_head.2.shared_convs.2.bn.bias, roi_head.bbox_head.2.shared_convs.2.bn.running_mean, roi_head.bbox_head.2.shared_convs.2.bn.running_var, roi_head.bbox_head.2.shared_convs.2.bn.num_batches_tracked, roi_head.bbox_head.2.shared_convs.3.conv.weight, roi_head.bbox_head.2.shared_convs.3.bn.weight, roi_head.bbox_head.2.shared_convs.3.bn.bias, roi_head.bbox_head.2.shared_convs.3.bn.running_mean, roi_head.bbox_head.2.shared_convs.3.bn.running_var, roi_head.bbox_head.2.shared_convs.3.bn.num_batches_tracked\n",
      "\n",
      "missing keys in source state_dict: roi_head.bbox_head.0.shared_fcs.1.weight, roi_head.bbox_head.0.shared_fcs.1.bias, roi_head.bbox_head.1.shared_fcs.1.weight, roi_head.bbox_head.1.shared_fcs.1.bias, roi_head.bbox_head.2.shared_fcs.1.weight, roi_head.bbox_head.2.shared_fcs.1.bias, roi_head.mask_head.1.conv_res.conv.weight, roi_head.mask_head.1.conv_res.conv.bias, roi_head.mask_head.2.conv_res.conv.weight, roi_head.mask_head.2.conv_res.conv.bias, roi_head.semantic_head.lateral_convs.0.conv.weight, roi_head.semantic_head.lateral_convs.0.conv.bias, roi_head.semantic_head.lateral_convs.1.conv.weight, roi_head.semantic_head.lateral_convs.1.conv.bias, roi_head.semantic_head.lateral_convs.2.conv.weight, roi_head.semantic_head.lateral_convs.2.conv.bias, roi_head.semantic_head.lateral_convs.3.conv.weight, roi_head.semantic_head.lateral_convs.3.conv.bias, roi_head.semantic_head.lateral_convs.4.conv.weight, roi_head.semantic_head.lateral_convs.4.conv.bias, roi_head.semantic_head.convs.0.conv.weight, roi_head.semantic_head.convs.0.conv.bias, roi_head.semantic_head.convs.1.conv.weight, roi_head.semantic_head.convs.1.conv.bias, roi_head.semantic_head.convs.2.conv.weight, roi_head.semantic_head.convs.2.conv.bias, roi_head.semantic_head.convs.3.conv.weight, roi_head.semantic_head.convs.3.conv.bias, roi_head.semantic_head.conv_embedding.conv.weight, roi_head.semantic_head.conv_embedding.conv.bias, roi_head.semantic_head.conv_logits.weight, roi_head.semantic_head.conv_logits.bias\n",
      "\n",
      "2021-05-20 02:47:52,744 - mmdet - INFO - Start running, host: root@1d4866e02049, work_dir: /opt/ml/code/swin_transformer/work_dirs/faster_rcnn_r50_fpn_1x_trash\n",
      "2021-05-20 02:47:52,744 - mmdet - INFO - workflow: [('train', 1)], max: 60 epochs\n",
      "/opt/ml/code/swin_transformer/mmdet/core/evaluation/eval_hooks.py:111: UserWarning: runner.meta is None. Creating a empty one.\n",
      "  warnings.warn('runner.meta is None. Creating a empty one.')\n",
      "2021-05-20 02:50:07,836 - mmdet - INFO - Epoch [1][50/655]\tlr: 1.643e-06, eta: 1 day, 5:27:22, time: 2.702, data_time: 0.140, memory: 18368, loss_rpn_cls: 0.1705, loss_rpn_bbox: 0.0759, loss_semantic_seg: 0.1832, s0.loss_cls: 0.6634, s0.acc: 85.9414, s0.loss_bbox: 0.3106, s0.loss_mask: 1.8942, s1.loss_cls: 0.3073, s1.acc: 90.1162, s1.loss_bbox: 0.1580, s1.loss_mask: 0.5150, s2.loss_cls: 0.1079, s2.acc: 93.3662, s2.loss_bbox: 0.0531, s2.loss_mask: 0.4905, loss: 4.9295\n",
      "2021-05-20 02:52:21,757 - mmdet - INFO - Epoch [1][100/655]\tlr: 3.310e-06, eta: 1 day, 5:17:30, time: 2.678, data_time: 0.053, memory: 18625, loss_rpn_cls: 0.1544, loss_rpn_bbox: 0.0824, loss_semantic_seg: 0.1827, s0.loss_cls: 0.5460, s0.acc: 85.8125, s0.loss_bbox: 0.3149, s0.loss_mask: 1.5550, s1.loss_cls: 0.2191, s1.acc: 90.3594, s1.loss_bbox: 0.1546, s1.loss_mask: 0.3994, s2.loss_cls: 0.0931, s2.acc: 93.6318, s2.loss_bbox: 0.0486, s2.loss_mask: 0.4289, loss: 4.1791\n",
      "2021-05-20 02:54:31,358 - mmdet - INFO - Epoch [1][150/655]\tlr: 4.976e-06, eta: 1 day, 4:53:55, time: 2.592, data_time: 0.049, memory: 18625, loss_rpn_cls: 0.1424, loss_rpn_bbox: 0.0764, loss_semantic_seg: 0.1854, s0.loss_cls: 0.5351, s0.acc: 85.3350, s0.loss_bbox: 0.3257, s0.loss_mask: 1.0442, s1.loss_cls: 0.2068, s1.acc: 90.1611, s1.loss_bbox: 0.1589, s1.loss_mask: 0.3326, s2.loss_cls: 0.0933, s2.acc: 93.3682, s2.loss_bbox: 0.0523, s2.loss_mask: 0.3274, loss: 3.4805\n",
      "2021-05-20 02:56:43,713 - mmdet - INFO - Epoch [1][200/655]\tlr: 6.643e-06, eta: 1 day, 4:50:02, time: 2.647, data_time: 0.041, memory: 18625, loss_rpn_cls: 0.1068, loss_rpn_bbox: 0.0608, loss_semantic_seg: 0.1971, s0.loss_cls: 0.5116, s0.acc: 86.4131, s0.loss_bbox: 0.3082, s0.loss_mask: 0.8598, s1.loss_cls: 0.2063, s1.acc: 90.6035, s1.loss_bbox: 0.1567, s1.loss_mask: 0.2918, s2.loss_cls: 0.0905, s2.acc: 93.7275, s2.loss_bbox: 0.0522, s2.loss_mask: 0.2543, loss: 3.0962\n",
      "2021-05-20 02:59:03,090 - mmdet - INFO - Epoch [1][250/655]\tlr: 8.309e-06, eta: 1 day, 5:05:06, time: 2.788, data_time: 0.048, memory: 18703, loss_rpn_cls: 0.1161, loss_rpn_bbox: 0.0711, loss_semantic_seg: 0.1792, s0.loss_cls: 0.5250, s0.acc: 85.2227, s0.loss_bbox: 0.3290, s0.loss_mask: 0.7605, s1.loss_cls: 0.2207, s1.acc: 89.0674, s1.loss_bbox: 0.1757, s1.loss_mask: 0.2676, s2.loss_cls: 0.0996, s2.acc: 92.1865, s2.loss_bbox: 0.0642, s2.loss_mask: 0.2118, loss: 3.0205\n",
      "2021-05-20 03:01:25,328 - mmdet - INFO - Epoch [1][300/655]\tlr: 9.976e-06, eta: 1 day, 5:20:34, time: 2.845, data_time: 0.046, memory: 19343, loss_rpn_cls: 0.0956, loss_rpn_bbox: 0.0633, loss_semantic_seg: 0.1543, s0.loss_cls: 0.4871, s0.acc: 86.1357, s0.loss_bbox: 0.3005, s0.loss_mask: 0.6905, s1.loss_cls: 0.2073, s1.acc: 89.4229, s1.loss_bbox: 0.1723, s1.loss_mask: 0.2460, s2.loss_cls: 0.0959, s2.acc: 91.8135, s2.loss_bbox: 0.0682, s2.loss_mask: 0.1846, loss: 2.7656\n",
      "2021-05-20 03:03:46,576 - mmdet - INFO - Epoch [1][350/655]\tlr: 1.164e-05, eta: 1 day, 5:29:06, time: 2.825, data_time: 0.051, memory: 19659, loss_rpn_cls: 0.0898, loss_rpn_bbox: 0.0599, loss_semantic_seg: 0.1712, s0.loss_cls: 0.5032, s0.acc: 85.3896, s0.loss_bbox: 0.2981, s0.loss_mask: 0.6481, s1.loss_cls: 0.2279, s1.acc: 87.8502, s1.loss_bbox: 0.1864, s1.loss_mask: 0.2202, s2.loss_cls: 0.1074, s2.acc: 89.9773, s2.loss_bbox: 0.0823, s2.loss_mask: 0.1653, loss: 2.7597\n",
      "2021-05-20 03:06:09,852 - mmdet - INFO - Epoch [1][400/655]\tlr: 1.331e-05, eta: 1 day, 5:38:12, time: 2.865, data_time: 0.043, memory: 19688, loss_rpn_cls: 0.0749, loss_rpn_bbox: 0.0555, loss_semantic_seg: 0.1619, s0.loss_cls: 0.4892, s0.acc: 85.5449, s0.loss_bbox: 0.2897, s0.loss_mask: 0.6084, s1.loss_cls: 0.2227, s1.acc: 87.5568, s1.loss_bbox: 0.1966, s1.loss_mask: 0.2056, s2.loss_cls: 0.1046, s2.acc: 89.3091, s2.loss_bbox: 0.0879, s2.loss_mask: 0.1462, loss: 2.6432\n",
      "2021-05-20 03:08:36,515 - mmdet - INFO - Epoch [1][450/655]\tlr: 1.498e-05, eta: 1 day, 5:49:37, time: 2.933, data_time: 0.047, memory: 19731, loss_rpn_cls: 0.0762, loss_rpn_bbox: 0.0535, loss_semantic_seg: 0.1581, s0.loss_cls: 0.4935, s0.acc: 85.5879, s0.loss_bbox: 0.2848, s0.loss_mask: 0.5506, s1.loss_cls: 0.2319, s1.acc: 87.0819, s1.loss_bbox: 0.2015, s1.loss_mask: 0.1970, s2.loss_cls: 0.1043, s2.acc: 89.2230, s2.loss_bbox: 0.0914, s2.loss_mask: 0.1235, loss: 2.5662\n",
      "2021-05-20 03:11:08,268 - mmdet - INFO - Epoch [1][500/655]\tlr: 1.664e-05, eta: 1 day, 6:04:51, time: 3.035, data_time: 0.057, memory: 20467, loss_rpn_cls: 0.0757, loss_rpn_bbox: 0.0596, loss_semantic_seg: 0.1650, s0.loss_cls: 0.5192, s0.acc: 84.6514, s0.loss_bbox: 0.2908, s0.loss_mask: 0.5117, s1.loss_cls: 0.2427, s1.acc: 85.8350, s1.loss_bbox: 0.2113, s1.loss_mask: 0.1842, s2.loss_cls: 0.1102, s2.acc: 87.9455, s2.loss_bbox: 0.0983, s2.loss_mask: 0.1130, loss: 2.5816\n",
      "2021-05-20 03:13:36,663 - mmdet - INFO - Epoch [1][550/655]\tlr: 1.831e-05, eta: 1 day, 6:12:55, time: 2.968, data_time: 0.042, memory: 20467, loss_rpn_cls: 0.0616, loss_rpn_bbox: 0.0508, loss_semantic_seg: 0.1597, s0.loss_cls: 0.4700, s0.acc: 86.5654, s0.loss_bbox: 0.2589, s0.loss_mask: 0.4602, s1.loss_cls: 0.2247, s1.acc: 87.7445, s1.loss_bbox: 0.1910, s1.loss_mask: 0.1772, s2.loss_cls: 0.1068, s2.acc: 89.1952, s2.loss_bbox: 0.0885, s2.loss_mask: 0.1001, loss: 2.3495\n",
      "2021-05-20 03:16:07,336 - mmdet - INFO - Epoch [1][600/655]\tlr: 1.997e-05, eta: 1 day, 6:21:40, time: 3.013, data_time: 0.043, memory: 20467, loss_rpn_cls: 0.0583, loss_rpn_bbox: 0.0463, loss_semantic_seg: 0.1412, s0.loss_cls: 0.4529, s0.acc: 86.3955, s0.loss_bbox: 0.2550, s0.loss_mask: 0.4152, s1.loss_cls: 0.2199, s1.acc: 87.4176, s1.loss_bbox: 0.1933, s1.loss_mask: 0.1571, s2.loss_cls: 0.1056, s2.acc: 88.4251, s2.loss_bbox: 0.0957, s2.loss_mask: 0.0877, loss: 2.2281\n",
      "2021-05-20 03:18:38,727 - mmdet - INFO - Epoch [1][650/655]\tlr: 2.164e-05, eta: 1 day, 6:29:24, time: 3.028, data_time: 0.046, memory: 20467, loss_rpn_cls: 0.0657, loss_rpn_bbox: 0.0514, loss_semantic_seg: 0.1744, s0.loss_cls: 0.4942, s0.acc: 85.5430, s0.loss_bbox: 0.2896, s0.loss_mask: 0.4150, s1.loss_cls: 0.2377, s1.acc: 86.1020, s1.loss_bbox: 0.2113, s1.loss_mask: 0.1598, s2.loss_cls: 0.1089, s2.acc: 87.8267, s2.loss_bbox: 0.0995, s2.loss_mask: 0.0823, loss: 2.3896\n",
      "2021-05-20 03:18:53,800 - mmdet - INFO - Saving checkpoint at 1 epochs\n"
     ]
    },
    {
     "name": "stdout",
     "output_type": "stream",
     "text": [
      "[>>>>>>>>>>>>>>>>>>>>>>>>>>>>>] 655/655, 2.8 task/s, elapsed: 230s, ETA:     0s"
     ]
    },
    {
     "name": "stderr",
     "output_type": "stream",
     "text": [
      "2021-05-20 03:22:56,455 - mmdet - INFO - Evaluating bbox...\n"
     ]
    },
    {
     "name": "stdout",
     "output_type": "stream",
     "text": [
      "Loading and preparing results...\n",
      "DONE (t=0.83s)\n",
      "creating index...\n",
      "index created!\n",
      "Running per image evaluation...\n",
      "Evaluate annotation type *bbox*\n",
      "DONE (t=9.29s).\n",
      "Accumulating evaluation results...\n"
     ]
    },
    {
     "name": "stderr",
     "output_type": "stream",
     "text": [
      "2021-05-20 03:23:08,674 - mmdet - INFO - Now best checkpoint is epoch_1.pth.Best bbox_mAP_50 is 0.2340\n",
      "2021-05-20 03:23:08,719 - mmdet - INFO - Epoch(val) [1][655]\tbbox_mAP: 0.1390, bbox_mAP_50: 0.2340, bbox_mAP_75: 0.1460, bbox_mAP_s: 0.0330, bbox_mAP_m: 0.1410, bbox_mAP_l: 0.2660, bbox_mAP_copypaste: 0.139 0.234 0.146 0.033 0.141 0.266\n"
     ]
    },
    {
     "name": "stdout",
     "output_type": "stream",
     "text": [
      "DONE (t=1.95s).\n",
      "Average Precision  (AP) @[ IoU=0.50:0.95 | area=   all | maxDets=100 ] = 0.139\n",
      "Average Precision  (AP) @[ IoU=0.50      | area=   all | maxDets=1000 ] = 0.234\n",
      "Average Precision  (AP) @[ IoU=0.75      | area=   all | maxDets=1000 ] = 0.146\n",
      "Average Precision  (AP) @[ IoU=0.50:0.95 | area= small | maxDets=1000 ] = 0.033\n",
      "Average Precision  (AP) @[ IoU=0.50:0.95 | area=medium | maxDets=1000 ] = 0.141\n",
      "Average Precision  (AP) @[ IoU=0.50:0.95 | area= large | maxDets=1000 ] = 0.266\n",
      "Average Recall     (AR) @[ IoU=0.50:0.95 | area=   all | maxDets=100 ] = 0.317\n",
      "Average Recall     (AR) @[ IoU=0.50:0.95 | area=   all | maxDets=300 ] = 0.317\n",
      "Average Recall     (AR) @[ IoU=0.50:0.95 | area=   all | maxDets=1000 ] = 0.317\n",
      "Average Recall     (AR) @[ IoU=0.50:0.95 | area= small | maxDets=1000 ] = 0.099\n",
      "Average Recall     (AR) @[ IoU=0.50:0.95 | area=medium | maxDets=1000 ] = 0.292\n",
      "Average Recall     (AR) @[ IoU=0.50:0.95 | area= large | maxDets=1000 ] = 0.579\n"
     ]
    },
    {
     "name": "stderr",
     "output_type": "stream",
     "text": [
      "2021-05-20 03:25:41,571 - mmdet - INFO - Epoch [2][50/655]\tlr: 2.346e-05, eta: 1 day, 6:23:43, time: 3.057, data_time: 0.142, memory: 20467, loss_rpn_cls: 0.0562, loss_rpn_bbox: 0.0432, loss_semantic_seg: 0.1558, s0.loss_cls: 0.4494, s0.acc: 86.6641, s0.loss_bbox: 0.2508, s0.loss_mask: 0.3813, s1.loss_cls: 0.2203, s1.acc: 87.2283, s1.loss_bbox: 0.1932, s1.loss_mask: 0.1532, s2.loss_cls: 0.1067, s2.acc: 88.5363, s2.loss_bbox: 0.0925, s2.loss_mask: 0.0784, loss: 2.1810\n",
      "2021-05-20 03:28:11,085 - mmdet - INFO - Epoch [2][100/655]\tlr: 2.512e-05, eta: 1 day, 6:27:58, time: 2.990, data_time: 0.050, memory: 20467, loss_rpn_cls: 0.0548, loss_rpn_bbox: 0.0417, loss_semantic_seg: 0.1691, s0.loss_cls: 0.5000, s0.acc: 85.7783, s0.loss_bbox: 0.2668, s0.loss_mask: 0.3956, s1.loss_cls: 0.2351, s1.acc: 87.1290, s1.loss_bbox: 0.1981, s1.loss_mask: 0.1624, s2.loss_cls: 0.1069, s2.acc: 88.3707, s2.loss_bbox: 0.0895, s2.loss_mask: 0.0794, loss: 2.2993\n",
      "2021-05-20 03:30:40,308 - mmdet - INFO - Epoch [2][150/655]\tlr: 2.679e-05, eta: 1 day, 6:31:08, time: 2.984, data_time: 0.046, memory: 20660, loss_rpn_cls: 0.0574, loss_rpn_bbox: 0.0435, loss_semantic_seg: 0.1496, s0.loss_cls: 0.4720, s0.acc: 85.8652, s0.loss_bbox: 0.2530, s0.loss_mask: 0.3495, s1.loss_cls: 0.2295, s1.acc: 86.7516, s1.loss_bbox: 0.1964, s1.loss_mask: 0.1420, s2.loss_cls: 0.1078, s2.acc: 88.3454, s2.loss_bbox: 0.0952, s2.loss_mask: 0.0703, loss: 2.1662\n",
      "2021-05-20 03:33:12,625 - mmdet - INFO - Epoch [2][200/655]\tlr: 2.845e-05, eta: 1 day, 6:35:57, time: 3.046, data_time: 0.047, memory: 20660, loss_rpn_cls: 0.0499, loss_rpn_bbox: 0.0376, loss_semantic_seg: 0.1606, s0.loss_cls: 0.4614, s0.acc: 86.2324, s0.loss_bbox: 0.2499, s0.loss_mask: 0.3392, s1.loss_cls: 0.2267, s1.acc: 86.5831, s1.loss_bbox: 0.1996, s1.loss_mask: 0.1393, s2.loss_cls: 0.1104, s2.acc: 87.4114, s2.loss_bbox: 0.0977, s2.loss_mask: 0.0664, loss: 2.1386\n",
      "2021-05-20 03:35:45,475 - mmdet - INFO - Epoch [2][250/655]\tlr: 3.012e-05, eta: 1 day, 6:40:20, time: 3.057, data_time: 0.048, memory: 20660, loss_rpn_cls: 0.0527, loss_rpn_bbox: 0.0403, loss_semantic_seg: 0.1467, s0.loss_cls: 0.4837, s0.acc: 85.4863, s0.loss_bbox: 0.2626, s0.loss_mask: 0.3337, s1.loss_cls: 0.2327, s1.acc: 86.4728, s1.loss_bbox: 0.2042, s1.loss_mask: 0.1390, s2.loss_cls: 0.1116, s2.acc: 87.6887, s2.loss_bbox: 0.1027, s2.loss_mask: 0.0685, loss: 2.1785\n",
      "2021-05-20 03:38:12,871 - mmdet - INFO - Epoch [2][300/655]\tlr: 3.179e-05, eta: 1 day, 6:40:21, time: 2.948, data_time: 0.048, memory: 20660, loss_rpn_cls: 0.0548, loss_rpn_bbox: 0.0435, loss_semantic_seg: 0.1415, s0.loss_cls: 0.4608, s0.acc: 85.9688, s0.loss_bbox: 0.2517, s0.loss_mask: 0.3192, s1.loss_cls: 0.2247, s1.acc: 86.6709, s1.loss_bbox: 0.2006, s1.loss_mask: 0.1341, s2.loss_cls: 0.1062, s2.acc: 87.7618, s2.loss_bbox: 0.0993, s2.loss_mask: 0.0626, loss: 2.0989\n",
      "2021-05-20 03:40:43,408 - mmdet - INFO - Epoch [2][350/655]\tlr: 3.345e-05, eta: 1 day, 6:42:07, time: 3.011, data_time: 0.043, memory: 20660, loss_rpn_cls: 0.0428, loss_rpn_bbox: 0.0345, loss_semantic_seg: 0.1479, s0.loss_cls: 0.4414, s0.acc: 86.9990, s0.loss_bbox: 0.2228, s0.loss_mask: 0.3151, s1.loss_cls: 0.2172, s1.acc: 87.3228, s1.loss_bbox: 0.1831, s1.loss_mask: 0.1348, s2.loss_cls: 0.1038, s2.acc: 88.2692, s2.loss_bbox: 0.0947, s2.loss_mask: 0.0619, loss: 2.0001\n",
      "2021-05-20 03:43:14,692 - mmdet - INFO - Epoch [2][400/655]\tlr: 3.512e-05, eta: 1 day, 6:43:55, time: 3.026, data_time: 0.050, memory: 20660, loss_rpn_cls: 0.0586, loss_rpn_bbox: 0.0398, loss_semantic_seg: 0.1457, s0.loss_cls: 0.4469, s0.acc: 86.5244, s0.loss_bbox: 0.2418, s0.loss_mask: 0.3060, s1.loss_cls: 0.2129, s1.acc: 87.3437, s1.loss_bbox: 0.1996, s1.loss_mask: 0.1337, s2.loss_cls: 0.1018, s2.acc: 88.2601, s2.loss_bbox: 0.0995, s2.loss_mask: 0.0626, loss: 2.0487\n",
      "2021-05-20 03:45:42,582 - mmdet - INFO - Epoch [2][450/655]\tlr: 3.678e-05, eta: 1 day, 6:43:23, time: 2.958, data_time: 0.047, memory: 20660, loss_rpn_cls: 0.0547, loss_rpn_bbox: 0.0356, loss_semantic_seg: 0.1437, s0.loss_cls: 0.4428, s0.acc: 86.6562, s0.loss_bbox: 0.2364, s0.loss_mask: 0.2970, s1.loss_cls: 0.2148, s1.acc: 87.0231, s1.loss_bbox: 0.1899, s1.loss_mask: 0.1260, s2.loss_cls: 0.1049, s2.acc: 87.8815, s2.loss_bbox: 0.0952, s2.loss_mask: 0.0597, loss: 2.0008\n",
      "2021-05-20 03:48:14,383 - mmdet - INFO - Epoch [2][500/655]\tlr: 3.845e-05, eta: 1 day, 6:44:49, time: 3.036, data_time: 0.050, memory: 20660, loss_rpn_cls: 0.0528, loss_rpn_bbox: 0.0326, loss_semantic_seg: 0.1370, s0.loss_cls: 0.4252, s0.acc: 86.7979, s0.loss_bbox: 0.2281, s0.loss_mask: 0.3090, s1.loss_cls: 0.2065, s1.acc: 87.5212, s1.loss_bbox: 0.1900, s1.loss_mask: 0.1331, s2.loss_cls: 0.0967, s2.acc: 88.7685, s2.loss_bbox: 0.0997, s2.loss_mask: 0.0618, loss: 1.9724\n",
      "2021-05-20 03:50:47,517 - mmdet - INFO - Epoch [2][550/655]\tlr: 4.011e-05, eta: 1 day, 6:46:39, time: 3.063, data_time: 0.048, memory: 20660, loss_rpn_cls: 0.0595, loss_rpn_bbox: 0.0408, loss_semantic_seg: 0.1422, s0.loss_cls: 0.4556, s0.acc: 86.3115, s0.loss_bbox: 0.2426, s0.loss_mask: 0.3101, s1.loss_cls: 0.2152, s1.acc: 87.1746, s1.loss_bbox: 0.1969, s1.loss_mask: 0.1374, s2.loss_cls: 0.1000, s2.acc: 88.1858, s2.loss_bbox: 0.0980, s2.loss_mask: 0.0634, loss: 2.0617\n",
      "2021-05-20 03:53:15,012 - mmdet - INFO - Epoch [2][600/655]\tlr: 4.178e-05, eta: 1 day, 6:45:16, time: 2.950, data_time: 0.041, memory: 20660, loss_rpn_cls: 0.0465, loss_rpn_bbox: 0.0342, loss_semantic_seg: 0.1415, s0.loss_cls: 0.4613, s0.acc: 86.3545, s0.loss_bbox: 0.2326, s0.loss_mask: 0.2948, s1.loss_cls: 0.2216, s1.acc: 87.0727, s1.loss_bbox: 0.1941, s1.loss_mask: 0.1281, s2.loss_cls: 0.1056, s2.acc: 87.8503, s2.loss_bbox: 0.0993, s2.loss_mask: 0.0583, loss: 2.0179\n",
      "2021-05-20 03:55:43,352 - mmdet - INFO - Epoch [2][650/655]\tlr: 4.344e-05, eta: 1 day, 6:44:13, time: 2.967, data_time: 0.047, memory: 20660, loss_rpn_cls: 0.0459, loss_rpn_bbox: 0.0302, loss_semantic_seg: 0.1575, s0.loss_cls: 0.4468, s0.acc: 87.0215, s0.loss_bbox: 0.2266, s0.loss_mask: 0.2949, s1.loss_cls: 0.2119, s1.acc: 87.7869, s1.loss_bbox: 0.1868, s1.loss_mask: 0.1260, s2.loss_cls: 0.0977, s2.acc: 88.9000, s2.loss_bbox: 0.0950, s2.loss_mask: 0.0564, loss: 1.9757\n",
      "2021-05-20 03:55:58,444 - mmdet - INFO - Saving checkpoint at 2 epochs\n"
     ]
    },
    {
     "name": "stdout",
     "output_type": "stream",
     "text": [
      "[>>>>>>>>>>>>>>>>>>>>>>>>>>>>>] 655/655, 2.9 task/s, elapsed: 223s, ETA:     0s"
     ]
    },
    {
     "name": "stderr",
     "output_type": "stream",
     "text": [
      "2021-05-20 03:59:53,885 - mmdet - INFO - Evaluating bbox...\n"
     ]
    },
    {
     "name": "stdout",
     "output_type": "stream",
     "text": [
      "Loading and preparing results...\n",
      "DONE (t=0.82s)\n",
      "creating index...\n",
      "index created!\n",
      "Running per image evaluation...\n",
      "Evaluate annotation type *bbox*\n",
      "DONE (t=9.01s).\n",
      "Accumulating evaluation results...\n"
     ]
    },
    {
     "name": "stderr",
     "output_type": "stream",
     "text": [
      "2021-05-20 04:00:05,723 - mmdet - INFO - Now best checkpoint is epoch_2.pth.Best bbox_mAP_50 is 0.2710\n",
      "2021-05-20 04:00:05,769 - mmdet - INFO - Epoch(val) [2][655]\tbbox_mAP: 0.1600, bbox_mAP_50: 0.2710, bbox_mAP_75: 0.1650, bbox_mAP_s: 0.0380, bbox_mAP_m: 0.1580, bbox_mAP_l: 0.2740, bbox_mAP_copypaste: 0.160 0.271 0.165 0.038 0.158 0.274\n"
     ]
    },
    {
     "name": "stdout",
     "output_type": "stream",
     "text": [
      "DONE (t=1.87s).\n",
      "Average Precision  (AP) @[ IoU=0.50:0.95 | area=   all | maxDets=100 ] = 0.160\n",
      "Average Precision  (AP) @[ IoU=0.50      | area=   all | maxDets=1000 ] = 0.271\n",
      "Average Precision  (AP) @[ IoU=0.75      | area=   all | maxDets=1000 ] = 0.165\n",
      "Average Precision  (AP) @[ IoU=0.50:0.95 | area= small | maxDets=1000 ] = 0.038\n",
      "Average Precision  (AP) @[ IoU=0.50:0.95 | area=medium | maxDets=1000 ] = 0.158\n",
      "Average Precision  (AP) @[ IoU=0.50:0.95 | area= large | maxDets=1000 ] = 0.274\n",
      "Average Recall     (AR) @[ IoU=0.50:0.95 | area=   all | maxDets=100 ] = 0.350\n",
      "Average Recall     (AR) @[ IoU=0.50:0.95 | area=   all | maxDets=300 ] = 0.350\n",
      "Average Recall     (AR) @[ IoU=0.50:0.95 | area=   all | maxDets=1000 ] = 0.350\n",
      "Average Recall     (AR) @[ IoU=0.50:0.95 | area= small | maxDets=1000 ] = 0.115\n",
      "Average Recall     (AR) @[ IoU=0.50:0.95 | area=medium | maxDets=1000 ] = 0.334\n",
      "Average Recall     (AR) @[ IoU=0.50:0.95 | area= large | maxDets=1000 ] = 0.614\n"
     ]
    },
    {
     "name": "stderr",
     "output_type": "stream",
     "text": [
      "2021-05-20 04:02:38,578 - mmdet - INFO - Epoch [3][50/655]\tlr: 4.518e-05, eta: 1 day, 6:38:07, time: 3.056, data_time: 0.123, memory: 20660, loss_rpn_cls: 0.0413, loss_rpn_bbox: 0.0298, loss_semantic_seg: 0.1340, s0.loss_cls: 0.4258, s0.acc: 87.1318, s0.loss_bbox: 0.2257, s0.loss_mask: 0.2975, s1.loss_cls: 0.2031, s1.acc: 87.7334, s1.loss_bbox: 0.1892, s1.loss_mask: 0.1302, s2.loss_cls: 0.0924, s2.acc: 89.0207, s2.loss_bbox: 0.0932, s2.loss_mask: 0.0588, loss: 1.9210\n",
      "2021-05-20 04:05:09,118 - mmdet - INFO - Epoch [3][100/655]\tlr: 4.684e-05, eta: 1 day, 6:38:01, time: 3.011, data_time: 0.050, memory: 20660, loss_rpn_cls: 0.0494, loss_rpn_bbox: 0.0336, loss_semantic_seg: 0.1503, s0.loss_cls: 0.4364, s0.acc: 86.9238, s0.loss_bbox: 0.2249, s0.loss_mask: 0.2831, s1.loss_cls: 0.2111, s1.acc: 87.1647, s1.loss_bbox: 0.1866, s1.loss_mask: 0.1276, s2.loss_cls: 0.1002, s2.acc: 88.1333, s2.loss_bbox: 0.0980, s2.loss_mask: 0.0580, loss: 1.9591\n",
      "2021-05-20 04:07:39,309 - mmdet - INFO - Epoch [3][150/655]\tlr: 4.851e-05, eta: 1 day, 6:37:36, time: 3.004, data_time: 0.052, memory: 20660, loss_rpn_cls: 0.0513, loss_rpn_bbox: 0.0331, loss_semantic_seg: 0.1451, s0.loss_cls: 0.4520, s0.acc: 86.5781, s0.loss_bbox: 0.2386, s0.loss_mask: 0.3079, s1.loss_cls: 0.2122, s1.acc: 87.5022, s1.loss_bbox: 0.1928, s1.loss_mask: 0.1314, s2.loss_cls: 0.0976, s2.acc: 88.8477, s2.loss_bbox: 0.0935, s2.loss_mask: 0.0613, loss: 2.0168\n",
      "2021-05-20 04:10:09,755 - mmdet - INFO - Epoch [3][200/655]\tlr: 5.017e-05, eta: 1 day, 6:37:10, time: 3.009, data_time: 0.056, memory: 20660, loss_rpn_cls: 0.0507, loss_rpn_bbox: 0.0384, loss_semantic_seg: 0.1582, s0.loss_cls: 0.4902, s0.acc: 85.6416, s0.loss_bbox: 0.2475, s0.loss_mask: 0.2807, s1.loss_cls: 0.2349, s1.acc: 86.6994, s1.loss_bbox: 0.1899, s1.loss_mask: 0.1205, s2.loss_cls: 0.1046, s2.acc: 88.0732, s2.loss_bbox: 0.0938, s2.loss_mask: 0.0536, loss: 2.0630\n",
      "2021-05-20 04:12:39,415 - mmdet - INFO - Epoch [3][250/655]\tlr: 5.183e-05, eta: 1 day, 6:36:16, time: 2.993, data_time: 0.046, memory: 20660, loss_rpn_cls: 0.0418, loss_rpn_bbox: 0.0300, loss_semantic_seg: 0.1392, s0.loss_cls: 0.4272, s0.acc: 87.4082, s0.loss_bbox: 0.2211, s0.loss_mask: 0.2884, s1.loss_cls: 0.1982, s1.acc: 88.4740, s1.loss_bbox: 0.1854, s1.loss_mask: 0.1251, s2.loss_cls: 0.0911, s2.acc: 89.2442, s2.loss_bbox: 0.0941, s2.loss_mask: 0.0588, loss: 1.9004\n",
      "2021-05-20 04:15:08,347 - mmdet - INFO - Epoch [3][300/655]\tlr: 5.349e-05, eta: 1 day, 6:34:59, time: 2.979, data_time: 0.043, memory: 20660, loss_rpn_cls: 0.0368, loss_rpn_bbox: 0.0272, loss_semantic_seg: 0.1463, s0.loss_cls: 0.3978, s0.acc: 88.1826, s0.loss_bbox: 0.2006, s0.loss_mask: 0.2728, s1.loss_cls: 0.1917, s1.acc: 88.6446, s1.loss_bbox: 0.1678, s1.loss_mask: 0.1201, s2.loss_cls: 0.0897, s2.acc: 89.6367, s2.loss_bbox: 0.0922, s2.loss_mask: 0.0550, loss: 1.7981\n",
      "2021-05-20 04:17:36,869 - mmdet - INFO - Epoch [3][350/655]\tlr: 5.515e-05, eta: 1 day, 6:33:29, time: 2.970, data_time: 0.049, memory: 20660, loss_rpn_cls: 0.0498, loss_rpn_bbox: 0.0327, loss_semantic_seg: 0.1472, s0.loss_cls: 0.4509, s0.acc: 86.5127, s0.loss_bbox: 0.2331, s0.loss_mask: 0.2859, s1.loss_cls: 0.2172, s1.acc: 87.2531, s1.loss_bbox: 0.1937, s1.loss_mask: 0.1251, s2.loss_cls: 0.1002, s2.acc: 88.3978, s2.loss_bbox: 0.0990, s2.loss_mask: 0.0563, loss: 1.9911\n",
      "2021-05-20 04:20:08,503 - mmdet - INFO - Epoch [3][400/655]\tlr: 5.681e-05, eta: 1 day, 6:33:04, time: 3.033, data_time: 0.050, memory: 20660, loss_rpn_cls: 0.0436, loss_rpn_bbox: 0.0354, loss_semantic_seg: 0.1533, s0.loss_cls: 0.4513, s0.acc: 86.5566, s0.loss_bbox: 0.2181, s0.loss_mask: 0.2900, s1.loss_cls: 0.2200, s1.acc: 86.9382, s1.loss_bbox: 0.1871, s1.loss_mask: 0.1269, s2.loss_cls: 0.1006, s2.acc: 88.0243, s2.loss_bbox: 0.0971, s2.loss_mask: 0.0576, loss: 1.9811\n",
      "2021-05-20 04:22:38,646 - mmdet - INFO - Epoch [3][450/655]\tlr: 5.848e-05, eta: 1 day, 6:32:00, time: 3.003, data_time: 0.047, memory: 20660, loss_rpn_cls: 0.0474, loss_rpn_bbox: 0.0340, loss_semantic_seg: 0.1306, s0.loss_cls: 0.4539, s0.acc: 86.3398, s0.loss_bbox: 0.2420, s0.loss_mask: 0.2894, s1.loss_cls: 0.2181, s1.acc: 86.7994, s1.loss_bbox: 0.2051, s1.loss_mask: 0.1276, s2.loss_cls: 0.0969, s2.acc: 88.2008, s2.loss_bbox: 0.1034, s2.loss_mask: 0.0579, loss: 2.0062\n",
      "2021-05-20 04:25:08,349 - mmdet - INFO - Epoch [3][500/655]\tlr: 6.014e-05, eta: 1 day, 6:30:42, time: 2.994, data_time: 0.045, memory: 20660, loss_rpn_cls: 0.0430, loss_rpn_bbox: 0.0310, loss_semantic_seg: 0.1521, s0.loss_cls: 0.4015, s0.acc: 87.8115, s0.loss_bbox: 0.2070, s0.loss_mask: 0.2629, s1.loss_cls: 0.1912, s1.acc: 88.3747, s1.loss_bbox: 0.1700, s1.loss_mask: 0.1163, s2.loss_cls: 0.0902, s2.acc: 88.9962, s2.loss_bbox: 0.0900, s2.loss_mask: 0.0525, loss: 1.8076\n",
      "2021-05-20 04:27:40,582 - mmdet - INFO - Epoch [3][550/655]\tlr: 6.180e-05, eta: 1 day, 6:30:11, time: 3.045, data_time: 0.052, memory: 20660, loss_rpn_cls: 0.0428, loss_rpn_bbox: 0.0299, loss_semantic_seg: 0.1428, s0.loss_cls: 0.4278, s0.acc: 86.9834, s0.loss_bbox: 0.2268, s0.loss_mask: 0.2877, s1.loss_cls: 0.2054, s1.acc: 87.6137, s1.loss_bbox: 0.1932, s1.loss_mask: 0.1274, s2.loss_cls: 0.0948, s2.acc: 88.5147, s2.loss_bbox: 0.0977, s2.loss_mask: 0.0574, loss: 1.9337\n",
      "2021-05-20 04:30:10,738 - mmdet - INFO - Epoch [3][600/655]\tlr: 6.346e-05, eta: 1 day, 6:28:53, time: 3.003, data_time: 0.051, memory: 20660, loss_rpn_cls: 0.0419, loss_rpn_bbox: 0.0338, loss_semantic_seg: 0.1431, s0.loss_cls: 0.4701, s0.acc: 85.7676, s0.loss_bbox: 0.2368, s0.loss_mask: 0.3067, s1.loss_cls: 0.2285, s1.acc: 86.1958, s1.loss_bbox: 0.1973, s1.loss_mask: 0.1342, s2.loss_cls: 0.1042, s2.acc: 87.1338, s2.loss_bbox: 0.0974, s2.loss_mask: 0.0602, loss: 2.0543\n",
      "2021-05-20 04:32:40,868 - mmdet - INFO - Epoch [3][650/655]\tlr: 6.512e-05, eta: 1 day, 6:27:30, time: 3.003, data_time: 0.055, memory: 20660, loss_rpn_cls: 0.0472, loss_rpn_bbox: 0.0331, loss_semantic_seg: 0.1460, s0.loss_cls: 0.4541, s0.acc: 86.3799, s0.loss_bbox: 0.2376, s0.loss_mask: 0.2932, s1.loss_cls: 0.2156, s1.acc: 86.8552, s1.loss_bbox: 0.1895, s1.loss_mask: 0.1275, s2.loss_cls: 0.0970, s2.acc: 88.3314, s2.loss_bbox: 0.0928, s2.loss_mask: 0.0570, loss: 1.9906\n",
      "2021-05-20 04:32:55,229 - mmdet - INFO - Saving checkpoint at 3 epochs\n"
     ]
    },
    {
     "name": "stdout",
     "output_type": "stream",
     "text": [
      "[>>>>>>>>>>>>>>>>>>>>>>>>>>>>>] 655/655, 3.0 task/s, elapsed: 218s, ETA:     0s"
     ]
    },
    {
     "name": "stderr",
     "output_type": "stream",
     "text": [
      "2021-05-20 04:36:40,326 - mmdet - INFO - Evaluating bbox...\n"
     ]
    },
    {
     "name": "stdout",
     "output_type": "stream",
     "text": [
      "Loading and preparing results...\n",
      "DONE (t=0.81s)\n",
      "creating index...\n",
      "index created!\n",
      "Running per image evaluation...\n",
      "Evaluate annotation type *bbox*\n",
      "DONE (t=8.28s).\n",
      "Accumulating evaluation results...\n"
     ]
    },
    {
     "name": "stderr",
     "output_type": "stream",
     "text": [
      "2021-05-20 04:36:51,468 - mmdet - INFO - Now best checkpoint is epoch_3.pth.Best bbox_mAP_50 is 0.2980\n",
      "2021-05-20 04:36:51,511 - mmdet - INFO - Epoch(val) [3][655]\tbbox_mAP: 0.1790, bbox_mAP_50: 0.2980, bbox_mAP_75: 0.1750, bbox_mAP_s: 0.0500, bbox_mAP_m: 0.1680, bbox_mAP_l: 0.3050, bbox_mAP_copypaste: 0.179 0.298 0.175 0.050 0.168 0.305\n"
     ]
    },
    {
     "name": "stdout",
     "output_type": "stream",
     "text": [
      "DONE (t=1.90s).\n",
      "Average Precision  (AP) @[ IoU=0.50:0.95 | area=   all | maxDets=100 ] = 0.179\n",
      "Average Precision  (AP) @[ IoU=0.50      | area=   all | maxDets=1000 ] = 0.298\n",
      "Average Precision  (AP) @[ IoU=0.75      | area=   all | maxDets=1000 ] = 0.175\n",
      "Average Precision  (AP) @[ IoU=0.50:0.95 | area= small | maxDets=1000 ] = 0.050\n",
      "Average Precision  (AP) @[ IoU=0.50:0.95 | area=medium | maxDets=1000 ] = 0.168\n",
      "Average Precision  (AP) @[ IoU=0.50:0.95 | area= large | maxDets=1000 ] = 0.305\n",
      "Average Recall     (AR) @[ IoU=0.50:0.95 | area=   all | maxDets=100 ] = 0.355\n",
      "Average Recall     (AR) @[ IoU=0.50:0.95 | area=   all | maxDets=300 ] = 0.355\n",
      "Average Recall     (AR) @[ IoU=0.50:0.95 | area=   all | maxDets=1000 ] = 0.355\n",
      "Average Recall     (AR) @[ IoU=0.50:0.95 | area= small | maxDets=1000 ] = 0.140\n",
      "Average Recall     (AR) @[ IoU=0.50:0.95 | area=medium | maxDets=1000 ] = 0.319\n",
      "Average Recall     (AR) @[ IoU=0.50:0.95 | area= large | maxDets=1000 ] = 0.615\n"
     ]
    },
    {
     "name": "stderr",
     "output_type": "stream",
     "text": [
      "2021-05-20 04:39:24,011 - mmdet - INFO - Epoch [4][50/655]\tlr: 6.672e-05, eta: 1 day, 6:22:02, time: 3.050, data_time: 0.127, memory: 20660, loss_rpn_cls: 0.0454, loss_rpn_bbox: 0.0310, loss_semantic_seg: 0.1365, s0.loss_cls: 0.4373, s0.acc: 87.3770, s0.loss_bbox: 0.2125, s0.loss_mask: 0.2755, s1.loss_cls: 0.2061, s1.acc: 88.1000, s1.loss_bbox: 0.1790, s1.loss_mask: 0.1225, s2.loss_cls: 0.0943, s2.acc: 89.2356, s2.loss_bbox: 0.0897, s2.loss_mask: 0.0550, loss: 1.8849\n",
      "2021-05-20 04:41:54,289 - mmdet - INFO - Epoch [4][100/655]\tlr: 6.838e-05, eta: 1 day, 6:20:42, time: 3.006, data_time: 0.054, memory: 20660, loss_rpn_cls: 0.0437, loss_rpn_bbox: 0.0305, loss_semantic_seg: 0.1410, s0.loss_cls: 0.4154, s0.acc: 87.2061, s0.loss_bbox: 0.2142, s0.loss_mask: 0.2885, s1.loss_cls: 0.2036, s1.acc: 87.4075, s1.loss_bbox: 0.1822, s1.loss_mask: 0.1316, s2.loss_cls: 0.0955, s2.acc: 88.3961, s2.loss_bbox: 0.0942, s2.loss_mask: 0.0583, loss: 1.8985\n",
      "2021-05-20 04:44:21,821 - mmdet - INFO - Epoch [4][150/655]\tlr: 7.004e-05, eta: 1 day, 6:18:30, time: 2.951, data_time: 0.050, memory: 20660, loss_rpn_cls: 0.0379, loss_rpn_bbox: 0.0268, loss_semantic_seg: 0.1355, s0.loss_cls: 0.4565, s0.acc: 86.6348, s0.loss_bbox: 0.2230, s0.loss_mask: 0.2850, s1.loss_cls: 0.2199, s1.acc: 87.3451, s1.loss_bbox: 0.1810, s1.loss_mask: 0.1249, s2.loss_cls: 0.1004, s2.acc: 88.4067, s2.loss_bbox: 0.0909, s2.loss_mask: 0.0552, loss: 1.9371\n",
      "2021-05-20 04:46:49,727 - mmdet - INFO - Epoch [4][200/655]\tlr: 7.169e-05, eta: 1 day, 6:16:23, time: 2.958, data_time: 0.048, memory: 20660, loss_rpn_cls: 0.0403, loss_rpn_bbox: 0.0299, loss_semantic_seg: 0.1363, s0.loss_cls: 0.4375, s0.acc: 86.8281, s0.loss_bbox: 0.2239, s0.loss_mask: 0.2819, s1.loss_cls: 0.2061, s1.acc: 87.4091, s1.loss_bbox: 0.1852, s1.loss_mask: 0.1235, s2.loss_cls: 0.0954, s2.acc: 88.3977, s2.loss_bbox: 0.0956, s2.loss_mask: 0.0548, loss: 1.9103\n",
      "2021-05-20 04:49:19,461 - mmdet - INFO - Epoch [4][250/655]\tlr: 7.335e-05, eta: 1 day, 6:14:47, time: 2.995, data_time: 0.052, memory: 20660, loss_rpn_cls: 0.0412, loss_rpn_bbox: 0.0309, loss_semantic_seg: 0.1452, s0.loss_cls: 0.4414, s0.acc: 86.7461, s0.loss_bbox: 0.2251, s0.loss_mask: 0.2897, s1.loss_cls: 0.2108, s1.acc: 87.2614, s1.loss_bbox: 0.1894, s1.loss_mask: 0.1286, s2.loss_cls: 0.0972, s2.acc: 87.8669, s2.loss_bbox: 0.0937, s2.loss_mask: 0.0560, loss: 1.9493\n",
      "2021-05-20 04:51:49,024 - mmdet - INFO - Epoch [4][300/655]\tlr: 7.500e-05, eta: 1 day, 6:13:05, time: 2.991, data_time: 0.049, memory: 20660, loss_rpn_cls: 0.0375, loss_rpn_bbox: 0.0277, loss_semantic_seg: 0.1431, s0.loss_cls: 0.4127, s0.acc: 87.4189, s0.loss_bbox: 0.2098, s0.loss_mask: 0.2605, s1.loss_cls: 0.1992, s1.acc: 87.9039, s1.loss_bbox: 0.1810, s1.loss_mask: 0.1163, s2.loss_cls: 0.0914, s2.acc: 88.5382, s2.loss_bbox: 0.0938, s2.loss_mask: 0.0514, loss: 1.8243\n",
      "2021-05-20 04:54:13,494 - mmdet - INFO - Epoch [4][350/655]\tlr: 7.666e-05, eta: 1 day, 6:10:00, time: 2.889, data_time: 0.042, memory: 20660, loss_rpn_cls: 0.0408, loss_rpn_bbox: 0.0251, loss_semantic_seg: 0.1378, s0.loss_cls: 0.4048, s0.acc: 87.7295, s0.loss_bbox: 0.2025, s0.loss_mask: 0.2804, s1.loss_cls: 0.1955, s1.acc: 87.9816, s1.loss_bbox: 0.1726, s1.loss_mask: 0.1258, s2.loss_cls: 0.0900, s2.acc: 88.8421, s2.loss_bbox: 0.0885, s2.loss_mask: 0.0584, loss: 1.8221\n",
      "2021-05-20 04:56:44,368 - mmdet - INFO - Epoch [4][400/655]\tlr: 7.832e-05, eta: 1 day, 6:08:36, time: 3.017, data_time: 0.049, memory: 20660, loss_rpn_cls: 0.0413, loss_rpn_bbox: 0.0271, loss_semantic_seg: 0.1469, s0.loss_cls: 0.4543, s0.acc: 86.6553, s0.loss_bbox: 0.2171, s0.loss_mask: 0.2864, s1.loss_cls: 0.2111, s1.acc: 87.2785, s1.loss_bbox: 0.1812, s1.loss_mask: 0.1288, s2.loss_cls: 0.0988, s2.acc: 87.8053, s2.loss_bbox: 0.0953, s2.loss_mask: 0.0585, loss: 1.9468\n",
      "2021-05-20 04:59:12,025 - mmdet - INFO - Epoch [4][450/655]\tlr: 7.997e-05, eta: 1 day, 6:06:21, time: 2.953, data_time: 0.054, memory: 20660, loss_rpn_cls: 0.0523, loss_rpn_bbox: 0.0327, loss_semantic_seg: 0.1402, s0.loss_cls: 0.4690, s0.acc: 86.2461, s0.loss_bbox: 0.2301, s0.loss_mask: 0.2876, s1.loss_cls: 0.2234, s1.acc: 87.1745, s1.loss_bbox: 0.1889, s1.loss_mask: 0.1264, s2.loss_cls: 0.1024, s2.acc: 88.3045, s2.loss_bbox: 0.0958, s2.loss_mask: 0.0571, loss: 2.0059\n",
      "2021-05-20 05:01:42,692 - mmdet - INFO - Epoch [4][500/655]\tlr: 8.163e-05, eta: 1 day, 6:04:50, time: 3.013, data_time: 0.055, memory: 20660, loss_rpn_cls: 0.0472, loss_rpn_bbox: 0.0334, loss_semantic_seg: 0.1398, s0.loss_cls: 0.4549, s0.acc: 86.2285, s0.loss_bbox: 0.2353, s0.loss_mask: 0.2972, s1.loss_cls: 0.2149, s1.acc: 86.8715, s1.loss_bbox: 0.1992, s1.loss_mask: 0.1334, s2.loss_cls: 0.0951, s2.acc: 88.0897, s2.loss_bbox: 0.0975, s2.loss_mask: 0.0595, loss: 2.0076\n",
      "2021-05-20 05:04:11,634 - mmdet - INFO - Epoch [4][550/655]\tlr: 8.329e-05, eta: 1 day, 6:02:51, time: 2.979, data_time: 0.052, memory: 20660, loss_rpn_cls: 0.0348, loss_rpn_bbox: 0.0244, loss_semantic_seg: 0.1363, s0.loss_cls: 0.3793, s0.acc: 88.0518, s0.loss_bbox: 0.2006, s0.loss_mask: 0.2648, s1.loss_cls: 0.1877, s1.acc: 88.1754, s1.loss_bbox: 0.1681, s1.loss_mask: 0.1157, s2.loss_cls: 0.0875, s2.acc: 88.9742, s2.loss_bbox: 0.0871, s2.loss_mask: 0.0512, loss: 1.7375\n",
      "2021-05-20 05:06:43,960 - mmdet - INFO - Epoch [4][600/655]\tlr: 8.494e-05, eta: 1 day, 6:01:40, time: 3.047, data_time: 0.050, memory: 20660, loss_rpn_cls: 0.0388, loss_rpn_bbox: 0.0245, loss_semantic_seg: 0.1433, s0.loss_cls: 0.4200, s0.acc: 87.3887, s0.loss_bbox: 0.2116, s0.loss_mask: 0.2778, s1.loss_cls: 0.1999, s1.acc: 87.8773, s1.loss_bbox: 0.1800, s1.loss_mask: 0.1231, s2.loss_cls: 0.0949, s2.acc: 88.2086, s2.loss_bbox: 0.0914, s2.loss_mask: 0.0554, loss: 1.8606\n",
      "2021-05-20 05:09:09,604 - mmdet - INFO - Epoch [4][650/655]\tlr: 8.660e-05, eta: 1 day, 5:58:52, time: 2.913, data_time: 0.045, memory: 20660, loss_rpn_cls: 0.0352, loss_rpn_bbox: 0.0248, loss_semantic_seg: 0.1358, s0.loss_cls: 0.3996, s0.acc: 87.5039, s0.loss_bbox: 0.2109, s0.loss_mask: 0.2586, s1.loss_cls: 0.1977, s1.acc: 87.8749, s1.loss_bbox: 0.1748, s1.loss_mask: 0.1135, s2.loss_cls: 0.0912, s2.acc: 88.7060, s2.loss_bbox: 0.0921, s2.loss_mask: 0.0493, loss: 1.7835\n",
      "2021-05-20 05:09:23,952 - mmdet - INFO - Saving checkpoint at 4 epochs\n"
     ]
    },
    {
     "name": "stdout",
     "output_type": "stream",
     "text": [
      "[>>>>>>>>>>>>>>>>>>>>>>>>>>>>>] 655/655, 3.0 task/s, elapsed: 215s, ETA:     0s"
     ]
    },
    {
     "name": "stderr",
     "output_type": "stream",
     "text": [
      "2021-05-20 05:13:05,937 - mmdet - INFO - Evaluating bbox...\n"
     ]
    },
    {
     "name": "stdout",
     "output_type": "stream",
     "text": [
      "Loading and preparing results...\n",
      "DONE (t=1.32s)\n",
      "creating index...\n",
      "index created!\n",
      "Running per image evaluation...\n",
      "Evaluate annotation type *bbox*\n",
      "DONE (t=8.76s).\n",
      "Accumulating evaluation results...\n"
     ]
    },
    {
     "name": "stderr",
     "output_type": "stream",
     "text": [
      "2021-05-20 05:13:18,080 - mmdet - INFO - Now best checkpoint is epoch_4.pth.Best bbox_mAP_50 is 0.3380\n",
      "2021-05-20 05:13:18,122 - mmdet - INFO - Epoch(val) [4][655]\tbbox_mAP: 0.2040, bbox_mAP_50: 0.3380, bbox_mAP_75: 0.2080, bbox_mAP_s: 0.0390, bbox_mAP_m: 0.1950, bbox_mAP_l: 0.4040, bbox_mAP_copypaste: 0.204 0.338 0.208 0.039 0.195 0.404\n"
     ]
    },
    {
     "name": "stdout",
     "output_type": "stream",
     "text": [
      "DONE (t=1.90s).\n",
      "Average Precision  (AP) @[ IoU=0.50:0.95 | area=   all | maxDets=100 ] = 0.204\n",
      "Average Precision  (AP) @[ IoU=0.50      | area=   all | maxDets=1000 ] = 0.338\n",
      "Average Precision  (AP) @[ IoU=0.75      | area=   all | maxDets=1000 ] = 0.208\n",
      "Average Precision  (AP) @[ IoU=0.50:0.95 | area= small | maxDets=1000 ] = 0.039\n",
      "Average Precision  (AP) @[ IoU=0.50:0.95 | area=medium | maxDets=1000 ] = 0.195\n",
      "Average Precision  (AP) @[ IoU=0.50:0.95 | area= large | maxDets=1000 ] = 0.404\n",
      "Average Recall     (AR) @[ IoU=0.50:0.95 | area=   all | maxDets=100 ] = 0.392\n",
      "Average Recall     (AR) @[ IoU=0.50:0.95 | area=   all | maxDets=300 ] = 0.392\n",
      "Average Recall     (AR) @[ IoU=0.50:0.95 | area=   all | maxDets=1000 ] = 0.392\n",
      "Average Recall     (AR) @[ IoU=0.50:0.95 | area= small | maxDets=1000 ] = 0.142\n",
      "Average Recall     (AR) @[ IoU=0.50:0.95 | area=medium | maxDets=1000 ] = 0.379\n",
      "Average Recall     (AR) @[ IoU=0.50:0.95 | area= large | maxDets=1000 ] = 0.639\n"
     ]
    },
    {
     "name": "stderr",
     "output_type": "stream",
     "text": [
      "2021-05-20 05:15:53,136 - mmdet - INFO - Epoch [5][50/655]\tlr: 8.800e-05, eta: 1 day, 5:54:37, time: 3.100, data_time: 0.128, memory: 20660, loss_rpn_cls: 0.0434, loss_rpn_bbox: 0.0306, loss_semantic_seg: 0.1386, s0.loss_cls: 0.4400, s0.acc: 87.1553, s0.loss_bbox: 0.2114, s0.loss_mask: 0.2717, s1.loss_cls: 0.2074, s1.acc: 87.7780, s1.loss_bbox: 0.1724, s1.loss_mask: 0.1218, s2.loss_cls: 0.0938, s2.acc: 89.1060, s2.loss_bbox: 0.0903, s2.loss_mask: 0.0550, loss: 1.8763\n",
      "2021-05-20 05:18:19,796 - mmdet - INFO - Epoch [5][100/655]\tlr: 8.964e-05, eta: 1 day, 5:52:05, time: 2.933, data_time: 0.047, memory: 20660, loss_rpn_cls: 0.0387, loss_rpn_bbox: 0.0260, loss_semantic_seg: 0.1345, s0.loss_cls: 0.4044, s0.acc: 87.7559, s0.loss_bbox: 0.1867, s0.loss_mask: 0.2452, s1.loss_cls: 0.1955, s1.acc: 87.9363, s1.loss_bbox: 0.1562, s1.loss_mask: 0.1096, s2.loss_cls: 0.0924, s2.acc: 88.2590, s2.loss_bbox: 0.0853, s2.loss_mask: 0.0493, loss: 1.7237\n",
      "2021-05-20 05:20:47,482 - mmdet - INFO - Epoch [5][150/655]\tlr: 9.129e-05, eta: 1 day, 5:49:48, time: 2.954, data_time: 0.053, memory: 20660, loss_rpn_cls: 0.0431, loss_rpn_bbox: 0.0279, loss_semantic_seg: 0.1350, s0.loss_cls: 0.4355, s0.acc: 87.0420, s0.loss_bbox: 0.2221, s0.loss_mask: 0.2914, s1.loss_cls: 0.2072, s1.acc: 87.7034, s1.loss_bbox: 0.1847, s1.loss_mask: 0.1301, s2.loss_cls: 0.0947, s2.acc: 88.4019, s2.loss_bbox: 0.0938, s2.loss_mask: 0.0571, loss: 1.9228\n",
      "2021-05-20 05:23:20,354 - mmdet - INFO - Epoch [5][200/655]\tlr: 9.294e-05, eta: 1 day, 5:48:37, time: 3.057, data_time: 0.058, memory: 20660, loss_rpn_cls: 0.0383, loss_rpn_bbox: 0.0275, loss_semantic_seg: 0.1368, s0.loss_cls: 0.4382, s0.acc: 86.8486, s0.loss_bbox: 0.2210, s0.loss_mask: 0.2842, s1.loss_cls: 0.2104, s1.acc: 87.3763, s1.loss_bbox: 0.1844, s1.loss_mask: 0.1284, s2.loss_cls: 0.0977, s2.acc: 88.0770, s2.loss_bbox: 0.0946, s2.loss_mask: 0.0575, loss: 1.9188\n",
      "2021-05-20 05:25:51,073 - mmdet - INFO - Epoch [5][250/655]\tlr: 9.459e-05, eta: 1 day, 5:46:56, time: 3.014, data_time: 0.051, memory: 20660, loss_rpn_cls: 0.0342, loss_rpn_bbox: 0.0254, loss_semantic_seg: 0.1303, s0.loss_cls: 0.3999, s0.acc: 88.0840, s0.loss_bbox: 0.1976, s0.loss_mask: 0.2608, s1.loss_cls: 0.1889, s1.acc: 88.5865, s1.loss_bbox: 0.1679, s1.loss_mask: 0.1160, s2.loss_cls: 0.0852, s2.acc: 89.5625, s2.loss_bbox: 0.0842, s2.loss_mask: 0.0513, loss: 1.7419\n",
      "2021-05-20 05:28:22,965 - mmdet - INFO - Epoch [5][300/655]\tlr: 9.624e-05, eta: 1 day, 5:45:28, time: 3.038, data_time: 0.046, memory: 20660, loss_rpn_cls: 0.0374, loss_rpn_bbox: 0.0265, loss_semantic_seg: 0.1310, s0.loss_cls: 0.4199, s0.acc: 87.1230, s0.loss_bbox: 0.2176, s0.loss_mask: 0.2731, s1.loss_cls: 0.1982, s1.acc: 87.5306, s1.loss_bbox: 0.1832, s1.loss_mask: 0.1162, s2.loss_cls: 0.0912, s2.acc: 88.6064, s2.loss_bbox: 0.0963, s2.loss_mask: 0.0509, loss: 1.8415\n",
      "2021-05-20 05:30:54,910 - mmdet - INFO - Epoch [5][350/655]\tlr: 9.789e-05, eta: 1 day, 5:43:58, time: 3.039, data_time: 0.055, memory: 20660, loss_rpn_cls: 0.0412, loss_rpn_bbox: 0.0307, loss_semantic_seg: 0.1349, s0.loss_cls: 0.4544, s0.acc: 85.8848, s0.loss_bbox: 0.2425, s0.loss_mask: 0.2809, s1.loss_cls: 0.2165, s1.acc: 86.7413, s1.loss_bbox: 0.2048, s1.loss_mask: 0.1253, s2.loss_cls: 0.0987, s2.acc: 87.8747, s2.loss_bbox: 0.1017, s2.loss_mask: 0.0556, loss: 1.9872\n",
      "2021-05-20 05:33:26,195 - mmdet - INFO - Epoch [5][400/655]\tlr: 9.891e-05, eta: 1 day, 5:42:18, time: 3.026, data_time: 0.055, memory: 20660, loss_rpn_cls: 0.0360, loss_rpn_bbox: 0.0282, loss_semantic_seg: 0.1404, s0.loss_cls: 0.4362, s0.acc: 87.3252, s0.loss_bbox: 0.2039, s0.loss_mask: 0.2674, s1.loss_cls: 0.2111, s1.acc: 87.7809, s1.loss_bbox: 0.1720, s1.loss_mask: 0.1220, s2.loss_cls: 0.0985, s2.acc: 88.6469, s2.loss_bbox: 0.0898, s2.loss_mask: 0.0553, loss: 1.8609\n",
      "2021-05-20 05:35:59,118 - mmdet - INFO - Epoch [5][450/655]\tlr: 9.891e-05, eta: 1 day, 5:40:56, time: 3.058, data_time: 0.054, memory: 20660, loss_rpn_cls: 0.0403, loss_rpn_bbox: 0.0255, loss_semantic_seg: 0.1301, s0.loss_cls: 0.4166, s0.acc: 87.2012, s0.loss_bbox: 0.2152, s0.loss_mask: 0.2711, s1.loss_cls: 0.1962, s1.acc: 88.0446, s1.loss_bbox: 0.1809, s1.loss_mask: 0.1190, s2.loss_cls: 0.0889, s2.acc: 89.1559, s2.loss_bbox: 0.0940, s2.loss_mask: 0.0530, loss: 1.8308\n",
      "2021-05-20 05:38:31,172 - mmdet - INFO - Epoch [5][500/655]\tlr: 9.891e-05, eta: 1 day, 5:39:22, time: 3.041, data_time: 0.053, memory: 20660, loss_rpn_cls: 0.0379, loss_rpn_bbox: 0.0254, loss_semantic_seg: 0.1462, s0.loss_cls: 0.4390, s0.acc: 87.2520, s0.loss_bbox: 0.2104, s0.loss_mask: 0.2883, s1.loss_cls: 0.2046, s1.acc: 88.0980, s1.loss_bbox: 0.1765, s1.loss_mask: 0.1309, s2.loss_cls: 0.0942, s2.acc: 88.8020, s2.loss_bbox: 0.0921, s2.loss_mask: 0.0583, loss: 1.9037\n",
      "2021-05-20 05:41:00,847 - mmdet - INFO - Epoch [5][550/655]\tlr: 9.891e-05, eta: 1 day, 5:37:19, time: 2.993, data_time: 0.055, memory: 20660, loss_rpn_cls: 0.0430, loss_rpn_bbox: 0.0297, loss_semantic_seg: 0.1392, s0.loss_cls: 0.4128, s0.acc: 87.3398, s0.loss_bbox: 0.2188, s0.loss_mask: 0.2676, s1.loss_cls: 0.1950, s1.acc: 88.0141, s1.loss_bbox: 0.1847, s1.loss_mask: 0.1194, s2.loss_cls: 0.0902, s2.acc: 88.9044, s2.loss_bbox: 0.0920, s2.loss_mask: 0.0520, loss: 1.8444\n",
      "2021-05-20 05:43:28,699 - mmdet - INFO - Epoch [5][600/655]\tlr: 9.891e-05, eta: 1 day, 5:34:54, time: 2.957, data_time: 0.051, memory: 20660, loss_rpn_cls: 0.0363, loss_rpn_bbox: 0.0267, loss_semantic_seg: 0.1248, s0.loss_cls: 0.4215, s0.acc: 87.0518, s0.loss_bbox: 0.2106, s0.loss_mask: 0.2566, s1.loss_cls: 0.2025, s1.acc: 87.5297, s1.loss_bbox: 0.1824, s1.loss_mask: 0.1140, s2.loss_cls: 0.0929, s2.acc: 88.5481, s2.loss_bbox: 0.0937, s2.loss_mask: 0.0510, loss: 1.8130\n",
      "2021-05-20 05:45:58,760 - mmdet - INFO - Epoch [5][650/655]\tlr: 9.891e-05, eta: 1 day, 5:32:54, time: 3.001, data_time: 0.049, memory: 20660, loss_rpn_cls: 0.0362, loss_rpn_bbox: 0.0276, loss_semantic_seg: 0.1278, s0.loss_cls: 0.4160, s0.acc: 87.2646, s0.loss_bbox: 0.2131, s0.loss_mask: 0.2736, s1.loss_cls: 0.1981, s1.acc: 87.8064, s1.loss_bbox: 0.1816, s1.loss_mask: 0.1224, s2.loss_cls: 0.0923, s2.acc: 88.4228, s2.loss_bbox: 0.0924, s2.loss_mask: 0.0546, loss: 1.8357\n",
      "2021-05-20 05:46:13,335 - mmdet - INFO - Saving checkpoint at 5 epochs\n"
     ]
    },
    {
     "name": "stdout",
     "output_type": "stream",
     "text": [
      "[>>>>>>>>>>>>>>>>>>>>>>>>>>>>>] 655/655, 2.9 task/s, elapsed: 222s, ETA:     0s"
     ]
    },
    {
     "name": "stderr",
     "output_type": "stream",
     "text": [
      "2021-05-20 05:50:03,118 - mmdet - INFO - Evaluating bbox...\n"
     ]
    },
    {
     "name": "stdout",
     "output_type": "stream",
     "text": [
      "Loading and preparing results...\n",
      "DONE (t=1.40s)\n",
      "creating index...\n",
      "index created!\n",
      "Running per image evaluation...\n",
      "Evaluate annotation type *bbox*\n",
      "DONE (t=8.42s).\n",
      "Accumulating evaluation results...\n"
     ]
    },
    {
     "name": "stderr",
     "output_type": "stream",
     "text": [
      "2021-05-20 05:50:15,145 - mmdet - INFO - Epoch(val) [5][655]\tbbox_mAP: 0.2010, bbox_mAP_50: 0.3320, bbox_mAP_75: 0.1990, bbox_mAP_s: 0.0520, bbox_mAP_m: 0.1880, bbox_mAP_l: 0.3420, bbox_mAP_copypaste: 0.201 0.332 0.199 0.052 0.188 0.342\n"
     ]
    },
    {
     "name": "stdout",
     "output_type": "stream",
     "text": [
      "DONE (t=2.01s).\n",
      "Average Precision  (AP) @[ IoU=0.50:0.95 | area=   all | maxDets=100 ] = 0.201\n",
      "Average Precision  (AP) @[ IoU=0.50      | area=   all | maxDets=1000 ] = 0.332\n",
      "Average Precision  (AP) @[ IoU=0.75      | area=   all | maxDets=1000 ] = 0.199\n",
      "Average Precision  (AP) @[ IoU=0.50:0.95 | area= small | maxDets=1000 ] = 0.052\n",
      "Average Precision  (AP) @[ IoU=0.50:0.95 | area=medium | maxDets=1000 ] = 0.188\n",
      "Average Precision  (AP) @[ IoU=0.50:0.95 | area= large | maxDets=1000 ] = 0.342\n",
      "Average Recall     (AR) @[ IoU=0.50:0.95 | area=   all | maxDets=100 ] = 0.387\n",
      "Average Recall     (AR) @[ IoU=0.50:0.95 | area=   all | maxDets=300 ] = 0.387\n",
      "Average Recall     (AR) @[ IoU=0.50:0.95 | area=   all | maxDets=1000 ] = 0.387\n",
      "Average Recall     (AR) @[ IoU=0.50:0.95 | area= small | maxDets=1000 ] = 0.145\n",
      "Average Recall     (AR) @[ IoU=0.50:0.95 | area=medium | maxDets=1000 ] = 0.366\n",
      "Average Recall     (AR) @[ IoU=0.50:0.95 | area= large | maxDets=1000 ] = 0.643\n"
     ]
    },
    {
     "name": "stderr",
     "output_type": "stream",
     "text": [
      "2021-05-20 05:52:50,407 - mmdet - INFO - Epoch [6][50/655]\tlr: 9.830e-05, eta: 1 day, 5:28:55, time: 3.105, data_time: 0.138, memory: 20665, loss_rpn_cls: 0.0390, loss_rpn_bbox: 0.0262, loss_semantic_seg: 0.1333, s0.loss_cls: 0.4121, s0.acc: 87.4170, s0.loss_bbox: 0.2124, s0.loss_mask: 0.2917, s1.loss_cls: 0.1974, s1.acc: 87.8657, s1.loss_bbox: 0.1774, s1.loss_mask: 0.1319, s2.loss_cls: 0.0919, s2.acc: 88.7966, s2.loss_bbox: 0.0899, s2.loss_mask: 0.0586, loss: 1.8619\n",
      "2021-05-20 05:55:19,749 - mmdet - INFO - Epoch [6][100/655]\tlr: 9.830e-05, eta: 1 day, 5:26:46, time: 2.987, data_time: 0.060, memory: 20668, loss_rpn_cls: 0.0414, loss_rpn_bbox: 0.0268, loss_semantic_seg: 0.1359, s0.loss_cls: 0.4123, s0.acc: 87.1943, s0.loss_bbox: 0.2169, s0.loss_mask: 0.2797, s1.loss_cls: 0.1954, s1.acc: 87.5390, s1.loss_bbox: 0.1866, s1.loss_mask: 0.1245, s2.loss_cls: 0.0925, s2.acc: 88.3038, s2.loss_bbox: 0.0954, s2.loss_mask: 0.0565, loss: 1.8639\n",
      "2021-05-20 05:57:51,195 - mmdet - INFO - Epoch [6][150/655]\tlr: 9.830e-05, eta: 1 day, 5:25:00, time: 3.029, data_time: 0.052, memory: 20668, loss_rpn_cls: 0.0348, loss_rpn_bbox: 0.0258, loss_semantic_seg: 0.1352, s0.loss_cls: 0.4064, s0.acc: 87.4287, s0.loss_bbox: 0.2074, s0.loss_mask: 0.2703, s1.loss_cls: 0.1980, s1.acc: 87.8593, s1.loss_bbox: 0.1741, s1.loss_mask: 0.1226, s2.loss_cls: 0.0919, s2.acc: 88.7611, s2.loss_bbox: 0.0933, s2.loss_mask: 0.0555, loss: 1.8154\n",
      "2021-05-20 06:00:19,393 - mmdet - INFO - Epoch [6][200/655]\tlr: 9.830e-05, eta: 1 day, 5:22:38, time: 2.964, data_time: 0.052, memory: 20668, loss_rpn_cls: 0.0377, loss_rpn_bbox: 0.0242, loss_semantic_seg: 0.1256, s0.loss_cls: 0.4225, s0.acc: 86.8066, s0.loss_bbox: 0.2081, s0.loss_mask: 0.2642, s1.loss_cls: 0.2036, s1.acc: 87.4746, s1.loss_bbox: 0.1788, s1.loss_mask: 0.1150, s2.loss_cls: 0.0927, s2.acc: 88.8778, s2.loss_bbox: 0.0939, s2.loss_mask: 0.0518, loss: 1.8180\n",
      "2021-05-20 06:02:51,853 - mmdet - INFO - Epoch [6][250/655]\tlr: 9.830e-05, eta: 1 day, 5:21:00, time: 3.049, data_time: 0.047, memory: 20668, loss_rpn_cls: 0.0324, loss_rpn_bbox: 0.0255, loss_semantic_seg: 0.1298, s0.loss_cls: 0.3997, s0.acc: 87.6318, s0.loss_bbox: 0.1987, s0.loss_mask: 0.2461, s1.loss_cls: 0.1937, s1.acc: 88.0910, s1.loss_bbox: 0.1648, s1.loss_mask: 0.1101, s2.loss_cls: 0.0911, s2.acc: 88.4752, s2.loss_bbox: 0.0875, s2.loss_mask: 0.0501, loss: 1.7295\n",
      "2021-05-20 06:05:18,166 - mmdet - INFO - Epoch [6][300/655]\tlr: 9.830e-05, eta: 1 day, 5:18:19, time: 2.926, data_time: 0.046, memory: 20668, loss_rpn_cls: 0.0406, loss_rpn_bbox: 0.0255, loss_semantic_seg: 0.1420, s0.loss_cls: 0.4241, s0.acc: 87.3662, s0.loss_bbox: 0.2054, s0.loss_mask: 0.2925, s1.loss_cls: 0.2027, s1.acc: 87.9119, s1.loss_bbox: 0.1695, s1.loss_mask: 0.1314, s2.loss_cls: 0.0910, s2.acc: 89.2350, s2.loss_bbox: 0.0867, s2.loss_mask: 0.0592, loss: 1.8706\n",
      "2021-05-20 06:07:41,705 - mmdet - INFO - Epoch [6][350/655]\tlr: 9.830e-05, eta: 1 day, 5:15:11, time: 2.871, data_time: 0.046, memory: 20668, loss_rpn_cls: 0.0475, loss_rpn_bbox: 0.0281, loss_semantic_seg: 0.1289, s0.loss_cls: 0.4117, s0.acc: 87.4590, s0.loss_bbox: 0.2110, s0.loss_mask: 0.2587, s1.loss_cls: 0.1909, s1.acc: 88.6413, s1.loss_bbox: 0.1709, s1.loss_mask: 0.1152, s2.loss_cls: 0.0872, s2.acc: 89.6155, s2.loss_bbox: 0.0893, s2.loss_mask: 0.0501, loss: 1.7894\n",
      "2021-05-20 06:10:07,247 - mmdet - INFO - Epoch [6][400/655]\tlr: 9.830e-05, eta: 1 day, 5:12:23, time: 2.911, data_time: 0.046, memory: 20668, loss_rpn_cls: 0.0348, loss_rpn_bbox: 0.0236, loss_semantic_seg: 0.1339, s0.loss_cls: 0.3872, s0.acc: 88.2451, s0.loss_bbox: 0.1972, s0.loss_mask: 0.2709, s1.loss_cls: 0.1746, s1.acc: 89.5946, s1.loss_bbox: 0.1658, s1.loss_mask: 0.1202, s2.loss_cls: 0.0799, s2.acc: 90.3062, s2.loss_bbox: 0.0878, s2.loss_mask: 0.0525, loss: 1.7285\n",
      "2021-05-20 06:12:30,810 - mmdet - INFO - Epoch [6][450/655]\tlr: 9.830e-05, eta: 1 day, 5:09:17, time: 2.871, data_time: 0.044, memory: 20668, loss_rpn_cls: 0.0369, loss_rpn_bbox: 0.0238, loss_semantic_seg: 0.1283, s0.loss_cls: 0.3945, s0.acc: 87.9971, s0.loss_bbox: 0.1977, s0.loss_mask: 0.2648, s1.loss_cls: 0.1836, s1.acc: 88.8188, s1.loss_bbox: 0.1673, s1.loss_mask: 0.1192, s2.loss_cls: 0.0855, s2.acc: 89.5413, s2.loss_bbox: 0.0853, s2.loss_mask: 0.0519, loss: 1.7388\n",
      "2021-05-20 06:14:59,335 - mmdet - INFO - Epoch [6][500/655]\tlr: 9.830e-05, eta: 1 day, 5:06:59, time: 2.970, data_time: 0.053, memory: 20668, loss_rpn_cls: 0.0422, loss_rpn_bbox: 0.0282, loss_semantic_seg: 0.1370, s0.loss_cls: 0.4115, s0.acc: 87.6279, s0.loss_bbox: 0.2119, s0.loss_mask: 0.2852, s1.loss_cls: 0.1928, s1.acc: 88.1971, s1.loss_bbox: 0.1717, s1.loss_mask: 0.1270, s2.loss_cls: 0.0875, s2.acc: 89.3588, s2.loss_bbox: 0.0879, s2.loss_mask: 0.0570, loss: 1.8398\n",
      "2021-05-20 06:17:27,488 - mmdet - INFO - Epoch [6][550/655]\tlr: 9.830e-05, eta: 1 day, 5:04:37, time: 2.963, data_time: 0.051, memory: 20668, loss_rpn_cls: 0.0435, loss_rpn_bbox: 0.0287, loss_semantic_seg: 0.1286, s0.loss_cls: 0.4107, s0.acc: 87.5107, s0.loss_bbox: 0.2035, s0.loss_mask: 0.2567, s1.loss_cls: 0.1932, s1.acc: 88.3911, s1.loss_bbox: 0.1720, s1.loss_mask: 0.1108, s2.loss_cls: 0.0877, s2.acc: 89.4312, s2.loss_bbox: 0.0850, s2.loss_mask: 0.0480, loss: 1.7685\n",
      "2021-05-20 06:19:56,266 - mmdet - INFO - Epoch [6][600/655]\tlr: 9.830e-05, eta: 1 day, 5:02:21, time: 2.976, data_time: 0.048, memory: 20668, loss_rpn_cls: 0.0381, loss_rpn_bbox: 0.0235, loss_semantic_seg: 0.1402, s0.loss_cls: 0.3934, s0.acc: 88.0000, s0.loss_bbox: 0.1988, s0.loss_mask: 0.2828, s1.loss_cls: 0.1846, s1.acc: 88.8331, s1.loss_bbox: 0.1667, s1.loss_mask: 0.1282, s2.loss_cls: 0.0840, s2.acc: 89.7061, s2.loss_bbox: 0.0841, s2.loss_mask: 0.0574, loss: 1.7818\n",
      "2021-05-20 06:22:22,375 - mmdet - INFO - Epoch [6][650/655]\tlr: 9.830e-05, eta: 1 day, 4:59:41, time: 2.922, data_time: 0.044, memory: 20668, loss_rpn_cls: 0.0345, loss_rpn_bbox: 0.0221, loss_semantic_seg: 0.1317, s0.loss_cls: 0.3859, s0.acc: 88.0664, s0.loss_bbox: 0.2069, s0.loss_mask: 0.2761, s1.loss_cls: 0.1845, s1.acc: 88.5970, s1.loss_bbox: 0.1751, s1.loss_mask: 0.1199, s2.loss_cls: 0.0835, s2.acc: 89.7122, s2.loss_bbox: 0.0901, s2.loss_mask: 0.0516, loss: 1.7617\n",
      "2021-05-20 06:22:38,051 - mmdet - INFO - Saving checkpoint at 6 epochs\n"
     ]
    },
    {
     "name": "stdout",
     "output_type": "stream",
     "text": [
      "[>>>>>>>>>>>>>>>>>>>>>>>>>>>>>] 655/655, 3.0 task/s, elapsed: 217s, ETA:     0s"
     ]
    },
    {
     "name": "stderr",
     "output_type": "stream",
     "text": [
      "2021-05-20 06:26:22,141 - mmdet - INFO - Evaluating bbox...\n"
     ]
    },
    {
     "name": "stdout",
     "output_type": "stream",
     "text": [
      "Loading and preparing results...\n",
      "DONE (t=1.35s)\n",
      "creating index...\n",
      "index created!\n",
      "Running per image evaluation...\n",
      "Evaluate annotation type *bbox*\n",
      "DONE (t=8.49s).\n",
      "Accumulating evaluation results...\n"
     ]
    },
    {
     "name": "stderr",
     "output_type": "stream",
     "text": [
      "2021-05-20 06:26:34,107 - mmdet - INFO - Now best checkpoint is epoch_6.pth.Best bbox_mAP_50 is 0.3460\n",
      "2021-05-20 06:26:34,152 - mmdet - INFO - Epoch(val) [6][655]\tbbox_mAP: 0.2040, bbox_mAP_50: 0.3460, bbox_mAP_75: 0.2150, bbox_mAP_s: 0.0590, bbox_mAP_m: 0.2000, bbox_mAP_l: 0.3640, bbox_mAP_copypaste: 0.204 0.346 0.215 0.059 0.200 0.364\n"
     ]
    },
    {
     "name": "stdout",
     "output_type": "stream",
     "text": [
      "DONE (t=1.98s).\n",
      "Average Precision  (AP) @[ IoU=0.50:0.95 | area=   all | maxDets=100 ] = 0.204\n",
      "Average Precision  (AP) @[ IoU=0.50      | area=   all | maxDets=1000 ] = 0.346\n",
      "Average Precision  (AP) @[ IoU=0.75      | area=   all | maxDets=1000 ] = 0.215\n",
      "Average Precision  (AP) @[ IoU=0.50:0.95 | area= small | maxDets=1000 ] = 0.059\n",
      "Average Precision  (AP) @[ IoU=0.50:0.95 | area=medium | maxDets=1000 ] = 0.200\n",
      "Average Precision  (AP) @[ IoU=0.50:0.95 | area= large | maxDets=1000 ] = 0.364\n",
      "Average Recall     (AR) @[ IoU=0.50:0.95 | area=   all | maxDets=100 ] = 0.386\n",
      "Average Recall     (AR) @[ IoU=0.50:0.95 | area=   all | maxDets=300 ] = 0.386\n",
      "Average Recall     (AR) @[ IoU=0.50:0.95 | area=   all | maxDets=1000 ] = 0.386\n",
      "Average Recall     (AR) @[ IoU=0.50:0.95 | area= small | maxDets=1000 ] = 0.162\n",
      "Average Recall     (AR) @[ IoU=0.50:0.95 | area=medium | maxDets=1000 ] = 0.362\n",
      "Average Recall     (AR) @[ IoU=0.50:0.95 | area= large | maxDets=1000 ] = 0.615\n"
     ]
    },
    {
     "name": "stderr",
     "output_type": "stream",
     "text": [
      "2021-05-20 06:29:07,139 - mmdet - INFO - Epoch [7][50/655]\tlr: 9.755e-05, eta: 1 day, 4:55:36, time: 3.059, data_time: 0.126, memory: 20668, loss_rpn_cls: 0.0356, loss_rpn_bbox: 0.0238, loss_semantic_seg: 0.1288, s0.loss_cls: 0.3892, s0.acc: 87.9541, s0.loss_bbox: 0.1972, s0.loss_mask: 0.2645, s1.loss_cls: 0.1835, s1.acc: 88.7357, s1.loss_bbox: 0.1692, s1.loss_mask: 0.1182, s2.loss_cls: 0.0848, s2.acc: 89.7853, s2.loss_bbox: 0.0899, s2.loss_mask: 0.0536, loss: 1.7383\n",
      "2021-05-20 06:31:37,359 - mmdet - INFO - Epoch [7][100/655]\tlr: 9.755e-05, eta: 1 day, 4:53:33, time: 3.004, data_time: 0.049, memory: 20668, loss_rpn_cls: 0.0369, loss_rpn_bbox: 0.0219, loss_semantic_seg: 0.1202, s0.loss_cls: 0.3644, s0.acc: 88.4375, s0.loss_bbox: 0.2031, s0.loss_mask: 0.2693, s1.loss_cls: 0.1700, s1.acc: 89.3323, s1.loss_bbox: 0.1745, s1.loss_mask: 0.1208, s2.loss_cls: 0.0784, s2.acc: 89.9465, s2.loss_bbox: 0.0884, s2.loss_mask: 0.0541, loss: 1.7019\n",
      "2021-05-20 06:34:03,095 - mmdet - INFO - Epoch [7][150/655]\tlr: 9.755e-05, eta: 1 day, 4:50:50, time: 2.915, data_time: 0.045, memory: 20668, loss_rpn_cls: 0.0374, loss_rpn_bbox: 0.0230, loss_semantic_seg: 0.1137, s0.loss_cls: 0.3865, s0.acc: 87.8975, s0.loss_bbox: 0.2070, s0.loss_mask: 0.2851, s1.loss_cls: 0.1792, s1.acc: 88.4986, s1.loss_bbox: 0.1754, s1.loss_mask: 0.1283, s2.loss_cls: 0.0828, s2.acc: 89.3112, s2.loss_bbox: 0.0915, s2.loss_mask: 0.0567, loss: 1.7667\n",
      "2021-05-20 06:36:30,368 - mmdet - INFO - Epoch [7][200/655]\tlr: 9.755e-05, eta: 1 day, 4:48:22, time: 2.945, data_time: 0.053, memory: 20668, loss_rpn_cls: 0.0328, loss_rpn_bbox: 0.0240, loss_semantic_seg: 0.1320, s0.loss_cls: 0.3854, s0.acc: 88.3340, s0.loss_bbox: 0.1932, s0.loss_mask: 0.2497, s1.loss_cls: 0.1831, s1.acc: 88.8423, s1.loss_bbox: 0.1649, s1.loss_mask: 0.1136, s2.loss_cls: 0.0830, s2.acc: 90.0325, s2.loss_bbox: 0.0806, s2.loss_mask: 0.0486, loss: 1.6910\n",
      "2021-05-20 06:39:00,900 - mmdet - INFO - Epoch [7][250/655]\tlr: 9.755e-05, eta: 1 day, 4:46:20, time: 3.011, data_time: 0.053, memory: 20668, loss_rpn_cls: 0.0385, loss_rpn_bbox: 0.0260, loss_semantic_seg: 0.1369, s0.loss_cls: 0.4163, s0.acc: 87.4648, s0.loss_bbox: 0.2091, s0.loss_mask: 0.2738, s1.loss_cls: 0.1888, s1.acc: 88.7186, s1.loss_bbox: 0.1716, s1.loss_mask: 0.1218, s2.loss_cls: 0.0861, s2.acc: 89.6640, s2.loss_bbox: 0.0901, s2.loss_mask: 0.0553, loss: 1.8142\n",
      "2021-05-20 06:41:28,604 - mmdet - INFO - Epoch [7][300/655]\tlr: 9.755e-05, eta: 1 day, 4:43:55, time: 2.954, data_time: 0.053, memory: 20668, loss_rpn_cls: 0.0439, loss_rpn_bbox: 0.0264, loss_semantic_seg: 0.1281, s0.loss_cls: 0.4054, s0.acc: 87.6729, s0.loss_bbox: 0.2075, s0.loss_mask: 0.2673, s1.loss_cls: 0.1867, s1.acc: 88.6632, s1.loss_bbox: 0.1712, s1.loss_mask: 0.1216, s2.loss_cls: 0.0843, s2.acc: 89.5189, s2.loss_bbox: 0.0863, s2.loss_mask: 0.0515, loss: 1.7803\n",
      "2021-05-20 06:43:53,672 - mmdet - INFO - Epoch [7][350/655]\tlr: 9.755e-05, eta: 1 day, 4:41:08, time: 2.901, data_time: 0.048, memory: 20668, loss_rpn_cls: 0.0350, loss_rpn_bbox: 0.0260, loss_semantic_seg: 0.1230, s0.loss_cls: 0.3922, s0.acc: 87.8301, s0.loss_bbox: 0.2034, s0.loss_mask: 0.2487, s1.loss_cls: 0.1836, s1.acc: 88.8429, s1.loss_bbox: 0.1674, s1.loss_mask: 0.1137, s2.loss_cls: 0.0834, s2.acc: 90.0236, s2.loss_bbox: 0.0892, s2.loss_mask: 0.0496, loss: 1.7152\n",
      "2021-05-20 06:46:21,376 - mmdet - INFO - Epoch [7][400/655]\tlr: 9.755e-05, eta: 1 day, 4:38:42, time: 2.954, data_time: 0.046, memory: 20668, loss_rpn_cls: 0.0376, loss_rpn_bbox: 0.0212, loss_semantic_seg: 0.1285, s0.loss_cls: 0.3894, s0.acc: 87.9248, s0.loss_bbox: 0.1968, s0.loss_mask: 0.2583, s1.loss_cls: 0.1858, s1.acc: 88.4110, s1.loss_bbox: 0.1723, s1.loss_mask: 0.1113, s2.loss_cls: 0.0866, s2.acc: 88.9193, s2.loss_bbox: 0.0902, s2.loss_mask: 0.0482, loss: 1.7261\n",
      "2021-05-20 06:48:47,206 - mmdet - INFO - Epoch [7][450/655]\tlr: 9.755e-05, eta: 1 day, 4:36:02, time: 2.917, data_time: 0.049, memory: 20668, loss_rpn_cls: 0.0337, loss_rpn_bbox: 0.0250, loss_semantic_seg: 0.1161, s0.loss_cls: 0.4048, s0.acc: 87.6250, s0.loss_bbox: 0.2013, s0.loss_mask: 0.2819, s1.loss_cls: 0.1916, s1.acc: 88.0965, s1.loss_bbox: 0.1709, s1.loss_mask: 0.1257, s2.loss_cls: 0.0870, s2.acc: 89.2902, s2.loss_bbox: 0.0843, s2.loss_mask: 0.0561, loss: 1.7785\n",
      "2021-05-20 06:51:16,247 - mmdet - INFO - Epoch [7][500/655]\tlr: 9.755e-05, eta: 1 day, 4:33:47, time: 2.981, data_time: 0.049, memory: 20668, loss_rpn_cls: 0.0343, loss_rpn_bbox: 0.0267, loss_semantic_seg: 0.1327, s0.loss_cls: 0.4138, s0.acc: 87.4307, s0.loss_bbox: 0.2131, s0.loss_mask: 0.2756, s1.loss_cls: 0.1986, s1.acc: 87.8268, s1.loss_bbox: 0.1812, s1.loss_mask: 0.1213, s2.loss_cls: 0.0935, s2.acc: 88.5048, s2.loss_bbox: 0.0910, s2.loss_mask: 0.0533, loss: 1.8351\n",
      "2021-05-20 06:53:40,568 - mmdet - INFO - Epoch [7][550/655]\tlr: 9.755e-05, eta: 1 day, 4:30:56, time: 2.886, data_time: 0.052, memory: 20668, loss_rpn_cls: 0.0416, loss_rpn_bbox: 0.0236, loss_semantic_seg: 0.1224, s0.loss_cls: 0.3947, s0.acc: 87.6396, s0.loss_bbox: 0.2024, s0.loss_mask: 0.2728, s1.loss_cls: 0.1862, s1.acc: 88.6695, s1.loss_bbox: 0.1722, s1.loss_mask: 0.1231, s2.loss_cls: 0.0881, s2.acc: 89.1783, s2.loss_bbox: 0.0898, s2.loss_mask: 0.0549, loss: 1.7717\n",
      "2021-05-20 06:56:09,503 - mmdet - INFO - Epoch [7][600/655]\tlr: 9.755e-05, eta: 1 day, 4:28:40, time: 2.979, data_time: 0.054, memory: 20668, loss_rpn_cls: 0.0354, loss_rpn_bbox: 0.0270, loss_semantic_seg: 0.1350, s0.loss_cls: 0.3978, s0.acc: 87.5752, s0.loss_bbox: 0.2079, s0.loss_mask: 0.2625, s1.loss_cls: 0.1866, s1.acc: 88.3796, s1.loss_bbox: 0.1679, s1.loss_mask: 0.1134, s2.loss_cls: 0.0855, s2.acc: 89.2040, s2.loss_bbox: 0.0847, s2.loss_mask: 0.0503, loss: 1.7542\n",
      "2021-05-20 06:58:37,976 - mmdet - INFO - Epoch [7][650/655]\tlr: 9.755e-05, eta: 1 day, 4:26:20, time: 2.969, data_time: 0.049, memory: 20668, loss_rpn_cls: 0.0406, loss_rpn_bbox: 0.0259, loss_semantic_seg: 0.1290, s0.loss_cls: 0.3971, s0.acc: 87.8936, s0.loss_bbox: 0.1969, s0.loss_mask: 0.2614, s1.loss_cls: 0.1853, s1.acc: 88.3676, s1.loss_bbox: 0.1605, s1.loss_mask: 0.1156, s2.loss_cls: 0.0860, s2.acc: 89.1661, s2.loss_bbox: 0.0824, s2.loss_mask: 0.0517, loss: 1.7323\n",
      "2021-05-20 06:58:51,910 - mmdet - INFO - Saving checkpoint at 7 epochs\n"
     ]
    },
    {
     "name": "stdout",
     "output_type": "stream",
     "text": [
      "[>>>>>>>>>>>>>>>>>>>>>>>>>>>>>] 655/655, 3.1 task/s, elapsed: 214s, ETA:     0s"
     ]
    },
    {
     "name": "stderr",
     "output_type": "stream",
     "text": [
      "2021-05-20 07:02:33,029 - mmdet - INFO - Evaluating bbox...\n"
     ]
    },
    {
     "name": "stdout",
     "output_type": "stream",
     "text": [
      "Loading and preparing results...\n",
      "DONE (t=0.81s)\n",
      "creating index...\n",
      "index created!\n",
      "Running per image evaluation...\n",
      "Evaluate annotation type *bbox*\n",
      "DONE (t=8.59s).\n",
      "Accumulating evaluation results...\n"
     ]
    },
    {
     "name": "stderr",
     "output_type": "stream",
     "text": [
      "2021-05-20 07:02:44,448 - mmdet - INFO - Now best checkpoint is epoch_7.pth.Best bbox_mAP_50 is 0.3640\n",
      "2021-05-20 07:02:44,491 - mmdet - INFO - Epoch(val) [7][655]\tbbox_mAP: 0.2230, bbox_mAP_50: 0.3640, bbox_mAP_75: 0.2230, bbox_mAP_s: 0.0500, bbox_mAP_m: 0.2170, bbox_mAP_l: 0.4370, bbox_mAP_copypaste: 0.223 0.364 0.223 0.050 0.217 0.437\n"
     ]
    },
    {
     "name": "stdout",
     "output_type": "stream",
     "text": [
      "DONE (t=1.87s).\n",
      "Average Precision  (AP) @[ IoU=0.50:0.95 | area=   all | maxDets=100 ] = 0.223\n",
      "Average Precision  (AP) @[ IoU=0.50      | area=   all | maxDets=1000 ] = 0.364\n",
      "Average Precision  (AP) @[ IoU=0.75      | area=   all | maxDets=1000 ] = 0.223\n",
      "Average Precision  (AP) @[ IoU=0.50:0.95 | area= small | maxDets=1000 ] = 0.050\n",
      "Average Precision  (AP) @[ IoU=0.50:0.95 | area=medium | maxDets=1000 ] = 0.217\n",
      "Average Precision  (AP) @[ IoU=0.50:0.95 | area= large | maxDets=1000 ] = 0.437\n",
      "Average Recall     (AR) @[ IoU=0.50:0.95 | area=   all | maxDets=100 ] = 0.404\n",
      "Average Recall     (AR) @[ IoU=0.50:0.95 | area=   all | maxDets=300 ] = 0.404\n",
      "Average Recall     (AR) @[ IoU=0.50:0.95 | area=   all | maxDets=1000 ] = 0.404\n",
      "Average Recall     (AR) @[ IoU=0.50:0.95 | area= small | maxDets=1000 ] = 0.154\n",
      "Average Recall     (AR) @[ IoU=0.50:0.95 | area=medium | maxDets=1000 ] = 0.388\n",
      "Average Recall     (AR) @[ IoU=0.50:0.95 | area= large | maxDets=1000 ] = 0.655\n"
     ]
    },
    {
     "name": "stderr",
     "output_type": "stream",
     "text": [
      "2021-05-20 07:05:20,466 - mmdet - INFO - Epoch [8][50/655]\tlr: 9.668e-05, eta: 1 day, 4:22:52, time: 3.119, data_time: 0.154, memory: 20668, loss_rpn_cls: 0.0349, loss_rpn_bbox: 0.0244, loss_semantic_seg: 0.1241, s0.loss_cls: 0.3922, s0.acc: 87.8262, s0.loss_bbox: 0.1976, s0.loss_mask: 0.2600, s1.loss_cls: 0.1851, s1.acc: 88.5633, s1.loss_bbox: 0.1679, s1.loss_mask: 0.1152, s2.loss_cls: 0.0844, s2.acc: 89.4120, s2.loss_bbox: 0.0879, s2.loss_mask: 0.0514, loss: 1.7253\n",
      "2021-05-20 07:07:49,935 - mmdet - INFO - Epoch [8][100/655]\tlr: 9.668e-05, eta: 1 day, 4:20:40, time: 2.989, data_time: 0.048, memory: 20668, loss_rpn_cls: 0.0330, loss_rpn_bbox: 0.0214, loss_semantic_seg: 0.1375, s0.loss_cls: 0.3934, s0.acc: 87.9180, s0.loss_bbox: 0.1970, s0.loss_mask: 0.2728, s1.loss_cls: 0.1823, s1.acc: 88.8182, s1.loss_bbox: 0.1669, s1.loss_mask: 0.1240, s2.loss_cls: 0.0847, s2.acc: 89.4671, s2.loss_bbox: 0.0884, s2.loss_mask: 0.0546, loss: 1.7559\n",
      "2021-05-20 07:10:17,039 - mmdet - INFO - Epoch [8][150/655]\tlr: 9.668e-05, eta: 1 day, 4:18:10, time: 2.942, data_time: 0.045, memory: 20668, loss_rpn_cls: 0.0345, loss_rpn_bbox: 0.0227, loss_semantic_seg: 0.1314, s0.loss_cls: 0.3727, s0.acc: 88.8213, s0.loss_bbox: 0.1931, s0.loss_mask: 0.2667, s1.loss_cls: 0.1760, s1.acc: 89.2709, s1.loss_bbox: 0.1621, s1.loss_mask: 0.1213, s2.loss_cls: 0.0818, s2.acc: 90.0388, s2.loss_bbox: 0.0882, s2.loss_mask: 0.0546, loss: 1.7050\n",
      "2021-05-20 07:12:47,719 - mmdet - INFO - Epoch [8][200/655]\tlr: 9.668e-05, eta: 1 day, 4:16:07, time: 3.014, data_time: 0.048, memory: 20668, loss_rpn_cls: 0.0329, loss_rpn_bbox: 0.0242, loss_semantic_seg: 0.1345, s0.loss_cls: 0.3962, s0.acc: 87.9863, s0.loss_bbox: 0.1997, s0.loss_mask: 0.2650, s1.loss_cls: 0.1869, s1.acc: 89.0995, s1.loss_bbox: 0.1651, s1.loss_mask: 0.1186, s2.loss_cls: 0.0864, s2.acc: 89.6177, s2.loss_bbox: 0.0855, s2.loss_mask: 0.0537, loss: 1.7487\n",
      "2021-05-20 07:15:15,971 - mmdet - INFO - Epoch [8][250/655]\tlr: 9.668e-05, eta: 1 day, 4:13:45, time: 2.965, data_time: 0.051, memory: 20668, loss_rpn_cls: 0.0408, loss_rpn_bbox: 0.0251, loss_semantic_seg: 0.1130, s0.loss_cls: 0.3866, s0.acc: 88.3994, s0.loss_bbox: 0.2026, s0.loss_mask: 0.2622, s1.loss_cls: 0.1752, s1.acc: 89.6294, s1.loss_bbox: 0.1672, s1.loss_mask: 0.1169, s2.loss_cls: 0.0796, s2.acc: 90.4211, s2.loss_bbox: 0.0862, s2.loss_mask: 0.0507, loss: 1.7061\n",
      "2021-05-20 07:17:41,460 - mmdet - INFO - Epoch [8][300/655]\tlr: 9.668e-05, eta: 1 day, 4:11:04, time: 2.910, data_time: 0.051, memory: 20668, loss_rpn_cls: 0.0338, loss_rpn_bbox: 0.0272, loss_semantic_seg: 0.1407, s0.loss_cls: 0.3904, s0.acc: 88.0186, s0.loss_bbox: 0.2018, s0.loss_mask: 0.2766, s1.loss_cls: 0.1835, s1.acc: 88.8795, s1.loss_bbox: 0.1708, s1.loss_mask: 0.1263, s2.loss_cls: 0.0841, s2.acc: 89.7055, s2.loss_bbox: 0.0906, s2.loss_mask: 0.0566, loss: 1.7823\n",
      "2021-05-20 07:20:07,131 - mmdet - INFO - Epoch [8][350/655]\tlr: 9.668e-05, eta: 1 day, 4:08:24, time: 2.913, data_time: 0.044, memory: 20668, loss_rpn_cls: 0.0384, loss_rpn_bbox: 0.0232, loss_semantic_seg: 0.1166, s0.loss_cls: 0.3731, s0.acc: 88.3320, s0.loss_bbox: 0.1964, s0.loss_mask: 0.2624, s1.loss_cls: 0.1783, s1.acc: 89.0199, s1.loss_bbox: 0.1608, s1.loss_mask: 0.1122, s2.loss_cls: 0.0858, s2.acc: 89.2502, s2.loss_bbox: 0.0817, s2.loss_mask: 0.0486, loss: 1.6776\n",
      "2021-05-20 07:22:35,390 - mmdet - INFO - Epoch [8][400/655]\tlr: 9.668e-05, eta: 1 day, 4:06:03, time: 2.965, data_time: 0.050, memory: 20668, loss_rpn_cls: 0.0398, loss_rpn_bbox: 0.0242, loss_semantic_seg: 0.1289, s0.loss_cls: 0.3974, s0.acc: 87.3428, s0.loss_bbox: 0.1963, s0.loss_mask: 0.2671, s1.loss_cls: 0.1900, s1.acc: 88.0361, s1.loss_bbox: 0.1659, s1.loss_mask: 0.1179, s2.loss_cls: 0.0892, s2.acc: 88.7990, s2.loss_bbox: 0.0880, s2.loss_mask: 0.0518, loss: 1.7565\n",
      "2021-05-20 07:25:06,454 - mmdet - INFO - Epoch [8][450/655]\tlr: 9.668e-05, eta: 1 day, 4:04:00, time: 3.021, data_time: 0.048, memory: 20668, loss_rpn_cls: 0.0282, loss_rpn_bbox: 0.0218, loss_semantic_seg: 0.1288, s0.loss_cls: 0.3771, s0.acc: 88.4727, s0.loss_bbox: 0.1868, s0.loss_mask: 0.2401, s1.loss_cls: 0.1804, s1.acc: 88.8394, s1.loss_bbox: 0.1651, s1.loss_mask: 0.1064, s2.loss_cls: 0.0848, s2.acc: 89.3915, s2.loss_bbox: 0.0895, s2.loss_mask: 0.0468, loss: 1.6559\n",
      "2021-05-20 07:27:38,205 - mmdet - INFO - Epoch [8][500/655]\tlr: 9.668e-05, eta: 1 day, 4:02:02, time: 3.035, data_time: 0.048, memory: 20668, loss_rpn_cls: 0.0321, loss_rpn_bbox: 0.0238, loss_semantic_seg: 0.1244, s0.loss_cls: 0.3851, s0.acc: 88.2607, s0.loss_bbox: 0.1928, s0.loss_mask: 0.2520, s1.loss_cls: 0.1854, s1.acc: 88.4545, s1.loss_bbox: 0.1688, s1.loss_mask: 0.1099, s2.loss_cls: 0.0852, s2.acc: 89.6625, s2.loss_bbox: 0.0832, s2.loss_mask: 0.0455, loss: 1.6882\n",
      "2021-05-20 07:30:08,907 - mmdet - INFO - Epoch [8][550/655]\tlr: 9.668e-05, eta: 1 day, 3:59:56, time: 3.014, data_time: 0.050, memory: 20668, loss_rpn_cls: 0.0369, loss_rpn_bbox: 0.0236, loss_semantic_seg: 0.1342, s0.loss_cls: 0.4195, s0.acc: 87.0918, s0.loss_bbox: 0.2155, s0.loss_mask: 0.2856, s1.loss_cls: 0.2008, s1.acc: 87.5717, s1.loss_bbox: 0.1855, s1.loss_mask: 0.1251, s2.loss_cls: 0.0926, s2.acc: 88.1143, s2.loss_bbox: 0.0943, s2.loss_mask: 0.0539, loss: 1.8675\n",
      "2021-05-20 07:32:42,364 - mmdet - INFO - Epoch [8][600/655]\tlr: 9.668e-05, eta: 1 day, 3:58:07, time: 3.069, data_time: 0.053, memory: 20668, loss_rpn_cls: 0.0368, loss_rpn_bbox: 0.0255, loss_semantic_seg: 0.1223, s0.loss_cls: 0.3919, s0.acc: 88.1768, s0.loss_bbox: 0.1985, s0.loss_mask: 0.2743, s1.loss_cls: 0.1862, s1.acc: 88.6715, s1.loss_bbox: 0.1682, s1.loss_mask: 0.1199, s2.loss_cls: 0.0865, s2.acc: 89.5065, s2.loss_bbox: 0.0848, s2.loss_mask: 0.0534, loss: 1.7483\n",
      "2021-05-20 07:35:10,136 - mmdet - INFO - Epoch [8][650/655]\tlr: 9.668e-05, eta: 1 day, 3:55:41, time: 2.955, data_time: 0.047, memory: 20668, loss_rpn_cls: 0.0352, loss_rpn_bbox: 0.0233, loss_semantic_seg: 0.1328, s0.loss_cls: 0.3795, s0.acc: 88.3643, s0.loss_bbox: 0.1870, s0.loss_mask: 0.2452, s1.loss_cls: 0.1796, s1.acc: 89.0969, s1.loss_bbox: 0.1589, s1.loss_mask: 0.1089, s2.loss_cls: 0.0835, s2.acc: 89.6471, s2.loss_bbox: 0.0859, s2.loss_mask: 0.0474, loss: 1.6672\n",
      "2021-05-20 07:35:24,912 - mmdet - INFO - Saving checkpoint at 8 epochs\n"
     ]
    },
    {
     "name": "stdout",
     "output_type": "stream",
     "text": [
      "[>>>>>>>>>>>>>>>>>>>>>>>>>>>>>] 655/655, 3.1 task/s, elapsed: 213s, ETA:     0s"
     ]
    },
    {
     "name": "stderr",
     "output_type": "stream",
     "text": [
      "2021-05-20 07:39:04,626 - mmdet - INFO - Evaluating bbox...\n"
     ]
    },
    {
     "name": "stdout",
     "output_type": "stream",
     "text": [
      "Loading and preparing results...\n",
      "DONE (t=0.76s)\n",
      "creating index...\n",
      "index created!\n",
      "Running per image evaluation...\n",
      "Evaluate annotation type *bbox*\n",
      "DONE (t=8.28s).\n",
      "Accumulating evaluation results...\n"
     ]
    },
    {
     "name": "stderr",
     "output_type": "stream",
     "text": [
      "2021-05-20 07:39:15,561 - mmdet - INFO - Epoch(val) [8][655]\tbbox_mAP: 0.2160, bbox_mAP_50: 0.3510, bbox_mAP_75: 0.2120, bbox_mAP_s: 0.0470, bbox_mAP_m: 0.2150, bbox_mAP_l: 0.3910, bbox_mAP_copypaste: 0.216 0.351 0.212 0.047 0.215 0.391\n"
     ]
    },
    {
     "name": "stdout",
     "output_type": "stream",
     "text": [
      "DONE (t=1.72s).\n",
      "Average Precision  (AP) @[ IoU=0.50:0.95 | area=   all | maxDets=100 ] = 0.216\n",
      "Average Precision  (AP) @[ IoU=0.50      | area=   all | maxDets=1000 ] = 0.351\n",
      "Average Precision  (AP) @[ IoU=0.75      | area=   all | maxDets=1000 ] = 0.212\n",
      "Average Precision  (AP) @[ IoU=0.50:0.95 | area= small | maxDets=1000 ] = 0.047\n",
      "Average Precision  (AP) @[ IoU=0.50:0.95 | area=medium | maxDets=1000 ] = 0.215\n",
      "Average Precision  (AP) @[ IoU=0.50:0.95 | area= large | maxDets=1000 ] = 0.391\n",
      "Average Recall     (AR) @[ IoU=0.50:0.95 | area=   all | maxDets=100 ] = 0.394\n",
      "Average Recall     (AR) @[ IoU=0.50:0.95 | area=   all | maxDets=300 ] = 0.394\n",
      "Average Recall     (AR) @[ IoU=0.50:0.95 | area=   all | maxDets=1000 ] = 0.394\n",
      "Average Recall     (AR) @[ IoU=0.50:0.95 | area= small | maxDets=1000 ] = 0.151\n",
      "Average Recall     (AR) @[ IoU=0.50:0.95 | area=medium | maxDets=1000 ] = 0.380\n",
      "Average Recall     (AR) @[ IoU=0.50:0.95 | area= large | maxDets=1000 ] = 0.642\n"
     ]
    },
    {
     "name": "stderr",
     "output_type": "stream",
     "text": [
      "2021-05-20 07:41:50,278 - mmdet - INFO - Epoch [9][50/655]\tlr: 9.568e-05, eta: 1 day, 3:52:10, time: 3.094, data_time: 0.145, memory: 20668, loss_rpn_cls: 0.0352, loss_rpn_bbox: 0.0226, loss_semantic_seg: 0.1224, s0.loss_cls: 0.3956, s0.acc: 88.0186, s0.loss_bbox: 0.2037, s0.loss_mask: 0.2457, s1.loss_cls: 0.1841, s1.acc: 88.6885, s1.loss_bbox: 0.1707, s1.loss_mask: 0.1087, s2.loss_cls: 0.0832, s2.acc: 89.6622, s2.loss_bbox: 0.0888, s2.loss_mask: 0.0484, loss: 1.7090\n",
      "2021-05-20 07:44:17,574 - mmdet - INFO - Epoch [9][100/655]\tlr: 9.568e-05, eta: 1 day, 3:49:41, time: 2.946, data_time: 0.050, memory: 20668, loss_rpn_cls: 0.0350, loss_rpn_bbox: 0.0239, loss_semantic_seg: 0.1240, s0.loss_cls: 0.3755, s0.acc: 88.6963, s0.loss_bbox: 0.1931, s0.loss_mask: 0.2570, s1.loss_cls: 0.1767, s1.acc: 89.3813, s1.loss_bbox: 0.1652, s1.loss_mask: 0.1118, s2.loss_cls: 0.0797, s2.acc: 90.2856, s2.loss_bbox: 0.0806, s2.loss_mask: 0.0488, loss: 1.6713\n",
      "2021-05-20 07:46:44,892 - mmdet - INFO - Epoch [9][150/655]\tlr: 9.568e-05, eta: 1 day, 3:47:12, time: 2.946, data_time: 0.043, memory: 20668, loss_rpn_cls: 0.0334, loss_rpn_bbox: 0.0213, loss_semantic_seg: 0.1265, s0.loss_cls: 0.4007, s0.acc: 88.0566, s0.loss_bbox: 0.1986, s0.loss_mask: 0.2567, s1.loss_cls: 0.1922, s1.acc: 88.4864, s1.loss_bbox: 0.1688, s1.loss_mask: 0.1131, s2.loss_cls: 0.0888, s2.acc: 89.5709, s2.loss_bbox: 0.0904, s2.loss_mask: 0.0504, loss: 1.7410\n",
      "2021-05-20 07:49:14,013 - mmdet - INFO - Epoch [9][200/655]\tlr: 9.568e-05, eta: 1 day, 3:44:55, time: 2.982, data_time: 0.042, memory: 20668, loss_rpn_cls: 0.0322, loss_rpn_bbox: 0.0229, loss_semantic_seg: 0.1259, s0.loss_cls: 0.3561, s0.acc: 88.9521, s0.loss_bbox: 0.1883, s0.loss_mask: 0.2624, s1.loss_cls: 0.1672, s1.acc: 89.7376, s1.loss_bbox: 0.1608, s1.loss_mask: 0.1148, s2.loss_cls: 0.0780, s2.acc: 90.3567, s2.loss_bbox: 0.0848, s2.loss_mask: 0.0507, loss: 1.6442\n",
      "2021-05-20 07:51:46,047 - mmdet - INFO - Epoch [9][250/655]\tlr: 9.568e-05, eta: 1 day, 3:42:55, time: 3.041, data_time: 0.048, memory: 20668, loss_rpn_cls: 0.0313, loss_rpn_bbox: 0.0257, loss_semantic_seg: 0.1266, s0.loss_cls: 0.3656, s0.acc: 88.6396, s0.loss_bbox: 0.1931, s0.loss_mask: 0.2487, s1.loss_cls: 0.1686, s1.acc: 89.6111, s1.loss_bbox: 0.1615, s1.loss_mask: 0.1105, s2.loss_cls: 0.0783, s2.acc: 90.0682, s2.loss_bbox: 0.0855, s2.loss_mask: 0.0489, loss: 1.6443\n",
      "2021-05-20 07:54:15,164 - mmdet - INFO - Epoch [9][300/655]\tlr: 9.568e-05, eta: 1 day, 3:40:37, time: 2.982, data_time: 0.047, memory: 20668, loss_rpn_cls: 0.0335, loss_rpn_bbox: 0.0225, loss_semantic_seg: 0.1085, s0.loss_cls: 0.3412, s0.acc: 89.4307, s0.loss_bbox: 0.1762, s0.loss_mask: 0.2452, s1.loss_cls: 0.1599, s1.acc: 90.0757, s1.loss_bbox: 0.1527, s1.loss_mask: 0.1086, s2.loss_cls: 0.0747, s2.acc: 90.7553, s2.loss_bbox: 0.0846, s2.loss_mask: 0.0483, loss: 1.5560\n",
      "2021-05-20 07:56:43,755 - mmdet - INFO - Epoch [9][350/655]\tlr: 9.568e-05, eta: 1 day, 3:38:16, time: 2.972, data_time: 0.051, memory: 20668, loss_rpn_cls: 0.0302, loss_rpn_bbox: 0.0250, loss_semantic_seg: 0.1345, s0.loss_cls: 0.3878, s0.acc: 88.0156, s0.loss_bbox: 0.1845, s0.loss_mask: 0.2492, s1.loss_cls: 0.1871, s1.acc: 88.5381, s1.loss_bbox: 0.1577, s1.loss_mask: 0.1091, s2.loss_cls: 0.0890, s2.acc: 89.0746, s2.loss_bbox: 0.0834, s2.loss_mask: 0.0475, loss: 1.6850\n",
      "2021-05-20 07:59:17,137 - mmdet - INFO - Epoch [9][400/655]\tlr: 9.568e-05, eta: 1 day, 3:36:23, time: 3.068, data_time: 0.054, memory: 20668, loss_rpn_cls: 0.0354, loss_rpn_bbox: 0.0264, loss_semantic_seg: 0.1362, s0.loss_cls: 0.3848, s0.acc: 87.9814, s0.loss_bbox: 0.1982, s0.loss_mask: 0.2641, s1.loss_cls: 0.1841, s1.acc: 88.4813, s1.loss_bbox: 0.1715, s1.loss_mask: 0.1169, s2.loss_cls: 0.0845, s2.acc: 89.2762, s2.loss_bbox: 0.0884, s2.loss_mask: 0.0518, loss: 1.7421\n",
      "2021-05-20 08:01:47,551 - mmdet - INFO - Epoch [9][450/655]\tlr: 9.568e-05, eta: 1 day, 3:34:12, time: 3.008, data_time: 0.061, memory: 20668, loss_rpn_cls: 0.0506, loss_rpn_bbox: 0.0276, loss_semantic_seg: 0.1271, s0.loss_cls: 0.4047, s0.acc: 87.5156, s0.loss_bbox: 0.2030, s0.loss_mask: 0.2660, s1.loss_cls: 0.1934, s1.acc: 87.8627, s1.loss_bbox: 0.1695, s1.loss_mask: 0.1153, s2.loss_cls: 0.0889, s2.acc: 88.8983, s2.loss_bbox: 0.0883, s2.loss_mask: 0.0505, loss: 1.7850\n",
      "2021-05-20 08:04:16,245 - mmdet - INFO - Epoch [9][500/655]\tlr: 9.568e-05, eta: 1 day, 3:31:50, time: 2.974, data_time: 0.050, memory: 20668, loss_rpn_cls: 0.0363, loss_rpn_bbox: 0.0254, loss_semantic_seg: 0.1211, s0.loss_cls: 0.4033, s0.acc: 87.6768, s0.loss_bbox: 0.2000, s0.loss_mask: 0.2521, s1.loss_cls: 0.1893, s1.acc: 88.3353, s1.loss_bbox: 0.1637, s1.loss_mask: 0.1130, s2.loss_cls: 0.0884, s2.acc: 89.1723, s2.loss_bbox: 0.0861, s2.loss_mask: 0.0508, loss: 1.7293\n",
      "2021-05-20 08:06:44,672 - mmdet - INFO - Epoch [9][550/655]\tlr: 9.568e-05, eta: 1 day, 3:29:27, time: 2.969, data_time: 0.048, memory: 20668, loss_rpn_cls: 0.0331, loss_rpn_bbox: 0.0255, loss_semantic_seg: 0.1250, s0.loss_cls: 0.3842, s0.acc: 88.1846, s0.loss_bbox: 0.1975, s0.loss_mask: 0.2546, s1.loss_cls: 0.1793, s1.acc: 88.8955, s1.loss_bbox: 0.1730, s1.loss_mask: 0.1122, s2.loss_cls: 0.0817, s2.acc: 89.8574, s2.loss_bbox: 0.0910, s2.loss_mask: 0.0484, loss: 1.7054\n",
      "2021-05-20 08:09:16,902 - mmdet - INFO - Epoch [9][600/655]\tlr: 9.568e-05, eta: 1 day, 3:27:25, time: 3.045, data_time: 0.052, memory: 20668, loss_rpn_cls: 0.0396, loss_rpn_bbox: 0.0231, loss_semantic_seg: 0.1242, s0.loss_cls: 0.3949, s0.acc: 87.8633, s0.loss_bbox: 0.2024, s0.loss_mask: 0.2808, s1.loss_cls: 0.1887, s1.acc: 88.6049, s1.loss_bbox: 0.1767, s1.loss_mask: 0.1248, s2.loss_cls: 0.0855, s2.acc: 89.6858, s2.loss_bbox: 0.0868, s2.loss_mask: 0.0557, loss: 1.7833\n",
      "2021-05-20 08:11:40,073 - mmdet - INFO - Epoch [9][650/655]\tlr: 9.568e-05, eta: 1 day, 3:24:32, time: 2.863, data_time: 0.045, memory: 20668, loss_rpn_cls: 0.0253, loss_rpn_bbox: 0.0227, loss_semantic_seg: 0.1360, s0.loss_cls: 0.3565, s0.acc: 89.0762, s0.loss_bbox: 0.1830, s0.loss_mask: 0.2484, s1.loss_cls: 0.1656, s1.acc: 89.7613, s1.loss_bbox: 0.1509, s1.loss_mask: 0.1084, s2.loss_cls: 0.0786, s2.acc: 90.1079, s2.loss_bbox: 0.0784, s2.loss_mask: 0.0482, loss: 1.6019\n",
      "2021-05-20 08:11:55,036 - mmdet - INFO - Saving checkpoint at 9 epochs\n"
     ]
    },
    {
     "name": "stdout",
     "output_type": "stream",
     "text": [
      "[>>>>>>>>>>>>>>>>>>>>>>>>>>>>>] 655/655, 3.1 task/s, elapsed: 214s, ETA:     0s"
     ]
    },
    {
     "name": "stderr",
     "output_type": "stream",
     "text": [
      "2021-05-20 08:15:35,684 - mmdet - INFO - Evaluating bbox...\n"
     ]
    },
    {
     "name": "stdout",
     "output_type": "stream",
     "text": [
      "Loading and preparing results...\n",
      "DONE (t=1.28s)\n",
      "creating index...\n",
      "index created!\n",
      "Running per image evaluation...\n",
      "Evaluate annotation type *bbox*\n",
      "DONE (t=8.42s).\n",
      "Accumulating evaluation results...\n"
     ]
    },
    {
     "name": "stderr",
     "output_type": "stream",
     "text": [
      "2021-05-20 08:15:47,456 - mmdet - INFO - Epoch(val) [9][655]\tbbox_mAP: 0.2190, bbox_mAP_50: 0.3530, bbox_mAP_75: 0.2250, bbox_mAP_s: 0.0650, bbox_mAP_m: 0.1970, bbox_mAP_l: 0.4300, bbox_mAP_copypaste: 0.219 0.353 0.225 0.065 0.197 0.430\n"
     ]
    },
    {
     "name": "stdout",
     "output_type": "stream",
     "text": [
      "DONE (t=1.89s).\n",
      "Average Precision  (AP) @[ IoU=0.50:0.95 | area=   all | maxDets=100 ] = 0.219\n",
      "Average Precision  (AP) @[ IoU=0.50      | area=   all | maxDets=1000 ] = 0.353\n",
      "Average Precision  (AP) @[ IoU=0.75      | area=   all | maxDets=1000 ] = 0.225\n",
      "Average Precision  (AP) @[ IoU=0.50:0.95 | area= small | maxDets=1000 ] = 0.065\n",
      "Average Precision  (AP) @[ IoU=0.50:0.95 | area=medium | maxDets=1000 ] = 0.197\n",
      "Average Precision  (AP) @[ IoU=0.50:0.95 | area= large | maxDets=1000 ] = 0.430\n",
      "Average Recall     (AR) @[ IoU=0.50:0.95 | area=   all | maxDets=100 ] = 0.419\n",
      "Average Recall     (AR) @[ IoU=0.50:0.95 | area=   all | maxDets=300 ] = 0.419\n",
      "Average Recall     (AR) @[ IoU=0.50:0.95 | area=   all | maxDets=1000 ] = 0.419\n",
      "Average Recall     (AR) @[ IoU=0.50:0.95 | area= small | maxDets=1000 ] = 0.176\n",
      "Average Recall     (AR) @[ IoU=0.50:0.95 | area=medium | maxDets=1000 ] = 0.406\n",
      "Average Recall     (AR) @[ IoU=0.50:0.95 | area= large | maxDets=1000 ] = 0.647\n"
     ]
    },
    {
     "name": "stderr",
     "output_type": "stream",
     "text": [
      "2021-05-20 08:18:24,608 - mmdet - INFO - Epoch [10][50/655]\tlr: 9.455e-05, eta: 1 day, 3:21:20, time: 3.143, data_time: 0.167, memory: 20668, loss_rpn_cls: 0.0352, loss_rpn_bbox: 0.0269, loss_semantic_seg: 0.1349, s0.loss_cls: 0.3817, s0.acc: 88.3926, s0.loss_bbox: 0.2001, s0.loss_mask: 0.2698, s1.loss_cls: 0.1782, s1.acc: 89.4099, s1.loss_bbox: 0.1602, s1.loss_mask: 0.1196, s2.loss_cls: 0.0818, s2.acc: 90.2509, s2.loss_bbox: 0.0826, s2.loss_mask: 0.0531, loss: 1.7239\n",
      "2021-05-20 08:20:50,264 - mmdet - INFO - Epoch [10][100/655]\tlr: 9.455e-05, eta: 1 day, 3:18:41, time: 2.913, data_time: 0.048, memory: 20668, loss_rpn_cls: 0.0324, loss_rpn_bbox: 0.0216, loss_semantic_seg: 0.1295, s0.loss_cls: 0.3709, s0.acc: 88.1348, s0.loss_bbox: 0.1998, s0.loss_mask: 0.2445, s1.loss_cls: 0.1713, s1.acc: 89.0684, s1.loss_bbox: 0.1646, s1.loss_mask: 0.1070, s2.loss_cls: 0.0787, s2.acc: 90.1251, s2.loss_bbox: 0.0854, s2.loss_mask: 0.0480, loss: 1.6536\n",
      "2021-05-20 08:23:21,216 - mmdet - INFO - Epoch [10][150/655]\tlr: 9.455e-05, eta: 1 day, 3:16:32, time: 3.019, data_time: 0.045, memory: 20668, loss_rpn_cls: 0.0333, loss_rpn_bbox: 0.0239, loss_semantic_seg: 0.1304, s0.loss_cls: 0.3601, s0.acc: 88.8398, s0.loss_bbox: 0.1905, s0.loss_mask: 0.2514, s1.loss_cls: 0.1671, s1.acc: 89.6390, s1.loss_bbox: 0.1655, s1.loss_mask: 0.1089, s2.loss_cls: 0.0763, s2.acc: 90.5241, s2.loss_bbox: 0.0849, s2.loss_mask: 0.0488, loss: 1.6411\n",
      "2021-05-20 08:25:51,832 - mmdet - INFO - Epoch [10][200/655]\tlr: 9.455e-05, eta: 1 day, 3:14:21, time: 3.012, data_time: 0.056, memory: 20668, loss_rpn_cls: 0.0334, loss_rpn_bbox: 0.0239, loss_semantic_seg: 0.1271, s0.loss_cls: 0.3692, s0.acc: 88.3555, s0.loss_bbox: 0.2002, s0.loss_mask: 0.2566, s1.loss_cls: 0.1742, s1.acc: 89.0552, s1.loss_bbox: 0.1707, s1.loss_mask: 0.1113, s2.loss_cls: 0.0815, s2.acc: 89.8716, s2.loss_bbox: 0.0872, s2.loss_mask: 0.0499, loss: 1.6851\n",
      "2021-05-20 08:28:16,895 - mmdet - INFO - Epoch [10][250/655]\tlr: 9.455e-05, eta: 1 day, 3:11:39, time: 2.901, data_time: 0.046, memory: 20668, loss_rpn_cls: 0.0300, loss_rpn_bbox: 0.0203, loss_semantic_seg: 0.1209, s0.loss_cls: 0.3631, s0.acc: 89.0498, s0.loss_bbox: 0.1841, s0.loss_mask: 0.2594, s1.loss_cls: 0.1722, s1.acc: 89.7650, s1.loss_bbox: 0.1580, s1.loss_mask: 0.1164, s2.loss_cls: 0.0790, s2.acc: 90.1873, s2.loss_bbox: 0.0814, s2.loss_mask: 0.0536, loss: 1.6383\n",
      "2021-05-20 08:30:47,678 - mmdet - INFO - Epoch [10][300/655]\tlr: 9.455e-05, eta: 1 day, 3:09:28, time: 3.016, data_time: 0.051, memory: 20668, loss_rpn_cls: 0.0356, loss_rpn_bbox: 0.0235, loss_semantic_seg: 0.1272, s0.loss_cls: 0.3837, s0.acc: 88.3271, s0.loss_bbox: 0.1854, s0.loss_mask: 0.2388, s1.loss_cls: 0.1788, s1.acc: 89.0528, s1.loss_bbox: 0.1576, s1.loss_mask: 0.1051, s2.loss_cls: 0.0841, s2.acc: 89.6684, s2.loss_bbox: 0.0830, s2.loss_mask: 0.0462, loss: 1.6492\n",
      "2021-05-20 08:33:14,888 - mmdet - INFO - Epoch [10][350/655]\tlr: 9.455e-05, eta: 1 day, 3:06:58, time: 2.944, data_time: 0.055, memory: 20669, loss_rpn_cls: 0.0349, loss_rpn_bbox: 0.0254, loss_semantic_seg: 0.1174, s0.loss_cls: 0.3846, s0.acc: 88.3096, s0.loss_bbox: 0.1973, s0.loss_mask: 0.2604, s1.loss_cls: 0.1774, s1.acc: 89.1241, s1.loss_bbox: 0.1694, s1.loss_mask: 0.1149, s2.loss_cls: 0.0823, s2.acc: 89.8415, s2.loss_bbox: 0.0893, s2.loss_mask: 0.0498, loss: 1.7032\n",
      "2021-05-20 08:35:42,399 - mmdet - INFO - Epoch [10][400/655]\tlr: 9.455e-05, eta: 1 day, 3:04:30, time: 2.950, data_time: 0.044, memory: 20669, loss_rpn_cls: 0.0331, loss_rpn_bbox: 0.0220, loss_semantic_seg: 0.1198, s0.loss_cls: 0.3775, s0.acc: 88.3379, s0.loss_bbox: 0.1947, s0.loss_mask: 0.2597, s1.loss_cls: 0.1754, s1.acc: 89.0938, s1.loss_bbox: 0.1690, s1.loss_mask: 0.1162, s2.loss_cls: 0.0800, s2.acc: 90.3180, s2.loss_bbox: 0.0886, s2.loss_mask: 0.0507, loss: 1.6868\n",
      "2021-05-20 08:38:14,028 - mmdet - INFO - Epoch [10][450/655]\tlr: 9.455e-05, eta: 1 day, 3:02:22, time: 3.033, data_time: 0.047, memory: 20669, loss_rpn_cls: 0.0399, loss_rpn_bbox: 0.0260, loss_semantic_seg: 0.1247, s0.loss_cls: 0.3927, s0.acc: 87.7334, s0.loss_bbox: 0.1973, s0.loss_mask: 0.2532, s1.loss_cls: 0.1876, s1.acc: 88.2795, s1.loss_bbox: 0.1744, s1.loss_mask: 0.1101, s2.loss_cls: 0.0868, s2.acc: 89.0156, s2.loss_bbox: 0.0917, s2.loss_mask: 0.0493, loss: 1.7338\n",
      "2021-05-20 08:40:43,783 - mmdet - INFO - Epoch [10][500/655]\tlr: 9.455e-05, eta: 1 day, 3:00:05, time: 2.995, data_time: 0.054, memory: 20669, loss_rpn_cls: 0.0418, loss_rpn_bbox: 0.0249, loss_semantic_seg: 0.1248, s0.loss_cls: 0.4221, s0.acc: 87.0859, s0.loss_bbox: 0.2047, s0.loss_mask: 0.2616, s1.loss_cls: 0.2024, s1.acc: 87.6082, s1.loss_bbox: 0.1743, s1.loss_mask: 0.1142, s2.loss_cls: 0.0952, s2.acc: 88.5850, s2.loss_bbox: 0.0884, s2.loss_mask: 0.0499, loss: 1.8045\n",
      "2021-05-20 08:43:12,857 - mmdet - INFO - Epoch [10][550/655]\tlr: 9.455e-05, eta: 1 day, 2:57:45, time: 2.981, data_time: 0.051, memory: 20669, loss_rpn_cls: 0.0301, loss_rpn_bbox: 0.0246, loss_semantic_seg: 0.1161, s0.loss_cls: 0.3553, s0.acc: 88.7861, s0.loss_bbox: 0.1806, s0.loss_mask: 0.2650, s1.loss_cls: 0.1666, s1.acc: 89.4433, s1.loss_bbox: 0.1535, s1.loss_mask: 0.1182, s2.loss_cls: 0.0792, s2.acc: 89.9930, s2.loss_bbox: 0.0838, s2.loss_mask: 0.0529, loss: 1.6261\n",
      "2021-05-20 08:45:43,806 - mmdet - INFO - Epoch [10][600/655]\tlr: 9.455e-05, eta: 1 day, 2:55:33, time: 3.019, data_time: 0.051, memory: 20669, loss_rpn_cls: 0.0317, loss_rpn_bbox: 0.0214, loss_semantic_seg: 0.1268, s0.loss_cls: 0.3618, s0.acc: 88.8535, s0.loss_bbox: 0.1806, s0.loss_mask: 0.2567, s1.loss_cls: 0.1730, s1.acc: 89.1706, s1.loss_bbox: 0.1548, s1.loss_mask: 0.1125, s2.loss_cls: 0.0819, s2.acc: 89.6320, s2.loss_bbox: 0.0843, s2.loss_mask: 0.0512, loss: 1.6366\n",
      "2021-05-20 08:48:08,917 - mmdet - INFO - Epoch [10][650/655]\tlr: 9.455e-05, eta: 1 day, 2:52:52, time: 2.902, data_time: 0.050, memory: 20669, loss_rpn_cls: 0.0298, loss_rpn_bbox: 0.0220, loss_semantic_seg: 0.1348, s0.loss_cls: 0.3617, s0.acc: 88.7549, s0.loss_bbox: 0.1792, s0.loss_mask: 0.2695, s1.loss_cls: 0.1713, s1.acc: 89.4663, s1.loss_bbox: 0.1555, s1.loss_mask: 0.1182, s2.loss_cls: 0.0801, s2.acc: 90.0249, s2.loss_bbox: 0.0794, s2.loss_mask: 0.0504, loss: 1.6520\n",
      "2021-05-20 08:48:22,771 - mmdet - INFO - Saving checkpoint at 10 epochs\n"
     ]
    },
    {
     "name": "stdout",
     "output_type": "stream",
     "text": [
      "[>>>>>>>>>>>>>>>>>>>>>>>>>>>>>] 655/655, 3.0 task/s, elapsed: 218s, ETA:     0s"
     ]
    },
    {
     "name": "stderr",
     "output_type": "stream",
     "text": [
      "2021-05-20 08:52:07,746 - mmdet - INFO - Evaluating bbox...\n"
     ]
    },
    {
     "name": "stdout",
     "output_type": "stream",
     "text": [
      "Loading and preparing results...\n",
      "DONE (t=1.31s)\n",
      "creating index...\n",
      "index created!\n",
      "Running per image evaluation...\n",
      "Evaluate annotation type *bbox*\n",
      "DONE (t=7.91s).\n",
      "Accumulating evaluation results...\n"
     ]
    },
    {
     "name": "stderr",
     "output_type": "stream",
     "text": [
      "2021-05-20 08:52:18,933 - mmdet - INFO - Now best checkpoint is epoch_10.pth.Best bbox_mAP_50 is 0.3870\n",
      "2021-05-20 08:52:18,976 - mmdet - INFO - Epoch(val) [10][655]\tbbox_mAP: 0.2410, bbox_mAP_50: 0.3870, bbox_mAP_75: 0.2340, bbox_mAP_s: 0.0670, bbox_mAP_m: 0.2300, bbox_mAP_l: 0.4210, bbox_mAP_copypaste: 0.241 0.387 0.234 0.067 0.230 0.421\n"
     ]
    },
    {
     "name": "stdout",
     "output_type": "stream",
     "text": [
      "DONE (t=1.82s).\n",
      "Average Precision  (AP) @[ IoU=0.50:0.95 | area=   all | maxDets=100 ] = 0.241\n",
      "Average Precision  (AP) @[ IoU=0.50      | area=   all | maxDets=1000 ] = 0.387\n",
      "Average Precision  (AP) @[ IoU=0.75      | area=   all | maxDets=1000 ] = 0.234\n",
      "Average Precision  (AP) @[ IoU=0.50:0.95 | area= small | maxDets=1000 ] = 0.067\n",
      "Average Precision  (AP) @[ IoU=0.50:0.95 | area=medium | maxDets=1000 ] = 0.230\n",
      "Average Precision  (AP) @[ IoU=0.50:0.95 | area= large | maxDets=1000 ] = 0.421\n",
      "Average Recall     (AR) @[ IoU=0.50:0.95 | area=   all | maxDets=100 ] = 0.418\n",
      "Average Recall     (AR) @[ IoU=0.50:0.95 | area=   all | maxDets=300 ] = 0.418\n",
      "Average Recall     (AR) @[ IoU=0.50:0.95 | area=   all | maxDets=1000 ] = 0.418\n",
      "Average Recall     (AR) @[ IoU=0.50:0.95 | area= small | maxDets=1000 ] = 0.162\n",
      "Average Recall     (AR) @[ IoU=0.50:0.95 | area=medium | maxDets=1000 ] = 0.404\n",
      "Average Recall     (AR) @[ IoU=0.50:0.95 | area= large | maxDets=1000 ] = 0.669\n"
     ]
    },
    {
     "name": "stderr",
     "output_type": "stream",
     "text": [
      "2021-05-20 08:54:55,531 - mmdet - INFO - Epoch [11][50/655]\tlr: 9.330e-05, eta: 1 day, 2:49:40, time: 3.131, data_time: 0.132, memory: 20669, loss_rpn_cls: 0.0340, loss_rpn_bbox: 0.0277, loss_semantic_seg: 0.1299, s0.loss_cls: 0.3959, s0.acc: 87.4844, s0.loss_bbox: 0.2172, s0.loss_mask: 0.2766, s1.loss_cls: 0.1823, s1.acc: 88.4646, s1.loss_bbox: 0.1763, s1.loss_mask: 0.1213, s2.loss_cls: 0.0841, s2.acc: 89.1294, s2.loss_bbox: 0.0895, s2.loss_mask: 0.0547, loss: 1.7894\n",
      "2021-05-20 08:57:22,751 - mmdet - INFO - Epoch [11][100/655]\tlr: 9.330e-05, eta: 1 day, 2:47:10, time: 2.944, data_time: 0.048, memory: 20669, loss_rpn_cls: 0.0372, loss_rpn_bbox: 0.0246, loss_semantic_seg: 0.1168, s0.loss_cls: 0.3575, s0.acc: 88.8623, s0.loss_bbox: 0.1837, s0.loss_mask: 0.2724, s1.loss_cls: 0.1669, s1.acc: 89.6333, s1.loss_bbox: 0.1608, s1.loss_mask: 0.1211, s2.loss_cls: 0.0784, s2.acc: 90.2742, s2.loss_bbox: 0.0841, s2.loss_mask: 0.0532, loss: 1.6567\n",
      "2021-05-20 08:59:46,802 - mmdet - INFO - Epoch [11][150/655]\tlr: 9.330e-05, eta: 1 day, 2:44:25, time: 2.881, data_time: 0.048, memory: 20669, loss_rpn_cls: 0.0312, loss_rpn_bbox: 0.0215, loss_semantic_seg: 0.1282, s0.loss_cls: 0.3455, s0.acc: 89.3955, s0.loss_bbox: 0.1753, s0.loss_mask: 0.2474, s1.loss_cls: 0.1610, s1.acc: 90.1623, s1.loss_bbox: 0.1505, s1.loss_mask: 0.1080, s2.loss_cls: 0.0773, s2.acc: 90.5230, s2.loss_bbox: 0.0804, s2.loss_mask: 0.0456, loss: 1.5719\n",
      "2021-05-20 09:02:16,618 - mmdet - INFO - Epoch [11][200/655]\tlr: 9.330e-05, eta: 1 day, 2:42:08, time: 2.996, data_time: 0.049, memory: 20669, loss_rpn_cls: 0.0314, loss_rpn_bbox: 0.0249, loss_semantic_seg: 0.1258, s0.loss_cls: 0.3472, s0.acc: 88.9980, s0.loss_bbox: 0.1852, s0.loss_mask: 0.2385, s1.loss_cls: 0.1621, s1.acc: 89.6701, s1.loss_bbox: 0.1544, s1.loss_mask: 0.1020, s2.loss_cls: 0.0754, s2.acc: 90.3095, s2.loss_bbox: 0.0814, s2.loss_mask: 0.0452, loss: 1.5735\n",
      "2021-05-20 09:04:46,960 - mmdet - INFO - Epoch [11][250/655]\tlr: 9.330e-05, eta: 1 day, 2:39:53, time: 3.007, data_time: 0.045, memory: 20669, loss_rpn_cls: 0.0295, loss_rpn_bbox: 0.0219, loss_semantic_seg: 0.1275, s0.loss_cls: 0.3881, s0.acc: 88.0605, s0.loss_bbox: 0.1914, s0.loss_mask: 0.2610, s1.loss_cls: 0.1804, s1.acc: 88.9951, s1.loss_bbox: 0.1671, s1.loss_mask: 0.1138, s2.loss_cls: 0.0854, s2.acc: 89.1587, s2.loss_bbox: 0.0888, s2.loss_mask: 0.0511, loss: 1.7061\n",
      "2021-05-20 09:07:17,308 - mmdet - INFO - Epoch [11][300/655]\tlr: 9.330e-05, eta: 1 day, 2:37:38, time: 3.007, data_time: 0.051, memory: 20669, loss_rpn_cls: 0.0374, loss_rpn_bbox: 0.0293, loss_semantic_seg: 0.1334, s0.loss_cls: 0.4129, s0.acc: 87.2969, s0.loss_bbox: 0.2091, s0.loss_mask: 0.2736, s1.loss_cls: 0.1923, s1.acc: 88.2352, s1.loss_bbox: 0.1770, s1.loss_mask: 0.1186, s2.loss_cls: 0.0877, s2.acc: 89.3426, s2.loss_bbox: 0.0922, s2.loss_mask: 0.0524, loss: 1.8160\n",
      "2021-05-20 09:09:46,898 - mmdet - INFO - Epoch [11][350/655]\tlr: 9.330e-05, eta: 1 day, 2:35:19, time: 2.992, data_time: 0.053, memory: 20669, loss_rpn_cls: 0.0398, loss_rpn_bbox: 0.0236, loss_semantic_seg: 0.1304, s0.loss_cls: 0.3834, s0.acc: 88.0156, s0.loss_bbox: 0.2009, s0.loss_mask: 0.2638, s1.loss_cls: 0.1804, s1.acc: 88.6994, s1.loss_bbox: 0.1674, s1.loss_mask: 0.1148, s2.loss_cls: 0.0834, s2.acc: 89.7527, s2.loss_bbox: 0.0878, s2.loss_mask: 0.0505, loss: 1.7262\n",
      "2021-05-20 09:12:14,668 - mmdet - INFO - Epoch [11][400/655]\tlr: 9.330e-05, eta: 1 day, 2:32:52, time: 2.955, data_time: 0.057, memory: 20669, loss_rpn_cls: 0.0400, loss_rpn_bbox: 0.0262, loss_semantic_seg: 0.1321, s0.loss_cls: 0.3881, s0.acc: 87.8320, s0.loss_bbox: 0.1970, s0.loss_mask: 0.2721, s1.loss_cls: 0.1822, s1.acc: 88.6424, s1.loss_bbox: 0.1727, s1.loss_mask: 0.1222, s2.loss_cls: 0.0830, s2.acc: 89.5067, s2.loss_bbox: 0.0880, s2.loss_mask: 0.0542, loss: 1.7578\n",
      "2021-05-20 09:14:42,646 - mmdet - INFO - Epoch [11][450/655]\tlr: 9.330e-05, eta: 1 day, 2:30:25, time: 2.960, data_time: 0.044, memory: 20669, loss_rpn_cls: 0.0309, loss_rpn_bbox: 0.0234, loss_semantic_seg: 0.1156, s0.loss_cls: 0.3496, s0.acc: 89.2725, s0.loss_bbox: 0.1839, s0.loss_mask: 0.2610, s1.loss_cls: 0.1619, s1.acc: 90.1557, s1.loss_bbox: 0.1564, s1.loss_mask: 0.1111, s2.loss_cls: 0.0737, s2.acc: 91.0645, s2.loss_bbox: 0.0822, s2.loss_mask: 0.0483, loss: 1.5981\n",
      "2021-05-20 09:17:12,991 - mmdet - INFO - Epoch [11][500/655]\tlr: 9.330e-05, eta: 1 day, 2:28:09, time: 3.007, data_time: 0.043, memory: 20669, loss_rpn_cls: 0.0255, loss_rpn_bbox: 0.0190, loss_semantic_seg: 0.1163, s0.loss_cls: 0.3150, s0.acc: 90.2363, s0.loss_bbox: 0.1505, s0.loss_mask: 0.2393, s1.loss_cls: 0.1503, s1.acc: 90.5237, s1.loss_bbox: 0.1347, s1.loss_mask: 0.1047, s2.loss_cls: 0.0712, s2.acc: 90.7532, s2.loss_bbox: 0.0754, s2.loss_mask: 0.0463, loss: 1.4481\n",
      "2021-05-20 09:19:40,416 - mmdet - INFO - Epoch [11][550/655]\tlr: 9.330e-05, eta: 1 day, 2:25:40, time: 2.948, data_time: 0.043, memory: 20669, loss_rpn_cls: 0.0308, loss_rpn_bbox: 0.0204, loss_semantic_seg: 0.1208, s0.loss_cls: 0.3735, s0.acc: 88.7002, s0.loss_bbox: 0.1740, s0.loss_mask: 0.2646, s1.loss_cls: 0.1783, s1.acc: 89.1580, s1.loss_bbox: 0.1554, s1.loss_mask: 0.1184, s2.loss_cls: 0.0858, s2.acc: 89.2751, s2.loss_bbox: 0.0847, s2.loss_mask: 0.0519, loss: 1.6585\n",
      "2021-05-20 09:22:09,931 - mmdet - INFO - Epoch [11][600/655]\tlr: 9.330e-05, eta: 1 day, 2:23:21, time: 2.990, data_time: 0.053, memory: 20669, loss_rpn_cls: 0.0368, loss_rpn_bbox: 0.0250, loss_semantic_seg: 0.1175, s0.loss_cls: 0.3629, s0.acc: 88.5781, s0.loss_bbox: 0.1880, s0.loss_mask: 0.2730, s1.loss_cls: 0.1716, s1.acc: 89.2224, s1.loss_bbox: 0.1636, s1.loss_mask: 0.1195, s2.loss_cls: 0.0806, s2.acc: 90.0173, s2.loss_bbox: 0.0879, s2.loss_mask: 0.0538, loss: 1.6800\n",
      "2021-05-20 09:24:39,816 - mmdet - INFO - Epoch [11][650/655]\tlr: 9.330e-05, eta: 1 day, 2:21:02, time: 2.998, data_time: 0.053, memory: 20669, loss_rpn_cls: 0.0377, loss_rpn_bbox: 0.0242, loss_semantic_seg: 0.1336, s0.loss_cls: 0.3489, s0.acc: 89.2900, s0.loss_bbox: 0.1761, s0.loss_mask: 0.2589, s1.loss_cls: 0.1614, s1.acc: 90.0106, s1.loss_bbox: 0.1499, s1.loss_mask: 0.1184, s2.loss_cls: 0.0762, s2.acc: 90.3571, s2.loss_bbox: 0.0791, s2.loss_mask: 0.0540, loss: 1.6185\n",
      "2021-05-20 09:24:54,689 - mmdet - INFO - Saving checkpoint at 11 epochs\n"
     ]
    },
    {
     "name": "stdout",
     "output_type": "stream",
     "text": [
      "[>>>>>>>>>>>>>>>>>>>>>>>>>>>>>] 655/655, 3.1 task/s, elapsed: 214s, ETA:     0s"
     ]
    },
    {
     "name": "stderr",
     "output_type": "stream",
     "text": [
      "2021-05-20 09:28:34,997 - mmdet - INFO - Evaluating bbox...\n"
     ]
    },
    {
     "name": "stdout",
     "output_type": "stream",
     "text": [
      "Loading and preparing results...\n",
      "DONE (t=0.80s)\n",
      "creating index...\n",
      "index created!\n",
      "Running per image evaluation...\n",
      "Evaluate annotation type *bbox*\n",
      "DONE (t=8.72s).\n",
      "Accumulating evaluation results...\n"
     ]
    },
    {
     "name": "stderr",
     "output_type": "stream",
     "text": [
      "2021-05-20 09:28:46,418 - mmdet - INFO - Now best checkpoint is epoch_11.pth.Best bbox_mAP_50 is 0.3930\n",
      "2021-05-20 09:28:46,459 - mmdet - INFO - Epoch(val) [11][655]\tbbox_mAP: 0.2510, bbox_mAP_50: 0.3930, bbox_mAP_75: 0.2530, bbox_mAP_s: 0.0680, bbox_mAP_m: 0.2280, bbox_mAP_l: 0.4340, bbox_mAP_copypaste: 0.251 0.393 0.253 0.068 0.228 0.434\n"
     ]
    },
    {
     "name": "stdout",
     "output_type": "stream",
     "text": [
      "DONE (t=1.75s).\n",
      "Average Precision  (AP) @[ IoU=0.50:0.95 | area=   all | maxDets=100 ] = 0.251\n",
      "Average Precision  (AP) @[ IoU=0.50      | area=   all | maxDets=1000 ] = 0.393\n",
      "Average Precision  (AP) @[ IoU=0.75      | area=   all | maxDets=1000 ] = 0.253\n",
      "Average Precision  (AP) @[ IoU=0.50:0.95 | area= small | maxDets=1000 ] = 0.068\n",
      "Average Precision  (AP) @[ IoU=0.50:0.95 | area=medium | maxDets=1000 ] = 0.228\n",
      "Average Precision  (AP) @[ IoU=0.50:0.95 | area= large | maxDets=1000 ] = 0.434\n",
      "Average Recall     (AR) @[ IoU=0.50:0.95 | area=   all | maxDets=100 ] = 0.418\n",
      "Average Recall     (AR) @[ IoU=0.50:0.95 | area=   all | maxDets=300 ] = 0.418\n",
      "Average Recall     (AR) @[ IoU=0.50:0.95 | area=   all | maxDets=1000 ] = 0.418\n",
      "Average Recall     (AR) @[ IoU=0.50:0.95 | area= small | maxDets=1000 ] = 0.165\n",
      "Average Recall     (AR) @[ IoU=0.50:0.95 | area=medium | maxDets=1000 ] = 0.393\n",
      "Average Recall     (AR) @[ IoU=0.50:0.95 | area= large | maxDets=1000 ] = 0.663\n"
     ]
    },
    {
     "name": "stderr",
     "output_type": "stream",
     "text": [
      "2021-05-20 09:31:21,557 - mmdet - INFO - Epoch [12][50/655]\tlr: 9.193e-05, eta: 1 day, 2:17:47, time: 3.102, data_time: 0.144, memory: 20669, loss_rpn_cls: 0.0384, loss_rpn_bbox: 0.0241, loss_semantic_seg: 0.1215, s0.loss_cls: 0.3817, s0.acc: 88.1113, s0.loss_bbox: 0.1905, s0.loss_mask: 0.2568, s1.loss_cls: 0.1795, s1.acc: 88.9634, s1.loss_bbox: 0.1623, s1.loss_mask: 0.1145, s2.loss_cls: 0.0827, s2.acc: 89.6630, s2.loss_bbox: 0.0836, s2.loss_mask: 0.0518, loss: 1.6876\n",
      "2021-05-20 09:33:49,690 - mmdet - INFO - Epoch [12][100/655]\tlr: 9.193e-05, eta: 1 day, 2:15:21, time: 2.963, data_time: 0.052, memory: 20669, loss_rpn_cls: 0.0372, loss_rpn_bbox: 0.0266, loss_semantic_seg: 0.1236, s0.loss_cls: 0.3794, s0.acc: 88.1387, s0.loss_bbox: 0.1991, s0.loss_mask: 0.2614, s1.loss_cls: 0.1824, s1.acc: 88.3671, s1.loss_bbox: 0.1731, s1.loss_mask: 0.1133, s2.loss_cls: 0.0875, s2.acc: 88.8763, s2.loss_bbox: 0.0903, s2.loss_mask: 0.0497, loss: 1.7237\n",
      "2021-05-20 09:36:17,508 - mmdet - INFO - Epoch [12][150/655]\tlr: 9.193e-05, eta: 1 day, 2:12:54, time: 2.956, data_time: 0.051, memory: 20669, loss_rpn_cls: 0.0374, loss_rpn_bbox: 0.0218, loss_semantic_seg: 0.1160, s0.loss_cls: 0.3441, s0.acc: 88.9092, s0.loss_bbox: 0.1848, s0.loss_mask: 0.2370, s1.loss_cls: 0.1599, s1.acc: 89.7272, s1.loss_bbox: 0.1581, s1.loss_mask: 0.1028, s2.loss_cls: 0.0740, s2.acc: 90.5710, s2.loss_bbox: 0.0810, s2.loss_mask: 0.0452, loss: 1.5622\n",
      "2021-05-20 09:38:48,355 - mmdet - INFO - Epoch [12][200/655]\tlr: 9.193e-05, eta: 1 day, 2:10:40, time: 3.017, data_time: 0.050, memory: 20669, loss_rpn_cls: 0.0312, loss_rpn_bbox: 0.0220, loss_semantic_seg: 0.1247, s0.loss_cls: 0.3651, s0.acc: 88.6406, s0.loss_bbox: 0.1801, s0.loss_mask: 0.2488, s1.loss_cls: 0.1656, s1.acc: 89.8622, s1.loss_bbox: 0.1560, s1.loss_mask: 0.1117, s2.loss_cls: 0.0778, s2.acc: 90.4144, s2.loss_bbox: 0.0865, s2.loss_mask: 0.0500, loss: 1.6194\n",
      "2021-05-20 09:41:19,864 - mmdet - INFO - Epoch [12][250/655]\tlr: 9.193e-05, eta: 1 day, 2:08:28, time: 3.030, data_time: 0.053, memory: 20669, loss_rpn_cls: 0.0365, loss_rpn_bbox: 0.0242, loss_semantic_seg: 0.1283, s0.loss_cls: 0.3700, s0.acc: 88.4648, s0.loss_bbox: 0.1977, s0.loss_mask: 0.2560, s1.loss_cls: 0.1721, s1.acc: 89.3719, s1.loss_bbox: 0.1652, s1.loss_mask: 0.1111, s2.loss_cls: 0.0796, s2.acc: 90.1892, s2.loss_bbox: 0.0819, s2.loss_mask: 0.0480, loss: 1.6705\n",
      "2021-05-20 09:43:47,552 - mmdet - INFO - Epoch [12][300/655]\tlr: 9.193e-05, eta: 1 day, 2:06:00, time: 2.954, data_time: 0.046, memory: 20669, loss_rpn_cls: 0.0346, loss_rpn_bbox: 0.0238, loss_semantic_seg: 0.1207, s0.loss_cls: 0.3689, s0.acc: 88.3457, s0.loss_bbox: 0.1967, s0.loss_mask: 0.2710, s1.loss_cls: 0.1690, s1.acc: 89.1839, s1.loss_bbox: 0.1720, s1.loss_mask: 0.1213, s2.loss_cls: 0.0781, s2.acc: 89.9935, s2.loss_bbox: 0.0893, s2.loss_mask: 0.0538, loss: 1.6993\n",
      "2021-05-20 09:46:09,412 - mmdet - INFO - Epoch [12][350/655]\tlr: 9.193e-05, eta: 1 day, 2:03:07, time: 2.837, data_time: 0.040, memory: 20669, loss_rpn_cls: 0.0328, loss_rpn_bbox: 0.0224, loss_semantic_seg: 0.1181, s0.loss_cls: 0.3404, s0.acc: 89.4492, s0.loss_bbox: 0.1754, s0.loss_mask: 0.2485, s1.loss_cls: 0.1579, s1.acc: 90.2499, s1.loss_bbox: 0.1532, s1.loss_mask: 0.1125, s2.loss_cls: 0.0737, s2.acc: 90.7043, s2.loss_bbox: 0.0811, s2.loss_mask: 0.0497, loss: 1.5657\n",
      "2021-05-20 09:48:34,624 - mmdet - INFO - Epoch [12][400/655]\tlr: 9.193e-05, eta: 1 day, 2:00:29, time: 2.904, data_time: 0.045, memory: 20669, loss_rpn_cls: 0.0370, loss_rpn_bbox: 0.0244, loss_semantic_seg: 0.1243, s0.loss_cls: 0.3654, s0.acc: 88.5244, s0.loss_bbox: 0.1945, s0.loss_mask: 0.2584, s1.loss_cls: 0.1696, s1.acc: 89.2766, s1.loss_bbox: 0.1662, s1.loss_mask: 0.1132, s2.loss_cls: 0.0784, s2.acc: 89.8504, s2.loss_bbox: 0.0860, s2.loss_mask: 0.0497, loss: 1.6669\n",
      "2021-05-20 09:51:02,333 - mmdet - INFO - Epoch [12][450/655]\tlr: 9.193e-05, eta: 1 day, 1:58:01, time: 2.954, data_time: 0.043, memory: 20669, loss_rpn_cls: 0.0318, loss_rpn_bbox: 0.0221, loss_semantic_seg: 0.1214, s0.loss_cls: 0.3200, s0.acc: 89.8652, s0.loss_bbox: 0.1614, s0.loss_mask: 0.2434, s1.loss_cls: 0.1511, s1.acc: 90.3722, s1.loss_bbox: 0.1423, s1.loss_mask: 0.1098, s2.loss_cls: 0.0709, s2.acc: 90.6224, s2.loss_bbox: 0.0754, s2.loss_mask: 0.0478, loss: 1.4975\n",
      "2021-05-20 09:53:31,132 - mmdet - INFO - Epoch [12][500/655]\tlr: 9.193e-05, eta: 1 day, 1:55:38, time: 2.976, data_time: 0.047, memory: 20669, loss_rpn_cls: 0.0315, loss_rpn_bbox: 0.0230, loss_semantic_seg: 0.1126, s0.loss_cls: 0.3258, s0.acc: 89.4268, s0.loss_bbox: 0.1718, s0.loss_mask: 0.2316, s1.loss_cls: 0.1519, s1.acc: 90.2212, s1.loss_bbox: 0.1471, s1.loss_mask: 0.1017, s2.loss_cls: 0.0704, s2.acc: 90.9352, s2.loss_bbox: 0.0775, s2.loss_mask: 0.0452, loss: 1.4901\n",
      "2021-05-20 09:55:57,442 - mmdet - INFO - Epoch [12][550/655]\tlr: 9.193e-05, eta: 1 day, 1:53:05, time: 2.926, data_time: 0.045, memory: 20669, loss_rpn_cls: 0.0315, loss_rpn_bbox: 0.0248, loss_semantic_seg: 0.1140, s0.loss_cls: 0.3557, s0.acc: 88.8555, s0.loss_bbox: 0.1868, s0.loss_mask: 0.2677, s1.loss_cls: 0.1669, s1.acc: 89.5989, s1.loss_bbox: 0.1557, s1.loss_mask: 0.1175, s2.loss_cls: 0.0780, s2.acc: 90.3403, s2.loss_bbox: 0.0805, s2.loss_mask: 0.0521, loss: 1.6313\n",
      "2021-05-20 09:58:23,353 - mmdet - INFO - Epoch [12][600/655]\tlr: 9.193e-05, eta: 1 day, 1:50:30, time: 2.918, data_time: 0.048, memory: 20669, loss_rpn_cls: 0.0333, loss_rpn_bbox: 0.0247, loss_semantic_seg: 0.1226, s0.loss_cls: 0.3590, s0.acc: 89.1094, s0.loss_bbox: 0.1829, s0.loss_mask: 0.2581, s1.loss_cls: 0.1624, s1.acc: 90.0288, s1.loss_bbox: 0.1514, s1.loss_mask: 0.1165, s2.loss_cls: 0.0745, s2.acc: 90.6699, s2.loss_bbox: 0.0795, s2.loss_mask: 0.0511, loss: 1.6159\n",
      "2021-05-20 10:00:52,528 - mmdet - INFO - Epoch [12][650/655]\tlr: 9.193e-05, eta: 1 day, 1:48:08, time: 2.983, data_time: 0.051, memory: 20669, loss_rpn_cls: 0.0319, loss_rpn_bbox: 0.0258, loss_semantic_seg: 0.1302, s0.loss_cls: 0.3782, s0.acc: 88.4004, s0.loss_bbox: 0.1970, s0.loss_mask: 0.2637, s1.loss_cls: 0.1757, s1.acc: 89.3312, s1.loss_bbox: 0.1679, s1.loss_mask: 0.1141, s2.loss_cls: 0.0820, s2.acc: 89.7027, s2.loss_bbox: 0.0864, s2.loss_mask: 0.0487, loss: 1.7016\n",
      "2021-05-20 10:01:06,492 - mmdet - INFO - Saving checkpoint at 12 epochs\n"
     ]
    },
    {
     "name": "stdout",
     "output_type": "stream",
     "text": [
      "[>>>>>>>>>>>>>>>>>>>>>>>>>>>>>] 655/655, 3.1 task/s, elapsed: 209s, ETA:     0s"
     ]
    },
    {
     "name": "stderr",
     "output_type": "stream",
     "text": [
      "2021-05-20 10:04:41,387 - mmdet - INFO - Evaluating bbox...\n"
     ]
    },
    {
     "name": "stdout",
     "output_type": "stream",
     "text": [
      "Loading and preparing results...\n",
      "DONE (t=1.35s)\n",
      "creating index...\n",
      "index created!\n",
      "Running per image evaluation...\n",
      "Evaluate annotation type *bbox*\n",
      "DONE (t=7.52s).\n",
      "Accumulating evaluation results...\n"
     ]
    },
    {
     "name": "stderr",
     "output_type": "stream",
     "text": [
      "2021-05-20 10:04:52,076 - mmdet - INFO - Epoch(val) [12][655]\tbbox_mAP: 0.2550, bbox_mAP_50: 0.3830, bbox_mAP_75: 0.2590, bbox_mAP_s: 0.0600, bbox_mAP_m: 0.2360, bbox_mAP_l: 0.4830, bbox_mAP_copypaste: 0.255 0.383 0.259 0.060 0.236 0.483\n"
     ]
    },
    {
     "name": "stdout",
     "output_type": "stream",
     "text": [
      "DONE (t=1.63s).\n",
      "Average Precision  (AP) @[ IoU=0.50:0.95 | area=   all | maxDets=100 ] = 0.255\n",
      "Average Precision  (AP) @[ IoU=0.50      | area=   all | maxDets=1000 ] = 0.383\n",
      "Average Precision  (AP) @[ IoU=0.75      | area=   all | maxDets=1000 ] = 0.259\n",
      "Average Precision  (AP) @[ IoU=0.50:0.95 | area= small | maxDets=1000 ] = 0.060\n",
      "Average Precision  (AP) @[ IoU=0.50:0.95 | area=medium | maxDets=1000 ] = 0.236\n",
      "Average Precision  (AP) @[ IoU=0.50:0.95 | area= large | maxDets=1000 ] = 0.483\n",
      "Average Recall     (AR) @[ IoU=0.50:0.95 | area=   all | maxDets=100 ] = 0.430\n",
      "Average Recall     (AR) @[ IoU=0.50:0.95 | area=   all | maxDets=300 ] = 0.430\n",
      "Average Recall     (AR) @[ IoU=0.50:0.95 | area=   all | maxDets=1000 ] = 0.430\n",
      "Average Recall     (AR) @[ IoU=0.50:0.95 | area= small | maxDets=1000 ] = 0.155\n",
      "Average Recall     (AR) @[ IoU=0.50:0.95 | area=medium | maxDets=1000 ] = 0.421\n",
      "Average Recall     (AR) @[ IoU=0.50:0.95 | area= large | maxDets=1000 ] = 0.690\n"
     ]
    },
    {
     "name": "stderr",
     "output_type": "stream",
     "text": [
      "2021-05-20 10:07:19,929 - mmdet - INFO - Epoch [13][50/655]\tlr: 9.045e-05, eta: 1 day, 1:44:28, time: 2.957, data_time: 0.121, memory: 20669, loss_rpn_cls: 0.0296, loss_rpn_bbox: 0.0207, loss_semantic_seg: 0.1173, s0.loss_cls: 0.3346, s0.acc: 89.5283, s0.loss_bbox: 0.1668, s0.loss_mask: 0.2415, s1.loss_cls: 0.1546, s1.acc: 90.2496, s1.loss_bbox: 0.1461, s1.loss_mask: 0.1060, s2.loss_cls: 0.0722, s2.acc: 90.8823, s2.loss_bbox: 0.0767, s2.loss_mask: 0.0456, loss: 1.5116\n",
      "2021-05-20 10:09:46,025 - mmdet - INFO - Epoch [13][100/655]\tlr: 9.045e-05, eta: 1 day, 1:41:54, time: 2.922, data_time: 0.051, memory: 20669, loss_rpn_cls: 0.0286, loss_rpn_bbox: 0.0251, loss_semantic_seg: 0.1255, s0.loss_cls: 0.3641, s0.acc: 88.6553, s0.loss_bbox: 0.1962, s0.loss_mask: 0.2603, s1.loss_cls: 0.1685, s1.acc: 89.5446, s1.loss_bbox: 0.1678, s1.loss_mask: 0.1148, s2.loss_cls: 0.0754, s2.acc: 90.6156, s2.loss_bbox: 0.0820, s2.loss_mask: 0.0504, loss: 1.6588\n",
      "2021-05-20 10:12:13,142 - mmdet - INFO - Epoch [13][150/655]\tlr: 9.045e-05, eta: 1 day, 1:39:25, time: 2.942, data_time: 0.049, memory: 20669, loss_rpn_cls: 0.0285, loss_rpn_bbox: 0.0224, loss_semantic_seg: 0.1228, s0.loss_cls: 0.3509, s0.acc: 88.9365, s0.loss_bbox: 0.1801, s0.loss_mask: 0.2461, s1.loss_cls: 0.1626, s1.acc: 89.7737, s1.loss_bbox: 0.1561, s1.loss_mask: 0.1083, s2.loss_cls: 0.0770, s2.acc: 90.3272, s2.loss_bbox: 0.0868, s2.loss_mask: 0.0487, loss: 1.5902\n",
      "2021-05-20 10:14:40,329 - mmdet - INFO - Epoch [13][200/655]\tlr: 9.045e-05, eta: 1 day, 1:36:55, time: 2.944, data_time: 0.052, memory: 20669, loss_rpn_cls: 0.0312, loss_rpn_bbox: 0.0226, loss_semantic_seg: 0.1252, s0.loss_cls: 0.3642, s0.acc: 88.4365, s0.loss_bbox: 0.1837, s0.loss_mask: 0.2453, s1.loss_cls: 0.1752, s1.acc: 88.9114, s1.loss_bbox: 0.1576, s1.loss_mask: 0.1080, s2.loss_cls: 0.0827, s2.acc: 89.5062, s2.loss_bbox: 0.0814, s2.loss_mask: 0.0482, loss: 1.6254\n",
      "2021-05-20 10:17:09,295 - mmdet - INFO - Epoch [13][250/655]\tlr: 9.045e-05, eta: 1 day, 1:34:33, time: 2.979, data_time: 0.050, memory: 20669, loss_rpn_cls: 0.0312, loss_rpn_bbox: 0.0247, loss_semantic_seg: 0.1205, s0.loss_cls: 0.3975, s0.acc: 87.7100, s0.loss_bbox: 0.2041, s0.loss_mask: 0.2670, s1.loss_cls: 0.1822, s1.acc: 88.4623, s1.loss_bbox: 0.1729, s1.loss_mask: 0.1168, s2.loss_cls: 0.0831, s2.acc: 89.4152, s2.loss_bbox: 0.0903, s2.loss_mask: 0.0504, loss: 1.7406\n",
      "2021-05-20 10:19:36,342 - mmdet - INFO - Epoch [13][300/655]\tlr: 9.045e-05, eta: 1 day, 1:32:03, time: 2.941, data_time: 0.051, memory: 20669, loss_rpn_cls: 0.0339, loss_rpn_bbox: 0.0220, loss_semantic_seg: 0.1171, s0.loss_cls: 0.3523, s0.acc: 88.7988, s0.loss_bbox: 0.1758, s0.loss_mask: 0.2508, s1.loss_cls: 0.1638, s1.acc: 89.6263, s1.loss_bbox: 0.1545, s1.loss_mask: 0.1096, s2.loss_cls: 0.0770, s2.acc: 90.3242, s2.loss_bbox: 0.0855, s2.loss_mask: 0.0483, loss: 1.5905\n",
      "2021-05-20 10:21:56,164 - mmdet - INFO - Epoch [13][350/655]\tlr: 9.045e-05, eta: 1 day, 1:29:06, time: 2.796, data_time: 0.046, memory: 20669, loss_rpn_cls: 0.0360, loss_rpn_bbox: 0.0233, loss_semantic_seg: 0.1125, s0.loss_cls: 0.3523, s0.acc: 89.1562, s0.loss_bbox: 0.1779, s0.loss_mask: 0.2405, s1.loss_cls: 0.1660, s1.acc: 89.8690, s1.loss_bbox: 0.1512, s1.loss_mask: 0.1038, s2.loss_cls: 0.0779, s2.acc: 90.3548, s2.loss_bbox: 0.0816, s2.loss_mask: 0.0458, loss: 1.5688\n",
      "2021-05-20 10:24:23,964 - mmdet - INFO - Epoch [13][400/655]\tlr: 9.045e-05, eta: 1 day, 1:26:40, time: 2.956, data_time: 0.047, memory: 20669, loss_rpn_cls: 0.0345, loss_rpn_bbox: 0.0237, loss_semantic_seg: 0.1255, s0.loss_cls: 0.3530, s0.acc: 88.9717, s0.loss_bbox: 0.1756, s0.loss_mask: 0.2562, s1.loss_cls: 0.1642, s1.acc: 89.7622, s1.loss_bbox: 0.1564, s1.loss_mask: 0.1122, s2.loss_cls: 0.0775, s2.acc: 90.1833, s2.loss_bbox: 0.0825, s2.loss_mask: 0.0481, loss: 1.6094\n",
      "2021-05-20 10:26:52,772 - mmdet - INFO - Epoch [13][450/655]\tlr: 9.045e-05, eta: 1 day, 1:24:17, time: 2.976, data_time: 0.052, memory: 20669, loss_rpn_cls: 0.0336, loss_rpn_bbox: 0.0239, loss_semantic_seg: 0.1088, s0.loss_cls: 0.3647, s0.acc: 88.7129, s0.loss_bbox: 0.1834, s0.loss_mask: 0.2523, s1.loss_cls: 0.1689, s1.acc: 89.5519, s1.loss_bbox: 0.1612, s1.loss_mask: 0.1126, s2.loss_cls: 0.0784, s2.acc: 90.4225, s2.loss_bbox: 0.0860, s2.loss_mask: 0.0487, loss: 1.6225\n",
      "2021-05-20 10:29:21,191 - mmdet - INFO - Epoch [13][500/655]\tlr: 9.045e-05, eta: 1 day, 1:21:52, time: 2.968, data_time: 0.049, memory: 20669, loss_rpn_cls: 0.0311, loss_rpn_bbox: 0.0253, loss_semantic_seg: 0.1233, s0.loss_cls: 0.3499, s0.acc: 88.8369, s0.loss_bbox: 0.1896, s0.loss_mask: 0.2636, s1.loss_cls: 0.1630, s1.acc: 89.5355, s1.loss_bbox: 0.1625, s1.loss_mask: 0.1155, s2.loss_cls: 0.0767, s2.acc: 89.9199, s2.loss_bbox: 0.0810, s2.loss_mask: 0.0508, loss: 1.6324\n",
      "2021-05-20 10:31:44,884 - mmdet - INFO - Epoch [13][550/655]\tlr: 9.045e-05, eta: 1 day, 1:19:11, time: 2.874, data_time: 0.050, memory: 20669, loss_rpn_cls: 0.0334, loss_rpn_bbox: 0.0251, loss_semantic_seg: 0.1319, s0.loss_cls: 0.3591, s0.acc: 88.7754, s0.loss_bbox: 0.1906, s0.loss_mask: 0.2488, s1.loss_cls: 0.1655, s1.acc: 89.6086, s1.loss_bbox: 0.1634, s1.loss_mask: 0.1095, s2.loss_cls: 0.0753, s2.acc: 90.6355, s2.loss_bbox: 0.0848, s2.loss_mask: 0.0472, loss: 1.6346\n",
      "2021-05-20 10:34:13,021 - mmdet - INFO - Epoch [13][600/655]\tlr: 9.045e-05, eta: 1 day, 1:16:45, time: 2.963, data_time: 0.052, memory: 20669, loss_rpn_cls: 0.0329, loss_rpn_bbox: 0.0204, loss_semantic_seg: 0.1227, s0.loss_cls: 0.3713, s0.acc: 88.7178, s0.loss_bbox: 0.1826, s0.loss_mask: 0.2590, s1.loss_cls: 0.1718, s1.acc: 89.5739, s1.loss_bbox: 0.1527, s1.loss_mask: 0.1147, s2.loss_cls: 0.0798, s2.acc: 89.9645, s2.loss_bbox: 0.0819, s2.loss_mask: 0.0518, loss: 1.6416\n",
      "2021-05-20 10:36:38,432 - mmdet - INFO - Epoch [13][650/655]\tlr: 9.045e-05, eta: 1 day, 1:14:10, time: 2.908, data_time: 0.048, memory: 20669, loss_rpn_cls: 0.0345, loss_rpn_bbox: 0.0218, loss_semantic_seg: 0.1241, s0.loss_cls: 0.3154, s0.acc: 89.9248, s0.loss_bbox: 0.1650, s0.loss_mask: 0.2442, s1.loss_cls: 0.1470, s1.acc: 90.6801, s1.loss_bbox: 0.1474, s1.loss_mask: 0.1083, s2.loss_cls: 0.0686, s2.acc: 91.1685, s2.loss_bbox: 0.0795, s2.loss_mask: 0.0480, loss: 1.5037\n",
      "2021-05-20 10:36:53,234 - mmdet - INFO - Saving checkpoint at 13 epochs\n"
     ]
    },
    {
     "name": "stdout",
     "output_type": "stream",
     "text": [
      "[>>>>>>>>>>>>>>>>>>>>>>>>>>>>>] 655/655, 3.2 task/s, elapsed: 205s, ETA:     0s"
     ]
    },
    {
     "name": "stderr",
     "output_type": "stream",
     "text": [
      "2021-05-20 10:40:24,487 - mmdet - INFO - Evaluating bbox...\n"
     ]
    },
    {
     "name": "stdout",
     "output_type": "stream",
     "text": [
      "Loading and preparing results...\n",
      "DONE (t=0.80s)\n",
      "creating index...\n",
      "index created!\n",
      "Running per image evaluation...\n",
      "Evaluate annotation type *bbox*\n",
      "DONE (t=7.73s).\n",
      "Accumulating evaluation results...\n"
     ]
    },
    {
     "name": "stderr",
     "output_type": "stream",
     "text": [
      "2021-05-20 10:40:34,792 - mmdet - INFO - Epoch(val) [13][655]\tbbox_mAP: 0.2510, bbox_mAP_50: 0.3900, bbox_mAP_75: 0.2580, bbox_mAP_s: 0.0660, bbox_mAP_m: 0.2380, bbox_mAP_l: 0.4530, bbox_mAP_copypaste: 0.251 0.390 0.258 0.066 0.238 0.453\n"
     ]
    },
    {
     "name": "stdout",
     "output_type": "stream",
     "text": [
      "DONE (t=1.60s).\n",
      "Average Precision  (AP) @[ IoU=0.50:0.95 | area=   all | maxDets=100 ] = 0.251\n",
      "Average Precision  (AP) @[ IoU=0.50      | area=   all | maxDets=1000 ] = 0.390\n",
      "Average Precision  (AP) @[ IoU=0.75      | area=   all | maxDets=1000 ] = 0.258\n",
      "Average Precision  (AP) @[ IoU=0.50:0.95 | area= small | maxDets=1000 ] = 0.066\n",
      "Average Precision  (AP) @[ IoU=0.50:0.95 | area=medium | maxDets=1000 ] = 0.238\n",
      "Average Precision  (AP) @[ IoU=0.50:0.95 | area= large | maxDets=1000 ] = 0.453\n",
      "Average Recall     (AR) @[ IoU=0.50:0.95 | area=   all | maxDets=100 ] = 0.427\n",
      "Average Recall     (AR) @[ IoU=0.50:0.95 | area=   all | maxDets=300 ] = 0.427\n",
      "Average Recall     (AR) @[ IoU=0.50:0.95 | area=   all | maxDets=1000 ] = 0.427\n",
      "Average Recall     (AR) @[ IoU=0.50:0.95 | area= small | maxDets=1000 ] = 0.169\n",
      "Average Recall     (AR) @[ IoU=0.50:0.95 | area=medium | maxDets=1000 ] = 0.408\n",
      "Average Recall     (AR) @[ IoU=0.50:0.95 | area= large | maxDets=1000 ] = 0.663\n"
     ]
    },
    {
     "name": "stderr",
     "output_type": "stream",
     "text": [
      "2021-05-20 10:43:05,365 - mmdet - INFO - Epoch [14][50/655]\tlr: 8.886e-05, eta: 1 day, 1:10:46, time: 3.011, data_time: 0.147, memory: 20669, loss_rpn_cls: 0.0285, loss_rpn_bbox: 0.0215, loss_semantic_seg: 0.1102, s0.loss_cls: 0.3414, s0.acc: 89.1504, s0.loss_bbox: 0.1831, s0.loss_mask: 0.2376, s1.loss_cls: 0.1561, s1.acc: 90.0383, s1.loss_bbox: 0.1545, s1.loss_mask: 0.1043, s2.loss_cls: 0.0726, s2.acc: 90.6575, s2.loss_bbox: 0.0845, s2.loss_mask: 0.0469, loss: 1.5412\n",
      "2021-05-20 10:45:30,994 - mmdet - INFO - Epoch [14][100/655]\tlr: 8.886e-05, eta: 1 day, 1:08:12, time: 2.913, data_time: 0.058, memory: 20669, loss_rpn_cls: 0.0331, loss_rpn_bbox: 0.0224, loss_semantic_seg: 0.1155, s0.loss_cls: 0.3437, s0.acc: 89.2285, s0.loss_bbox: 0.1725, s0.loss_mask: 0.2319, s1.loss_cls: 0.1633, s1.acc: 89.7016, s1.loss_bbox: 0.1404, s1.loss_mask: 0.1023, s2.loss_cls: 0.0759, s2.acc: 90.6087, s2.loss_bbox: 0.0736, s2.loss_mask: 0.0446, loss: 1.5191\n",
      "2021-05-20 10:47:55,549 - mmdet - INFO - Epoch [14][150/655]\tlr: 8.886e-05, eta: 1 day, 1:05:34, time: 2.891, data_time: 0.045, memory: 20669, loss_rpn_cls: 0.0318, loss_rpn_bbox: 0.0217, loss_semantic_seg: 0.1133, s0.loss_cls: 0.3485, s0.acc: 89.3789, s0.loss_bbox: 0.1759, s0.loss_mask: 0.2466, s1.loss_cls: 0.1591, s1.acc: 90.2994, s1.loss_bbox: 0.1476, s1.loss_mask: 0.1075, s2.loss_cls: 0.0735, s2.acc: 90.8970, s2.loss_bbox: 0.0787, s2.loss_mask: 0.0474, loss: 1.5515\n",
      "2021-05-20 10:50:23,048 - mmdet - INFO - Epoch [14][200/655]\tlr: 8.886e-05, eta: 1 day, 1:03:07, time: 2.950, data_time: 0.048, memory: 20669, loss_rpn_cls: 0.0294, loss_rpn_bbox: 0.0231, loss_semantic_seg: 0.1117, s0.loss_cls: 0.3365, s0.acc: 89.3096, s0.loss_bbox: 0.1862, s0.loss_mask: 0.2453, s1.loss_cls: 0.1545, s1.acc: 90.3116, s1.loss_bbox: 0.1620, s1.loss_mask: 0.1087, s2.loss_cls: 0.0705, s2.acc: 91.1295, s2.loss_bbox: 0.0854, s2.loss_mask: 0.0488, loss: 1.5623\n",
      "2021-05-20 10:52:52,379 - mmdet - INFO - Epoch [14][250/655]\tlr: 8.886e-05, eta: 1 day, 1:00:46, time: 2.987, data_time: 0.056, memory: 20669, loss_rpn_cls: 0.0312, loss_rpn_bbox: 0.0244, loss_semantic_seg: 0.1303, s0.loss_cls: 0.3547, s0.acc: 89.0205, s0.loss_bbox: 0.1801, s0.loss_mask: 0.2558, s1.loss_cls: 0.1665, s1.acc: 89.7187, s1.loss_bbox: 0.1525, s1.loss_mask: 0.1112, s2.loss_cls: 0.0764, s2.acc: 90.4265, s2.loss_bbox: 0.0787, s2.loss_mask: 0.0489, loss: 1.6106\n",
      "2021-05-20 10:55:19,153 - mmdet - INFO - Epoch [14][300/655]\tlr: 8.886e-05, eta: 1 day, 0:58:16, time: 2.935, data_time: 0.056, memory: 20669, loss_rpn_cls: 0.0348, loss_rpn_bbox: 0.0248, loss_semantic_seg: 0.1220, s0.loss_cls: 0.3413, s0.acc: 89.2080, s0.loss_bbox: 0.1868, s0.loss_mask: 0.2602, s1.loss_cls: 0.1525, s1.acc: 90.2998, s1.loss_bbox: 0.1567, s1.loss_mask: 0.1124, s2.loss_cls: 0.0713, s2.acc: 90.7670, s2.loss_bbox: 0.0838, s2.loss_mask: 0.0496, loss: 1.5962\n",
      "2021-05-20 10:57:41,177 - mmdet - INFO - Epoch [14][350/655]\tlr: 8.886e-05, eta: 1 day, 0:55:30, time: 2.840, data_time: 0.046, memory: 20669, loss_rpn_cls: 0.0331, loss_rpn_bbox: 0.0207, loss_semantic_seg: 0.1141, s0.loss_cls: 0.3230, s0.acc: 89.5479, s0.loss_bbox: 0.1695, s0.loss_mask: 0.2462, s1.loss_cls: 0.1539, s1.acc: 90.0675, s1.loss_bbox: 0.1544, s1.loss_mask: 0.1095, s2.loss_cls: 0.0734, s2.acc: 90.5239, s2.loss_bbox: 0.0847, s2.loss_mask: 0.0487, loss: 1.5312\n",
      "2021-05-20 11:00:08,538 - mmdet - INFO - Epoch [14][400/655]\tlr: 8.886e-05, eta: 1 day, 0:53:02, time: 2.947, data_time: 0.044, memory: 20669, loss_rpn_cls: 0.0269, loss_rpn_bbox: 0.0215, loss_semantic_seg: 0.1141, s0.loss_cls: 0.3131, s0.acc: 90.1230, s0.loss_bbox: 0.1606, s0.loss_mask: 0.2472, s1.loss_cls: 0.1453, s1.acc: 90.8046, s1.loss_bbox: 0.1427, s1.loss_mask: 0.1086, s2.loss_cls: 0.0679, s2.acc: 91.2723, s2.loss_bbox: 0.0758, s2.loss_mask: 0.0471, loss: 1.4707\n",
      "2021-05-20 11:02:31,476 - mmdet - INFO - Epoch [14][450/655]\tlr: 8.886e-05, eta: 1 day, 0:50:20, time: 2.859, data_time: 0.052, memory: 20669, loss_rpn_cls: 0.0396, loss_rpn_bbox: 0.0257, loss_semantic_seg: 0.1227, s0.loss_cls: 0.3605, s0.acc: 88.7041, s0.loss_bbox: 0.1945, s0.loss_mask: 0.2720, s1.loss_cls: 0.1658, s1.acc: 89.7045, s1.loss_bbox: 0.1590, s1.loss_mask: 0.1202, s2.loss_cls: 0.0758, s2.acc: 90.5825, s2.loss_bbox: 0.0779, s2.loss_mask: 0.0536, loss: 1.6673\n",
      "2021-05-20 11:05:00,441 - mmdet - INFO - Epoch [14][500/655]\tlr: 8.886e-05, eta: 1 day, 0:47:58, time: 2.979, data_time: 0.052, memory: 20669, loss_rpn_cls: 0.0290, loss_rpn_bbox: 0.0208, loss_semantic_seg: 0.1206, s0.loss_cls: 0.3411, s0.acc: 89.6201, s0.loss_bbox: 0.1758, s0.loss_mask: 0.2487, s1.loss_cls: 0.1532, s1.acc: 90.6216, s1.loss_bbox: 0.1482, s1.loss_mask: 0.1087, s2.loss_cls: 0.0712, s2.acc: 91.2975, s2.loss_bbox: 0.0785, s2.loss_mask: 0.0495, loss: 1.5452\n",
      "2021-05-20 11:07:25,817 - mmdet - INFO - Epoch [14][550/655]\tlr: 8.886e-05, eta: 1 day, 0:45:24, time: 2.908, data_time: 0.046, memory: 20669, loss_rpn_cls: 0.0298, loss_rpn_bbox: 0.0219, loss_semantic_seg: 0.1233, s0.loss_cls: 0.3670, s0.acc: 88.3066, s0.loss_bbox: 0.1892, s0.loss_mask: 0.2559, s1.loss_cls: 0.1684, s1.acc: 89.0870, s1.loss_bbox: 0.1678, s1.loss_mask: 0.1125, s2.loss_cls: 0.0791, s2.acc: 89.6343, s2.loss_bbox: 0.0864, s2.loss_mask: 0.0497, loss: 1.6511\n",
      "2021-05-20 11:09:55,130 - mmdet - INFO - Epoch [14][600/655]\tlr: 8.886e-05, eta: 1 day, 0:43:03, time: 2.986, data_time: 0.062, memory: 20669, loss_rpn_cls: 0.0318, loss_rpn_bbox: 0.0243, loss_semantic_seg: 0.1252, s0.loss_cls: 0.3484, s0.acc: 88.9619, s0.loss_bbox: 0.1818, s0.loss_mask: 0.2589, s1.loss_cls: 0.1658, s1.acc: 89.7182, s1.loss_bbox: 0.1575, s1.loss_mask: 0.1164, s2.loss_cls: 0.0784, s2.acc: 90.1848, s2.loss_bbox: 0.0840, s2.loss_mask: 0.0535, loss: 1.6259\n",
      "2021-05-20 11:12:22,244 - mmdet - INFO - Epoch [14][650/655]\tlr: 8.886e-05, eta: 1 day, 0:40:34, time: 2.942, data_time: 0.048, memory: 20669, loss_rpn_cls: 0.0267, loss_rpn_bbox: 0.0210, loss_semantic_seg: 0.1211, s0.loss_cls: 0.3217, s0.acc: 89.7080, s0.loss_bbox: 0.1619, s0.loss_mask: 0.2387, s1.loss_cls: 0.1506, s1.acc: 90.6049, s1.loss_bbox: 0.1439, s1.loss_mask: 0.1074, s2.loss_cls: 0.0729, s2.acc: 90.6301, s2.loss_bbox: 0.0797, s2.loss_mask: 0.0476, loss: 1.4932\n",
      "2021-05-20 11:12:36,442 - mmdet - INFO - Saving checkpoint at 14 epochs\n"
     ]
    },
    {
     "name": "stdout",
     "output_type": "stream",
     "text": [
      "[>>>>>>>>>>>>>>>>>>>>>>>>>>>>>] 655/655, 3.2 task/s, elapsed: 207s, ETA:     0s"
     ]
    },
    {
     "name": "stderr",
     "output_type": "stream",
     "text": [
      "2021-05-20 11:16:10,188 - mmdet - INFO - Evaluating bbox...\n"
     ]
    },
    {
     "name": "stdout",
     "output_type": "stream",
     "text": [
      "Loading and preparing results...\n",
      "DONE (t=1.31s)\n",
      "creating index...\n",
      "index created!\n",
      "Running per image evaluation...\n",
      "Evaluate annotation type *bbox*\n",
      "DONE (t=7.47s).\n",
      "Accumulating evaluation results...\n"
     ]
    },
    {
     "name": "stderr",
     "output_type": "stream",
     "text": [
      "2021-05-20 11:16:20,777 - mmdet - INFO - Now best checkpoint is epoch_14.pth.Best bbox_mAP_50 is 0.3970\n",
      "2021-05-20 11:16:20,821 - mmdet - INFO - Epoch(val) [14][655]\tbbox_mAP: 0.2590, bbox_mAP_50: 0.3970, bbox_mAP_75: 0.2600, bbox_mAP_s: 0.0560, bbox_mAP_m: 0.2320, bbox_mAP_l: 0.5140, bbox_mAP_copypaste: 0.259 0.397 0.260 0.056 0.232 0.514\n"
     ]
    },
    {
     "name": "stdout",
     "output_type": "stream",
     "text": [
      "DONE (t=1.67s).\n",
      "Average Precision  (AP) @[ IoU=0.50:0.95 | area=   all | maxDets=100 ] = 0.259\n",
      "Average Precision  (AP) @[ IoU=0.50      | area=   all | maxDets=1000 ] = 0.397\n",
      "Average Precision  (AP) @[ IoU=0.75      | area=   all | maxDets=1000 ] = 0.260\n",
      "Average Precision  (AP) @[ IoU=0.50:0.95 | area= small | maxDets=1000 ] = 0.056\n",
      "Average Precision  (AP) @[ IoU=0.50:0.95 | area=medium | maxDets=1000 ] = 0.232\n",
      "Average Precision  (AP) @[ IoU=0.50:0.95 | area= large | maxDets=1000 ] = 0.514\n",
      "Average Recall     (AR) @[ IoU=0.50:0.95 | area=   all | maxDets=100 ] = 0.432\n",
      "Average Recall     (AR) @[ IoU=0.50:0.95 | area=   all | maxDets=300 ] = 0.432\n",
      "Average Recall     (AR) @[ IoU=0.50:0.95 | area=   all | maxDets=1000 ] = 0.432\n",
      "Average Recall     (AR) @[ IoU=0.50:0.95 | area= small | maxDets=1000 ] = 0.161\n",
      "Average Recall     (AR) @[ IoU=0.50:0.95 | area=medium | maxDets=1000 ] = 0.417\n",
      "Average Recall     (AR) @[ IoU=0.50:0.95 | area= large | maxDets=1000 ] = 0.703\n"
     ]
    },
    {
     "name": "stderr",
     "output_type": "stream",
     "text": [
      "2021-05-20 11:18:54,563 - mmdet - INFO - Epoch [15][50/655]\tlr: 8.716e-05, eta: 1 day, 0:37:25, time: 3.075, data_time: 0.126, memory: 20669, loss_rpn_cls: 0.0323, loss_rpn_bbox: 0.0225, loss_semantic_seg: 0.1191, s0.loss_cls: 0.3510, s0.acc: 88.8154, s0.loss_bbox: 0.1807, s0.loss_mask: 0.2468, s1.loss_cls: 0.1652, s1.acc: 89.7017, s1.loss_bbox: 0.1537, s1.loss_mask: 0.1111, s2.loss_cls: 0.0771, s2.acc: 90.2243, s2.loss_bbox: 0.0816, s2.loss_mask: 0.0494, loss: 1.5905\n",
      "2021-05-20 11:21:22,139 - mmdet - INFO - Epoch [15][100/655]\tlr: 8.716e-05, eta: 1 day, 0:34:58, time: 2.951, data_time: 0.055, memory: 20669, loss_rpn_cls: 0.0325, loss_rpn_bbox: 0.0242, loss_semantic_seg: 0.1244, s0.loss_cls: 0.3564, s0.acc: 88.6279, s0.loss_bbox: 0.1899, s0.loss_mask: 0.2397, s1.loss_cls: 0.1643, s1.acc: 89.5350, s1.loss_bbox: 0.1624, s1.loss_mask: 0.1063, s2.loss_cls: 0.0770, s2.acc: 89.8732, s2.loss_bbox: 0.0857, s2.loss_mask: 0.0459, loss: 1.6086\n",
      "2021-05-20 11:23:49,009 - mmdet - INFO - Epoch [15][150/655]\tlr: 8.716e-05, eta: 1 day, 0:32:29, time: 2.937, data_time: 0.056, memory: 20669, loss_rpn_cls: 0.0347, loss_rpn_bbox: 0.0238, loss_semantic_seg: 0.1151, s0.loss_cls: 0.3818, s0.acc: 88.3633, s0.loss_bbox: 0.1910, s0.loss_mask: 0.2485, s1.loss_cls: 0.1753, s1.acc: 89.1626, s1.loss_bbox: 0.1605, s1.loss_mask: 0.1065, s2.loss_cls: 0.0809, s2.acc: 90.0816, s2.loss_bbox: 0.0836, s2.loss_mask: 0.0487, loss: 1.6505\n",
      "2021-05-20 11:26:17,022 - mmdet - INFO - Epoch [15][200/655]\tlr: 8.716e-05, eta: 1 day, 0:30:04, time: 2.960, data_time: 0.049, memory: 20669, loss_rpn_cls: 0.0293, loss_rpn_bbox: 0.0228, loss_semantic_seg: 0.1144, s0.loss_cls: 0.3425, s0.acc: 89.2471, s0.loss_bbox: 0.1792, s0.loss_mask: 0.2489, s1.loss_cls: 0.1550, s1.acc: 90.2289, s1.loss_bbox: 0.1541, s1.loss_mask: 0.1117, s2.loss_cls: 0.0716, s2.acc: 90.9230, s2.loss_bbox: 0.0823, s2.loss_mask: 0.0496, loss: 1.5613\n",
      "2021-05-20 11:28:45,608 - mmdet - INFO - Epoch [15][250/655]\tlr: 8.716e-05, eta: 1 day, 0:27:41, time: 2.972, data_time: 0.050, memory: 20669, loss_rpn_cls: 0.0316, loss_rpn_bbox: 0.0235, loss_semantic_seg: 0.1197, s0.loss_cls: 0.3334, s0.acc: 89.3135, s0.loss_bbox: 0.1839, s0.loss_mask: 0.2433, s1.loss_cls: 0.1545, s1.acc: 90.1068, s1.loss_bbox: 0.1568, s1.loss_mask: 0.1063, s2.loss_cls: 0.0719, s2.acc: 90.6449, s2.loss_bbox: 0.0833, s2.loss_mask: 0.0464, loss: 1.5545\n",
      "2021-05-20 11:31:10,710 - mmdet - INFO - Epoch [15][300/655]\tlr: 8.716e-05, eta: 1 day, 0:25:06, time: 2.902, data_time: 0.056, memory: 20669, loss_rpn_cls: 0.0303, loss_rpn_bbox: 0.0244, loss_semantic_seg: 0.1238, s0.loss_cls: 0.3391, s0.acc: 89.1094, s0.loss_bbox: 0.1811, s0.loss_mask: 0.2551, s1.loss_cls: 0.1594, s1.acc: 89.8290, s1.loss_bbox: 0.1521, s1.loss_mask: 0.1127, s2.loss_cls: 0.0745, s2.acc: 90.3655, s2.loss_bbox: 0.0802, s2.loss_mask: 0.0523, loss: 1.5850\n",
      "2021-05-20 11:33:32,831 - mmdet - INFO - Epoch [15][350/655]\tlr: 8.716e-05, eta: 1 day, 0:22:22, time: 2.842, data_time: 0.058, memory: 20669, loss_rpn_cls: 0.0342, loss_rpn_bbox: 0.0250, loss_semantic_seg: 0.1146, s0.loss_cls: 0.3429, s0.acc: 89.2852, s0.loss_bbox: 0.1729, s0.loss_mask: 0.2501, s1.loss_cls: 0.1591, s1.acc: 90.0752, s1.loss_bbox: 0.1516, s1.loss_mask: 0.1095, s2.loss_cls: 0.0738, s2.acc: 90.5369, s2.loss_bbox: 0.0812, s2.loss_mask: 0.0476, loss: 1.5624\n",
      "2021-05-20 11:35:57,958 - mmdet - INFO - Epoch [15][400/655]\tlr: 8.716e-05, eta: 1 day, 0:19:48, time: 2.903, data_time: 0.049, memory: 20669, loss_rpn_cls: 0.0281, loss_rpn_bbox: 0.0202, loss_semantic_seg: 0.1187, s0.loss_cls: 0.3208, s0.acc: 89.9102, s0.loss_bbox: 0.1619, s0.loss_mask: 0.2471, s1.loss_cls: 0.1500, s1.acc: 90.7260, s1.loss_bbox: 0.1419, s1.loss_mask: 0.1093, s2.loss_cls: 0.0710, s2.acc: 91.2794, s2.loss_bbox: 0.0774, s2.loss_mask: 0.0504, loss: 1.4966\n",
      "2021-05-20 11:38:19,524 - mmdet - INFO - Epoch [15][450/655]\tlr: 8.716e-05, eta: 1 day, 0:17:03, time: 2.831, data_time: 0.042, memory: 20669, loss_rpn_cls: 0.0276, loss_rpn_bbox: 0.0198, loss_semantic_seg: 0.1205, s0.loss_cls: 0.3062, s0.acc: 90.0322, s0.loss_bbox: 0.1603, s0.loss_mask: 0.2425, s1.loss_cls: 0.1401, s1.acc: 90.9442, s1.loss_bbox: 0.1392, s1.loss_mask: 0.1073, s2.loss_cls: 0.0666, s2.acc: 91.2433, s2.loss_bbox: 0.0743, s2.loss_mask: 0.0469, loss: 1.4513\n",
      "2021-05-20 11:40:48,498 - mmdet - INFO - Epoch [15][500/655]\tlr: 8.716e-05, eta: 1 day, 0:14:41, time: 2.979, data_time: 0.049, memory: 20669, loss_rpn_cls: 0.0286, loss_rpn_bbox: 0.0215, loss_semantic_seg: 0.1248, s0.loss_cls: 0.3615, s0.acc: 88.6084, s0.loss_bbox: 0.1777, s0.loss_mask: 0.2580, s1.loss_cls: 0.1711, s1.acc: 89.2004, s1.loss_bbox: 0.1583, s1.loss_mask: 0.1146, s2.loss_cls: 0.0800, s2.acc: 89.7682, s2.loss_bbox: 0.0837, s2.loss_mask: 0.0498, loss: 1.6296\n",
      "2021-05-20 11:43:14,805 - mmdet - INFO - Epoch [15][550/655]\tlr: 8.716e-05, eta: 1 day, 0:12:11, time: 2.926, data_time: 0.045, memory: 20669, loss_rpn_cls: 0.0257, loss_rpn_bbox: 0.0206, loss_semantic_seg: 0.1206, s0.loss_cls: 0.3283, s0.acc: 89.5674, s0.loss_bbox: 0.1713, s0.loss_mask: 0.2551, s1.loss_cls: 0.1512, s1.acc: 90.5121, s1.loss_bbox: 0.1483, s1.loss_mask: 0.1117, s2.loss_cls: 0.0699, s2.acc: 91.2101, s2.loss_bbox: 0.0816, s2.loss_mask: 0.0492, loss: 1.5335\n",
      "2021-05-20 11:45:40,629 - mmdet - INFO - Epoch [15][600/655]\tlr: 8.716e-05, eta: 1 day, 0:09:39, time: 2.916, data_time: 0.048, memory: 20669, loss_rpn_cls: 0.0334, loss_rpn_bbox: 0.0242, loss_semantic_seg: 0.1227, s0.loss_cls: 0.3462, s0.acc: 88.9990, s0.loss_bbox: 0.1795, s0.loss_mask: 0.2513, s1.loss_cls: 0.1627, s1.acc: 89.6995, s1.loss_bbox: 0.1516, s1.loss_mask: 0.1099, s2.loss_cls: 0.0771, s2.acc: 90.3421, s2.loss_bbox: 0.0775, s2.loss_mask: 0.0486, loss: 1.5849\n",
      "2021-05-20 11:48:05,152 - mmdet - INFO - Epoch [15][650/655]\tlr: 8.716e-05, eta: 1 day, 0:07:04, time: 2.890, data_time: 0.046, memory: 20669, loss_rpn_cls: 0.0298, loss_rpn_bbox: 0.0205, loss_semantic_seg: 0.1190, s0.loss_cls: 0.3300, s0.acc: 89.4189, s0.loss_bbox: 0.1731, s0.loss_mask: 0.2558, s1.loss_cls: 0.1543, s1.acc: 90.2118, s1.loss_bbox: 0.1496, s1.loss_mask: 0.1117, s2.loss_cls: 0.0711, s2.acc: 90.8923, s2.loss_bbox: 0.0783, s2.loss_mask: 0.0493, loss: 1.5423\n",
      "2021-05-20 11:48:18,538 - mmdet - INFO - Saving checkpoint at 15 epochs\n"
     ]
    },
    {
     "name": "stdout",
     "output_type": "stream",
     "text": [
      "[>>>>>>>>>>>>>>>>>>>>>>>>>>>>>] 655/655, 3.1 task/s, elapsed: 210s, ETA:     0s"
     ]
    },
    {
     "name": "stderr",
     "output_type": "stream",
     "text": [
      "2021-05-20 11:51:54,824 - mmdet - INFO - Evaluating bbox...\n"
     ]
    },
    {
     "name": "stdout",
     "output_type": "stream",
     "text": [
      "Loading and preparing results...\n",
      "DONE (t=0.82s)\n",
      "creating index...\n",
      "index created!\n",
      "Running per image evaluation...\n",
      "Evaluate annotation type *bbox*\n",
      "DONE (t=8.16s).\n",
      "Accumulating evaluation results...\n"
     ]
    },
    {
     "name": "stderr",
     "output_type": "stream",
     "text": [
      "2021-05-20 11:52:05,693 - mmdet - INFO - Epoch(val) [15][655]\tbbox_mAP: 0.2570, bbox_mAP_50: 0.3970, bbox_mAP_75: 0.2560, bbox_mAP_s: 0.0580, bbox_mAP_m: 0.2340, bbox_mAP_l: 0.5040, bbox_mAP_copypaste: 0.257 0.397 0.256 0.058 0.234 0.504\n"
     ]
    },
    {
     "name": "stdout",
     "output_type": "stream",
     "text": [
      "DONE (t=1.69s).\n",
      "Average Precision  (AP) @[ IoU=0.50:0.95 | area=   all | maxDets=100 ] = 0.257\n",
      "Average Precision  (AP) @[ IoU=0.50      | area=   all | maxDets=1000 ] = 0.397\n",
      "Average Precision  (AP) @[ IoU=0.75      | area=   all | maxDets=1000 ] = 0.256\n",
      "Average Precision  (AP) @[ IoU=0.50:0.95 | area= small | maxDets=1000 ] = 0.058\n",
      "Average Precision  (AP) @[ IoU=0.50:0.95 | area=medium | maxDets=1000 ] = 0.234\n",
      "Average Precision  (AP) @[ IoU=0.50:0.95 | area= large | maxDets=1000 ] = 0.504\n",
      "Average Recall     (AR) @[ IoU=0.50:0.95 | area=   all | maxDets=100 ] = 0.444\n",
      "Average Recall     (AR) @[ IoU=0.50:0.95 | area=   all | maxDets=300 ] = 0.444\n",
      "Average Recall     (AR) @[ IoU=0.50:0.95 | area=   all | maxDets=1000 ] = 0.444\n",
      "Average Recall     (AR) @[ IoU=0.50:0.95 | area= small | maxDets=1000 ] = 0.179\n",
      "Average Recall     (AR) @[ IoU=0.50:0.95 | area=medium | maxDets=1000 ] = 0.436\n",
      "Average Recall     (AR) @[ IoU=0.50:0.95 | area= large | maxDets=1000 ] = 0.687\n"
     ]
    },
    {
     "name": "stderr",
     "output_type": "stream",
     "text": [
      "2021-05-20 11:54:38,133 - mmdet - INFO - Epoch [16][50/655]\tlr: 8.536e-05, eta: 1 day, 0:03:53, time: 3.049, data_time: 0.154, memory: 20669, loss_rpn_cls: 0.0319, loss_rpn_bbox: 0.0199, loss_semantic_seg: 0.1242, s0.loss_cls: 0.3443, s0.acc: 89.4160, s0.loss_bbox: 0.1660, s0.loss_mask: 0.2422, s1.loss_cls: 0.1595, s1.acc: 90.1625, s1.loss_bbox: 0.1468, s1.loss_mask: 0.1053, s2.loss_cls: 0.0739, s2.acc: 90.6509, s2.loss_bbox: 0.0829, s2.loss_mask: 0.0489, loss: 1.5458\n",
      "2021-05-20 11:57:03,824 - mmdet - INFO - Epoch [16][100/655]\tlr: 8.536e-05, eta: 1 day, 0:01:21, time: 2.914, data_time: 0.050, memory: 20669, loss_rpn_cls: 0.0313, loss_rpn_bbox: 0.0222, loss_semantic_seg: 0.1169, s0.loss_cls: 0.3354, s0.acc: 89.4639, s0.loss_bbox: 0.1706, s0.loss_mask: 0.2384, s1.loss_cls: 0.1573, s1.acc: 90.2077, s1.loss_bbox: 0.1481, s1.loss_mask: 0.1037, s2.loss_cls: 0.0730, s2.acc: 90.8635, s2.loss_bbox: 0.0786, s2.loss_mask: 0.0447, loss: 1.5203\n",
      "2021-05-20 11:59:31,335 - mmdet - INFO - Epoch [16][150/655]\tlr: 8.536e-05, eta: 23:58:55, time: 2.950, data_time: 0.054, memory: 20669, loss_rpn_cls: 0.0315, loss_rpn_bbox: 0.0201, loss_semantic_seg: 0.1129, s0.loss_cls: 0.3426, s0.acc: 88.9785, s0.loss_bbox: 0.1751, s0.loss_mask: 0.2356, s1.loss_cls: 0.1588, s1.acc: 89.8704, s1.loss_bbox: 0.1488, s1.loss_mask: 0.1002, s2.loss_cls: 0.0757, s2.acc: 90.0801, s2.loss_bbox: 0.0788, s2.loss_mask: 0.0441, loss: 1.5242\n",
      "2021-05-20 12:02:02,872 - mmdet - INFO - Epoch [16][200/655]\tlr: 8.536e-05, eta: 23:56:41, time: 3.031, data_time: 0.050, memory: 20669, loss_rpn_cls: 0.0270, loss_rpn_bbox: 0.0196, loss_semantic_seg: 0.1276, s0.loss_cls: 0.3067, s0.acc: 90.1641, s0.loss_bbox: 0.1647, s0.loss_mask: 0.2335, s1.loss_cls: 0.1462, s1.acc: 90.6149, s1.loss_bbox: 0.1510, s1.loss_mask: 0.1018, s2.loss_cls: 0.0687, s2.acc: 90.9121, s2.loss_bbox: 0.0781, s2.loss_mask: 0.0437, loss: 1.4685\n",
      "2021-05-20 12:04:31,412 - mmdet - INFO - Epoch [16][250/655]\tlr: 8.536e-05, eta: 23:54:17, time: 2.971, data_time: 0.045, memory: 20669, loss_rpn_cls: 0.0290, loss_rpn_bbox: 0.0184, loss_semantic_seg: 0.0998, s0.loss_cls: 0.3346, s0.acc: 89.3936, s0.loss_bbox: 0.1725, s0.loss_mask: 0.2591, s1.loss_cls: 0.1562, s1.acc: 90.1859, s1.loss_bbox: 0.1514, s1.loss_mask: 0.1150, s2.loss_cls: 0.0725, s2.acc: 90.7332, s2.loss_bbox: 0.0773, s2.loss_mask: 0.0519, loss: 1.5377\n",
      "2021-05-20 12:06:58,787 - mmdet - INFO - Epoch [16][300/655]\tlr: 8.536e-05, eta: 23:51:50, time: 2.947, data_time: 0.052, memory: 20669, loss_rpn_cls: 0.0333, loss_rpn_bbox: 0.0242, loss_semantic_seg: 0.1251, s0.loss_cls: 0.3708, s0.acc: 88.4004, s0.loss_bbox: 0.1919, s0.loss_mask: 0.2664, s1.loss_cls: 0.1714, s1.acc: 89.2066, s1.loss_bbox: 0.1647, s1.loss_mask: 0.1174, s2.loss_cls: 0.0813, s2.acc: 89.8965, s2.loss_bbox: 0.0896, s2.loss_mask: 0.0520, loss: 1.6881\n",
      "2021-05-20 12:09:21,585 - mmdet - INFO - Epoch [16][350/655]\tlr: 8.536e-05, eta: 23:49:10, time: 2.856, data_time: 0.052, memory: 20669, loss_rpn_cls: 0.0326, loss_rpn_bbox: 0.0227, loss_semantic_seg: 0.1269, s0.loss_cls: 0.3621, s0.acc: 88.4307, s0.loss_bbox: 0.1876, s0.loss_mask: 0.2490, s1.loss_cls: 0.1660, s1.acc: 89.4230, s1.loss_bbox: 0.1630, s1.loss_mask: 0.1075, s2.loss_cls: 0.0767, s2.acc: 90.2078, s2.loss_bbox: 0.0853, s2.loss_mask: 0.0462, loss: 1.6257\n",
      "2021-05-20 12:11:47,012 - mmdet - INFO - Epoch [16][400/655]\tlr: 8.536e-05, eta: 23:46:38, time: 2.908, data_time: 0.048, memory: 20669, loss_rpn_cls: 0.0320, loss_rpn_bbox: 0.0231, loss_semantic_seg: 0.1158, s0.loss_cls: 0.3321, s0.acc: 89.1416, s0.loss_bbox: 0.1848, s0.loss_mask: 0.2640, s1.loss_cls: 0.1593, s1.acc: 89.4758, s1.loss_bbox: 0.1644, s1.loss_mask: 0.1139, s2.loss_cls: 0.0744, s2.acc: 89.9911, s2.loss_bbox: 0.0874, s2.loss_mask: 0.0501, loss: 1.6013\n",
      "2021-05-20 12:14:13,862 - mmdet - INFO - Epoch [16][450/655]\tlr: 8.536e-05, eta: 23:44:10, time: 2.937, data_time: 0.048, memory: 20669, loss_rpn_cls: 0.0311, loss_rpn_bbox: 0.0219, loss_semantic_seg: 0.1112, s0.loss_cls: 0.3320, s0.acc: 89.6035, s0.loss_bbox: 0.1699, s0.loss_mask: 0.2350, s1.loss_cls: 0.1505, s1.acc: 90.8124, s1.loss_bbox: 0.1464, s1.loss_mask: 0.1018, s2.loss_cls: 0.0705, s2.acc: 91.2666, s2.loss_bbox: 0.0774, s2.loss_mask: 0.0438, loss: 1.4916\n",
      "2021-05-20 12:16:44,313 - mmdet - INFO - Epoch [16][500/655]\tlr: 8.536e-05, eta: 23:41:52, time: 3.009, data_time: 0.061, memory: 20669, loss_rpn_cls: 0.0337, loss_rpn_bbox: 0.0259, loss_semantic_seg: 0.1145, s0.loss_cls: 0.3635, s0.acc: 88.5479, s0.loss_bbox: 0.1934, s0.loss_mask: 0.2535, s1.loss_cls: 0.1703, s1.acc: 89.3858, s1.loss_bbox: 0.1718, s1.loss_mask: 0.1144, s2.loss_cls: 0.0799, s2.acc: 89.9826, s2.loss_bbox: 0.0889, s2.loss_mask: 0.0484, loss: 1.6583\n",
      "2021-05-20 12:19:09,326 - mmdet - INFO - Epoch [16][550/655]\tlr: 8.536e-05, eta: 23:39:18, time: 2.900, data_time: 0.054, memory: 20669, loss_rpn_cls: 0.0325, loss_rpn_bbox: 0.0206, loss_semantic_seg: 0.1092, s0.loss_cls: 0.3298, s0.acc: 89.5576, s0.loss_bbox: 0.1698, s0.loss_mask: 0.2404, s1.loss_cls: 0.1504, s1.acc: 90.4064, s1.loss_bbox: 0.1461, s1.loss_mask: 0.1045, s2.loss_cls: 0.0704, s2.acc: 90.9187, s2.loss_bbox: 0.0764, s2.loss_mask: 0.0462, loss: 1.4964\n",
      "2021-05-20 12:21:37,502 - mmdet - INFO - Epoch [16][600/655]\tlr: 8.536e-05, eta: 23:36:54, time: 2.963, data_time: 0.055, memory: 20669, loss_rpn_cls: 0.0317, loss_rpn_bbox: 0.0214, loss_semantic_seg: 0.1243, s0.loss_cls: 0.3407, s0.acc: 89.3789, s0.loss_bbox: 0.1809, s0.loss_mask: 0.2486, s1.loss_cls: 0.1574, s1.acc: 90.3121, s1.loss_bbox: 0.1521, s1.loss_mask: 0.1108, s2.loss_cls: 0.0725, s2.acc: 90.9820, s2.loss_bbox: 0.0825, s2.loss_mask: 0.0502, loss: 1.5731\n",
      "2021-05-20 12:24:00,652 - mmdet - INFO - Epoch [16][650/655]\tlr: 8.536e-05, eta: 23:34:16, time: 2.863, data_time: 0.041, memory: 20669, loss_rpn_cls: 0.0272, loss_rpn_bbox: 0.0186, loss_semantic_seg: 0.1155, s0.loss_cls: 0.3035, s0.acc: 90.3232, s0.loss_bbox: 0.1544, s0.loss_mask: 0.2187, s1.loss_cls: 0.1411, s1.acc: 91.1275, s1.loss_bbox: 0.1314, s1.loss_mask: 0.0945, s2.loss_cls: 0.0653, s2.acc: 91.5176, s2.loss_bbox: 0.0716, s2.loss_mask: 0.0414, loss: 1.3834\n",
      "2021-05-20 12:24:15,159 - mmdet - INFO - Saving checkpoint at 16 epochs\n"
     ]
    },
    {
     "name": "stdout",
     "output_type": "stream",
     "text": [
      "[>>>>>>>>>>>>>>>>>>>>>>>>>>>>>] 655/655, 3.2 task/s, elapsed: 204s, ETA:     0s"
     ]
    },
    {
     "name": "stderr",
     "output_type": "stream",
     "text": [
      "2021-05-20 12:27:50,350 - mmdet - INFO - Evaluating bbox...\n"
     ]
    },
    {
     "name": "stdout",
     "output_type": "stream",
     "text": [
      "Loading and preparing results...\n",
      "DONE (t=1.32s)\n",
      "creating index...\n",
      "index created!\n",
      "Running per image evaluation...\n",
      "Evaluate annotation type *bbox*\n",
      "DONE (t=7.91s).\n",
      "Accumulating evaluation results...\n"
     ]
    },
    {
     "name": "stderr",
     "output_type": "stream",
     "text": [
      "2021-05-20 12:28:01,262 - mmdet - INFO - Now best checkpoint is epoch_16.pth.Best bbox_mAP_50 is 0.4010\n",
      "2021-05-20 12:28:01,303 - mmdet - INFO - Epoch(val) [16][655]\tbbox_mAP: 0.2650, bbox_mAP_50: 0.4010, bbox_mAP_75: 0.2780, bbox_mAP_s: 0.0650, bbox_mAP_m: 0.2400, bbox_mAP_l: 0.4780, bbox_mAP_copypaste: 0.265 0.401 0.278 0.065 0.240 0.478\n"
     ]
    },
    {
     "name": "stdout",
     "output_type": "stream",
     "text": [
      "DONE (t=1.55s).\n",
      "Average Precision  (AP) @[ IoU=0.50:0.95 | area=   all | maxDets=100 ] = 0.265\n",
      "Average Precision  (AP) @[ IoU=0.50      | area=   all | maxDets=1000 ] = 0.401\n",
      "Average Precision  (AP) @[ IoU=0.75      | area=   all | maxDets=1000 ] = 0.278\n",
      "Average Precision  (AP) @[ IoU=0.50:0.95 | area= small | maxDets=1000 ] = 0.065\n",
      "Average Precision  (AP) @[ IoU=0.50:0.95 | area=medium | maxDets=1000 ] = 0.240\n",
      "Average Precision  (AP) @[ IoU=0.50:0.95 | area= large | maxDets=1000 ] = 0.478\n",
      "Average Recall     (AR) @[ IoU=0.50:0.95 | area=   all | maxDets=100 ] = 0.436\n",
      "Average Recall     (AR) @[ IoU=0.50:0.95 | area=   all | maxDets=300 ] = 0.436\n",
      "Average Recall     (AR) @[ IoU=0.50:0.95 | area=   all | maxDets=1000 ] = 0.436\n",
      "Average Recall     (AR) @[ IoU=0.50:0.95 | area= small | maxDets=1000 ] = 0.175\n",
      "Average Recall     (AR) @[ IoU=0.50:0.95 | area=medium | maxDets=1000 ] = 0.419\n",
      "Average Recall     (AR) @[ IoU=0.50:0.95 | area= large | maxDets=1000 ] = 0.699\n"
     ]
    },
    {
     "name": "stderr",
     "output_type": "stream",
     "text": [
      "2021-05-20 12:30:33,368 - mmdet - INFO - Epoch [17][50/655]\tlr: 8.346e-05, eta: 23:31:07, time: 3.041, data_time: 0.135, memory: 20669, loss_rpn_cls: 0.0329, loss_rpn_bbox: 0.0231, loss_semantic_seg: 0.1156, s0.loss_cls: 0.3410, s0.acc: 89.3457, s0.loss_bbox: 0.1821, s0.loss_mask: 0.2464, s1.loss_cls: 0.1515, s1.acc: 90.6009, s1.loss_bbox: 0.1587, s1.loss_mask: 0.1102, s2.loss_cls: 0.0690, s2.acc: 91.4136, s2.loss_bbox: 0.0864, s2.loss_mask: 0.0484, loss: 1.5654\n",
      "2021-05-20 12:32:59,204 - mmdet - INFO - Epoch [17][100/655]\tlr: 8.346e-05, eta: 23:28:36, time: 2.917, data_time: 0.041, memory: 20669, loss_rpn_cls: 0.0268, loss_rpn_bbox: 0.0213, loss_semantic_seg: 0.1083, s0.loss_cls: 0.3372, s0.acc: 89.0615, s0.loss_bbox: 0.1833, s0.loss_mask: 0.2571, s1.loss_cls: 0.1557, s1.acc: 89.7473, s1.loss_bbox: 0.1605, s1.loss_mask: 0.1140, s2.loss_cls: 0.0739, s2.acc: 90.2176, s2.loss_bbox: 0.0835, s2.loss_mask: 0.0495, loss: 1.5711\n",
      "2021-05-20 12:35:29,199 - mmdet - INFO - Epoch [17][150/655]\tlr: 8.346e-05, eta: 23:26:17, time: 3.000, data_time: 0.056, memory: 20669, loss_rpn_cls: 0.0358, loss_rpn_bbox: 0.0233, loss_semantic_seg: 0.1114, s0.loss_cls: 0.3445, s0.acc: 89.1406, s0.loss_bbox: 0.1719, s0.loss_mask: 0.2360, s1.loss_cls: 0.1603, s1.acc: 90.0463, s1.loss_bbox: 0.1506, s1.loss_mask: 0.1044, s2.loss_cls: 0.0771, s2.acc: 90.3816, s2.loss_bbox: 0.0836, s2.loss_mask: 0.0458, loss: 1.5448\n",
      "2021-05-20 12:37:55,344 - mmdet - INFO - Epoch [17][200/655]\tlr: 8.346e-05, eta: 23:23:47, time: 2.923, data_time: 0.050, memory: 20669, loss_rpn_cls: 0.0312, loss_rpn_bbox: 0.0227, loss_semantic_seg: 0.1126, s0.loss_cls: 0.3178, s0.acc: 89.8115, s0.loss_bbox: 0.1634, s0.loss_mask: 0.2456, s1.loss_cls: 0.1486, s1.acc: 90.4657, s1.loss_bbox: 0.1470, s1.loss_mask: 0.1087, s2.loss_cls: 0.0714, s2.acc: 90.4948, s2.loss_bbox: 0.0788, s2.loss_mask: 0.0482, loss: 1.4959\n",
      "2021-05-20 12:40:21,877 - mmdet - INFO - Epoch [17][250/655]\tlr: 8.346e-05, eta: 23:21:18, time: 2.931, data_time: 0.052, memory: 20669, loss_rpn_cls: 0.0326, loss_rpn_bbox: 0.0224, loss_semantic_seg: 0.1078, s0.loss_cls: 0.3307, s0.acc: 89.6709, s0.loss_bbox: 0.1663, s0.loss_mask: 0.2316, s1.loss_cls: 0.1526, s1.acc: 90.8474, s1.loss_bbox: 0.1459, s1.loss_mask: 0.1017, s2.loss_cls: 0.0712, s2.acc: 91.2628, s2.loss_bbox: 0.0773, s2.loss_mask: 0.0446, loss: 1.4846\n",
      "2021-05-20 12:42:54,794 - mmdet - INFO - Epoch [17][300/655]\tlr: 8.346e-05, eta: 23:19:06, time: 3.058, data_time: 0.050, memory: 20669, loss_rpn_cls: 0.0360, loss_rpn_bbox: 0.0260, loss_semantic_seg: 0.1161, s0.loss_cls: 0.3403, s0.acc: 89.2988, s0.loss_bbox: 0.1866, s0.loss_mask: 0.2589, s1.loss_cls: 0.1582, s1.acc: 89.8478, s1.loss_bbox: 0.1604, s1.loss_mask: 0.1131, s2.loss_cls: 0.0748, s2.acc: 90.4152, s2.loss_bbox: 0.0838, s2.loss_mask: 0.0509, loss: 1.6049\n",
      "2021-05-20 12:45:19,062 - mmdet - INFO - Epoch [17][350/655]\tlr: 8.346e-05, eta: 23:16:31, time: 2.885, data_time: 0.042, memory: 20669, loss_rpn_cls: 0.0276, loss_rpn_bbox: 0.0186, loss_semantic_seg: 0.1030, s0.loss_cls: 0.2957, s0.acc: 90.5518, s0.loss_bbox: 0.1527, s0.loss_mask: 0.2327, s1.loss_cls: 0.1356, s1.acc: 91.2940, s1.loss_bbox: 0.1327, s1.loss_mask: 0.1007, s2.loss_cls: 0.0633, s2.acc: 91.9600, s2.loss_bbox: 0.0716, s2.loss_mask: 0.0444, loss: 1.3785\n",
      "2021-05-20 12:47:50,694 - mmdet - INFO - Epoch [17][400/655]\tlr: 8.346e-05, eta: 23:14:16, time: 3.033, data_time: 0.050, memory: 20669, loss_rpn_cls: 0.0271, loss_rpn_bbox: 0.0236, loss_semantic_seg: 0.1258, s0.loss_cls: 0.3367, s0.acc: 89.2725, s0.loss_bbox: 0.1774, s0.loss_mask: 0.2491, s1.loss_cls: 0.1571, s1.acc: 89.9747, s1.loss_bbox: 0.1588, s1.loss_mask: 0.1107, s2.loss_cls: 0.0743, s2.acc: 90.3923, s2.loss_bbox: 0.0868, s2.loss_mask: 0.0484, loss: 1.5758\n",
      "2021-05-20 12:50:16,384 - mmdet - INFO - Epoch [17][450/655]\tlr: 8.346e-05, eta: 23:11:45, time: 2.914, data_time: 0.045, memory: 20669, loss_rpn_cls: 0.0268, loss_rpn_bbox: 0.0213, loss_semantic_seg: 0.1187, s0.loss_cls: 0.3378, s0.acc: 89.3027, s0.loss_bbox: 0.1775, s0.loss_mask: 0.2431, s1.loss_cls: 0.1587, s1.acc: 89.8537, s1.loss_bbox: 0.1525, s1.loss_mask: 0.1058, s2.loss_cls: 0.0733, s2.acc: 90.3218, s2.loss_bbox: 0.0814, s2.loss_mask: 0.0456, loss: 1.5427\n",
      "2021-05-20 12:52:46,181 - mmdet - INFO - Epoch [17][500/655]\tlr: 8.346e-05, eta: 23:09:24, time: 2.996, data_time: 0.049, memory: 20669, loss_rpn_cls: 0.0316, loss_rpn_bbox: 0.0219, loss_semantic_seg: 0.1066, s0.loss_cls: 0.3130, s0.acc: 89.8379, s0.loss_bbox: 0.1631, s0.loss_mask: 0.2359, s1.loss_cls: 0.1449, s1.acc: 90.6856, s1.loss_bbox: 0.1447, s1.loss_mask: 0.1058, s2.loss_cls: 0.0687, s2.acc: 91.1315, s2.loss_bbox: 0.0790, s2.loss_mask: 0.0484, loss: 1.4636\n",
      "2021-05-20 12:55:12,998 - mmdet - INFO - Epoch [17][550/655]\tlr: 8.346e-05, eta: 23:06:56, time: 2.936, data_time: 0.045, memory: 20669, loss_rpn_cls: 0.0353, loss_rpn_bbox: 0.0199, loss_semantic_seg: 0.1160, s0.loss_cls: 0.3206, s0.acc: 89.6963, s0.loss_bbox: 0.1651, s0.loss_mask: 0.2344, s1.loss_cls: 0.1503, s1.acc: 90.3856, s1.loss_bbox: 0.1441, s1.loss_mask: 0.1012, s2.loss_cls: 0.0713, s2.acc: 91.0159, s2.loss_bbox: 0.0786, s2.loss_mask: 0.0457, loss: 1.4825\n",
      "2021-05-20 12:57:45,358 - mmdet - INFO - Epoch [17][600/655]\tlr: 8.346e-05, eta: 23:04:42, time: 3.047, data_time: 0.053, memory: 20669, loss_rpn_cls: 0.0390, loss_rpn_bbox: 0.0260, loss_semantic_seg: 0.1204, s0.loss_cls: 0.3684, s0.acc: 88.5146, s0.loss_bbox: 0.1875, s0.loss_mask: 0.2431, s1.loss_cls: 0.1678, s1.acc: 89.4953, s1.loss_bbox: 0.1590, s1.loss_mask: 0.1035, s2.loss_cls: 0.0776, s2.acc: 90.3775, s2.loss_bbox: 0.0880, s2.loss_mask: 0.0462, loss: 1.6266\n",
      "2021-05-20 13:00:11,903 - mmdet - INFO - Epoch [17][650/655]\tlr: 8.346e-05, eta: 23:02:13, time: 2.931, data_time: 0.043, memory: 20669, loss_rpn_cls: 0.0321, loss_rpn_bbox: 0.0221, loss_semantic_seg: 0.1193, s0.loss_cls: 0.3349, s0.acc: 89.4238, s0.loss_bbox: 0.1765, s0.loss_mask: 0.2552, s1.loss_cls: 0.1535, s1.acc: 90.4055, s1.loss_bbox: 0.1545, s1.loss_mask: 0.1150, s2.loss_cls: 0.0729, s2.acc: 90.6486, s2.loss_bbox: 0.0852, s2.loss_mask: 0.0528, loss: 1.5740\n",
      "2021-05-20 13:00:24,692 - mmdet - INFO - Saving checkpoint at 17 epochs\n"
     ]
    },
    {
     "name": "stdout",
     "output_type": "stream",
     "text": [
      "[>>>>>>>>>>>>>>>>>>>>>>>>>>>>>] 655/655, 3.2 task/s, elapsed: 203s, ETA:     0s"
     ]
    },
    {
     "name": "stderr",
     "output_type": "stream",
     "text": [
      "2021-05-20 13:03:59,410 - mmdet - INFO - Evaluating bbox...\n"
     ]
    },
    {
     "name": "stdout",
     "output_type": "stream",
     "text": [
      "Loading and preparing results...\n",
      "DONE (t=0.82s)\n",
      "creating index...\n",
      "index created!\n",
      "Running per image evaluation...\n",
      "Evaluate annotation type *bbox*\n",
      "DONE (t=7.37s).\n",
      "Accumulating evaluation results...\n"
     ]
    },
    {
     "name": "stderr",
     "output_type": "stream",
     "text": [
      "2021-05-20 13:04:09,319 - mmdet - INFO - Now best checkpoint is epoch_17.pth.Best bbox_mAP_50 is 0.4120\n",
      "2021-05-20 13:04:09,360 - mmdet - INFO - Epoch(val) [17][655]\tbbox_mAP: 0.2650, bbox_mAP_50: 0.4120, bbox_mAP_75: 0.2630, bbox_mAP_s: 0.0580, bbox_mAP_m: 0.2380, bbox_mAP_l: 0.4470, bbox_mAP_copypaste: 0.265 0.412 0.263 0.058 0.238 0.447\n"
     ]
    },
    {
     "name": "stdout",
     "output_type": "stream",
     "text": [
      "DONE (t=1.57s).\n",
      "Average Precision  (AP) @[ IoU=0.50:0.95 | area=   all | maxDets=100 ] = 0.265\n",
      "Average Precision  (AP) @[ IoU=0.50      | area=   all | maxDets=1000 ] = 0.412\n",
      "Average Precision  (AP) @[ IoU=0.75      | area=   all | maxDets=1000 ] = 0.263\n",
      "Average Precision  (AP) @[ IoU=0.50:0.95 | area= small | maxDets=1000 ] = 0.058\n",
      "Average Precision  (AP) @[ IoU=0.50:0.95 | area=medium | maxDets=1000 ] = 0.238\n",
      "Average Precision  (AP) @[ IoU=0.50:0.95 | area= large | maxDets=1000 ] = 0.447\n",
      "Average Recall     (AR) @[ IoU=0.50:0.95 | area=   all | maxDets=100 ] = 0.442\n",
      "Average Recall     (AR) @[ IoU=0.50:0.95 | area=   all | maxDets=300 ] = 0.442\n",
      "Average Recall     (AR) @[ IoU=0.50:0.95 | area=   all | maxDets=1000 ] = 0.442\n",
      "Average Recall     (AR) @[ IoU=0.50:0.95 | area= small | maxDets=1000 ] = 0.182\n",
      "Average Recall     (AR) @[ IoU=0.50:0.95 | area=medium | maxDets=1000 ] = 0.433\n",
      "Average Recall     (AR) @[ IoU=0.50:0.95 | area= large | maxDets=1000 ] = 0.629\n"
     ]
    },
    {
     "name": "stderr",
     "output_type": "stream",
     "text": [
      "2021-05-20 13:06:40,464 - mmdet - INFO - Epoch [18][50/655]\tlr: 8.147e-05, eta: 22:59:04, time: 3.022, data_time: 0.127, memory: 20669, loss_rpn_cls: 0.0270, loss_rpn_bbox: 0.0223, loss_semantic_seg: 0.1073, s0.loss_cls: 0.3163, s0.acc: 89.9805, s0.loss_bbox: 0.1730, s0.loss_mask: 0.2301, s1.loss_cls: 0.1414, s1.acc: 90.9166, s1.loss_bbox: 0.1473, s1.loss_mask: 0.1021, s2.loss_cls: 0.0655, s2.acc: 91.6310, s2.loss_bbox: 0.0778, s2.loss_mask: 0.0448, loss: 1.4550\n",
      "2021-05-20 13:09:08,840 - mmdet - INFO - Epoch [18][100/655]\tlr: 8.147e-05, eta: 22:56:40, time: 2.968, data_time: 0.043, memory: 20669, loss_rpn_cls: 0.0239, loss_rpn_bbox: 0.0194, loss_semantic_seg: 0.1106, s0.loss_cls: 0.3049, s0.acc: 90.1309, s0.loss_bbox: 0.1546, s0.loss_mask: 0.2189, s1.loss_cls: 0.1438, s1.acc: 90.6874, s1.loss_bbox: 0.1396, s1.loss_mask: 0.0949, s2.loss_cls: 0.0681, s2.acc: 91.0425, s2.loss_bbox: 0.0751, s2.loss_mask: 0.0419, loss: 1.3957\n",
      "2021-05-20 13:11:35,640 - mmdet - INFO - Epoch [18][150/655]\tlr: 8.147e-05, eta: 22:54:12, time: 2.936, data_time: 0.046, memory: 20669, loss_rpn_cls: 0.0332, loss_rpn_bbox: 0.0200, loss_semantic_seg: 0.1195, s0.loss_cls: 0.3596, s0.acc: 88.6943, s0.loss_bbox: 0.1773, s0.loss_mask: 0.2486, s1.loss_cls: 0.1726, s1.acc: 89.2503, s1.loss_bbox: 0.1568, s1.loss_mask: 0.1066, s2.loss_cls: 0.0813, s2.acc: 90.1731, s2.loss_bbox: 0.0842, s2.loss_mask: 0.0471, loss: 1.6071\n",
      "2021-05-20 13:14:02,140 - mmdet - INFO - Epoch [18][200/655]\tlr: 8.147e-05, eta: 22:51:43, time: 2.930, data_time: 0.046, memory: 20669, loss_rpn_cls: 0.0288, loss_rpn_bbox: 0.0212, loss_semantic_seg: 0.1219, s0.loss_cls: 0.3192, s0.acc: 89.9688, s0.loss_bbox: 0.1662, s0.loss_mask: 0.2264, s1.loss_cls: 0.1443, s1.acc: 90.8919, s1.loss_bbox: 0.1466, s1.loss_mask: 0.0985, s2.loss_cls: 0.0685, s2.acc: 91.2146, s2.loss_bbox: 0.0818, s2.loss_mask: 0.0435, loss: 1.4667\n",
      "2021-05-20 13:16:31,139 - mmdet - INFO - Epoch [18][250/655]\tlr: 8.147e-05, eta: 22:49:21, time: 2.980, data_time: 0.060, memory: 20669, loss_rpn_cls: 0.0294, loss_rpn_bbox: 0.0259, loss_semantic_seg: 0.1148, s0.loss_cls: 0.3227, s0.acc: 89.5674, s0.loss_bbox: 0.1741, s0.loss_mask: 0.2509, s1.loss_cls: 0.1480, s1.acc: 90.4983, s1.loss_bbox: 0.1503, s1.loss_mask: 0.1113, s2.loss_cls: 0.0693, s2.acc: 91.0145, s2.loss_bbox: 0.0811, s2.loss_mask: 0.0488, loss: 1.5265\n",
      "2021-05-20 13:18:55,203 - mmdet - INFO - Epoch [18][300/655]\tlr: 8.147e-05, eta: 22:46:46, time: 2.881, data_time: 0.054, memory: 20669, loss_rpn_cls: 0.0297, loss_rpn_bbox: 0.0211, loss_semantic_seg: 0.1173, s0.loss_cls: 0.3313, s0.acc: 89.5732, s0.loss_bbox: 0.1700, s0.loss_mask: 0.2364, s1.loss_cls: 0.1577, s1.acc: 90.1290, s1.loss_bbox: 0.1552, s1.loss_mask: 0.1032, s2.loss_cls: 0.0746, s2.acc: 90.5770, s2.loss_bbox: 0.0812, s2.loss_mask: 0.0471, loss: 1.5249\n",
      "2021-05-20 13:21:22,396 - mmdet - INFO - Epoch [18][350/655]\tlr: 8.147e-05, eta: 22:44:19, time: 2.944, data_time: 0.055, memory: 20669, loss_rpn_cls: 0.0372, loss_rpn_bbox: 0.0275, loss_semantic_seg: 0.1197, s0.loss_cls: 0.3685, s0.acc: 88.4414, s0.loss_bbox: 0.1953, s0.loss_mask: 0.2433, s1.loss_cls: 0.1688, s1.acc: 89.4338, s1.loss_bbox: 0.1680, s1.loss_mask: 0.1066, s2.loss_cls: 0.0799, s2.acc: 90.0275, s2.loss_bbox: 0.0875, s2.loss_mask: 0.0467, loss: 1.6491\n",
      "2021-05-20 13:23:52,268 - mmdet - INFO - Epoch [18][400/655]\tlr: 8.147e-05, eta: 22:41:58, time: 2.997, data_time: 0.050, memory: 20669, loss_rpn_cls: 0.0318, loss_rpn_bbox: 0.0250, loss_semantic_seg: 0.1179, s0.loss_cls: 0.3520, s0.acc: 89.1768, s0.loss_bbox: 0.1716, s0.loss_mask: 0.2411, s1.loss_cls: 0.1616, s1.acc: 89.9543, s1.loss_bbox: 0.1451, s1.loss_mask: 0.1072, s2.loss_cls: 0.0765, s2.acc: 90.5316, s2.loss_bbox: 0.0810, s2.loss_mask: 0.0484, loss: 1.5593\n",
      "2021-05-20 13:26:19,872 - mmdet - INFO - Epoch [18][450/655]\tlr: 8.147e-05, eta: 22:39:32, time: 2.952, data_time: 0.054, memory: 20669, loss_rpn_cls: 0.0274, loss_rpn_bbox: 0.0222, loss_semantic_seg: 0.1172, s0.loss_cls: 0.3263, s0.acc: 89.6504, s0.loss_bbox: 0.1640, s0.loss_mask: 0.2376, s1.loss_cls: 0.1539, s1.acc: 90.2277, s1.loss_bbox: 0.1446, s1.loss_mask: 0.0995, s2.loss_cls: 0.0725, s2.acc: 90.6373, s2.loss_bbox: 0.0760, s2.loss_mask: 0.0425, loss: 1.4835\n",
      "2021-05-20 13:28:47,372 - mmdet - INFO - Epoch [18][500/655]\tlr: 8.147e-05, eta: 22:37:06, time: 2.950, data_time: 0.048, memory: 20669, loss_rpn_cls: 0.0279, loss_rpn_bbox: 0.0203, loss_semantic_seg: 0.1033, s0.loss_cls: 0.3150, s0.acc: 89.8857, s0.loss_bbox: 0.1685, s0.loss_mask: 0.2274, s1.loss_cls: 0.1440, s1.acc: 90.8412, s1.loss_bbox: 0.1444, s1.loss_mask: 0.0980, s2.loss_cls: 0.0672, s2.acc: 91.3813, s2.loss_bbox: 0.0792, s2.loss_mask: 0.0431, loss: 1.4383\n",
      "2021-05-20 13:31:11,462 - mmdet - INFO - Epoch [18][550/655]\tlr: 8.147e-05, eta: 22:34:31, time: 2.882, data_time: 0.046, memory: 20669, loss_rpn_cls: 0.0262, loss_rpn_bbox: 0.0195, loss_semantic_seg: 0.1127, s0.loss_cls: 0.3256, s0.acc: 89.7393, s0.loss_bbox: 0.1716, s0.loss_mask: 0.2362, s1.loss_cls: 0.1503, s1.acc: 90.3189, s1.loss_bbox: 0.1499, s1.loss_mask: 0.1022, s2.loss_cls: 0.0715, s2.acc: 90.9348, s2.loss_bbox: 0.0793, s2.loss_mask: 0.0456, loss: 1.4906\n",
      "2021-05-20 13:33:37,765 - mmdet - INFO - Epoch [18][600/655]\tlr: 8.147e-05, eta: 22:32:02, time: 2.926, data_time: 0.051, memory: 20669, loss_rpn_cls: 0.0296, loss_rpn_bbox: 0.0204, loss_semantic_seg: 0.1267, s0.loss_cls: 0.3152, s0.acc: 90.0488, s0.loss_bbox: 0.1699, s0.loss_mask: 0.2405, s1.loss_cls: 0.1443, s1.acc: 90.8804, s1.loss_bbox: 0.1458, s1.loss_mask: 0.1073, s2.loss_cls: 0.0673, s2.acc: 91.5124, s2.loss_bbox: 0.0772, s2.loss_mask: 0.0481, loss: 1.4923\n",
      "2021-05-20 13:36:03,806 - mmdet - INFO - Epoch [18][650/655]\tlr: 8.147e-05, eta: 22:29:32, time: 2.921, data_time: 0.059, memory: 20669, loss_rpn_cls: 0.0317, loss_rpn_bbox: 0.0202, loss_semantic_seg: 0.1163, s0.loss_cls: 0.3222, s0.acc: 89.6807, s0.loss_bbox: 0.1667, s0.loss_mask: 0.2439, s1.loss_cls: 0.1462, s1.acc: 90.7411, s1.loss_bbox: 0.1459, s1.loss_mask: 0.1068, s2.loss_cls: 0.0682, s2.acc: 91.2166, s2.loss_bbox: 0.0809, s2.loss_mask: 0.0473, loss: 1.4963\n",
      "2021-05-20 13:36:18,310 - mmdet - INFO - Saving checkpoint at 18 epochs\n"
     ]
    },
    {
     "name": "stdout",
     "output_type": "stream",
     "text": [
      "[>>>>>>>>>>>>>>>>>>>>>>>>>>>>>] 655/655, 3.2 task/s, elapsed: 203s, ETA:     0s"
     ]
    },
    {
     "name": "stderr",
     "output_type": "stream",
     "text": [
      "2021-05-20 13:39:47,731 - mmdet - INFO - Evaluating bbox...\n"
     ]
    },
    {
     "name": "stdout",
     "output_type": "stream",
     "text": [
      "Loading and preparing results...\n",
      "DONE (t=0.77s)\n",
      "creating index...\n",
      "index created!\n",
      "Running per image evaluation...\n",
      "Evaluate annotation type *bbox*\n",
      "DONE (t=7.77s).\n",
      "Accumulating evaluation results...\n"
     ]
    },
    {
     "name": "stderr",
     "output_type": "stream",
     "text": [
      "2021-05-20 13:39:57,930 - mmdet - INFO - Now best checkpoint is epoch_18.pth.Best bbox_mAP_50 is 0.4210\n",
      "2021-05-20 13:39:57,966 - mmdet - INFO - Epoch(val) [18][655]\tbbox_mAP: 0.2750, bbox_mAP_50: 0.4210, bbox_mAP_75: 0.2850, bbox_mAP_s: 0.0700, bbox_mAP_m: 0.2510, bbox_mAP_l: 0.4730, bbox_mAP_copypaste: 0.275 0.421 0.285 0.070 0.251 0.473\n"
     ]
    },
    {
     "name": "stdout",
     "output_type": "stream",
     "text": [
      "DONE (t=1.53s).\n",
      "Average Precision  (AP) @[ IoU=0.50:0.95 | area=   all | maxDets=100 ] = 0.275\n",
      "Average Precision  (AP) @[ IoU=0.50      | area=   all | maxDets=1000 ] = 0.421\n",
      "Average Precision  (AP) @[ IoU=0.75      | area=   all | maxDets=1000 ] = 0.285\n",
      "Average Precision  (AP) @[ IoU=0.50:0.95 | area= small | maxDets=1000 ] = 0.070\n",
      "Average Precision  (AP) @[ IoU=0.50:0.95 | area=medium | maxDets=1000 ] = 0.251\n",
      "Average Precision  (AP) @[ IoU=0.50:0.95 | area= large | maxDets=1000 ] = 0.473\n",
      "Average Recall     (AR) @[ IoU=0.50:0.95 | area=   all | maxDets=100 ] = 0.460\n",
      "Average Recall     (AR) @[ IoU=0.50:0.95 | area=   all | maxDets=300 ] = 0.460\n",
      "Average Recall     (AR) @[ IoU=0.50:0.95 | area=   all | maxDets=1000 ] = 0.460\n",
      "Average Recall     (AR) @[ IoU=0.50:0.95 | area= small | maxDets=1000 ] = 0.197\n",
      "Average Recall     (AR) @[ IoU=0.50:0.95 | area=medium | maxDets=1000 ] = 0.438\n",
      "Average Recall     (AR) @[ IoU=0.50:0.95 | area= large | maxDets=1000 ] = 0.702\n"
     ]
    },
    {
     "name": "stderr",
     "output_type": "stream",
     "text": [
      "2021-05-20 13:42:28,407 - mmdet - INFO - Epoch [19][50/655]\tlr: 7.939e-05, eta: 22:26:24, time: 3.009, data_time: 0.127, memory: 20669, loss_rpn_cls: 0.0234, loss_rpn_bbox: 0.0214, loss_semantic_seg: 0.1144, s0.loss_cls: 0.3065, s0.acc: 89.9121, s0.loss_bbox: 0.1636, s0.loss_mask: 0.2255, s1.loss_cls: 0.1398, s1.acc: 90.7432, s1.loss_bbox: 0.1472, s1.loss_mask: 0.0977, s2.loss_cls: 0.0658, s2.acc: 91.1226, s2.loss_bbox: 0.0796, s2.loss_mask: 0.0431, loss: 1.4280\n",
      "2021-05-20 13:45:00,782 - mmdet - INFO - Epoch [19][100/655]\tlr: 7.939e-05, eta: 22:24:09, time: 3.047, data_time: 0.056, memory: 20669, loss_rpn_cls: 0.0293, loss_rpn_bbox: 0.0210, loss_semantic_seg: 0.1183, s0.loss_cls: 0.3368, s0.acc: 89.3076, s0.loss_bbox: 0.1679, s0.loss_mask: 0.2398, s1.loss_cls: 0.1572, s1.acc: 89.8664, s1.loss_bbox: 0.1463, s1.loss_mask: 0.1056, s2.loss_cls: 0.0742, s2.acc: 90.4224, s2.loss_bbox: 0.0804, s2.loss_mask: 0.0472, loss: 1.5242\n",
      "2021-05-20 13:47:26,585 - mmdet - INFO - Epoch [19][150/655]\tlr: 7.939e-05, eta: 22:21:39, time: 2.916, data_time: 0.051, memory: 20669, loss_rpn_cls: 0.0284, loss_rpn_bbox: 0.0224, loss_semantic_seg: 0.1075, s0.loss_cls: 0.3296, s0.acc: 89.6934, s0.loss_bbox: 0.1578, s0.loss_mask: 0.2246, s1.loss_cls: 0.1536, s1.acc: 90.3422, s1.loss_bbox: 0.1403, s1.loss_mask: 0.0994, s2.loss_cls: 0.0725, s2.acc: 90.8324, s2.loss_bbox: 0.0769, s2.loss_mask: 0.0452, loss: 1.4583\n",
      "2021-05-20 13:49:56,160 - mmdet - INFO - Epoch [19][200/655]\tlr: 7.939e-05, eta: 22:19:17, time: 2.991, data_time: 0.052, memory: 20669, loss_rpn_cls: 0.0288, loss_rpn_bbox: 0.0221, loss_semantic_seg: 0.1231, s0.loss_cls: 0.3173, s0.acc: 89.7754, s0.loss_bbox: 0.1637, s0.loss_mask: 0.2423, s1.loss_cls: 0.1493, s1.acc: 90.6074, s1.loss_bbox: 0.1481, s1.loss_mask: 0.1067, s2.loss_cls: 0.0705, s2.acc: 91.1047, s2.loss_bbox: 0.0817, s2.loss_mask: 0.0473, loss: 1.5010\n",
      "2021-05-20 13:52:26,652 - mmdet - INFO - Epoch [19][250/655]\tlr: 7.939e-05, eta: 22:16:58, time: 3.010, data_time: 0.051, memory: 20669, loss_rpn_cls: 0.0255, loss_rpn_bbox: 0.0185, loss_semantic_seg: 0.1090, s0.loss_cls: 0.2933, s0.acc: 90.5801, s0.loss_bbox: 0.1482, s0.loss_mask: 0.2100, s1.loss_cls: 0.1351, s1.acc: 91.5384, s1.loss_bbox: 0.1308, s1.loss_mask: 0.0905, s2.loss_cls: 0.0646, s2.acc: 91.7631, s2.loss_bbox: 0.0752, s2.loss_mask: 0.0391, loss: 1.3399\n",
      "2021-05-20 13:54:54,581 - mmdet - INFO - Epoch [19][300/655]\tlr: 7.939e-05, eta: 22:14:33, time: 2.959, data_time: 0.049, memory: 20669, loss_rpn_cls: 0.0301, loss_rpn_bbox: 0.0221, loss_semantic_seg: 0.1053, s0.loss_cls: 0.3111, s0.acc: 89.6895, s0.loss_bbox: 0.1712, s0.loss_mask: 0.2292, s1.loss_cls: 0.1424, s1.acc: 90.9416, s1.loss_bbox: 0.1468, s1.loss_mask: 0.0991, s2.loss_cls: 0.0676, s2.acc: 91.5165, s2.loss_bbox: 0.0797, s2.loss_mask: 0.0424, loss: 1.4470\n",
      "2021-05-20 13:57:17,672 - mmdet - INFO - Epoch [19][350/655]\tlr: 7.939e-05, eta: 22:11:56, time: 2.862, data_time: 0.047, memory: 20669, loss_rpn_cls: 0.0307, loss_rpn_bbox: 0.0201, loss_semantic_seg: 0.1143, s0.loss_cls: 0.3232, s0.acc: 89.9092, s0.loss_bbox: 0.1673, s0.loss_mask: 0.2397, s1.loss_cls: 0.1474, s1.acc: 90.9407, s1.loss_bbox: 0.1479, s1.loss_mask: 0.1022, s2.loss_cls: 0.0695, s2.acc: 91.2753, s2.loss_bbox: 0.0793, s2.loss_mask: 0.0445, loss: 1.4860\n",
      "2021-05-20 13:59:45,446 - mmdet - INFO - Epoch [19][400/655]\tlr: 7.939e-05, eta: 22:09:31, time: 2.955, data_time: 0.051, memory: 20669, loss_rpn_cls: 0.0328, loss_rpn_bbox: 0.0259, loss_semantic_seg: 0.1141, s0.loss_cls: 0.3574, s0.acc: 88.5723, s0.loss_bbox: 0.1850, s0.loss_mask: 0.2447, s1.loss_cls: 0.1628, s1.acc: 89.7395, s1.loss_bbox: 0.1603, s1.loss_mask: 0.1073, s2.loss_cls: 0.0754, s2.acc: 90.7579, s2.loss_bbox: 0.0850, s2.loss_mask: 0.0467, loss: 1.5975\n",
      "2021-05-20 14:02:10,067 - mmdet - INFO - Epoch [19][450/655]\tlr: 7.939e-05, eta: 22:06:58, time: 2.892, data_time: 0.049, memory: 20669, loss_rpn_cls: 0.0298, loss_rpn_bbox: 0.0221, loss_semantic_seg: 0.1139, s0.loss_cls: 0.3275, s0.acc: 89.5352, s0.loss_bbox: 0.1722, s0.loss_mask: 0.2317, s1.loss_cls: 0.1495, s1.acc: 90.4008, s1.loss_bbox: 0.1519, s1.loss_mask: 0.0999, s2.loss_cls: 0.0703, s2.acc: 91.0686, s2.loss_bbox: 0.0816, s2.loss_mask: 0.0435, loss: 1.4937\n",
      "2021-05-20 14:04:39,381 - mmdet - INFO - Epoch [19][500/655]\tlr: 7.939e-05, eta: 22:04:36, time: 2.986, data_time: 0.052, memory: 20669, loss_rpn_cls: 0.0343, loss_rpn_bbox: 0.0244, loss_semantic_seg: 0.1097, s0.loss_cls: 0.3369, s0.acc: 89.3994, s0.loss_bbox: 0.1759, s0.loss_mask: 0.2496, s1.loss_cls: 0.1568, s1.acc: 90.3080, s1.loss_bbox: 0.1547, s1.loss_mask: 0.1095, s2.loss_cls: 0.0713, s2.acc: 90.8938, s2.loss_bbox: 0.0831, s2.loss_mask: 0.0486, loss: 1.5546\n",
      "2021-05-20 14:07:11,320 - mmdet - INFO - Epoch [19][550/655]\tlr: 7.939e-05, eta: 22:02:19, time: 3.039, data_time: 0.050, memory: 20669, loss_rpn_cls: 0.0249, loss_rpn_bbox: 0.0194, loss_semantic_seg: 0.1085, s0.loss_cls: 0.3194, s0.acc: 89.9775, s0.loss_bbox: 0.1689, s0.loss_mask: 0.2453, s1.loss_cls: 0.1488, s1.acc: 90.4767, s1.loss_bbox: 0.1462, s1.loss_mask: 0.1094, s2.loss_cls: 0.0691, s2.acc: 91.2291, s2.loss_bbox: 0.0802, s2.loss_mask: 0.0487, loss: 1.4888\n",
      "2021-05-20 14:09:35,578 - mmdet - INFO - Epoch [19][600/655]\tlr: 7.939e-05, eta: 21:59:46, time: 2.885, data_time: 0.054, memory: 20669, loss_rpn_cls: 0.0299, loss_rpn_bbox: 0.0209, loss_semantic_seg: 0.1189, s0.loss_cls: 0.3329, s0.acc: 89.5127, s0.loss_bbox: 0.1692, s0.loss_mask: 0.2363, s1.loss_cls: 0.1547, s1.acc: 90.4103, s1.loss_bbox: 0.1454, s1.loss_mask: 0.1020, s2.loss_cls: 0.0727, s2.acc: 91.1311, s2.loss_bbox: 0.0764, s2.loss_mask: 0.0451, loss: 1.5043\n",
      "2021-05-20 14:12:05,231 - mmdet - INFO - Epoch [19][650/655]\tlr: 7.939e-05, eta: 21:57:24, time: 2.993, data_time: 0.057, memory: 20669, loss_rpn_cls: 0.0293, loss_rpn_bbox: 0.0238, loss_semantic_seg: 0.1231, s0.loss_cls: 0.3550, s0.acc: 88.8477, s0.loss_bbox: 0.1847, s0.loss_mask: 0.2597, s1.loss_cls: 0.1667, s1.acc: 89.5391, s1.loss_bbox: 0.1586, s1.loss_mask: 0.1154, s2.loss_cls: 0.0806, s2.acc: 89.8870, s2.loss_bbox: 0.0827, s2.loss_mask: 0.0525, loss: 1.6321\n",
      "2021-05-20 14:12:19,623 - mmdet - INFO - Saving checkpoint at 19 epochs\n"
     ]
    },
    {
     "name": "stdout",
     "output_type": "stream",
     "text": [
      "[>>>>>>>>>>>>>>>>>>>>>>>>>>>>>] 655/655, 3.2 task/s, elapsed: 205s, ETA:     0s"
     ]
    },
    {
     "name": "stderr",
     "output_type": "stream",
     "text": [
      "2021-05-20 14:15:51,559 - mmdet - INFO - Evaluating bbox...\n"
     ]
    },
    {
     "name": "stdout",
     "output_type": "stream",
     "text": [
      "Loading and preparing results...\n",
      "DONE (t=0.76s)\n",
      "creating index...\n",
      "index created!\n",
      "Running per image evaluation...\n",
      "Evaluate annotation type *bbox*\n",
      "DONE (t=7.77s).\n",
      "Accumulating evaluation results...\n"
     ]
    },
    {
     "name": "stderr",
     "output_type": "stream",
     "text": [
      "2021-05-20 14:16:01,868 - mmdet - INFO - Epoch(val) [19][655]\tbbox_mAP: 0.2730, bbox_mAP_50: 0.4090, bbox_mAP_75: 0.2780, bbox_mAP_s: 0.0690, bbox_mAP_m: 0.2490, bbox_mAP_l: 0.5060, bbox_mAP_copypaste: 0.273 0.409 0.278 0.069 0.249 0.506\n"
     ]
    },
    {
     "name": "stdout",
     "output_type": "stream",
     "text": [
      "DONE (t=1.60s).\n",
      "Average Precision  (AP) @[ IoU=0.50:0.95 | area=   all | maxDets=100 ] = 0.273\n",
      "Average Precision  (AP) @[ IoU=0.50      | area=   all | maxDets=1000 ] = 0.409\n",
      "Average Precision  (AP) @[ IoU=0.75      | area=   all | maxDets=1000 ] = 0.278\n",
      "Average Precision  (AP) @[ IoU=0.50:0.95 | area= small | maxDets=1000 ] = 0.069\n",
      "Average Precision  (AP) @[ IoU=0.50:0.95 | area=medium | maxDets=1000 ] = 0.249\n",
      "Average Precision  (AP) @[ IoU=0.50:0.95 | area= large | maxDets=1000 ] = 0.506\n",
      "Average Recall     (AR) @[ IoU=0.50:0.95 | area=   all | maxDets=100 ] = 0.448\n",
      "Average Recall     (AR) @[ IoU=0.50:0.95 | area=   all | maxDets=300 ] = 0.448\n",
      "Average Recall     (AR) @[ IoU=0.50:0.95 | area=   all | maxDets=1000 ] = 0.448\n",
      "Average Recall     (AR) @[ IoU=0.50:0.95 | area= small | maxDets=1000 ] = 0.190\n",
      "Average Recall     (AR) @[ IoU=0.50:0.95 | area=medium | maxDets=1000 ] = 0.443\n",
      "Average Recall     (AR) @[ IoU=0.50:0.95 | area= large | maxDets=1000 ] = 0.693\n"
     ]
    },
    {
     "name": "stderr",
     "output_type": "stream",
     "text": [
      "2021-05-20 14:18:33,807 - mmdet - INFO - Epoch [20][50/655]\tlr: 7.723e-05, eta: 21:54:21, time: 3.038, data_time: 0.130, memory: 20669, loss_rpn_cls: 0.0314, loss_rpn_bbox: 0.0211, loss_semantic_seg: 0.1111, s0.loss_cls: 0.3207, s0.acc: 89.6816, s0.loss_bbox: 0.1775, s0.loss_mask: 0.2368, s1.loss_cls: 0.1469, s1.acc: 90.4981, s1.loss_bbox: 0.1511, s1.loss_mask: 0.1019, s2.loss_cls: 0.0686, s2.acc: 91.0820, s2.loss_bbox: 0.0784, s2.loss_mask: 0.0443, loss: 1.4898\n",
      "2021-05-20 14:20:59,213 - mmdet - INFO - Epoch [20][100/655]\tlr: 7.723e-05, eta: 21:51:50, time: 2.908, data_time: 0.050, memory: 20669, loss_rpn_cls: 0.0267, loss_rpn_bbox: 0.0231, loss_semantic_seg: 0.1150, s0.loss_cls: 0.3365, s0.acc: 89.2207, s0.loss_bbox: 0.1768, s0.loss_mask: 0.2438, s1.loss_cls: 0.1564, s1.acc: 89.9537, s1.loss_bbox: 0.1575, s1.loss_mask: 0.1063, s2.loss_cls: 0.0736, s2.acc: 90.4174, s2.loss_bbox: 0.0838, s2.loss_mask: 0.0474, loss: 1.5467\n",
      "2021-05-20 14:23:25,928 - mmdet - INFO - Epoch [20][150/655]\tlr: 7.723e-05, eta: 21:49:22, time: 2.934, data_time: 0.045, memory: 20669, loss_rpn_cls: 0.0285, loss_rpn_bbox: 0.0209, loss_semantic_seg: 0.1146, s0.loss_cls: 0.3224, s0.acc: 89.8857, s0.loss_bbox: 0.1637, s0.loss_mask: 0.2348, s1.loss_cls: 0.1496, s1.acc: 90.7023, s1.loss_bbox: 0.1482, s1.loss_mask: 0.1035, s2.loss_cls: 0.0705, s2.acc: 90.9576, s2.loss_bbox: 0.0821, s2.loss_mask: 0.0466, loss: 1.4854\n",
      "2021-05-20 14:25:55,602 - mmdet - INFO - Epoch [20][200/655]\tlr: 7.723e-05, eta: 21:47:01, time: 2.993, data_time: 0.046, memory: 20669, loss_rpn_cls: 0.0306, loss_rpn_bbox: 0.0197, loss_semantic_seg: 0.1187, s0.loss_cls: 0.2968, s0.acc: 90.4932, s0.loss_bbox: 0.1604, s0.loss_mask: 0.2200, s1.loss_cls: 0.1324, s1.acc: 91.6659, s1.loss_bbox: 0.1398, s1.loss_mask: 0.0956, s2.loss_cls: 0.0612, s2.acc: 92.4536, s2.loss_bbox: 0.0792, s2.loss_mask: 0.0429, loss: 1.3973\n",
      "2021-05-20 14:28:20,682 - mmdet - INFO - Epoch [20][250/655]\tlr: 7.723e-05, eta: 21:44:29, time: 2.902, data_time: 0.048, memory: 20669, loss_rpn_cls: 0.0300, loss_rpn_bbox: 0.0209, loss_semantic_seg: 0.1137, s0.loss_cls: 0.3235, s0.acc: 89.6982, s0.loss_bbox: 0.1753, s0.loss_mask: 0.2423, s1.loss_cls: 0.1495, s1.acc: 90.4859, s1.loss_bbox: 0.1529, s1.loss_mask: 0.1068, s2.loss_cls: 0.0686, s2.acc: 91.0948, s2.loss_bbox: 0.0795, s2.loss_mask: 0.0469, loss: 1.5099\n",
      "2021-05-20 14:30:48,907 - mmdet - INFO - Epoch [20][300/655]\tlr: 7.723e-05, eta: 21:42:05, time: 2.964, data_time: 0.054, memory: 20669, loss_rpn_cls: 0.0284, loss_rpn_bbox: 0.0207, loss_semantic_seg: 0.1208, s0.loss_cls: 0.3260, s0.acc: 89.5029, s0.loss_bbox: 0.1756, s0.loss_mask: 0.2261, s1.loss_cls: 0.1490, s1.acc: 90.2638, s1.loss_bbox: 0.1518, s1.loss_mask: 0.0965, s2.loss_cls: 0.0699, s2.acc: 90.7794, s2.loss_bbox: 0.0827, s2.loss_mask: 0.0425, loss: 1.4899\n",
      "2021-05-20 14:33:14,354 - mmdet - INFO - Epoch [20][350/655]\tlr: 7.723e-05, eta: 21:39:34, time: 2.909, data_time: 0.052, memory: 20669, loss_rpn_cls: 0.0259, loss_rpn_bbox: 0.0213, loss_semantic_seg: 0.1136, s0.loss_cls: 0.3314, s0.acc: 89.2588, s0.loss_bbox: 0.1671, s0.loss_mask: 0.2371, s1.loss_cls: 0.1518, s1.acc: 90.0387, s1.loss_bbox: 0.1488, s1.loss_mask: 0.1062, s2.loss_cls: 0.0740, s2.acc: 90.3669, s2.loss_bbox: 0.0832, s2.loss_mask: 0.0485, loss: 1.5089\n",
      "2021-05-20 14:35:43,431 - mmdet - INFO - Epoch [20][400/655]\tlr: 7.723e-05, eta: 21:37:11, time: 2.982, data_time: 0.046, memory: 20669, loss_rpn_cls: 0.0312, loss_rpn_bbox: 0.0231, loss_semantic_seg: 0.1187, s0.loss_cls: 0.3077, s0.acc: 90.1094, s0.loss_bbox: 0.1592, s0.loss_mask: 0.2234, s1.loss_cls: 0.1389, s1.acc: 91.0778, s1.loss_bbox: 0.1391, s1.loss_mask: 0.0958, s2.loss_cls: 0.0658, s2.acc: 91.5922, s2.loss_bbox: 0.0817, s2.loss_mask: 0.0431, loss: 1.4277\n",
      "2021-05-20 14:38:11,452 - mmdet - INFO - Epoch [20][450/655]\tlr: 7.723e-05, eta: 21:34:46, time: 2.960, data_time: 0.048, memory: 20669, loss_rpn_cls: 0.0234, loss_rpn_bbox: 0.0196, loss_semantic_seg: 0.1129, s0.loss_cls: 0.3033, s0.acc: 90.3574, s0.loss_bbox: 0.1532, s0.loss_mask: 0.2218, s1.loss_cls: 0.1407, s1.acc: 91.0358, s1.loss_bbox: 0.1361, s1.loss_mask: 0.0930, s2.loss_cls: 0.0661, s2.acc: 91.5847, s2.loss_bbox: 0.0732, s2.loss_mask: 0.0421, loss: 1.3855\n",
      "2021-05-20 14:40:44,335 - mmdet - INFO - Epoch [20][500/655]\tlr: 7.723e-05, eta: 21:32:30, time: 3.058, data_time: 0.051, memory: 20669, loss_rpn_cls: 0.0331, loss_rpn_bbox: 0.0235, loss_semantic_seg: 0.1238, s0.loss_cls: 0.3297, s0.acc: 89.3154, s0.loss_bbox: 0.1764, s0.loss_mask: 0.2368, s1.loss_cls: 0.1534, s1.acc: 90.1430, s1.loss_bbox: 0.1527, s1.loss_mask: 0.1041, s2.loss_cls: 0.0725, s2.acc: 90.4226, s2.loss_bbox: 0.0803, s2.loss_mask: 0.0457, loss: 1.5321\n"
     ]
    }
   ],
   "source": [
    "train_detector(model, datasets[0], cfg, distributed=False, validate=True)"
   ]
  },
  {
   "cell_type": "code",
   "execution_count": null,
   "metadata": {},
   "outputs": [],
   "source": []
  }
 ],
 "metadata": {
  "kernelspec": {
   "display_name": "Python 3",
   "language": "python",
   "name": "python3"
  },
  "language_info": {
   "codemirror_mode": {
    "name": "ipython",
    "version": 3
   },
   "file_extension": ".py",
   "mimetype": "text/x-python",
   "name": "python",
   "nbconvert_exporter": "python",
   "pygments_lexer": "ipython3",
   "version": "3.7.7"
  },
  "pycharm": {
   "stem_cell": {
    "cell_type": "raw",
    "metadata": {
     "collapsed": false
    },
    "source": []
   }
  }
 },
 "nbformat": 4,
 "nbformat_minor": 4
}
