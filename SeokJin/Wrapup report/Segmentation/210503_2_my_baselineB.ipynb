{
 "metadata": {
  "language_info": {
   "codemirror_mode": {
    "name": "ipython",
    "version": 3
   },
   "file_extension": ".py",
   "mimetype": "text/x-python",
   "name": "python",
   "nbconvert_exporter": "python",
   "pygments_lexer": "ipython3",
   "version": "3.7.7"
  },
  "orig_nbformat": 2,
  "kernelspec": {
   "name": "python377jvsc74a57bd098b0a9b7b4eaaa670588a142fd0a9b87eaafe866f1db4228be72b4211d12040f",
   "display_name": "Python 3.7.7 64-bit ('base': conda)"
  }
 },
 "nbformat": 4,
 "nbformat_minor": 2,
 "cells": [
  {
   "cell_type": "code",
   "execution_count": 56,
   "metadata": {},
   "outputs": [
    {
     "output_type": "stream",
     "name": "stdout",
     "text": [
      "/opt/ml/code\n"
     ]
    }
   ],
   "source": [
    "cd /opt/ml/code"
   ]
  },
  {
   "cell_type": "code",
   "execution_count": 57,
   "metadata": {},
   "outputs": [
    {
     "output_type": "stream",
     "name": "stdout",
     "text": [
      "pytorch version: 1.7.1\nGPU 사용 가능 여부: True\nTesla P40\n1\n"
     ]
    }
   ],
   "source": [
    "import random\n",
    "import json\n",
    "\n",
    "import torch\n",
    "import torch.nn as nn\n",
    "import torch.nn.functional as F\n",
    "import segmentation_models_pytorch as smp\n",
    "from torch.utils.data import Dataset, DataLoader\n",
    "from torch.optim.lr_scheduler import StepLR, ExponentialLR\n",
    "from torch.optim.sgd import SGD\n",
    "from adamp import AdamP\n",
    "\n",
    "from warmup_scheduler import GradualWarmupScheduler\n",
    "from utils_modified import label_accuracy_score, add_hist\n",
    "\n",
    "import cv2\n",
    "\n",
    "import numpy as np\n",
    "import pandas as pd\n",
    "\n",
    "from pycocotools.coco import COCO\n",
    "import torchvision\n",
    "import torchvision.transforms as transforms\n",
    "\n",
    "import albumentations as A\n",
    "from albumentations.pytorch import ToTensorV2\n",
    "\n",
    "%matplotlib inline\n",
    "import matplotlib.pyplot as plt\n",
    "import seaborn as sns\n",
    "\n",
    "from tqdm.notebook import tqdm\n",
    "import timeit\n",
    "\n",
    "print(f'pytorch version: {torch.__version__}')\n",
    "print(f'GPU 사용 가능 여부: {torch.cuda.is_available()}')\n",
    "print(torch.cuda.get_device_name(0))\n",
    "print(torch.cuda.device_count())\n",
    "\n",
    "device = 'cuda' if torch.cuda.is_available() else 'cpu'"
   ]
  },
  {
   "cell_type": "code",
   "execution_count": 58,
   "metadata": {},
   "outputs": [],
   "source": [
    "def set_seed(seed=21):\n",
    "    random.seed(seed)\n",
    "    np.random.seed(seed)\n",
    "    torch.manual_seed(seed)\n",
    "    torch.cuda.manual_seed(seed)\n",
    "    torch.backends.cudnn.deterministic = True\n",
    "    torch.backends.cudnn.benchmark = False\n",
    "    #torch.set_deterministic(True)\n",
    "\n",
    "def seed_worker(worker_id):\n",
    "    worker_seed = torch.initial_seed() % 2**32\n",
    "    np.random.seed(worker_seed)\n",
    "    random.seed(worker_seed)"
   ]
  },
  {
   "source": [
    "# 테스트 함수"
   ],
   "cell_type": "markdown",
   "metadata": {}
  },
  {
   "cell_type": "code",
   "execution_count": 59,
   "metadata": {},
   "outputs": [],
   "source": [
    "def EDA():\n",
    "    with open(anns_file_path, 'r') as f:\n",
    "        dataset = json.loads(f.read())\n",
    "\n",
    "    categories = dataset['categories']\n",
    "    anns = dataset['annotations']\n",
    "    imgs = dataset['images']\n",
    "    nr_cats = len(categories)\n",
    "    nr_annotations = len(anns)\n",
    "    nr_images = len(imgs)\n",
    "\n",
    "    cat_names = []\n",
    "    super_cat_names = []\n",
    "    super_cat_ids = {}\n",
    "    super_cat_last_name = ''\n",
    "    nr_super_cats = 0\n",
    "    for cat_it in categories:\n",
    "        cat_names.append(cat_it['name'])\n",
    "        super_cat_name = cat_it['supercategory']\n",
    "        if super_cat_name != super_cat_last_name:\n",
    "            super_cat_names.append(super_cat_name)\n",
    "            super_cat_ids[super_cat_name] = nr_super_cats\n",
    "            nr_super_cats += 1\n",
    "    print('Number of super categories:', nr_super_cats)\n",
    "    print('Number of categories:', nr_cats)\n",
    "    print('Number of annotations:', nr_annotations)\n",
    "    print('Number of images:', nr_images)\n",
    "\n",
    "    cat_histogram = np.zeros(nr_cats, dtype=int)\n",
    "    for ann_it in anns:\n",
    "        cat_histogram[ann_it['category_id']] += 1\n",
    "\n",
    "    f, ax = plt.subplots(figsize=(5, 5))\n",
    "    df = pd.DataFrame({'Categories': cat_names, 'Number of annotations':cat_histogram})\n",
    "\n",
    "    plt.title('category distribution of train set')\n",
    "    sns.barplot(x='Number of annotations', y='Categories', data=df.sort_values('Number of annotations', ascending=False), label='Total', color='b')\n",
    "    plt.show()"
   ]
  },
  {
   "cell_type": "code",
   "execution_count": 60,
   "metadata": {},
   "outputs": [],
   "source": [
    "def test_dataloader(dataloader, idx=0):\n",
    "    data = iter(dataloader).next()\n",
    "    if len(data) == 3:\n",
    "        imgs, masks, image_infos = data\n",
    "        img = imgs[idx]\n",
    "        mask = masks[idx]\n",
    "        image_info = image_infos[idx]\n",
    "\n",
    "        fig, axes = plt.subplots(1, 2, figsize=(12, 12))\n",
    "        print('image shape:', list(img.shape))\n",
    "        print('mask shape:', list(mask.shape))\n",
    "        print('Unique values, category of transformed mask:\\n', {int(i):category_names[int(i)] for i in list(np.unique(mask))})\n",
    "\n",
    "        axes[0].imshow((np.array(img.permute([1, 2, 0]))).astype(np.uint8))\n",
    "        axes[0].grid(False)\n",
    "        axes[0].set_title('imput image:' + str(image_info['file_name']), fontsize=15)\n",
    "\n",
    "        axes[1].imshow(mask)\n",
    "        axes[1].grid(False)\n",
    "        axes[1].set_title('masks :' + str(image_info['file_name']), fontsize=15)\n",
    "\n",
    "        plt.show()\n",
    "    elif len(data) == 2:\n",
    "        imgs, image_infos = iter(dataloader).next()\n",
    "        img = imgs[0]\n",
    "        image_info = image_infos[0]\n",
    "\n",
    "        fig, ax = plt.subplots(figsize=(6, 6))\n",
    "        print('image shape:', list(img.shape))\n",
    "\n",
    "        ax.imshow(img.permute([1, 2, 0]))\n",
    "        ax.grid(False)\n",
    "        ax.set_title('input image:' + str(image_info['file_name']), fontsize=15)\n",
    "\n",
    "        plt.show()"
   ]
  },
  {
   "cell_type": "code",
   "execution_count": 61,
   "metadata": {},
   "outputs": [],
   "source": [
    "def test_eval_model(model, dataloader, idx=0):\n",
    "    for imgs, image_infos in dataloader:\n",
    "        model.eval()\n",
    "        outs = model(torch.stack(imgs).to(device))\n",
    "        outs = torch.argmax(outs.squeeze(), dim=1).detach().cpu().numpy()\n",
    "        break\n",
    "\n",
    "    imgs = imgs[idx]\n",
    "    image_infos = image_infos[idx]\n",
    "    outs = outs[idx]\n",
    "\n",
    "    fig, axes = plt.subplots(1, 2, figsize=(16, 16))\n",
    "    print('Shape of Original Image:', list(imgs.shape))\n",
    "    print('Shape of Predicted:', list(outs.shape))\n",
    "    print('Unique values, category of transformed mask\\n', {int(i):category_names[int(i)] for i in list(np.unique(outs))})\n",
    "\n",
    "    axes[0].imshow(imgs.permute([1,2,0]))\n",
    "    axes[0].grid(False)\n",
    "    axes[0].set_title('Original image:' + str(image_infos['file_name']), fontsize=15)\n",
    "\n",
    "    axes[1].imshow(outs)\n",
    "    axes[1].grid(False)\n",
    "    axes[1].set_title('Predicted:' + str(image_infos['file_name']), fontsize=15)\n",
    "\n",
    "    plt.show()"
   ]
  },
  {
   "source": [
    "# 데이터 셋 / 로더"
   ],
   "cell_type": "markdown",
   "metadata": {}
  },
  {
   "cell_type": "code",
   "execution_count": 62,
   "metadata": {},
   "outputs": [],
   "source": [
    "class CustomDataset(Dataset):\n",
    "    def __init__(self, data_dir, mode, transform):\n",
    "        super().__init__()\n",
    "        self.mode = mode\n",
    "        self.transform = transform\n",
    "        self.coco = COCO(data_dir)\n",
    "        self.aug = A.Compose([\n",
    "            A.HorizontalFlip(),\n",
    "            A.VerticalFlip(),\n",
    "            A.RandomRotate90(),\n",
    "            A.OneOf([\n",
    "                A.MotionBlur(p=1.0),\n",
    "                A.OpticalDistortion(p=1.0)\n",
    "            ], p=2/3),\n",
    "        ])\n",
    "    \n",
    "    def __getitem__(self, index:int):\n",
    "        image_infos = self.coco.loadImgs(index)[0]\n",
    "\n",
    "        images = cv2.imread(os.path.join(dataset_path, image_infos['file_name']))\n",
    "        images = cv2.cvtColor(images, cv2.COLOR_BGR2RGB).astype(np.float32)\n",
    "        #images /= 255.0\n",
    "\n",
    "        if self.mode in ('train', 'val'):\n",
    "            ann_ids = self.coco.getAnnIds(imgIds=image_infos['id'])\n",
    "            anns = self.coco.loadAnns(ann_ids)\n",
    "\n",
    "            masks = np.zeros((image_infos['height'], image_infos['width']))\n",
    "            for ann in anns:\n",
    "                masks = np.maximum(self.coco.annToMask(ann) * (ann['category_id'] + 1), masks)\n",
    "            \n",
    "            images, masks = A.Resize(image_size, image_size)(image=images, mask=masks).values()\n",
    "            images_aug, masks_aug = self.aug(image=images, mask=masks).values()\n",
    "            images, masks = self.transform(image=images, mask=masks).values()\n",
    "            images_aug, masks_aug = self.transform(image=images_aug, mask=masks_aug).values()\n",
    "            return ((images, masks, image_infos), (images_aug, masks_aug, image_infos))\n",
    "        \n",
    "        if self.mode == 'test':\n",
    "            images = self.transform(image=images)['image']\n",
    "            return ((images, image_infos), )\n",
    "\n",
    "    def __len__(self) -> int:\n",
    "        return len(self.coco.getImgIds())"
   ]
  },
  {
   "cell_type": "code",
   "execution_count": 63,
   "metadata": {},
   "outputs": [],
   "source": [
    "def get_dataloader():\n",
    "    train_dataset = CustomDataset(data_dir=train_path, mode='train',transform=train_transform)\n",
    "    val_dataset = CustomDataset(data_dir=val_path, mode='val', transform=val_transform)\n",
    "    test_dataset = CustomDataset(data_dir=test_path, mode='test', transform=test_transform)\n",
    "\n",
    "    def collate_fn(x):\n",
    "        x = np.array(x).transpose(2, 0, 1)\n",
    "        a, b, c = x.shape\n",
    "        x = np.reshape(x, (a, b * c))\n",
    "        return x.tolist()\n",
    "\n",
    "    train_loader = torch.utils.data.DataLoader(dataset=train_dataset, \n",
    "                                            batch_size=batch_size,\n",
    "                                            shuffle=True,\n",
    "                                            num_workers=4,\n",
    "                                            collate_fn=collate_fn,\n",
    "                                            drop_last=True,\n",
    "                                            worker_init_fn=seed_worker)\n",
    "\n",
    "    val_loader = torch.utils.data.DataLoader(dataset=val_dataset, \n",
    "                                            batch_size=batch_size,\n",
    "                                            shuffle=False,\n",
    "                                            num_workers=4,\n",
    "                                            collate_fn=collate_fn,\n",
    "                                            worker_init_fn=seed_worker)\n",
    "\n",
    "    test_loader = torch.utils.data.DataLoader(dataset=test_dataset,\n",
    "                                            batch_size=batch_size,\n",
    "                                            num_workers=4,\n",
    "                                            collate_fn=collate_fn,\n",
    "                                            worker_init_fn=seed_worker)\n",
    "    return train_loader, val_loader, test_loader"
   ]
  },
  {
   "cell_type": "code",
   "execution_count": 64,
   "metadata": {},
   "outputs": [],
   "source": [
    "def get_folded_dataloader(kfold=5):\n",
    "    train_dataset = CustomDataset(data_dir=train_all_path, mode='train',transform=train_transform)\n",
    "\n",
    "    train_all_size = len(train_dataset)\n",
    "    size_list = [train_all_size // kfold] * kfold\n",
    "    size_list = [train_all_size // kfold] * kfold\n",
    "    for i in range(train_all_size % kfold):\n",
    "        size_list[i] += 1\n",
    "    train_dataset_list = torch.utils.data.random_split(train_dataset, size_list)\n",
    "\n",
    "    def collate_fn(batch):\n",
    "        return tuple(zip(*batch))\n",
    "\n",
    "    for k in range(kfold):\n",
    "        train_loader = torch.utils.data.ConcatDataset(train_dataset_list[:k] + train_dataset_list[k + 1:])\n",
    "        val_loader = train_dataset_list[k]\n",
    "\n",
    "        train_loader = torch.utils.data.DataLoader(dataset=train_loader, \n",
    "                                                    batch_size=batch_size,\n",
    "                                                    shuffle=True,\n",
    "                                                    num_workers=4,\n",
    "                                                    collate_fn=collate_fn,\n",
    "                                                    drop_last=True,\n",
    "                                                    worker_init_fn=seed_worker)\n",
    "        \n",
    "        val_loader = torch.utils.data.DataLoader(dataset=val_loader, \n",
    "                                                    batch_size=batch_size,\n",
    "                                                    shuffle=True,\n",
    "                                                    num_workers=4,\n",
    "                                                    collate_fn=collate_fn,\n",
    "                                                    drop_last=True,\n",
    "                                                    worker_init_fn=seed_worker)\n",
    "\n",
    "        yield train_loader, val_loader"
   ]
  },
  {
   "source": [
    "# 학습 / 추론"
   ],
   "cell_type": "markdown",
   "metadata": {}
  },
  {
   "cell_type": "code",
   "execution_count": 65,
   "metadata": {},
   "outputs": [],
   "source": [
    "def train(identifier, num_epochs, model, data_loader, val_loader, criterion, optimizer, scheduler, saved_dir, val_every=1, device='cuda', print_log=True):\n",
    "    if print_log:\n",
    "        print('Start training')\n",
    "    best_mIoU = 0\n",
    "    hist_mIoU = []\n",
    "    epoch_begin = 0\n",
    "\n",
    "    name = str(type(model.encoder)).split('.')[-1]\n",
    "    name += ' ' + str(type(model.decoder)).split('.')[-1]\n",
    "\n",
    "    for epoch in tqdm(range(0, num_epochs), desc=name):\n",
    "        if scheduler is not None:\n",
    "            scheduler.step(epoch)\n",
    "        if print_log:\n",
    "            print(f\"optimizer{optimizer.param_groups[0]['lr']}\")\n",
    "        model.train()\n",
    "        for step, (images, masks, _) in tqdm(enumerate(data_loader), desc='Training', leave=False, total=len(data_loader)):\n",
    "            images = torch.stack(images).to(device)\n",
    "            masks = torch.stack(masks).long().to(device)\n",
    "\n",
    "            optimizer.zero_grad()\n",
    "\n",
    "            outputs = model(images)\n",
    "            loss = criterion(outputs, masks)\n",
    "            loss.backward()\n",
    "            optimizer.step()\n",
    "\n",
    "            if print_log:\n",
    "                if (step + 1) % 25 == 0:\n",
    "                    print(f'Epoch[{epoch + 1}/{num_epochs}], Step[{step + 1}/{len(data_loader)}], Loss: {loss.item():.4f}')\n",
    "                    \n",
    "        if (epoch + 1) % val_every == 0:\n",
    "            mIoU = validation(epoch + 1, model, val_loader, criterion, device, print_log)\n",
    "            hist_mIoU.append(mIoU)\n",
    "            if mIoU > best_mIoU:\n",
    "                if print_log:\n",
    "                    print(f'Best performance at epoch: {epoch + 1}')\n",
    "                    print('Save model in', saved_dir)\n",
    "                best_mIoU = mIoU\n",
    "                save_model(identifier, model, saved_dir)\n",
    "\n",
    "    return hist_mIoU"
   ]
  },
  {
   "cell_type": "code",
   "execution_count": 66,
   "metadata": {},
   "outputs": [],
   "source": [
    "def validation(epoch, model, data_loader, criterion, device, print_log=True):\n",
    "    if print_log:\n",
    "        print(f'Start validation #{epoch}')\n",
    "    model.eval()\n",
    "    with torch.no_grad():\n",
    "        hist = np.zeros((N_CLASSES, N_CLASSES))\n",
    "        for step, (images, masks, _) in tqdm(enumerate(data_loader), desc='Validation', leave=False, total=len(data_loader)):\n",
    "            images = torch.stack(images).to(device)\n",
    "            masks = torch.stack(masks).long().to(device)\n",
    "            outputs = model(images)\n",
    "\n",
    "            loss = criterion(outputs, masks)\n",
    "\n",
    "            outputs = torch.argmax(outputs.squeeze(), dim=1)\n",
    "            outputs = outputs.detach().cpu().numpy()\n",
    "            masks = masks.detach().cpu().numpy()\n",
    "            hist = add_hist(hist, masks, outputs, n_class=N_CLASSES)\n",
    "        \n",
    "        acc, acc_cls, mIoU, fwavacc = label_accuracy_score(hist)\n",
    "        if print_log:\n",
    "            print(f'Validation #{epoch} mIoU: {mIoU:.4f}')\n",
    "    return mIoU"
   ]
  },
  {
   "cell_type": "code",
   "execution_count": 67,
   "metadata": {},
   "outputs": [],
   "source": [
    "def save_model(identifier, model, saved_path):\n",
    "    file_name = f'{identifier}.pt'\n",
    "    os.makedirs(saved_path, exist_ok=True)\n",
    "    check_point = {'net':model.state_dict()}\n",
    "    output_path = os.path.join(saved_path, file_name)\n",
    "    torch.save(model.state_dict(), output_path)"
   ]
  },
  {
   "cell_type": "code",
   "execution_count": 68,
   "metadata": {},
   "outputs": [],
   "source": [
    "def load_model(identifier, model, saved_path):\n",
    "    load_dir = saved_path + f'/{identifier}.pt'\n",
    "    checkpoint = torch.load(load_dir, map_location=device)\n",
    "    model.load_state_dict(checkpoint)\n",
    "    return model"
   ]
  },
  {
   "cell_type": "code",
   "execution_count": 69,
   "metadata": {},
   "outputs": [],
   "source": [
    "def test(model, data_loader, device):\n",
    "    size = 256\n",
    "    transform = A.Compose([A.Resize(256, 256)])\n",
    "    print('Start prediction')\n",
    "    print(model, type(model))\n",
    "    model.eval()\n",
    "\n",
    "    file_name_list = []\n",
    "    preds_array = np.empty((0, size*size), dtype=np.long)\n",
    "    \n",
    "    with torch.no_grad():\n",
    "        for step, (imgs, image_infos) in tqdm(enumerate(data_loader), total=len(data_loader)):\n",
    "            outs = model(torch.stack(imgs).to(device))\n",
    "            outs = torch.argmax(outs, dim=1).detach().cpu().numpy()\n",
    "\n",
    "            masks = []\n",
    "            for img, mask in zip(np.stack(imgs), outs):\n",
    "                img, mask = transform(image=img, mask=mask).values()\n",
    "                masks.append(mask)\n",
    "            outs = np.array(masks)\n",
    "            outs = outs.reshape([outs.shape[0], size * size]).astype(int)\n",
    "            preds_array = np.vstack((preds_array, outs))\n",
    "\n",
    "            file_name_list.append([i['file_name'] for i in image_infos])\n",
    "    print('End prediction.')\n",
    "    file_names = [y for x in file_name_list for y in x]\n",
    "    return file_names, preds_array"
   ]
  },
  {
   "cell_type": "code",
   "execution_count": 70,
   "metadata": {},
   "outputs": [],
   "source": [
    "def make_submission(identifier, model, dataloader):\n",
    "    submission = pd.read_csv('./submission/sample_submission.csv', index_col=None)\n",
    "    file_names, preds = test(model, dataloader, device)\n",
    "\n",
    "    for file_name, string in zip(file_names, preds):\n",
    "        submission = submission.append({'image_id':file_name, 'PredictionString':' '.join(str(e) for e in string.tolist())}, ignore_index=True)\n",
    "\n",
    "    submission.to_csv(submission_path + f'/{identifier}.csv', index=False)"
   ]
  },
  {
   "cell_type": "code",
   "execution_count": 71,
   "metadata": {},
   "outputs": [],
   "source": [
    "def model_test(encoder_list, decoder_list):\n",
    "    model_test_result = []\n",
    "    for encoder in encoder_list:\n",
    "        for  decoder in decoder_list:\n",
    "            set_seed(random_seed)\n",
    "            try:\n",
    "                if decoder == 'DeepLabV3Plus':\n",
    "                    model = smp.DeepLabV3Plus(\n",
    "                        encoder_name=encoder,\n",
    "                        encoder_weights=\"imagenet\",\n",
    "                        in_channels=3,\n",
    "                        classes=N_CLASSES,\n",
    "                    )\n",
    "                else:\n",
    "                    raise 'decoder does not exist'\n",
    "                criterion = nn.CrossEntropyLoss()\n",
    "                optimizer = torch.optim.Adam(params=model.parameters(), lr=learning_rate, weight_decay=1e-6)\n",
    "                model = model.to(device)\n",
    "                start_time = timeit.default_timer()\n",
    "                mIoU = train(num_epochs, model, train_loader, val_loader, criterion, optimizer, saved_path, val_every, device, print_log=False)\n",
    "                end_time = timeit.default_timer()\n",
    "                time = end_time - start_time\n",
    "                stat = {'encoder' : encoder, 'decoder' : decoder, 'mIoU' : mIoU, 'time' : time}\n",
    "            except Exception as e:\n",
    "                stat = {'encoder' : encoder, 'decoder' : decoder, 'error' : e}\n",
    "                pass\n",
    "            print(stat)\n",
    "            model_test_result.append(stat)\n",
    "    return model_test_result"
   ]
  },
  {
   "cell_type": "code",
   "execution_count": 72,
   "metadata": {},
   "outputs": [],
   "source": [
    "class LabelSmoothingLoss(nn.Module):\n",
    "    def __init__(self, classes=12, smoothing=0.1, dim=-1):\n",
    "        super(LabelSmoothingLoss, self).__init__()\n",
    "        self.confidence = 1.0 - smoothing\n",
    "        self.smoothing = smoothing\n",
    "        self.cls = classes\n",
    "        self.dim = dim\n",
    "\n",
    "    def forward(self, pred, target):\n",
    "        pred = pred.log_softmax(dim=self.dim)\n",
    "        with torch.no_grad():\n",
    "            # true_dist = pred.data.clone()\n",
    "            true_dist = torch.zeros_like(pred)\n",
    "            true_dist.fill_(self.smoothing / (self.cls - 1))\n",
    "            true_dist.scatter_(1, target.data.unsqueeze(1), self.confidence)\n",
    "        return torch.mean(torch.sum(-true_dist * pred, dim=self.dim))\n",
    "    \n",
    "class FocalLoss(nn.Module):\n",
    "    def __init__(self, weight=None,\n",
    "                 gamma=2., reduction='mean'):\n",
    "        nn.Module.__init__(self)\n",
    "        self.weight = weight\n",
    "        self.gamma = gamma\n",
    "        self.reduction = reduction\n",
    "\n",
    "    def forward(self, input_tensor, target_tensor):\n",
    "        log_prob = F.log_softmax(input_tensor, dim=-1)\n",
    "        prob = torch.exp(log_prob)\n",
    "        return F.nll_loss(\n",
    "            ((1 - prob) ** self.gamma) * log_prob,\n",
    "            target_tensor,\n",
    "            weight=self.weight,\n",
    "            reduction=self.reduction\n",
    "        )\n",
    "    \n",
    "class CustomLoss():\n",
    "    def __init__(self, w1, w2, device):\n",
    "        self.w1 = w1\n",
    "        self.w2 = w2\n",
    "        self.CrossEntropyLoss = nn.CrossEntropyLoss().to(device)\n",
    "        self.FocalLoss = FocalLoss().to(device)\n",
    "    \n",
    "    def __call__(self, predict, y):\n",
    "        loss1 = self.CrossEntropyLoss(predict, y)\n",
    "        loss2 = self.FocalLoss(predict, y)\n",
    "        return loss1 * self.w1 + loss2 * self.w2"
   ]
  },
  {
   "cell_type": "code",
   "execution_count": 73,
   "metadata": {},
   "outputs": [],
   "source": [
    "class GradualWarmupSchedulerV2(GradualWarmupScheduler):\n",
    "    def __init__(self, optimizer, multiplier, total_epoch, after_scheduler=None):\n",
    "        super(GradualWarmupSchedulerV2, self).__init__(optimizer, multiplier, total_epoch, after_scheduler)\n",
    "    def get_lr(self):\n",
    "        if self.last_epoch > self.total_epoch:\n",
    "            if self.after_scheduler:\n",
    "                if not self.finished:\n",
    "                    self.after_scheduler.base_lrs = [base_lr * self.multiplier for base_lr in self.base_lrs]\n",
    "                    self.finished = True\n",
    "                return self.after_scheduler.get_lr()\n",
    "            return [base_lr * self.multiplier for base_lr in self.base_lrs]\n",
    "        if self.multiplier == 1.0:\n",
    "            return [base_lr * (float(self.last_epoch) / self.total_epoch) for base_lr in self.base_lrs]\n",
    "        else:\n",
    "            return [base_lr * ((self.multiplier - 1.) * self.last_epoch / self.total_epoch + 1.) for base_lr in self.base_lrs]"
   ]
  },
  {
   "source": [
    "# 하이퍼파라미터"
   ],
   "cell_type": "markdown",
   "metadata": {}
  },
  {
   "cell_type": "code",
   "execution_count": 75,
   "metadata": {},
   "outputs": [
    {
     "output_type": "stream",
     "name": "stderr",
     "text": [
      "Downloading: \"https://github.com/lukemelas/EfficientNet-PyTorch/releases/download/1.0/efficientnet-b4-6ed6700e.pth\" to /opt/ml/.cache/torch/hub/checkpoints/efficientnet-b4-6ed6700e.pth\n"
     ]
    },
    {
     "output_type": "display_data",
     "data": {
      "text/plain": "  0%|          | 0.00/74.4M [00:00<?, ?B/s]",
      "application/vnd.jupyter.widget-view+json": {
       "version_major": 2,
       "version_minor": 0,
       "model_id": "3457f3ff72984dba8c4acd65b45e758e"
      }
     },
     "metadata": {}
    }
   ],
   "source": [
    "N_CLASSES = 12\n",
    "batch_size = 8\n",
    "num_epochs = 60\n",
    "image_size = 256\n",
    "learning_rate = 0.00005\n",
    "identifier = 'resnext101_32x4d_aug2_loss_warmup_Adamp'\n",
    "random_seed = 21\n",
    "val_every = 1\n",
    "warmup_epo = 1\n",
    "\n",
    "set_seed(random_seed)\n",
    "\n",
    "model = smp.DeepLabV3Plus(\n",
    "    encoder_name=\"efficientnet-b4\",\n",
    "    encoder_weights=\"imagenet\",\n",
    "    in_channels=3,\n",
    "    classes=N_CLASSES,\n",
    ").to(device)\n",
    "criterion = CustomLoss(0.9, 0.1, device)\n",
    "optimizer = AdamP(model.parameters(), lr=learning_rate, weight_decay=1e-6)\n",
    "scheduler_reduce = torch.optim.lr_scheduler.ReduceLROnPlateau(optimizer)\n",
    "scheduler_warmup = GradualWarmupSchedulerV2(optimizer, multiplier=3, total_epoch=warmup_epo, after_scheduler=scheduler_reduce)\n",
    "\n",
    "\n",
    "train_transform = A.Compose([\n",
    "    #A.Resize(image_size, image_size),\n",
    "    A.Normalize(),\n",
    "    ToTensorV2()\n",
    "])\n",
    "\n",
    "val_transform = A.Compose([\n",
    "    #A.Resize(image_size, image_size),\n",
    "    A.Normalize(),\n",
    "    ToTensorV2()\n",
    "])\n",
    "\n",
    "test_transform = A.Compose([\n",
    "    #A.Resize(image_size, image_size),\n",
    "    A.Normalize(),\n",
    "    ToTensorV2()\n",
    "])\n",
    "\n",
    "dataset_path = '../input/data'\n",
    "anns_file_path = dataset_path + '/train.json'\n",
    "train_path = dataset_path + '/train.json'\n",
    "train_all_path = dataset_path + '/train_all.json'\n",
    "val_path = dataset_path + '/val.json'\n",
    "test_path = dataset_path + '/test.json'\n",
    "saved_path = './saved'\n",
    "submission_path = './submission'\n",
    "category_names = ['Background','UNKNOWN','General trash','Paper','Paper pack','Metal','Glass','Plastic','Styrofoam','Plastic bag','Battery','Clothing']\n"
   ]
  },
  {
   "cell_type": "code",
   "execution_count": 76,
   "metadata": {},
   "outputs": [
    {
     "output_type": "stream",
     "name": "stdout",
     "text": [
      "loading annotations into memory...\n",
      "Done (t=4.63s)\n",
      "creating index...\n",
      "index created!\n",
      "loading annotations into memory...\n",
      "Done (t=0.85s)\n",
      "creating index...\n",
      "index created!\n",
      "loading annotations into memory...\n",
      "Done (t=0.02s)\n",
      "creating index...\n",
      "index created!\n"
     ]
    }
   ],
   "source": [
    "set_seed(random_seed)\n",
    "train_loader, val_loader, test_loader = get_dataloader()"
   ]
  },
  {
   "cell_type": "code",
   "execution_count": 77,
   "metadata": {},
   "outputs": [
    {
     "output_type": "stream",
     "name": "stdout",
     "text": [
      "Start training\n"
     ]
    },
    {
     "output_type": "display_data",
     "data": {
      "text/plain": "EfficientNetEncoder'> DeepLabV3PlusDecoder'>:   0%|          | 0/60 [00:00<?, ?it/s]",
      "application/vnd.jupyter.widget-view+json": {
       "version_major": 2,
       "version_minor": 0,
       "model_id": "57be58d1ff264efd8e3d24d6c591ee0b"
      }
     },
     "metadata": {}
    },
    {
     "output_type": "stream",
     "name": "stdout",
     "text": [
      "optimizer0.00015000000000000001\n"
     ]
    },
    {
     "output_type": "display_data",
     "data": {
      "text/plain": "Training:   0%|          | 0/327 [00:00<?, ?it/s]",
      "application/vnd.jupyter.widget-view+json": {
       "version_major": 2,
       "version_minor": 0,
       "model_id": "f95d94f3a74b48fb83b9a37fa84a0c3e"
      }
     },
     "metadata": {}
    },
    {
     "output_type": "stream",
     "name": "stdout",
     "text": [
      "Epoch[1/60], Step[25/327], Loss: 2.0917\n",
      "Epoch[1/60], Step[50/327], Loss: 1.4514\n",
      "Epoch[1/60], Step[75/327], Loss: 1.4459\n",
      "Epoch[1/60], Step[100/327], Loss: 1.2492\n",
      "Epoch[1/60], Step[125/327], Loss: 1.1802\n",
      "Epoch[1/60], Step[150/327], Loss: 1.2347\n",
      "Epoch[1/60], Step[175/327], Loss: 1.0728\n",
      "Epoch[1/60], Step[200/327], Loss: 1.0562\n",
      "Epoch[1/60], Step[225/327], Loss: 1.1610\n",
      "Epoch[1/60], Step[250/327], Loss: 0.8868\n",
      "Epoch[1/60], Step[275/327], Loss: 1.0375\n",
      "Epoch[1/60], Step[300/327], Loss: 0.8986\n",
      "Epoch[1/60], Step[325/327], Loss: 0.8976\n",
      "Start validation #1\n"
     ]
    },
    {
     "output_type": "display_data",
     "data": {
      "text/plain": "Validation:   0%|          | 0/82 [00:00<?, ?it/s]",
      "application/vnd.jupyter.widget-view+json": {
       "version_major": 2,
       "version_minor": 0,
       "model_id": "6c099361905b40079a72a5a6c4458e49"
      }
     },
     "metadata": {}
    },
    {
     "output_type": "stream",
     "name": "stdout",
     "text": [
      "Validation #1 mIoU: 0.2801\n",
      "Best performance at epoch: 1\n",
      "Save model in ./saved\n",
      "optimizer0.00015000000000000001\n"
     ]
    },
    {
     "output_type": "display_data",
     "data": {
      "text/plain": "Training:   0%|          | 0/327 [00:00<?, ?it/s]",
      "application/vnd.jupyter.widget-view+json": {
       "version_major": 2,
       "version_minor": 0,
       "model_id": "cf4efbcbe67e4a7bb7fb49d690648d06"
      }
     },
     "metadata": {}
    },
    {
     "output_type": "stream",
     "name": "stdout",
     "text": [
      "Epoch[2/60], Step[25/327], Loss: 0.8396\n",
      "Epoch[2/60], Step[50/327], Loss: 0.9747\n",
      "Epoch[2/60], Step[75/327], Loss: 1.2300\n",
      "Epoch[2/60], Step[100/327], Loss: 1.2344\n",
      "Epoch[2/60], Step[125/327], Loss: 0.9183\n",
      "Epoch[2/60], Step[150/327], Loss: 0.9359\n",
      "Epoch[2/60], Step[175/327], Loss: 0.8659\n",
      "Epoch[2/60], Step[200/327], Loss: 0.8432\n",
      "Epoch[2/60], Step[225/327], Loss: 0.9545\n",
      "Epoch[2/60], Step[250/327], Loss: 0.8572\n",
      "Epoch[2/60], Step[275/327], Loss: 0.9523\n",
      "Epoch[2/60], Step[300/327], Loss: 0.8928\n",
      "Epoch[2/60], Step[325/327], Loss: 1.3355\n",
      "Start validation #2\n"
     ]
    },
    {
     "output_type": "display_data",
     "data": {
      "text/plain": "Validation:   0%|          | 0/82 [00:00<?, ?it/s]",
      "application/vnd.jupyter.widget-view+json": {
       "version_major": 2,
       "version_minor": 0,
       "model_id": "15fc21f1157c4a27a55a5131a29ffae2"
      }
     },
     "metadata": {}
    },
    {
     "output_type": "stream",
     "name": "stdout",
     "text": [
      "Validation #2 mIoU: 0.3817\nBest performance at epoch: 2\nSave model in ./saved\n"
     ]
    },
    {
     "output_type": "error",
     "ename": "TypeError",
     "evalue": "float() argument must be a string or a number, not 'NoneType'",
     "traceback": [
      "\u001b[0;31m---------------------------------------------------------------------------\u001b[0m",
      "\u001b[0;31mTypeError\u001b[0m                                 Traceback (most recent call last)",
      "\u001b[0;32m<ipython-input-77-2d7fe502a71f>\u001b[0m in \u001b[0;36m<module>\u001b[0;34m\u001b[0m\n\u001b[1;32m      1\u001b[0m \u001b[0mset_seed\u001b[0m\u001b[0;34m(\u001b[0m\u001b[0mrandom_seed\u001b[0m\u001b[0;34m)\u001b[0m\u001b[0;34m\u001b[0m\u001b[0;34m\u001b[0m\u001b[0m\n\u001b[0;32m----> 2\u001b[0;31m \u001b[0mtrain\u001b[0m\u001b[0;34m(\u001b[0m\u001b[0midentifier\u001b[0m\u001b[0;34m,\u001b[0m \u001b[0mnum_epochs\u001b[0m\u001b[0;34m,\u001b[0m \u001b[0mmodel\u001b[0m\u001b[0;34m,\u001b[0m \u001b[0mtrain_loader\u001b[0m\u001b[0;34m,\u001b[0m \u001b[0mval_loader\u001b[0m\u001b[0;34m,\u001b[0m \u001b[0mcriterion\u001b[0m\u001b[0;34m,\u001b[0m \u001b[0moptimizer\u001b[0m\u001b[0;34m,\u001b[0m \u001b[0mscheduler_warmup\u001b[0m\u001b[0;34m,\u001b[0m \u001b[0msaved_path\u001b[0m\u001b[0;34m,\u001b[0m \u001b[0mprint_log\u001b[0m\u001b[0;34m=\u001b[0m\u001b[0;32mTrue\u001b[0m\u001b[0;34m)\u001b[0m\u001b[0;34m\u001b[0m\u001b[0;34m\u001b[0m\u001b[0m\n\u001b[0m",
      "\u001b[0;32m<ipython-input-65-0d085f222c12>\u001b[0m in \u001b[0;36mtrain\u001b[0;34m(identifier, num_epochs, model, data_loader, val_loader, criterion, optimizer, scheduler, saved_dir, val_every, device, print_log)\u001b[0m\n\u001b[1;32m     11\u001b[0m     \u001b[0;32mfor\u001b[0m \u001b[0mepoch\u001b[0m \u001b[0;32min\u001b[0m \u001b[0mtqdm\u001b[0m\u001b[0;34m(\u001b[0m\u001b[0mrange\u001b[0m\u001b[0;34m(\u001b[0m\u001b[0;36m0\u001b[0m\u001b[0;34m,\u001b[0m \u001b[0mnum_epochs\u001b[0m\u001b[0;34m)\u001b[0m\u001b[0;34m,\u001b[0m \u001b[0mdesc\u001b[0m\u001b[0;34m=\u001b[0m\u001b[0mname\u001b[0m\u001b[0;34m)\u001b[0m\u001b[0;34m:\u001b[0m\u001b[0;34m\u001b[0m\u001b[0;34m\u001b[0m\u001b[0m\n\u001b[1;32m     12\u001b[0m         \u001b[0;32mif\u001b[0m \u001b[0mscheduler\u001b[0m \u001b[0;32mis\u001b[0m \u001b[0;32mnot\u001b[0m \u001b[0;32mNone\u001b[0m\u001b[0;34m:\u001b[0m\u001b[0;34m\u001b[0m\u001b[0;34m\u001b[0m\u001b[0m\n\u001b[0;32m---> 13\u001b[0;31m             \u001b[0mscheduler\u001b[0m\u001b[0;34m.\u001b[0m\u001b[0mstep\u001b[0m\u001b[0;34m(\u001b[0m\u001b[0mepoch\u001b[0m\u001b[0;34m)\u001b[0m\u001b[0;34m\u001b[0m\u001b[0;34m\u001b[0m\u001b[0m\n\u001b[0m\u001b[1;32m     14\u001b[0m         \u001b[0;32mif\u001b[0m \u001b[0mprint_log\u001b[0m\u001b[0;34m:\u001b[0m\u001b[0;34m\u001b[0m\u001b[0;34m\u001b[0m\u001b[0m\n\u001b[1;32m     15\u001b[0m             \u001b[0mprint\u001b[0m\u001b[0;34m(\u001b[0m\u001b[0;34mf\"optimizer{optimizer.param_groups[0]['lr']}\"\u001b[0m\u001b[0;34m)\u001b[0m\u001b[0;34m\u001b[0m\u001b[0;34m\u001b[0m\u001b[0m\n",
      "\u001b[0;32m/opt/conda/lib/python3.7/site-packages/warmup_scheduler/scheduler.py\u001b[0m in \u001b[0;36mstep\u001b[0;34m(self, epoch, metrics)\u001b[0m\n\u001b[1;32m     62\u001b[0m                 \u001b[0;32mreturn\u001b[0m \u001b[0msuper\u001b[0m\u001b[0;34m(\u001b[0m\u001b[0mGradualWarmupScheduler\u001b[0m\u001b[0;34m,\u001b[0m \u001b[0mself\u001b[0m\u001b[0;34m)\u001b[0m\u001b[0;34m.\u001b[0m\u001b[0mstep\u001b[0m\u001b[0;34m(\u001b[0m\u001b[0mepoch\u001b[0m\u001b[0;34m)\u001b[0m\u001b[0;34m\u001b[0m\u001b[0;34m\u001b[0m\u001b[0m\n\u001b[1;32m     63\u001b[0m         \u001b[0;32melse\u001b[0m\u001b[0;34m:\u001b[0m\u001b[0;34m\u001b[0m\u001b[0;34m\u001b[0m\u001b[0m\n\u001b[0;32m---> 64\u001b[0;31m             \u001b[0mself\u001b[0m\u001b[0;34m.\u001b[0m\u001b[0mstep_ReduceLROnPlateau\u001b[0m\u001b[0;34m(\u001b[0m\u001b[0mmetrics\u001b[0m\u001b[0;34m,\u001b[0m \u001b[0mepoch\u001b[0m\u001b[0;34m)\u001b[0m\u001b[0;34m\u001b[0m\u001b[0;34m\u001b[0m\u001b[0m\n\u001b[0m",
      "\u001b[0;32m/opt/conda/lib/python3.7/site-packages/warmup_scheduler/scheduler.py\u001b[0m in \u001b[0;36mstep_ReduceLROnPlateau\u001b[0;34m(self, metrics, epoch)\u001b[0m\n\u001b[1;32m     49\u001b[0m                 \u001b[0mself\u001b[0m\u001b[0;34m.\u001b[0m\u001b[0mafter_scheduler\u001b[0m\u001b[0;34m.\u001b[0m\u001b[0mstep\u001b[0m\u001b[0;34m(\u001b[0m\u001b[0mmetrics\u001b[0m\u001b[0;34m,\u001b[0m \u001b[0;32mNone\u001b[0m\u001b[0;34m)\u001b[0m\u001b[0;34m\u001b[0m\u001b[0;34m\u001b[0m\u001b[0m\n\u001b[1;32m     50\u001b[0m             \u001b[0;32melse\u001b[0m\u001b[0;34m:\u001b[0m\u001b[0;34m\u001b[0m\u001b[0;34m\u001b[0m\u001b[0m\n\u001b[0;32m---> 51\u001b[0;31m                 \u001b[0mself\u001b[0m\u001b[0;34m.\u001b[0m\u001b[0mafter_scheduler\u001b[0m\u001b[0;34m.\u001b[0m\u001b[0mstep\u001b[0m\u001b[0;34m(\u001b[0m\u001b[0mmetrics\u001b[0m\u001b[0;34m,\u001b[0m \u001b[0mepoch\u001b[0m \u001b[0;34m-\u001b[0m \u001b[0mself\u001b[0m\u001b[0;34m.\u001b[0m\u001b[0mtotal_epoch\u001b[0m\u001b[0;34m)\u001b[0m\u001b[0;34m\u001b[0m\u001b[0;34m\u001b[0m\u001b[0m\n\u001b[0m\u001b[1;32m     52\u001b[0m \u001b[0;34m\u001b[0m\u001b[0m\n\u001b[1;32m     53\u001b[0m     \u001b[0;32mdef\u001b[0m \u001b[0mstep\u001b[0m\u001b[0;34m(\u001b[0m\u001b[0mself\u001b[0m\u001b[0;34m,\u001b[0m \u001b[0mepoch\u001b[0m\u001b[0;34m=\u001b[0m\u001b[0;32mNone\u001b[0m\u001b[0;34m,\u001b[0m \u001b[0mmetrics\u001b[0m\u001b[0;34m=\u001b[0m\u001b[0;32mNone\u001b[0m\u001b[0;34m)\u001b[0m\u001b[0;34m:\u001b[0m\u001b[0;34m\u001b[0m\u001b[0;34m\u001b[0m\u001b[0m\n",
      "\u001b[0;32m/opt/conda/lib/python3.7/site-packages/torch/optim/lr_scheduler.py\u001b[0m in \u001b[0;36mstep\u001b[0;34m(self, metrics, epoch)\u001b[0m\n\u001b[1;32m    622\u001b[0m     \u001b[0;32mdef\u001b[0m \u001b[0mstep\u001b[0m\u001b[0;34m(\u001b[0m\u001b[0mself\u001b[0m\u001b[0;34m,\u001b[0m \u001b[0mmetrics\u001b[0m\u001b[0;34m,\u001b[0m \u001b[0mepoch\u001b[0m\u001b[0;34m=\u001b[0m\u001b[0;32mNone\u001b[0m\u001b[0;34m)\u001b[0m\u001b[0;34m:\u001b[0m\u001b[0;34m\u001b[0m\u001b[0;34m\u001b[0m\u001b[0m\n\u001b[1;32m    623\u001b[0m         \u001b[0;31m# convert `metrics` to float, in case it's a zero-dim Tensor\u001b[0m\u001b[0;34m\u001b[0m\u001b[0;34m\u001b[0m\u001b[0;34m\u001b[0m\u001b[0m\n\u001b[0;32m--> 624\u001b[0;31m         \u001b[0mcurrent\u001b[0m \u001b[0;34m=\u001b[0m \u001b[0mfloat\u001b[0m\u001b[0;34m(\u001b[0m\u001b[0mmetrics\u001b[0m\u001b[0;34m)\u001b[0m\u001b[0;34m\u001b[0m\u001b[0;34m\u001b[0m\u001b[0m\n\u001b[0m\u001b[1;32m    625\u001b[0m         \u001b[0;32mif\u001b[0m \u001b[0mepoch\u001b[0m \u001b[0;32mis\u001b[0m \u001b[0;32mNone\u001b[0m\u001b[0;34m:\u001b[0m\u001b[0;34m\u001b[0m\u001b[0;34m\u001b[0m\u001b[0m\n\u001b[1;32m    626\u001b[0m             \u001b[0mepoch\u001b[0m \u001b[0;34m=\u001b[0m \u001b[0mself\u001b[0m\u001b[0;34m.\u001b[0m\u001b[0mlast_epoch\u001b[0m \u001b[0;34m+\u001b[0m \u001b[0;36m1\u001b[0m\u001b[0;34m\u001b[0m\u001b[0;34m\u001b[0m\u001b[0m\n",
      "\u001b[0;31mTypeError\u001b[0m: float() argument must be a string or a number, not 'NoneType'"
     ]
    }
   ],
   "source": [
    "set_seed(random_seed)\n",
    "train(identifier, num_epochs, model, train_loader, val_loader, criterion, optimizer, scheduler_warmup, saved_path, print_log=True)"
   ]
  },
  {
   "source": [
    "### 임시 코드"
   ],
   "cell_type": "markdown",
   "metadata": {}
  },
  {
   "source": [
    "### kfold"
   ],
   "cell_type": "markdown",
   "metadata": {}
  },
  {
   "cell_type": "code",
   "execution_count": 61,
   "metadata": {},
   "outputs": [
    {
     "output_type": "stream",
     "name": "stdout",
     "text": [
      "loading annotations into memory...\n",
      "Done (t=6.16s)\n",
      "creating index...\n",
      "index created!\n"
     ]
    },
    {
     "output_type": "display_data",
     "data": {
      "text/plain": "RegNetEncoder'> DeepLabV3PlusDecoder'>:   0%|          | 0/40 [00:00<?, ?it/s]",
      "application/vnd.jupyter.widget-view+json": {
       "version_major": 2,
       "version_minor": 0,
       "model_id": "c29f50f3259c4f28b16dfe552b548f38"
      }
     },
     "metadata": {}
    },
    {
     "output_type": "stream",
     "name": "stdout",
     "text": [
      "0 0.0\n"
     ]
    },
    {
     "output_type": "display_data",
     "data": {
      "text/plain": "Training:   0%|          | 0/81 [00:00<?, ?it/s]",
      "application/vnd.jupyter.widget-view+json": {
       "version_major": 2,
       "version_minor": 0,
       "model_id": "0bbf2cabfb7c422dbec274700cac6e40"
      }
     },
     "metadata": {}
    },
    {
     "output_type": "error",
     "ename": "TypeError",
     "evalue": "Caught TypeError in DataLoader worker process 0.\nOriginal Traceback (most recent call last):\n  File \"/opt/conda/lib/python3.7/site-packages/torch/utils/data/_utils/worker.py\", line 198, in _worker_loop\n    data = fetcher.fetch(index)\n  File \"/opt/conda/lib/python3.7/site-packages/torch/utils/data/_utils/fetch.py\", line 44, in fetch\n    data = [self.dataset[idx] for idx in possibly_batched_index]\n  File \"/opt/conda/lib/python3.7/site-packages/torch/utils/data/_utils/fetch.py\", line 44, in <listcomp>\n    data = [self.dataset[idx] for idx in possibly_batched_index]\n  File \"/opt/conda/lib/python3.7/site-packages/torch/utils/data/dataset.py\", line 218, in __getitem__\n    return self.datasets[dataset_idx][sample_idx]\n  File \"/opt/conda/lib/python3.7/site-packages/torch/utils/data/dataset.py\", line 272, in __getitem__\n    return self.dataset[self.indices[idx]]\n  File \"<ipython-input-44-76439f55ae0b>\", line 39, in __getitem__\n    images_aug, masks_aug = self.transform(image=images, mask=masks).values()\n  File \"/opt/conda/lib/python3.7/site-packages/albumentations/core/composition.py\", line 166, in __call__\n    self._check_args(**data)\n  File \"/opt/conda/lib/python3.7/site-packages/albumentations/core/composition.py\", line 221, in _check_args\n    raise TypeError(\"{} must be numpy array type\".format(data_name))\nTypeError: image must be numpy array type\n",
     "traceback": [
      "\u001b[0;31m---------------------------------------------------------------------------\u001b[0m",
      "\u001b[0;31mTypeError\u001b[0m                                 Traceback (most recent call last)",
      "\u001b[0;32m<ipython-input-61-5fa23a79b3f2>\u001b[0m in \u001b[0;36m<module>\u001b[0;34m\u001b[0m\n\u001b[1;32m     13\u001b[0m     \u001b[0mscheduler_warmup\u001b[0m \u001b[0;34m=\u001b[0m \u001b[0mGradualWarmupScheduler\u001b[0m\u001b[0;34m(\u001b[0m\u001b[0moptimizer\u001b[0m\u001b[0;34m,\u001b[0m \u001b[0mmultiplier\u001b[0m\u001b[0;34m=\u001b[0m\u001b[0;36m1\u001b[0m\u001b[0;34m,\u001b[0m \u001b[0mtotal_epoch\u001b[0m\u001b[0;34m=\u001b[0m\u001b[0;36m5\u001b[0m\u001b[0;34m,\u001b[0m \u001b[0mafter_scheduler\u001b[0m\u001b[0;34m=\u001b[0m\u001b[0mscheduler_steplr\u001b[0m\u001b[0;34m)\u001b[0m\u001b[0;34m\u001b[0m\u001b[0;34m\u001b[0m\u001b[0m\n\u001b[1;32m     14\u001b[0m \u001b[0;34m\u001b[0m\u001b[0m\n\u001b[0;32m---> 15\u001b[0;31m     \u001b[0mtrain\u001b[0m\u001b[0;34m(\u001b[0m\u001b[0midentifier\u001b[0m\u001b[0;34m,\u001b[0m \u001b[0mnum_epochs\u001b[0m\u001b[0;34m,\u001b[0m \u001b[0mmodel\u001b[0m\u001b[0;34m,\u001b[0m \u001b[0mtrain_loader\u001b[0m\u001b[0;34m,\u001b[0m \u001b[0mval_loader\u001b[0m\u001b[0;34m,\u001b[0m \u001b[0mcriterion\u001b[0m\u001b[0;34m,\u001b[0m \u001b[0moptimizer\u001b[0m\u001b[0;34m,\u001b[0m \u001b[0mscheduler_warmup\u001b[0m\u001b[0;34m,\u001b[0m \u001b[0msaved_path\u001b[0m\u001b[0;34m,\u001b[0m \u001b[0mprint_log\u001b[0m\u001b[0;34m=\u001b[0m\u001b[0;32mFalse\u001b[0m\u001b[0;34m)\u001b[0m\u001b[0;34m\u001b[0m\u001b[0;34m\u001b[0m\u001b[0m\n\u001b[0m",
      "\u001b[0;32m<ipython-input-60-a3931c7e88bc>\u001b[0m in \u001b[0;36mtrain\u001b[0;34m(identifier, num_epochs, model, data_loader, val_loader, criterion, optimizer, scheduler, saved_dir, val_every, device, print_log)\u001b[0m\n\u001b[1;32m     16\u001b[0m         \u001b[0mprint\u001b[0m\u001b[0;34m(\u001b[0m\u001b[0mepoch\u001b[0m\u001b[0;34m,\u001b[0m \u001b[0moptimizer\u001b[0m\u001b[0;34m.\u001b[0m\u001b[0mparam_groups\u001b[0m\u001b[0;34m[\u001b[0m\u001b[0;36m0\u001b[0m\u001b[0;34m]\u001b[0m\u001b[0;34m[\u001b[0m\u001b[0;34m'lr'\u001b[0m\u001b[0;34m]\u001b[0m\u001b[0;34m)\u001b[0m\u001b[0;34m\u001b[0m\u001b[0;34m\u001b[0m\u001b[0m\n\u001b[1;32m     17\u001b[0m         \u001b[0mmodel\u001b[0m\u001b[0;34m.\u001b[0m\u001b[0mtrain\u001b[0m\u001b[0;34m(\u001b[0m\u001b[0;34m)\u001b[0m\u001b[0;34m\u001b[0m\u001b[0;34m\u001b[0m\u001b[0m\n\u001b[0;32m---> 18\u001b[0;31m         \u001b[0;32mfor\u001b[0m \u001b[0mstep\u001b[0m\u001b[0;34m,\u001b[0m \u001b[0;34m(\u001b[0m\u001b[0mimages\u001b[0m\u001b[0;34m,\u001b[0m \u001b[0mmasks\u001b[0m\u001b[0;34m,\u001b[0m \u001b[0m_\u001b[0m\u001b[0;34m)\u001b[0m \u001b[0;32min\u001b[0m \u001b[0mtqdm\u001b[0m\u001b[0;34m(\u001b[0m\u001b[0menumerate\u001b[0m\u001b[0;34m(\u001b[0m\u001b[0mdata_loader\u001b[0m\u001b[0;34m)\u001b[0m\u001b[0;34m,\u001b[0m \u001b[0mdesc\u001b[0m\u001b[0;34m=\u001b[0m\u001b[0;34m'Training'\u001b[0m\u001b[0;34m,\u001b[0m \u001b[0mleave\u001b[0m\u001b[0;34m=\u001b[0m\u001b[0;32mFalse\u001b[0m\u001b[0;34m,\u001b[0m \u001b[0mtotal\u001b[0m\u001b[0;34m=\u001b[0m\u001b[0mlen\u001b[0m\u001b[0;34m(\u001b[0m\u001b[0mdata_loader\u001b[0m\u001b[0;34m)\u001b[0m\u001b[0;34m)\u001b[0m\u001b[0;34m:\u001b[0m\u001b[0;34m\u001b[0m\u001b[0;34m\u001b[0m\u001b[0m\n\u001b[0m\u001b[1;32m     19\u001b[0m             \u001b[0mimages\u001b[0m \u001b[0;34m=\u001b[0m \u001b[0mtorch\u001b[0m\u001b[0;34m.\u001b[0m\u001b[0mstack\u001b[0m\u001b[0;34m(\u001b[0m\u001b[0mimages\u001b[0m\u001b[0;34m)\u001b[0m\u001b[0;34m.\u001b[0m\u001b[0mto\u001b[0m\u001b[0;34m(\u001b[0m\u001b[0mdevice\u001b[0m\u001b[0;34m)\u001b[0m\u001b[0;34m\u001b[0m\u001b[0;34m\u001b[0m\u001b[0m\n\u001b[1;32m     20\u001b[0m             \u001b[0mmasks\u001b[0m \u001b[0;34m=\u001b[0m \u001b[0mtorch\u001b[0m\u001b[0;34m.\u001b[0m\u001b[0mstack\u001b[0m\u001b[0;34m(\u001b[0m\u001b[0mmasks\u001b[0m\u001b[0;34m)\u001b[0m\u001b[0;34m.\u001b[0m\u001b[0mlong\u001b[0m\u001b[0;34m(\u001b[0m\u001b[0;34m)\u001b[0m\u001b[0;34m.\u001b[0m\u001b[0mto\u001b[0m\u001b[0;34m(\u001b[0m\u001b[0mdevice\u001b[0m\u001b[0;34m)\u001b[0m\u001b[0;34m\u001b[0m\u001b[0;34m\u001b[0m\u001b[0m\n",
      "\u001b[0;32m/opt/conda/lib/python3.7/site-packages/tqdm/notebook.py\u001b[0m in \u001b[0;36m__iter__\u001b[0;34m(self)\u001b[0m\n\u001b[1;32m    252\u001b[0m     \u001b[0;32mdef\u001b[0m \u001b[0m__iter__\u001b[0m\u001b[0;34m(\u001b[0m\u001b[0mself\u001b[0m\u001b[0;34m)\u001b[0m\u001b[0;34m:\u001b[0m\u001b[0;34m\u001b[0m\u001b[0;34m\u001b[0m\u001b[0m\n\u001b[1;32m    253\u001b[0m         \u001b[0;32mtry\u001b[0m\u001b[0;34m:\u001b[0m\u001b[0;34m\u001b[0m\u001b[0;34m\u001b[0m\u001b[0m\n\u001b[0;32m--> 254\u001b[0;31m             \u001b[0;32mfor\u001b[0m \u001b[0mobj\u001b[0m \u001b[0;32min\u001b[0m \u001b[0msuper\u001b[0m\u001b[0;34m(\u001b[0m\u001b[0mtqdm_notebook\u001b[0m\u001b[0;34m,\u001b[0m \u001b[0mself\u001b[0m\u001b[0;34m)\u001b[0m\u001b[0;34m.\u001b[0m\u001b[0m__iter__\u001b[0m\u001b[0;34m(\u001b[0m\u001b[0;34m)\u001b[0m\u001b[0;34m:\u001b[0m\u001b[0;34m\u001b[0m\u001b[0;34m\u001b[0m\u001b[0m\n\u001b[0m\u001b[1;32m    255\u001b[0m                 \u001b[0;31m# return super(tqdm...) will not catch exception\u001b[0m\u001b[0;34m\u001b[0m\u001b[0;34m\u001b[0m\u001b[0;34m\u001b[0m\u001b[0m\n\u001b[1;32m    256\u001b[0m                 \u001b[0;32myield\u001b[0m \u001b[0mobj\u001b[0m\u001b[0;34m\u001b[0m\u001b[0;34m\u001b[0m\u001b[0m\n",
      "\u001b[0;32m/opt/conda/lib/python3.7/site-packages/tqdm/std.py\u001b[0m in \u001b[0;36m__iter__\u001b[0;34m(self)\u001b[0m\n\u001b[1;32m   1176\u001b[0m \u001b[0;34m\u001b[0m\u001b[0m\n\u001b[1;32m   1177\u001b[0m         \u001b[0;32mtry\u001b[0m\u001b[0;34m:\u001b[0m\u001b[0;34m\u001b[0m\u001b[0;34m\u001b[0m\u001b[0m\n\u001b[0;32m-> 1178\u001b[0;31m             \u001b[0;32mfor\u001b[0m \u001b[0mobj\u001b[0m \u001b[0;32min\u001b[0m \u001b[0miterable\u001b[0m\u001b[0;34m:\u001b[0m\u001b[0;34m\u001b[0m\u001b[0;34m\u001b[0m\u001b[0m\n\u001b[0m\u001b[1;32m   1179\u001b[0m                 \u001b[0;32myield\u001b[0m \u001b[0mobj\u001b[0m\u001b[0;34m\u001b[0m\u001b[0;34m\u001b[0m\u001b[0m\n\u001b[1;32m   1180\u001b[0m                 \u001b[0;31m# Update and possibly print the progressbar.\u001b[0m\u001b[0;34m\u001b[0m\u001b[0;34m\u001b[0m\u001b[0;34m\u001b[0m\u001b[0m\n",
      "\u001b[0;32m/opt/conda/lib/python3.7/site-packages/torch/utils/data/dataloader.py\u001b[0m in \u001b[0;36m__next__\u001b[0;34m(self)\u001b[0m\n\u001b[1;32m    433\u001b[0m         \u001b[0;32mif\u001b[0m \u001b[0mself\u001b[0m\u001b[0;34m.\u001b[0m\u001b[0m_sampler_iter\u001b[0m \u001b[0;32mis\u001b[0m \u001b[0;32mNone\u001b[0m\u001b[0;34m:\u001b[0m\u001b[0;34m\u001b[0m\u001b[0;34m\u001b[0m\u001b[0m\n\u001b[1;32m    434\u001b[0m             \u001b[0mself\u001b[0m\u001b[0;34m.\u001b[0m\u001b[0m_reset\u001b[0m\u001b[0;34m(\u001b[0m\u001b[0;34m)\u001b[0m\u001b[0;34m\u001b[0m\u001b[0;34m\u001b[0m\u001b[0m\n\u001b[0;32m--> 435\u001b[0;31m         \u001b[0mdata\u001b[0m \u001b[0;34m=\u001b[0m \u001b[0mself\u001b[0m\u001b[0;34m.\u001b[0m\u001b[0m_next_data\u001b[0m\u001b[0;34m(\u001b[0m\u001b[0;34m)\u001b[0m\u001b[0;34m\u001b[0m\u001b[0;34m\u001b[0m\u001b[0m\n\u001b[0m\u001b[1;32m    436\u001b[0m         \u001b[0mself\u001b[0m\u001b[0;34m.\u001b[0m\u001b[0m_num_yielded\u001b[0m \u001b[0;34m+=\u001b[0m \u001b[0;36m1\u001b[0m\u001b[0;34m\u001b[0m\u001b[0;34m\u001b[0m\u001b[0m\n\u001b[1;32m    437\u001b[0m         \u001b[0;32mif\u001b[0m \u001b[0mself\u001b[0m\u001b[0;34m.\u001b[0m\u001b[0m_dataset_kind\u001b[0m \u001b[0;34m==\u001b[0m \u001b[0m_DatasetKind\u001b[0m\u001b[0;34m.\u001b[0m\u001b[0mIterable\u001b[0m \u001b[0;32mand\u001b[0m\u001b[0;31m \u001b[0m\u001b[0;31m\\\u001b[0m\u001b[0;34m\u001b[0m\u001b[0;34m\u001b[0m\u001b[0m\n",
      "\u001b[0;32m/opt/conda/lib/python3.7/site-packages/torch/utils/data/dataloader.py\u001b[0m in \u001b[0;36m_next_data\u001b[0;34m(self)\u001b[0m\n\u001b[1;32m   1083\u001b[0m             \u001b[0;32melse\u001b[0m\u001b[0;34m:\u001b[0m\u001b[0;34m\u001b[0m\u001b[0;34m\u001b[0m\u001b[0m\n\u001b[1;32m   1084\u001b[0m                 \u001b[0;32mdel\u001b[0m \u001b[0mself\u001b[0m\u001b[0;34m.\u001b[0m\u001b[0m_task_info\u001b[0m\u001b[0;34m[\u001b[0m\u001b[0midx\u001b[0m\u001b[0;34m]\u001b[0m\u001b[0;34m\u001b[0m\u001b[0;34m\u001b[0m\u001b[0m\n\u001b[0;32m-> 1085\u001b[0;31m                 \u001b[0;32mreturn\u001b[0m \u001b[0mself\u001b[0m\u001b[0;34m.\u001b[0m\u001b[0m_process_data\u001b[0m\u001b[0;34m(\u001b[0m\u001b[0mdata\u001b[0m\u001b[0;34m)\u001b[0m\u001b[0;34m\u001b[0m\u001b[0;34m\u001b[0m\u001b[0m\n\u001b[0m\u001b[1;32m   1086\u001b[0m \u001b[0;34m\u001b[0m\u001b[0m\n\u001b[1;32m   1087\u001b[0m     \u001b[0;32mdef\u001b[0m \u001b[0m_try_put_index\u001b[0m\u001b[0;34m(\u001b[0m\u001b[0mself\u001b[0m\u001b[0;34m)\u001b[0m\u001b[0;34m:\u001b[0m\u001b[0;34m\u001b[0m\u001b[0;34m\u001b[0m\u001b[0m\n",
      "\u001b[0;32m/opt/conda/lib/python3.7/site-packages/torch/utils/data/dataloader.py\u001b[0m in \u001b[0;36m_process_data\u001b[0;34m(self, data)\u001b[0m\n\u001b[1;32m   1109\u001b[0m         \u001b[0mself\u001b[0m\u001b[0;34m.\u001b[0m\u001b[0m_try_put_index\u001b[0m\u001b[0;34m(\u001b[0m\u001b[0;34m)\u001b[0m\u001b[0;34m\u001b[0m\u001b[0;34m\u001b[0m\u001b[0m\n\u001b[1;32m   1110\u001b[0m         \u001b[0;32mif\u001b[0m \u001b[0misinstance\u001b[0m\u001b[0;34m(\u001b[0m\u001b[0mdata\u001b[0m\u001b[0;34m,\u001b[0m \u001b[0mExceptionWrapper\u001b[0m\u001b[0;34m)\u001b[0m\u001b[0;34m:\u001b[0m\u001b[0;34m\u001b[0m\u001b[0;34m\u001b[0m\u001b[0m\n\u001b[0;32m-> 1111\u001b[0;31m             \u001b[0mdata\u001b[0m\u001b[0;34m.\u001b[0m\u001b[0mreraise\u001b[0m\u001b[0;34m(\u001b[0m\u001b[0;34m)\u001b[0m\u001b[0;34m\u001b[0m\u001b[0;34m\u001b[0m\u001b[0m\n\u001b[0m\u001b[1;32m   1112\u001b[0m         \u001b[0;32mreturn\u001b[0m \u001b[0mdata\u001b[0m\u001b[0;34m\u001b[0m\u001b[0;34m\u001b[0m\u001b[0m\n\u001b[1;32m   1113\u001b[0m \u001b[0;34m\u001b[0m\u001b[0m\n",
      "\u001b[0;32m/opt/conda/lib/python3.7/site-packages/torch/_utils.py\u001b[0m in \u001b[0;36mreraise\u001b[0;34m(self)\u001b[0m\n\u001b[1;32m    426\u001b[0m             \u001b[0;31m# have message field\u001b[0m\u001b[0;34m\u001b[0m\u001b[0;34m\u001b[0m\u001b[0;34m\u001b[0m\u001b[0m\n\u001b[1;32m    427\u001b[0m             \u001b[0;32mraise\u001b[0m \u001b[0mself\u001b[0m\u001b[0;34m.\u001b[0m\u001b[0mexc_type\u001b[0m\u001b[0;34m(\u001b[0m\u001b[0mmessage\u001b[0m\u001b[0;34m=\u001b[0m\u001b[0mmsg\u001b[0m\u001b[0;34m)\u001b[0m\u001b[0;34m\u001b[0m\u001b[0;34m\u001b[0m\u001b[0m\n\u001b[0;32m--> 428\u001b[0;31m         \u001b[0;32mraise\u001b[0m \u001b[0mself\u001b[0m\u001b[0;34m.\u001b[0m\u001b[0mexc_type\u001b[0m\u001b[0;34m(\u001b[0m\u001b[0mmsg\u001b[0m\u001b[0;34m)\u001b[0m\u001b[0;34m\u001b[0m\u001b[0;34m\u001b[0m\u001b[0m\n\u001b[0m\u001b[1;32m    429\u001b[0m \u001b[0;34m\u001b[0m\u001b[0m\n\u001b[1;32m    430\u001b[0m \u001b[0;34m\u001b[0m\u001b[0m\n",
      "\u001b[0;31mTypeError\u001b[0m: Caught TypeError in DataLoader worker process 0.\nOriginal Traceback (most recent call last):\n  File \"/opt/conda/lib/python3.7/site-packages/torch/utils/data/_utils/worker.py\", line 198, in _worker_loop\n    data = fetcher.fetch(index)\n  File \"/opt/conda/lib/python3.7/site-packages/torch/utils/data/_utils/fetch.py\", line 44, in fetch\n    data = [self.dataset[idx] for idx in possibly_batched_index]\n  File \"/opt/conda/lib/python3.7/site-packages/torch/utils/data/_utils/fetch.py\", line 44, in <listcomp>\n    data = [self.dataset[idx] for idx in possibly_batched_index]\n  File \"/opt/conda/lib/python3.7/site-packages/torch/utils/data/dataset.py\", line 218, in __getitem__\n    return self.datasets[dataset_idx][sample_idx]\n  File \"/opt/conda/lib/python3.7/site-packages/torch/utils/data/dataset.py\", line 272, in __getitem__\n    return self.dataset[self.indices[idx]]\n  File \"<ipython-input-44-76439f55ae0b>\", line 39, in __getitem__\n    images_aug, masks_aug = self.transform(image=images, mask=masks).values()\n  File \"/opt/conda/lib/python3.7/site-packages/albumentations/core/composition.py\", line 166, in __call__\n    self._check_args(**data)\n  File \"/opt/conda/lib/python3.7/site-packages/albumentations/core/composition.py\", line 221, in _check_args\n    raise TypeError(\"{} must be numpy array type\".format(data_name))\nTypeError: image must be numpy array type\n"
     ]
    }
   ],
   "source": [
    "kfold = 5\n",
    "for k, (train_loader, val_loader) in enumerate(get_folded_dataloader(kfold)):\n",
    "    identifier = f'timm-regnetx_064_update'\n",
    "    model = smp.DeepLabV3Plus(\n",
    "        encoder_name=\"timm-regnetx_064\",\n",
    "        encoder_weights=\"imagenet\",\n",
    "        in_channels=3,\n",
    "        classes=N_CLASSES,\n",
    "    ).to(device)\n",
    "    criterion = CustomLoss(0.9, 0.1, device)\n",
    "    optimizer = torch.optim.Adam(params=model.parameters(), lr=learning_rate, weight_decay=1e-6)\n",
    "    scheduler_steplr = StepLR(optimizer, step_size=10, gamma=0.1)\n",
    "    scheduler_warmup = GradualWarmupScheduler(optimizer, multiplier=1, total_epoch=5, after_scheduler=scheduler_steplr)\n",
    "\n",
    "    train(identifier, num_epochs, model, train_loader, val_loader, criterion, optimizer, scheduler_warmup, saved_path, print_log=False)"
   ]
  },
  {
   "source": [
    "### ensamble"
   ],
   "cell_type": "markdown",
   "metadata": {}
  },
  {
   "cell_type": "code",
   "execution_count": null,
   "metadata": {},
   "outputs": [],
   "source": [
    "ensamble_path = [\r\n",
    "    '/opt/ml/code/saved/timm-regnetx_064_0-5fold.pt',\r\n",
    "    '/opt/ml/code/saved/timm-regnetx_064_1-5fold.pt',\r\n",
    "    '/opt/ml/code/saved/timm-regnetx_064_2-5fold.pt',\r\n",
    "    '/opt/ml/code/saved/timm-regnetx_064_3-5fold.pt',\r\n",
    "    '/opt/ml/code/saved/timm-regnetx_064_4-5fold.pt'\r\n",
    "]\r\n",
    "model_list = []\r\n",
    "for p in ensamble_path:\r\n",
    "    model_path = p\r\n",
    "    checkpoint = torch.load(model_path, map_location=device)\r\n",
    "    model.load_state_dict(checkpoint)\r\n",
    "    model_list.append(model)\r\n",
    "make_submission(model_list, test_loader)"
   ]
  },
  {
   "cell_type": "code",
   "execution_count": 24,
   "metadata": {},
   "outputs": [
    {
     "output_type": "stream",
     "name": "stdout",
     "text": [
      "Start training\n"
     ]
    },
    {
     "output_type": "display_data",
     "data": {
      "text/plain": "RegNetEncoder'> DeepLabV3PlusDecoder'>:   0%|          | 0/60 [00:00<?, ?it/s]",
      "application/vnd.jupyter.widget-view+json": {
       "version_major": 2,
       "version_minor": 0,
       "model_id": "e502531db5ca4dc28ef214e13b3426fe"
      }
     },
     "metadata": {}
    },
    {
     "output_type": "stream",
     "name": "stdout",
     "text": [
      "optimizer5e-05\n",
      "/opt/conda/lib/python3.7/site-packages/torch/optim/lr_scheduler.py:136: UserWarning: Detected call of `lr_scheduler.step()` before `optimizer.step()`. In PyTorch 1.1.0 and later, you should call them in the opposite order: `optimizer.step()` before `lr_scheduler.step()`.  Failure to do this will result in PyTorch skipping the first value of the learning rate schedule. See more details at https://pytorch.org/docs/stable/optim.html#how-to-adjust-learning-rate\n",
      "  \"https://pytorch.org/docs/stable/optim.html#how-to-adjust-learning-rate\", UserWarning)\n",
      "/opt/conda/lib/python3.7/site-packages/torch/optim/lr_scheduler.py:156: UserWarning: The epoch parameter in `scheduler.step()` was not necessary and is being deprecated where possible. Please use `scheduler.step()` to step the scheduler. During the deprecation, if epoch is different from None, the closed form is used instead of the new chainable form, where available. Please open an issue if you are unable to replicate your use case: https://github.com/pytorch/pytorch/issues/new/choose.\n",
      "  warnings.warn(EPOCH_DEPRECATION_WARNING, UserWarning)\n"
     ]
    },
    {
     "output_type": "display_data",
     "data": {
      "text/plain": "Training:   0%|          | 0/327 [00:00<?, ?it/s]",
      "application/vnd.jupyter.widget-view+json": {
       "version_major": 2,
       "version_minor": 0,
       "model_id": "d462c78486d74b258816ea1fb3da1090"
      }
     },
     "metadata": {}
    },
    {
     "output_type": "stream",
     "name": "stdout",
     "text": [
      "Epoch[1/60], Step[25/327], Loss: 2.2118\n",
      "Epoch[1/60], Step[50/327], Loss: 1.8856\n",
      "Epoch[1/60], Step[75/327], Loss: 1.6470\n",
      "Epoch[1/60], Step[100/327], Loss: 1.4770\n",
      "Epoch[1/60], Step[125/327], Loss: 1.6162\n",
      "Epoch[1/60], Step[150/327], Loss: 1.4114\n",
      "Epoch[1/60], Step[175/327], Loss: 1.3691\n",
      "Epoch[1/60], Step[200/327], Loss: 1.2613\n",
      "Epoch[1/60], Step[225/327], Loss: 1.2535\n",
      "Epoch[1/60], Step[250/327], Loss: 1.1376\n",
      "Epoch[1/60], Step[275/327], Loss: 1.0576\n",
      "Epoch[1/60], Step[300/327], Loss: 1.1279\n",
      "Epoch[1/60], Step[325/327], Loss: 1.0544\n",
      "Start validation #1\n"
     ]
    },
    {
     "output_type": "display_data",
     "data": {
      "text/plain": "Validation:   0%|          | 0/82 [00:00<?, ?it/s]",
      "application/vnd.jupyter.widget-view+json": {
       "version_major": 2,
       "version_minor": 0,
       "model_id": "06f96aed74ab4be9959933af3572bfe7"
      }
     },
     "metadata": {}
    },
    {
     "output_type": "stream",
     "name": "stdout",
     "text": [
      "Validation #1 mIoU: 0.2659\n",
      "Best performance at epoch: 1\n",
      "Save model in ./saved\n",
      "optimizer0.0005\n"
     ]
    },
    {
     "output_type": "display_data",
     "data": {
      "text/plain": "Training:   0%|          | 0/327 [00:00<?, ?it/s]",
      "application/vnd.jupyter.widget-view+json": {
       "version_major": 2,
       "version_minor": 0,
       "model_id": "9037f645dcd9494aab8254f6ad0914cf"
      }
     },
     "metadata": {}
    },
    {
     "output_type": "stream",
     "name": "stdout",
     "text": [
      "Epoch[2/60], Step[25/327], Loss: 1.5952\n",
      "Epoch[2/60], Step[50/327], Loss: 1.0833\n",
      "Epoch[2/60], Step[75/327], Loss: 0.9261\n",
      "Epoch[2/60], Step[100/327], Loss: 0.8959\n",
      "Epoch[2/60], Step[125/327], Loss: 1.1006\n",
      "Epoch[2/60], Step[150/327], Loss: 0.8644\n",
      "Epoch[2/60], Step[175/327], Loss: 1.1638\n",
      "Epoch[2/60], Step[200/327], Loss: 1.1843\n",
      "Epoch[2/60], Step[225/327], Loss: 0.9145\n",
      "Epoch[2/60], Step[250/327], Loss: 1.0083\n",
      "Epoch[2/60], Step[275/327], Loss: 0.8954\n",
      "Epoch[2/60], Step[300/327], Loss: 0.7854\n",
      "Epoch[2/60], Step[325/327], Loss: 0.9888\n",
      "Start validation #2\n"
     ]
    },
    {
     "output_type": "display_data",
     "data": {
      "text/plain": "Validation:   0%|          | 0/82 [00:00<?, ?it/s]",
      "application/vnd.jupyter.widget-view+json": {
       "version_major": 2,
       "version_minor": 0,
       "model_id": "f058e73208544a32a3b93baff21ed5dd"
      }
     },
     "metadata": {}
    },
    {
     "output_type": "stream",
     "name": "stdout",
     "text": [
      "Validation #2 mIoU: 0.2721\n",
      "Best performance at epoch: 2\n",
      "Save model in ./saved\n",
      "optimizer0.0005\n",
      "/opt/conda/lib/python3.7/site-packages/torch/optim/lr_scheduler.py:509: UserWarning: To get the last learning rate computed by the scheduler, please use `get_last_lr()`.\n",
      "  \"please use `get_last_lr()`.\", UserWarning)\n"
     ]
    },
    {
     "output_type": "display_data",
     "data": {
      "text/plain": "Training:   0%|          | 0/327 [00:00<?, ?it/s]",
      "application/vnd.jupyter.widget-view+json": {
       "version_major": 2,
       "version_minor": 0,
       "model_id": "7b78abdda4fa46d5ba35325ed2c3ab0a"
      }
     },
     "metadata": {}
    },
    {
     "output_type": "stream",
     "name": "stdout",
     "text": [
      "Epoch[3/60], Step[25/327], Loss: 0.8182\n",
      "Epoch[3/60], Step[50/327], Loss: 0.9805\n",
      "Epoch[3/60], Step[75/327], Loss: 1.0650\n",
      "Epoch[3/60], Step[100/327], Loss: 1.0011\n",
      "Epoch[3/60], Step[125/327], Loss: 1.3048\n",
      "Epoch[3/60], Step[150/327], Loss: 0.7379\n",
      "Epoch[3/60], Step[175/327], Loss: 0.8621\n",
      "Epoch[3/60], Step[200/327], Loss: 0.9000\n",
      "Epoch[3/60], Step[225/327], Loss: 0.9444\n",
      "Epoch[3/60], Step[250/327], Loss: 0.8968\n",
      "Epoch[3/60], Step[275/327], Loss: 0.8496\n",
      "Epoch[3/60], Step[300/327], Loss: 0.8559\n",
      "Epoch[3/60], Step[325/327], Loss: 0.8452\n",
      "Start validation #3\n"
     ]
    },
    {
     "output_type": "display_data",
     "data": {
      "text/plain": "Validation:   0%|          | 0/82 [00:00<?, ?it/s]",
      "application/vnd.jupyter.widget-view+json": {
       "version_major": 2,
       "version_minor": 0,
       "model_id": "e01817846b354b1c8dc9d76447d898c3"
      }
     },
     "metadata": {}
    },
    {
     "output_type": "stream",
     "name": "stdout",
     "text": [
      "Validation #3 mIoU: 0.3087\n",
      "Best performance at epoch: 3\n",
      "Save model in ./saved\n",
      "optimizer0.0004985837000525343\n"
     ]
    },
    {
     "output_type": "display_data",
     "data": {
      "text/plain": "Training:   0%|          | 0/327 [00:00<?, ?it/s]",
      "application/vnd.jupyter.widget-view+json": {
       "version_major": 2,
       "version_minor": 0,
       "model_id": "8cfe60f60fb848e9937f0de1f7a311c3"
      }
     },
     "metadata": {}
    },
    {
     "output_type": "stream",
     "name": "stdout",
     "text": [
      "Epoch[4/60], Step[25/327], Loss: 0.7528\n",
      "Epoch[4/60], Step[50/327], Loss: 0.9040\n",
      "Epoch[4/60], Step[75/327], Loss: 1.0123\n",
      "Epoch[4/60], Step[100/327], Loss: 0.8945\n",
      "Epoch[4/60], Step[125/327], Loss: 0.8386\n",
      "Epoch[4/60], Step[150/327], Loss: 0.8478\n",
      "Epoch[4/60], Step[175/327], Loss: 1.0602\n",
      "Epoch[4/60], Step[200/327], Loss: 0.9680\n",
      "Epoch[4/60], Step[225/327], Loss: 0.8302\n",
      "Epoch[4/60], Step[250/327], Loss: 0.7121\n",
      "Epoch[4/60], Step[275/327], Loss: 0.7547\n",
      "Epoch[4/60], Step[300/327], Loss: 1.0380\n",
      "Epoch[4/60], Step[325/327], Loss: 1.1056\n",
      "Start validation #4\n"
     ]
    },
    {
     "output_type": "display_data",
     "data": {
      "text/plain": "Validation:   0%|          | 0/82 [00:00<?, ?it/s]",
      "application/vnd.jupyter.widget-view+json": {
       "version_major": 2,
       "version_minor": 0,
       "model_id": "fb27a5f04d9e4c51b47e1f34b351088c"
      }
     },
     "metadata": {}
    },
    {
     "output_type": "stream",
     "name": "stdout",
     "text": [
      "Validation #4 mIoU: 0.3212\n",
      "Best performance at epoch: 4\n",
      "Save model in ./saved\n",
      "optimizer0.0004968170886803362\n"
     ]
    },
    {
     "output_type": "display_data",
     "data": {
      "text/plain": "Training:   0%|          | 0/327 [00:00<?, ?it/s]",
      "application/vnd.jupyter.widget-view+json": {
       "version_major": 2,
       "version_minor": 0,
       "model_id": "4c2ae63a4ca4405498b8c7ef28af6e85"
      }
     },
     "metadata": {}
    },
    {
     "output_type": "stream",
     "name": "stdout",
     "text": [
      "Epoch[5/60], Step[25/327], Loss: 0.8317\n",
      "Epoch[5/60], Step[50/327], Loss: 0.7225\n",
      "Epoch[5/60], Step[75/327], Loss: 0.7767\n",
      "Epoch[5/60], Step[100/327], Loss: 0.8236\n",
      "Epoch[5/60], Step[125/327], Loss: 0.7912\n",
      "Epoch[5/60], Step[150/327], Loss: 0.7378\n",
      "Epoch[5/60], Step[175/327], Loss: 0.7660\n",
      "Epoch[5/60], Step[200/327], Loss: 0.8908\n",
      "Epoch[5/60], Step[225/327], Loss: 0.8912\n",
      "Epoch[5/60], Step[250/327], Loss: 0.7981\n",
      "Epoch[5/60], Step[275/327], Loss: 0.8436\n",
      "Epoch[5/60], Step[300/327], Loss: 0.8026\n",
      "Epoch[5/60], Step[325/327], Loss: 0.7663\n",
      "Start validation #5\n"
     ]
    },
    {
     "output_type": "display_data",
     "data": {
      "text/plain": "Validation:   0%|          | 0/82 [00:00<?, ?it/s]",
      "application/vnd.jupyter.widget-view+json": {
       "version_major": 2,
       "version_minor": 0,
       "model_id": "3270319a142841edaed8c8705594ce5e"
      }
     },
     "metadata": {}
    },
    {
     "output_type": "stream",
     "name": "stdout",
     "text": [
      "Validation #5 mIoU: 0.3640\n",
      "Best performance at epoch: 5\n",
      "Save model in ./saved\n",
      "optimizer0.0004943508474544667\n"
     ]
    },
    {
     "output_type": "display_data",
     "data": {
      "text/plain": "Training:   0%|          | 0/327 [00:00<?, ?it/s]",
      "application/vnd.jupyter.widget-view+json": {
       "version_major": 2,
       "version_minor": 0,
       "model_id": "60498cba1abf4c5593e716fc8dd28c9c"
      }
     },
     "metadata": {}
    },
    {
     "output_type": "stream",
     "name": "stdout",
     "text": [
      "Epoch[6/60], Step[25/327], Loss: 0.8690\n",
      "Epoch[6/60], Step[50/327], Loss: 0.8055\n",
      "Epoch[6/60], Step[75/327], Loss: 1.0046\n",
      "Epoch[6/60], Step[100/327], Loss: 0.8802\n",
      "Epoch[6/60], Step[125/327], Loss: 0.7854\n",
      "Epoch[6/60], Step[150/327], Loss: 0.8346\n",
      "Epoch[6/60], Step[175/327], Loss: 0.9578\n",
      "Epoch[6/60], Step[200/327], Loss: 0.8428\n",
      "Epoch[6/60], Step[225/327], Loss: 0.7739\n",
      "Epoch[6/60], Step[250/327], Loss: 0.7784\n",
      "Epoch[6/60], Step[275/327], Loss: 0.9107\n",
      "Epoch[6/60], Step[300/327], Loss: 0.8040\n",
      "Epoch[6/60], Step[325/327], Loss: 0.8798\n",
      "Start validation #6\n"
     ]
    },
    {
     "output_type": "display_data",
     "data": {
      "text/plain": "Validation:   0%|          | 0/82 [00:00<?, ?it/s]",
      "application/vnd.jupyter.widget-view+json": {
       "version_major": 2,
       "version_minor": 0,
       "model_id": "21f422279d1e4185b7021f70c58e8fa6"
      }
     },
     "metadata": {}
    },
    {
     "output_type": "stream",
     "name": "stdout",
     "text": [
      "Validation #6 mIoU: 0.3542\noptimizer0.000491191967203629\n"
     ]
    },
    {
     "output_type": "display_data",
     "data": {
      "text/plain": "Training:   0%|          | 0/327 [00:00<?, ?it/s]",
      "application/vnd.jupyter.widget-view+json": {
       "version_major": 2,
       "version_minor": 0,
       "model_id": "5f874d9f281f427a8807e2f403612762"
      }
     },
     "metadata": {}
    },
    {
     "output_type": "stream",
     "name": "stdout",
     "text": [
      "Epoch[7/60], Step[25/327], Loss: 0.8081\n",
      "Epoch[7/60], Step[50/327], Loss: 0.8306\n",
      "Epoch[7/60], Step[75/327], Loss: 0.9519\n",
      "Epoch[7/60], Step[100/327], Loss: 0.7231\n",
      "Epoch[7/60], Step[125/327], Loss: 0.7183\n",
      "Epoch[7/60], Step[150/327], Loss: 0.6396\n",
      "Epoch[7/60], Step[175/327], Loss: 0.7606\n",
      "Epoch[7/60], Step[200/327], Loss: 0.8924\n",
      "Epoch[7/60], Step[225/327], Loss: 0.7174\n",
      "Epoch[7/60], Step[250/327], Loss: 0.8282\n",
      "Epoch[7/60], Step[275/327], Loss: 0.7771\n",
      "Epoch[7/60], Step[300/327], Loss: 0.8928\n",
      "Epoch[7/60], Step[325/327], Loss: 0.7813\n",
      "Start validation #7\n"
     ]
    },
    {
     "output_type": "display_data",
     "data": {
      "text/plain": "Validation:   0%|          | 0/82 [00:00<?, ?it/s]",
      "application/vnd.jupyter.widget-view+json": {
       "version_major": 2,
       "version_minor": 0,
       "model_id": "fab934be8d1d49b3aa75442dd6ba831d"
      }
     },
     "metadata": {}
    },
    {
     "output_type": "stream",
     "name": "stdout",
     "text": [
      "Validation #7 mIoU: 0.3521\noptimizer0.0004873494021170953\n"
     ]
    },
    {
     "output_type": "display_data",
     "data": {
      "text/plain": "Training:   0%|          | 0/327 [00:00<?, ?it/s]",
      "application/vnd.jupyter.widget-view+json": {
       "version_major": 2,
       "version_minor": 0,
       "model_id": "fe01db2a00ae49d0866e047f40c82ac2"
      }
     },
     "metadata": {}
    },
    {
     "output_type": "stream",
     "name": "stdout",
     "text": [
      "Epoch[8/60], Step[25/327], Loss: 0.7033\n",
      "Epoch[8/60], Step[50/327], Loss: 0.8338\n",
      "Epoch[8/60], Step[75/327], Loss: 0.6736\n",
      "Epoch[8/60], Step[100/327], Loss: 0.8597\n",
      "Epoch[8/60], Step[125/327], Loss: 0.7746\n",
      "Epoch[8/60], Step[150/327], Loss: 0.8455\n",
      "Epoch[8/60], Step[175/327], Loss: 0.8241\n",
      "Epoch[8/60], Step[200/327], Loss: 0.7039\n",
      "Epoch[8/60], Step[225/327], Loss: 0.7620\n",
      "Epoch[8/60], Step[250/327], Loss: 0.6886\n",
      "Epoch[8/60], Step[275/327], Loss: 0.7957\n",
      "Epoch[8/60], Step[300/327], Loss: 0.7854\n",
      "Epoch[8/60], Step[325/327], Loss: 0.7767\n",
      "Start validation #8\n"
     ]
    },
    {
     "output_type": "display_data",
     "data": {
      "text/plain": "Validation:   0%|          | 0/82 [00:00<?, ?it/s]",
      "application/vnd.jupyter.widget-view+json": {
       "version_major": 2,
       "version_minor": 0,
       "model_id": "57a5a1e1f8294f78a95179b2282c05cf"
      }
     },
     "metadata": {}
    },
    {
     "output_type": "stream",
     "name": "stdout",
     "text": [
      "Validation #8 mIoU: 0.3873\n",
      "Best performance at epoch: 8\n",
      "Save model in ./saved\n",
      "optimizer0.0004828340443630846\n"
     ]
    },
    {
     "output_type": "display_data",
     "data": {
      "text/plain": "Training:   0%|          | 0/327 [00:00<?, ?it/s]",
      "application/vnd.jupyter.widget-view+json": {
       "version_major": 2,
       "version_minor": 0,
       "model_id": "c1fc163da5d349a6838a3f20b2e6b351"
      }
     },
     "metadata": {}
    },
    {
     "output_type": "stream",
     "name": "stdout",
     "text": [
      "Epoch[9/60], Step[25/327], Loss: 0.7611\n",
      "Epoch[9/60], Step[50/327], Loss: 0.7535\n",
      "Epoch[9/60], Step[75/327], Loss: 0.7673\n",
      "Epoch[9/60], Step[100/327], Loss: 0.7384\n",
      "Epoch[9/60], Step[125/327], Loss: 0.7078\n",
      "Epoch[9/60], Step[150/327], Loss: 0.6912\n",
      "Epoch[9/60], Step[175/327], Loss: 0.7863\n",
      "Epoch[9/60], Step[200/327], Loss: 0.8548\n",
      "Epoch[9/60], Step[225/327], Loss: 1.0997\n",
      "Epoch[9/60], Step[250/327], Loss: 0.7865\n",
      "Epoch[9/60], Step[275/327], Loss: 0.7830\n",
      "Epoch[9/60], Step[300/327], Loss: 0.7671\n",
      "Epoch[9/60], Step[325/327], Loss: 0.7373\n",
      "Start validation #9\n"
     ]
    },
    {
     "output_type": "display_data",
     "data": {
      "text/plain": "Validation:   0%|          | 0/82 [00:00<?, ?it/s]",
      "application/vnd.jupyter.widget-view+json": {
       "version_major": 2,
       "version_minor": 0,
       "model_id": "f5d86fd93abe485fb3d6d98f27fb17f3"
      }
     },
     "metadata": {}
    },
    {
     "output_type": "stream",
     "name": "stdout",
     "text": [
      "Validation #9 mIoU: 0.3302\noptimizer0.00047765869321372834\n"
     ]
    },
    {
     "output_type": "display_data",
     "data": {
      "text/plain": "Training:   0%|          | 0/327 [00:00<?, ?it/s]",
      "application/vnd.jupyter.widget-view+json": {
       "version_major": 2,
       "version_minor": 0,
       "model_id": "961f4cf288564851bd27e3ba44572147"
      }
     },
     "metadata": {}
    },
    {
     "output_type": "stream",
     "name": "stdout",
     "text": [
      "Epoch[10/60], Step[25/327], Loss: 0.9794\n",
      "Epoch[10/60], Step[50/327], Loss: 0.7138\n",
      "Epoch[10/60], Step[75/327], Loss: 0.8187\n",
      "Epoch[10/60], Step[100/327], Loss: 0.6926\n",
      "Epoch[10/60], Step[125/327], Loss: 1.0818\n",
      "Epoch[10/60], Step[150/327], Loss: 0.9164\n",
      "Epoch[10/60], Step[175/327], Loss: 0.7045\n",
      "Epoch[10/60], Step[200/327], Loss: 0.6978\n",
      "Epoch[10/60], Step[225/327], Loss: 0.6975\n",
      "Epoch[10/60], Step[250/327], Loss: 1.0056\n",
      "Epoch[10/60], Step[275/327], Loss: 0.6653\n",
      "Epoch[10/60], Step[300/327], Loss: 0.7846\n",
      "Epoch[10/60], Step[325/327], Loss: 0.6960\n",
      "Start validation #10\n"
     ]
    },
    {
     "output_type": "display_data",
     "data": {
      "text/plain": "Validation:   0%|          | 0/82 [00:00<?, ?it/s]",
      "application/vnd.jupyter.widget-view+json": {
       "version_major": 2,
       "version_minor": 0,
       "model_id": "24359e48ea07476bbccf8cb7cf2264b2"
      }
     },
     "metadata": {}
    },
    {
     "output_type": "stream",
     "name": "stdout",
     "text": [
      "Validation #10 mIoU: 0.3519\noptimizer0.0004718380187641429\n"
     ]
    },
    {
     "output_type": "display_data",
     "data": {
      "text/plain": "Training:   0%|          | 0/327 [00:00<?, ?it/s]",
      "application/vnd.jupyter.widget-view+json": {
       "version_major": 2,
       "version_minor": 0,
       "model_id": "9bbef6098b354efb9a7637f6d22f27b7"
      }
     },
     "metadata": {}
    },
    {
     "output_type": "stream",
     "name": "stdout",
     "text": [
      "Epoch[11/60], Step[25/327], Loss: 0.7442\n",
      "Epoch[11/60], Step[50/327], Loss: 0.6806\n",
      "Epoch[11/60], Step[75/327], Loss: 0.7324\n",
      "Epoch[11/60], Step[100/327], Loss: 0.8380\n",
      "Epoch[11/60], Step[125/327], Loss: 0.6759\n",
      "Epoch[11/60], Step[150/327], Loss: 0.8329\n",
      "Epoch[11/60], Step[175/327], Loss: 0.8612\n",
      "Epoch[11/60], Step[200/327], Loss: 0.8129\n",
      "Epoch[11/60], Step[225/327], Loss: 0.8068\n",
      "Epoch[11/60], Step[250/327], Loss: 0.7582\n",
      "Epoch[11/60], Step[275/327], Loss: 0.7449\n",
      "Epoch[11/60], Step[300/327], Loss: 0.7751\n",
      "Epoch[11/60], Step[325/327], Loss: 0.7844\n",
      "Start validation #11\n"
     ]
    },
    {
     "output_type": "display_data",
     "data": {
      "text/plain": "Validation:   0%|          | 0/82 [00:00<?, ?it/s]",
      "application/vnd.jupyter.widget-view+json": {
       "version_major": 2,
       "version_minor": 0,
       "model_id": "29781519eb97434c8aceb6ffdff7be75"
      }
     },
     "metadata": {}
    },
    {
     "output_type": "stream",
     "name": "stdout",
     "text": [
      "Validation #11 mIoU: 0.3440\noptimizer0.0004653885203484515\n"
     ]
    },
    {
     "output_type": "display_data",
     "data": {
      "text/plain": "Training:   0%|          | 0/327 [00:00<?, ?it/s]",
      "application/vnd.jupyter.widget-view+json": {
       "version_major": 2,
       "version_minor": 0,
       "model_id": "b803e90a0c134412b636b52465ba4e50"
      }
     },
     "metadata": {}
    },
    {
     "output_type": "stream",
     "name": "stdout",
     "text": [
      "Epoch[12/60], Step[25/327], Loss: 0.9616\n",
      "Epoch[12/60], Step[50/327], Loss: 0.6334\n",
      "Epoch[12/60], Step[75/327], Loss: 0.9531\n",
      "Epoch[12/60], Step[100/327], Loss: 0.7085\n",
      "Epoch[12/60], Step[125/327], Loss: 0.7813\n",
      "Epoch[12/60], Step[150/327], Loss: 0.8247\n",
      "Epoch[12/60], Step[175/327], Loss: 0.8101\n",
      "Epoch[12/60], Step[200/327], Loss: 0.6955\n",
      "Epoch[12/60], Step[225/327], Loss: 0.8034\n",
      "Epoch[12/60], Step[250/327], Loss: 0.7010\n",
      "Epoch[12/60], Step[275/327], Loss: 0.7395\n",
      "Epoch[12/60], Step[300/327], Loss: 0.7647\n",
      "Epoch[12/60], Step[325/327], Loss: 0.8008\n",
      "Start validation #12\n"
     ]
    },
    {
     "output_type": "display_data",
     "data": {
      "text/plain": "Validation:   0%|          | 0/82 [00:00<?, ?it/s]",
      "application/vnd.jupyter.widget-view+json": {
       "version_major": 2,
       "version_minor": 0,
       "model_id": "2d125c356aa24e8491d12209cfbbc5df"
      }
     },
     "metadata": {}
    },
    {
     "output_type": "stream",
     "name": "stdout",
     "text": [
      "Validation #12 mIoU: 0.3881\n",
      "Best performance at epoch: 12\n",
      "Save model in ./saved\n",
      "optimizer0.00045832847977062875\n"
     ]
    },
    {
     "output_type": "display_data",
     "data": {
      "text/plain": "Training:   0%|          | 0/327 [00:00<?, ?it/s]",
      "application/vnd.jupyter.widget-view+json": {
       "version_major": 2,
       "version_minor": 0,
       "model_id": "6175fe38146f45aca01ca9a98331d433"
      }
     },
     "metadata": {}
    },
    {
     "output_type": "stream",
     "name": "stdout",
     "text": [
      "Epoch[13/60], Step[25/327], Loss: 0.6641\n",
      "Epoch[13/60], Step[50/327], Loss: 0.8746\n",
      "Epoch[13/60], Step[75/327], Loss: 0.6934\n",
      "Epoch[13/60], Step[100/327], Loss: 0.6889\n",
      "Epoch[13/60], Step[125/327], Loss: 0.7153\n",
      "Epoch[13/60], Step[150/327], Loss: 0.6619\n",
      "Epoch[13/60], Step[175/327], Loss: 0.6907\n",
      "Epoch[13/60], Step[200/327], Loss: 0.8016\n",
      "Epoch[13/60], Step[225/327], Loss: 0.6772\n",
      "Epoch[13/60], Step[250/327], Loss: 0.7167\n",
      "Epoch[13/60], Step[275/327], Loss: 0.8259\n",
      "Epoch[13/60], Step[300/327], Loss: 0.8029\n",
      "Epoch[13/60], Step[325/327], Loss: 0.8674\n",
      "Start validation #13\n"
     ]
    },
    {
     "output_type": "display_data",
     "data": {
      "text/plain": "Validation:   0%|          | 0/82 [00:00<?, ?it/s]",
      "application/vnd.jupyter.widget-view+json": {
       "version_major": 2,
       "version_minor": 0,
       "model_id": "8ede8e33360d4d6a834e13d995db0869"
      }
     },
     "metadata": {}
    },
    {
     "output_type": "stream",
     "name": "stdout",
     "text": [
      "Validation #13 mIoU: 0.3789\noptimizer0.0004506779094827409\n"
     ]
    },
    {
     "output_type": "display_data",
     "data": {
      "text/plain": "Training:   0%|          | 0/327 [00:00<?, ?it/s]",
      "application/vnd.jupyter.widget-view+json": {
       "version_major": 2,
       "version_minor": 0,
       "model_id": "b4d0d62036e042d7a6e70ee7393af0b5"
      }
     },
     "metadata": {}
    },
    {
     "output_type": "stream",
     "name": "stdout",
     "text": [
      "Epoch[14/60], Step[25/327], Loss: 0.5964\n",
      "Epoch[14/60], Step[50/327], Loss: 0.6662\n",
      "Epoch[14/60], Step[75/327], Loss: 0.8079\n",
      "Epoch[14/60], Step[100/327], Loss: 0.7372\n",
      "Epoch[14/60], Step[125/327], Loss: 0.7765\n",
      "Epoch[14/60], Step[150/327], Loss: 0.8472\n",
      "Epoch[14/60], Step[175/327], Loss: 0.8237\n",
      "Epoch[14/60], Step[200/327], Loss: 0.6890\n",
      "Epoch[14/60], Step[225/327], Loss: 0.7495\n",
      "Epoch[14/60], Step[250/327], Loss: 0.7877\n",
      "Epoch[14/60], Step[275/327], Loss: 0.7975\n",
      "Epoch[14/60], Step[300/327], Loss: 0.7782\n",
      "Epoch[14/60], Step[325/327], Loss: 0.7744\n",
      "Start validation #14\n"
     ]
    },
    {
     "output_type": "display_data",
     "data": {
      "text/plain": "Validation:   0%|          | 0/82 [00:00<?, ?it/s]",
      "application/vnd.jupyter.widget-view+json": {
       "version_major": 2,
       "version_minor": 0,
       "model_id": "28546348fbd74abe845a9b24e0a29662"
      }
     },
     "metadata": {}
    },
    {
     "output_type": "stream",
     "name": "stdout",
     "text": [
      "Validation #14 mIoU: 0.3863\noptimizer0.00044245849585747656\n"
     ]
    },
    {
     "output_type": "display_data",
     "data": {
      "text/plain": "Training:   0%|          | 0/327 [00:00<?, ?it/s]",
      "application/vnd.jupyter.widget-view+json": {
       "version_major": 2,
       "version_minor": 0,
       "model_id": "0ca378cdf771493aa74bcf0a83632b99"
      }
     },
     "metadata": {}
    },
    {
     "output_type": "stream",
     "name": "stdout",
     "text": [
      "Epoch[15/60], Step[25/327], Loss: 0.7108\n",
      "Epoch[15/60], Step[50/327], Loss: 0.6152\n",
      "Epoch[15/60], Step[75/327], Loss: 0.6977\n",
      "Epoch[15/60], Step[100/327], Loss: 0.7772\n",
      "Epoch[15/60], Step[125/327], Loss: 0.7064\n",
      "Epoch[15/60], Step[150/327], Loss: 0.7896\n",
      "Epoch[15/60], Step[175/327], Loss: 0.6332\n",
      "Epoch[15/60], Step[200/327], Loss: 0.6658\n",
      "Epoch[15/60], Step[225/327], Loss: 0.8353\n",
      "Epoch[15/60], Step[250/327], Loss: 0.7113\n",
      "Epoch[15/60], Step[275/327], Loss: 0.6489\n",
      "Epoch[15/60], Step[300/327], Loss: 0.7031\n",
      "Epoch[15/60], Step[325/327], Loss: 0.7948\n",
      "Start validation #15\n"
     ]
    },
    {
     "output_type": "display_data",
     "data": {
      "text/plain": "Validation:   0%|          | 0/82 [00:00<?, ?it/s]",
      "application/vnd.jupyter.widget-view+json": {
       "version_major": 2,
       "version_minor": 0,
       "model_id": "46c7894c050f4a43859a5854740c944f"
      }
     },
     "metadata": {}
    },
    {
     "output_type": "stream",
     "name": "stdout",
     "text": [
      "Validation #15 mIoU: 0.3897\n",
      "Best performance at epoch: 15\n",
      "Save model in ./saved\n",
      "optimizer0.0004336935377157668\n"
     ]
    },
    {
     "output_type": "display_data",
     "data": {
      "text/plain": "Training:   0%|          | 0/327 [00:00<?, ?it/s]",
      "application/vnd.jupyter.widget-view+json": {
       "version_major": 2,
       "version_minor": 0,
       "model_id": "001df88564a643f88b8c28b98278d2c4"
      }
     },
     "metadata": {}
    },
    {
     "output_type": "stream",
     "name": "stdout",
     "text": [
      "Epoch[16/60], Step[25/327], Loss: 0.7239\n",
      "Epoch[16/60], Step[50/327], Loss: 0.6255\n",
      "Epoch[16/60], Step[75/327], Loss: 0.7124\n",
      "Epoch[16/60], Step[100/327], Loss: 0.7319\n",
      "Epoch[16/60], Step[125/327], Loss: 0.8449\n",
      "Epoch[16/60], Step[150/327], Loss: 0.6353\n",
      "Epoch[16/60], Step[175/327], Loss: 0.7368\n",
      "Epoch[16/60], Step[200/327], Loss: 0.6280\n",
      "Epoch[16/60], Step[225/327], Loss: 0.8450\n",
      "Epoch[16/60], Step[250/327], Loss: 0.7695\n",
      "Epoch[16/60], Step[275/327], Loss: 0.6707\n",
      "Epoch[16/60], Step[300/327], Loss: 0.7119\n",
      "Epoch[16/60], Step[325/327], Loss: 0.6588\n",
      "Start validation #16\n"
     ]
    },
    {
     "output_type": "display_data",
     "data": {
      "text/plain": "Validation:   0%|          | 0/82 [00:00<?, ?it/s]",
      "application/vnd.jupyter.widget-view+json": {
       "version_major": 2,
       "version_minor": 0,
       "model_id": "b5727726b1704f298e86d66ca928cb2b"
      }
     },
     "metadata": {}
    },
    {
     "output_type": "stream",
     "name": "stdout",
     "text": [
      "Validation #16 mIoU: 0.3864\noptimizer0.0004244078802837462\n"
     ]
    },
    {
     "output_type": "display_data",
     "data": {
      "text/plain": "Training:   0%|          | 0/327 [00:00<?, ?it/s]",
      "application/vnd.jupyter.widget-view+json": {
       "version_major": 2,
       "version_minor": 0,
       "model_id": "a790957d8ed943d896c2894f0a5ed718"
      }
     },
     "metadata": {}
    },
    {
     "output_type": "stream",
     "name": "stdout",
     "text": [
      "Epoch[17/60], Step[25/327], Loss: 0.6343\n",
      "Epoch[17/60], Step[50/327], Loss: 0.6764\n",
      "Epoch[17/60], Step[75/327], Loss: 0.7215\n",
      "Epoch[17/60], Step[100/327], Loss: 0.7106\n",
      "Epoch[17/60], Step[125/327], Loss: 0.6971\n",
      "Epoch[17/60], Step[150/327], Loss: 0.5978\n",
      "Epoch[17/60], Step[175/327], Loss: 0.8495\n",
      "Epoch[17/60], Step[200/327], Loss: 0.8177\n",
      "Epoch[17/60], Step[225/327], Loss: 0.9359\n",
      "Epoch[17/60], Step[250/327], Loss: 0.9223\n",
      "Epoch[17/60], Step[275/327], Loss: 0.6741\n",
      "Epoch[17/60], Step[300/327], Loss: 0.9294\n",
      "Epoch[17/60], Step[325/327], Loss: 0.6698\n",
      "Start validation #17\n"
     ]
    },
    {
     "output_type": "display_data",
     "data": {
      "text/plain": "Validation:   0%|          | 0/82 [00:00<?, ?it/s]",
      "application/vnd.jupyter.widget-view+json": {
       "version_major": 2,
       "version_minor": 0,
       "model_id": "0de971c8515241e7845dbb0aaa7e9bee"
      }
     },
     "metadata": {}
    },
    {
     "output_type": "stream",
     "name": "stdout",
     "text": [
      "Validation #17 mIoU: 0.3912\n",
      "Best performance at epoch: 17\n",
      "Save model in ./saved\n",
      "optimizer0.0004146278447662597\n"
     ]
    },
    {
     "output_type": "display_data",
     "data": {
      "text/plain": "Training:   0%|          | 0/327 [00:00<?, ?it/s]",
      "application/vnd.jupyter.widget-view+json": {
       "version_major": 2,
       "version_minor": 0,
       "model_id": "3e19c322c4a94d8a81ec2a0d418b9413"
      }
     },
     "metadata": {}
    },
    {
     "output_type": "stream",
     "name": "stdout",
     "text": [
      "Epoch[18/60], Step[25/327], Loss: 0.6078\n",
      "Epoch[18/60], Step[50/327], Loss: 0.6489\n",
      "Epoch[18/60], Step[75/327], Loss: 0.6460\n",
      "Epoch[18/60], Step[100/327], Loss: 0.6385\n",
      "Epoch[18/60], Step[125/327], Loss: 0.7142\n",
      "Epoch[18/60], Step[150/327], Loss: 0.6504\n",
      "Epoch[18/60], Step[175/327], Loss: 0.6242\n",
      "Epoch[18/60], Step[200/327], Loss: 0.7864\n",
      "Epoch[18/60], Step[225/327], Loss: 0.7895\n",
      "Epoch[18/60], Step[250/327], Loss: 0.6798\n",
      "Epoch[18/60], Step[275/327], Loss: 0.5918\n",
      "Epoch[18/60], Step[300/327], Loss: 0.8330\n",
      "Epoch[18/60], Step[325/327], Loss: 0.7692\n",
      "Start validation #18\n"
     ]
    },
    {
     "output_type": "display_data",
     "data": {
      "text/plain": "Validation:   0%|          | 0/82 [00:00<?, ?it/s]",
      "application/vnd.jupyter.widget-view+json": {
       "version_major": 2,
       "version_minor": 0,
       "model_id": "69680ffab42647258316e992207ec8fb"
      }
     },
     "metadata": {}
    },
    {
     "output_type": "stream",
     "name": "stdout",
     "text": [
      "Validation #18 mIoU: 0.4443\n",
      "Best performance at epoch: 18\n",
      "Save model in ./saved\n",
      "optimizer0.000404381153736548\n"
     ]
    },
    {
     "output_type": "display_data",
     "data": {
      "text/plain": "Training:   0%|          | 0/327 [00:00<?, ?it/s]",
      "application/vnd.jupyter.widget-view+json": {
       "version_major": 2,
       "version_minor": 0,
       "model_id": "4e91f2fb96534b489122c8543dfc2429"
      }
     },
     "metadata": {}
    },
    {
     "output_type": "stream",
     "name": "stdout",
     "text": [
      "Epoch[19/60], Step[25/327], Loss: 0.7866\n",
      "Epoch[19/60], Step[50/327], Loss: 0.6475\n",
      "Epoch[19/60], Step[75/327], Loss: 0.7047\n",
      "Epoch[19/60], Step[100/327], Loss: 0.7910\n",
      "Epoch[19/60], Step[125/327], Loss: 0.7995\n",
      "Epoch[19/60], Step[150/327], Loss: 0.6270\n",
      "Epoch[19/60], Step[175/327], Loss: 0.7200\n",
      "Epoch[19/60], Step[200/327], Loss: 0.7322\n",
      "Epoch[19/60], Step[225/327], Loss: 0.6426\n",
      "Epoch[19/60], Step[250/327], Loss: 0.7065\n",
      "Epoch[19/60], Step[275/327], Loss: 0.6303\n",
      "Epoch[19/60], Step[300/327], Loss: 0.6447\n",
      "Epoch[19/60], Step[325/327], Loss: 0.8261\n",
      "Start validation #19\n"
     ]
    },
    {
     "output_type": "display_data",
     "data": {
      "text/plain": "Validation:   0%|          | 0/82 [00:00<?, ?it/s]",
      "application/vnd.jupyter.widget-view+json": {
       "version_major": 2,
       "version_minor": 0,
       "model_id": "8dff085f485c4c8184b90c23596a1af6"
      }
     },
     "metadata": {}
    },
    {
     "output_type": "stream",
     "name": "stdout",
     "text": [
      "Validation #19 mIoU: 0.3899\noptimizer0.0003936968525536018\n"
     ]
    },
    {
     "output_type": "display_data",
     "data": {
      "text/plain": "Training:   0%|          | 0/327 [00:00<?, ?it/s]",
      "application/vnd.jupyter.widget-view+json": {
       "version_major": 2,
       "version_minor": 0,
       "model_id": "3d2db25a42c84dec8546c18c307fa94f"
      }
     },
     "metadata": {}
    },
    {
     "output_type": "stream",
     "name": "stdout",
     "text": [
      "Epoch[20/60], Step[25/327], Loss: 0.7709\n",
      "Epoch[20/60], Step[50/327], Loss: 0.6143\n",
      "Epoch[20/60], Step[75/327], Loss: 0.6842\n",
      "Epoch[20/60], Step[100/327], Loss: 0.6130\n",
      "Epoch[20/60], Step[125/327], Loss: 0.7324\n",
      "Epoch[20/60], Step[150/327], Loss: 0.6395\n",
      "Epoch[20/60], Step[175/327], Loss: 0.6439\n",
      "Epoch[20/60], Step[200/327], Loss: 0.6797\n",
      "Epoch[20/60], Step[225/327], Loss: 0.6092\n",
      "Epoch[20/60], Step[250/327], Loss: 0.7443\n",
      "Epoch[20/60], Step[275/327], Loss: 0.6684\n",
      "Epoch[20/60], Step[300/327], Loss: 0.6595\n",
      "Epoch[20/60], Step[325/327], Loss: 0.6972\n",
      "Start validation #20\n"
     ]
    },
    {
     "output_type": "display_data",
     "data": {
      "text/plain": "Validation:   0%|          | 0/82 [00:00<?, ?it/s]",
      "application/vnd.jupyter.widget-view+json": {
       "version_major": 2,
       "version_minor": 0,
       "model_id": "09b7e6339963416cb98441492fd2e497"
      }
     },
     "metadata": {}
    },
    {
     "output_type": "stream",
     "name": "stdout",
     "text": [
      "Validation #20 mIoU: 0.3830\noptimizer0.0003826052270299356\n"
     ]
    },
    {
     "output_type": "display_data",
     "data": {
      "text/plain": "Training:   0%|          | 0/327 [00:00<?, ?it/s]",
      "application/vnd.jupyter.widget-view+json": {
       "version_major": 2,
       "version_minor": 0,
       "model_id": "b834c0ccf6584d7682d3fd3d2530cb85"
      }
     },
     "metadata": {}
    },
    {
     "output_type": "stream",
     "name": "stdout",
     "text": [
      "Epoch[21/60], Step[25/327], Loss: 0.7396\n",
      "Epoch[21/60], Step[50/327], Loss: 0.7135\n",
      "Epoch[21/60], Step[75/327], Loss: 0.7919\n",
      "Epoch[21/60], Step[100/327], Loss: 0.7219\n",
      "Epoch[21/60], Step[125/327], Loss: 0.8144\n",
      "Epoch[21/60], Step[150/327], Loss: 0.7718\n",
      "Epoch[21/60], Step[175/327], Loss: 0.6571\n",
      "Epoch[21/60], Step[200/327], Loss: 0.7190\n",
      "Epoch[21/60], Step[225/327], Loss: 0.7780\n",
      "Epoch[21/60], Step[250/327], Loss: 0.6550\n",
      "Epoch[21/60], Step[275/327], Loss: 0.7217\n",
      "Epoch[21/60], Step[300/327], Loss: 0.6522\n",
      "Epoch[21/60], Step[325/327], Loss: 0.6947\n",
      "Start validation #21\n"
     ]
    },
    {
     "output_type": "display_data",
     "data": {
      "text/plain": "Validation:   0%|          | 0/82 [00:00<?, ?it/s]",
      "application/vnd.jupyter.widget-view+json": {
       "version_major": 2,
       "version_minor": 0,
       "model_id": "6a8e93373e7f4cfb83ad9367d221964f"
      }
     },
     "metadata": {}
    },
    {
     "output_type": "stream",
     "name": "stdout",
     "text": [
      "Validation #21 mIoU: 0.4290\noptimizer0.00037113771758316255\n"
     ]
    },
    {
     "output_type": "display_data",
     "data": {
      "text/plain": "Training:   0%|          | 0/327 [00:00<?, ?it/s]",
      "application/vnd.jupyter.widget-view+json": {
       "version_major": 2,
       "version_minor": 0,
       "model_id": "bbd58b5b426c4121b9dc7c5b20e6be2d"
      }
     },
     "metadata": {}
    },
    {
     "output_type": "stream",
     "name": "stdout",
     "text": [
      "Epoch[22/60], Step[25/327], Loss: 0.6490\n",
      "Epoch[22/60], Step[50/327], Loss: 0.7128\n",
      "Epoch[22/60], Step[75/327], Loss: 0.6842\n",
      "Epoch[22/60], Step[100/327], Loss: 0.6071\n",
      "Epoch[22/60], Step[125/327], Loss: 0.6603\n",
      "Epoch[22/60], Step[150/327], Loss: 0.7316\n",
      "Epoch[22/60], Step[175/327], Loss: 0.6299\n",
      "Epoch[22/60], Step[200/327], Loss: 0.6458\n",
      "Epoch[22/60], Step[225/327], Loss: 0.7176\n",
      "Epoch[22/60], Step[250/327], Loss: 0.7055\n",
      "Epoch[22/60], Step[275/327], Loss: 0.6279\n",
      "Epoch[22/60], Step[300/327], Loss: 0.7977\n",
      "Epoch[22/60], Step[325/327], Loss: 0.6582\n",
      "Start validation #22\n"
     ]
    },
    {
     "output_type": "display_data",
     "data": {
      "text/plain": "Validation:   0%|          | 0/82 [00:00<?, ?it/s]",
      "application/vnd.jupyter.widget-view+json": {
       "version_major": 2,
       "version_minor": 0,
       "model_id": "88a1c750911648be9960a029b69ba448"
      }
     },
     "metadata": {}
    },
    {
     "output_type": "stream",
     "name": "stdout",
     "text": [
      "Validation #22 mIoU: 0.4250\noptimizer0.0003593268301147139\n"
     ]
    },
    {
     "output_type": "display_data",
     "data": {
      "text/plain": "Training:   0%|          | 0/327 [00:00<?, ?it/s]",
      "application/vnd.jupyter.widget-view+json": {
       "version_major": 2,
       "version_minor": 0,
       "model_id": "72b835f7d8d84ee2804276845a5ade28"
      }
     },
     "metadata": {}
    },
    {
     "output_type": "stream",
     "name": "stdout",
     "text": [
      "Epoch[23/60], Step[25/327], Loss: 0.5884\n",
      "Epoch[23/60], Step[50/327], Loss: 0.6688\n",
      "Epoch[23/60], Step[75/327], Loss: 0.6468\n",
      "Epoch[23/60], Step[100/327], Loss: 0.6047\n",
      "Epoch[23/60], Step[125/327], Loss: 0.6809\n",
      "Epoch[23/60], Step[150/327], Loss: 0.5917\n",
      "Epoch[23/60], Step[175/327], Loss: 0.7864\n",
      "Epoch[23/60], Step[200/327], Loss: 0.6798\n",
      "Epoch[23/60], Step[225/327], Loss: 0.6865\n",
      "Epoch[23/60], Step[250/327], Loss: 0.6384\n",
      "Epoch[23/60], Step[275/327], Loss: 0.7348\n",
      "Epoch[23/60], Step[300/327], Loss: 0.7294\n",
      "Epoch[23/60], Step[325/327], Loss: 0.7878\n",
      "Start validation #23\n"
     ]
    },
    {
     "output_type": "display_data",
     "data": {
      "text/plain": "Validation:   0%|          | 0/82 [00:00<?, ?it/s]",
      "application/vnd.jupyter.widget-view+json": {
       "version_major": 2,
       "version_minor": 0,
       "model_id": "cc5f2e81a1d049fd93461c9e6218caf9"
      }
     },
     "metadata": {}
    },
    {
     "output_type": "stream",
     "name": "stdout",
     "text": [
      "Validation #23 mIoU: 0.4333\noptimizer0.0003472060438683302\n"
     ]
    },
    {
     "output_type": "display_data",
     "data": {
      "text/plain": "Training:   0%|          | 0/327 [00:00<?, ?it/s]",
      "application/vnd.jupyter.widget-view+json": {
       "version_major": 2,
       "version_minor": 0,
       "model_id": "dd2d17edfe144942ae2a7c74dacff749"
      }
     },
     "metadata": {}
    },
    {
     "output_type": "stream",
     "name": "stdout",
     "text": [
      "Epoch[24/60], Step[25/327], Loss: 0.7449\n",
      "Epoch[24/60], Step[50/327], Loss: 0.6317\n",
      "Epoch[24/60], Step[75/327], Loss: 0.5761\n",
      "Epoch[24/60], Step[100/327], Loss: 0.6954\n",
      "Epoch[24/60], Step[125/327], Loss: 0.6305\n",
      "Epoch[24/60], Step[150/327], Loss: 0.6569\n",
      "Epoch[24/60], Step[175/327], Loss: 0.7137\n",
      "Epoch[24/60], Step[200/327], Loss: 0.6798\n",
      "Epoch[24/60], Step[225/327], Loss: 0.6236\n",
      "Epoch[24/60], Step[250/327], Loss: 0.8001\n",
      "Epoch[24/60], Step[275/327], Loss: 0.6397\n",
      "Epoch[24/60], Step[300/327], Loss: 0.6258\n",
      "Epoch[24/60], Step[325/327], Loss: 0.6636\n",
      "Start validation #24\n"
     ]
    },
    {
     "output_type": "display_data",
     "data": {
      "text/plain": "Validation:   0%|          | 0/82 [00:00<?, ?it/s]",
      "application/vnd.jupyter.widget-view+json": {
       "version_major": 2,
       "version_minor": 0,
       "model_id": "afc2cadd664a4855ae8e57e98a728ff7"
      }
     },
     "metadata": {}
    },
    {
     "output_type": "stream",
     "name": "stdout",
     "text": [
      "Validation #24 mIoU: 0.4421\noptimizer0.0003348097165295076\n"
     ]
    },
    {
     "output_type": "display_data",
     "data": {
      "text/plain": "Training:   0%|          | 0/327 [00:00<?, ?it/s]",
      "application/vnd.jupyter.widget-view+json": {
       "version_major": 2,
       "version_minor": 0,
       "model_id": "b1f76863ec38408d97c75186a93d1998"
      }
     },
     "metadata": {}
    },
    {
     "output_type": "stream",
     "name": "stdout",
     "text": [
      "Epoch[25/60], Step[25/327], Loss: 0.6568\n",
      "Epoch[25/60], Step[50/327], Loss: 0.5986\n",
      "Epoch[25/60], Step[75/327], Loss: 0.6282\n",
      "Epoch[25/60], Step[100/327], Loss: 0.6786\n",
      "Epoch[25/60], Step[125/327], Loss: 0.6998\n",
      "Epoch[25/60], Step[150/327], Loss: 0.6487\n",
      "Epoch[25/60], Step[175/327], Loss: 0.6176\n",
      "Epoch[25/60], Step[200/327], Loss: 0.6586\n",
      "Epoch[25/60], Step[225/327], Loss: 0.7388\n",
      "Epoch[25/60], Step[250/327], Loss: 0.6605\n",
      "Epoch[25/60], Step[275/327], Loss: 0.5945\n",
      "Epoch[25/60], Step[300/327], Loss: 0.5970\n",
      "Epoch[25/60], Step[325/327], Loss: 0.5806\n",
      "Start validation #25\n"
     ]
    },
    {
     "output_type": "display_data",
     "data": {
      "text/plain": "Validation:   0%|          | 0/82 [00:00<?, ?it/s]",
      "application/vnd.jupyter.widget-view+json": {
       "version_major": 2,
       "version_minor": 0,
       "model_id": "11ca39229897462686d14aac83ea1578"
      }
     },
     "metadata": {}
    },
    {
     "output_type": "stream",
     "name": "stdout",
     "text": [
      "Validation #25 mIoU: 0.4436\noptimizer0.0003221729868349053\n"
     ]
    },
    {
     "output_type": "display_data",
     "data": {
      "text/plain": "Training:   0%|          | 0/327 [00:00<?, ?it/s]",
      "application/vnd.jupyter.widget-view+json": {
       "version_major": 2,
       "version_minor": 0,
       "model_id": "74ee225eca1541cf95a66ec730d8f1f4"
      }
     },
     "metadata": {}
    },
    {
     "output_type": "stream",
     "name": "stdout",
     "text": [
      "Epoch[26/60], Step[25/327], Loss: 0.6156\n",
      "Epoch[26/60], Step[50/327], Loss: 0.6026\n",
      "Epoch[26/60], Step[75/327], Loss: 0.6976\n",
      "Epoch[26/60], Step[100/327], Loss: 0.6535\n",
      "Epoch[26/60], Step[125/327], Loss: 0.5770\n",
      "Epoch[26/60], Step[150/327], Loss: 0.5787\n",
      "Epoch[26/60], Step[175/327], Loss: 0.5972\n",
      "Epoch[26/60], Step[200/327], Loss: 0.6732\n",
      "Epoch[26/60], Step[225/327], Loss: 0.6058\n",
      "Epoch[26/60], Step[250/327], Loss: 0.6392\n",
      "Epoch[26/60], Step[275/327], Loss: 0.6506\n",
      "Epoch[26/60], Step[300/327], Loss: 0.6808\n",
      "Epoch[26/60], Step[325/327], Loss: 0.8244\n",
      "Start validation #26\n"
     ]
    },
    {
     "output_type": "display_data",
     "data": {
      "text/plain": "Validation:   0%|          | 0/82 [00:00<?, ?it/s]",
      "application/vnd.jupyter.widget-view+json": {
       "version_major": 2,
       "version_minor": 0,
       "model_id": "dc2d12b78cfa46d2b1f3de0e6f59c121"
      }
     },
     "metadata": {}
    },
    {
     "output_type": "stream",
     "name": "stdout",
     "text": [
      "Validation #26 mIoU: 0.4459\n",
      "Best performance at epoch: 26\n",
      "Save model in ./saved\n",
      "optimizer0.0003093316749677787\n"
     ]
    },
    {
     "output_type": "display_data",
     "data": {
      "text/plain": "Training:   0%|          | 0/327 [00:00<?, ?it/s]",
      "application/vnd.jupyter.widget-view+json": {
       "version_major": 2,
       "version_minor": 0,
       "model_id": "d7ff5bda622b412184d6edfceae909fd"
      }
     },
     "metadata": {}
    },
    {
     "output_type": "stream",
     "name": "stdout",
     "text": [
      "Epoch[27/60], Step[25/327], Loss: 0.6539\n",
      "Epoch[27/60], Step[50/327], Loss: 0.6449\n",
      "Epoch[27/60], Step[75/327], Loss: 0.7257\n",
      "Epoch[27/60], Step[100/327], Loss: 0.6206\n",
      "Epoch[27/60], Step[125/327], Loss: 0.5913\n",
      "Epoch[27/60], Step[150/327], Loss: 0.6695\n",
      "Epoch[27/60], Step[175/327], Loss: 0.5928\n",
      "Epoch[27/60], Step[200/327], Loss: 0.6393\n",
      "Epoch[27/60], Step[225/327], Loss: 0.7630\n",
      "Epoch[27/60], Step[250/327], Loss: 0.6138\n",
      "Epoch[27/60], Step[275/327], Loss: 0.5813\n",
      "Epoch[27/60], Step[300/327], Loss: 0.6652\n",
      "Epoch[27/60], Step[325/327], Loss: 0.7942\n",
      "Start validation #27\n"
     ]
    },
    {
     "output_type": "display_data",
     "data": {
      "text/plain": "Validation:   0%|          | 0/82 [00:00<?, ?it/s]",
      "application/vnd.jupyter.widget-view+json": {
       "version_major": 2,
       "version_minor": 0,
       "model_id": "9424e56dc1a04a5ea19a258e49feee0d"
      }
     },
     "metadata": {}
    },
    {
     "output_type": "stream",
     "name": "stdout",
     "text": [
      "Validation #27 mIoU: 0.4788\n",
      "Best performance at epoch: 27\n",
      "Save model in ./saved\n",
      "optimizer0.0002963221810217786\n"
     ]
    },
    {
     "output_type": "display_data",
     "data": {
      "text/plain": "Training:   0%|          | 0/327 [00:00<?, ?it/s]",
      "application/vnd.jupyter.widget-view+json": {
       "version_major": 2,
       "version_minor": 0,
       "model_id": "0d9f091781654e2e937071b1ce005ea2"
      }
     },
     "metadata": {}
    },
    {
     "output_type": "stream",
     "name": "stdout",
     "text": [
      "Epoch[28/60], Step[25/327], Loss: 0.6537\n",
      "Epoch[28/60], Step[50/327], Loss: 0.6018\n",
      "Epoch[28/60], Step[75/327], Loss: 0.6097\n",
      "Epoch[28/60], Step[100/327], Loss: 1.0364\n",
      "Epoch[28/60], Step[125/327], Loss: 0.6176\n",
      "Epoch[28/60], Step[150/327], Loss: 0.6636\n",
      "Epoch[28/60], Step[175/327], Loss: 0.6443\n",
      "Epoch[28/60], Step[200/327], Loss: 0.6518\n",
      "Epoch[28/60], Step[225/327], Loss: 0.6254\n",
      "Epoch[28/60], Step[250/327], Loss: 0.6357\n",
      "Epoch[28/60], Step[275/327], Loss: 0.6292\n",
      "Epoch[28/60], Step[300/327], Loss: 0.6341\n",
      "Epoch[28/60], Step[325/327], Loss: 0.6328\n",
      "Start validation #28\n"
     ]
    },
    {
     "output_type": "display_data",
     "data": {
      "text/plain": "Validation:   0%|          | 0/82 [00:00<?, ?it/s]",
      "application/vnd.jupyter.widget-view+json": {
       "version_major": 2,
       "version_minor": 0,
       "model_id": "64c2fd875b944224b1d32f93fdbcfbbd"
      }
     },
     "metadata": {}
    },
    {
     "output_type": "stream",
     "name": "stdout",
     "text": [
      "Validation #28 mIoU: 0.4296\noptimizer0.0002831813818209306\n"
     ]
    },
    {
     "output_type": "display_data",
     "data": {
      "text/plain": "Training:   0%|          | 0/327 [00:00<?, ?it/s]",
      "application/vnd.jupyter.widget-view+json": {
       "version_major": 2,
       "version_minor": 0,
       "model_id": "9fa183f8b6304f24bf87642db5f16678"
      }
     },
     "metadata": {}
    },
    {
     "output_type": "stream",
     "name": "stdout",
     "text": [
      "Epoch[29/60], Step[25/327], Loss: 0.6614\n",
      "Epoch[29/60], Step[50/327], Loss: 0.6373\n",
      "Epoch[29/60], Step[75/327], Loss: 0.6559\n",
      "Epoch[29/60], Step[100/327], Loss: 0.5662\n",
      "Epoch[29/60], Step[125/327], Loss: 0.6198\n",
      "Epoch[29/60], Step[150/327], Loss: 0.5747\n",
      "Epoch[29/60], Step[175/327], Loss: 0.6831\n",
      "Epoch[29/60], Step[200/327], Loss: 0.6117\n",
      "Epoch[29/60], Step[225/327], Loss: 0.7019\n",
      "Epoch[29/60], Step[250/327], Loss: 0.6656\n",
      "Epoch[29/60], Step[275/327], Loss: 0.6405\n",
      "Epoch[29/60], Step[300/327], Loss: 0.6360\n",
      "Epoch[29/60], Step[325/327], Loss: 0.6535\n",
      "Start validation #29\n"
     ]
    },
    {
     "output_type": "display_data",
     "data": {
      "text/plain": "Validation:   0%|          | 0/82 [00:00<?, ?it/s]",
      "application/vnd.jupyter.widget-view+json": {
       "version_major": 2,
       "version_minor": 0,
       "model_id": "ecdb51ae0532459baa099efe01595108"
      }
     },
     "metadata": {}
    },
    {
     "output_type": "stream",
     "name": "stdout",
     "text": [
      "Validation #29 mIoU: 0.4177\noptimizer0.0002699465263882708\n"
     ]
    },
    {
     "output_type": "display_data",
     "data": {
      "text/plain": "Training:   0%|          | 0/327 [00:00<?, ?it/s]",
      "application/vnd.jupyter.widget-view+json": {
       "version_major": 2,
       "version_minor": 0,
       "model_id": "ee16f627c0904310a0b5713a0d573ff8"
      }
     },
     "metadata": {}
    },
    {
     "output_type": "stream",
     "name": "stdout",
     "text": [
      "Epoch[30/60], Step[25/327], Loss: 0.6552\n",
      "Epoch[30/60], Step[50/327], Loss: 0.6333\n",
      "Epoch[30/60], Step[75/327], Loss: 0.6321\n",
      "Epoch[30/60], Step[100/327], Loss: 0.5931\n",
      "Epoch[30/60], Step[125/327], Loss: 0.6018\n",
      "Epoch[30/60], Step[150/327], Loss: 0.6562\n",
      "Epoch[30/60], Step[175/327], Loss: 0.6012\n",
      "Epoch[30/60], Step[200/327], Loss: 0.5975\n",
      "Epoch[30/60], Step[225/327], Loss: 0.6321\n",
      "Epoch[30/60], Step[250/327], Loss: 0.5908\n",
      "Epoch[30/60], Step[275/327], Loss: 0.6064\n",
      "Epoch[30/60], Step[300/327], Loss: 0.6671\n",
      "Epoch[30/60], Step[325/327], Loss: 0.6154\n",
      "Start validation #30\n"
     ]
    },
    {
     "output_type": "display_data",
     "data": {
      "text/plain": "Validation:   0%|          | 0/82 [00:00<?, ?it/s]",
      "application/vnd.jupyter.widget-view+json": {
       "version_major": 2,
       "version_minor": 0,
       "model_id": "38ece95e5a29493291264ec922b702d8"
      }
     },
     "metadata": {}
    },
    {
     "output_type": "stream",
     "name": "stdout",
     "text": [
      "Validation #30 mIoU: 0.4356\noptimizer0.00025665513035944373\n"
     ]
    },
    {
     "output_type": "display_data",
     "data": {
      "text/plain": "Training:   0%|          | 0/327 [00:00<?, ?it/s]",
      "application/vnd.jupyter.widget-view+json": {
       "version_major": 2,
       "version_minor": 0,
       "model_id": "e178d4fa21a547aca80d2db588088682"
      }
     },
     "metadata": {}
    },
    {
     "output_type": "stream",
     "name": "stdout",
     "text": [
      "Epoch[31/60], Step[25/327], Loss: 0.5907\n",
      "Epoch[31/60], Step[50/327], Loss: 0.5792\n",
      "Epoch[31/60], Step[75/327], Loss: 0.5715\n",
      "Epoch[31/60], Step[100/327], Loss: 0.5911\n",
      "Epoch[31/60], Step[125/327], Loss: 0.6297\n",
      "Epoch[31/60], Step[150/327], Loss: 0.5869\n",
      "Epoch[31/60], Step[175/327], Loss: 0.6390\n",
      "Epoch[31/60], Step[200/327], Loss: 0.5630\n",
      "Epoch[31/60], Step[225/327], Loss: 0.5917\n",
      "Epoch[31/60], Step[250/327], Loss: 0.6100\n",
      "Epoch[31/60], Step[275/327], Loss: 0.5866\n",
      "Epoch[31/60], Step[300/327], Loss: 0.5893\n",
      "Epoch[31/60], Step[325/327], Loss: 0.6134\n",
      "Start validation #31\n"
     ]
    },
    {
     "output_type": "display_data",
     "data": {
      "text/plain": "Validation:   0%|          | 0/82 [00:00<?, ?it/s]",
      "application/vnd.jupyter.widget-view+json": {
       "version_major": 2,
       "version_minor": 0,
       "model_id": "ca10671e77ff4554993fe985c25af5ed"
      }
     },
     "metadata": {}
    },
    {
     "output_type": "stream",
     "name": "stdout",
     "text": [
      "Validation #31 mIoU: 0.4408\noptimizer0.00024334486964055634\n"
     ]
    },
    {
     "output_type": "display_data",
     "data": {
      "text/plain": "Training:   0%|          | 0/327 [00:00<?, ?it/s]",
      "application/vnd.jupyter.widget-view+json": {
       "version_major": 2,
       "version_minor": 0,
       "model_id": "d3ba43b953b6497396422313baafedcf"
      }
     },
     "metadata": {}
    },
    {
     "output_type": "stream",
     "name": "stdout",
     "text": [
      "Epoch[32/60], Step[25/327], Loss: 0.6172\n",
      "Epoch[32/60], Step[50/327], Loss: 0.6190\n",
      "Epoch[32/60], Step[75/327], Loss: 0.6082\n",
      "Epoch[32/60], Step[100/327], Loss: 0.5856\n",
      "Epoch[32/60], Step[125/327], Loss: 0.6390\n",
      "Epoch[32/60], Step[150/327], Loss: 0.6025\n",
      "Epoch[32/60], Step[175/327], Loss: 0.6301\n",
      "Epoch[32/60], Step[200/327], Loss: 0.6058\n",
      "Epoch[32/60], Step[225/327], Loss: 0.6778\n",
      "Epoch[32/60], Step[250/327], Loss: 0.5820\n",
      "Epoch[32/60], Step[275/327], Loss: 0.5769\n",
      "Epoch[32/60], Step[300/327], Loss: 0.6173\n",
      "Epoch[32/60], Step[325/327], Loss: 0.5907\n",
      "Start validation #32\n"
     ]
    },
    {
     "output_type": "display_data",
     "data": {
      "text/plain": "Validation:   0%|          | 0/82 [00:00<?, ?it/s]",
      "application/vnd.jupyter.widget-view+json": {
       "version_major": 2,
       "version_minor": 0,
       "model_id": "e29f664f379349cc8e35f92efb6bd37f"
      }
     },
     "metadata": {}
    },
    {
     "output_type": "stream",
     "name": "stdout",
     "text": [
      "Validation #32 mIoU: 0.4557\noptimizer0.00023005347361172926\n"
     ]
    },
    {
     "output_type": "display_data",
     "data": {
      "text/plain": "Training:   0%|          | 0/327 [00:00<?, ?it/s]",
      "application/vnd.jupyter.widget-view+json": {
       "version_major": 2,
       "version_minor": 0,
       "model_id": "511fbc8386d840679a26986275587bab"
      }
     },
     "metadata": {}
    },
    {
     "output_type": "stream",
     "name": "stdout",
     "text": [
      "Epoch[33/60], Step[25/327], Loss: 0.5722\n",
      "Epoch[33/60], Step[50/327], Loss: 0.6074\n",
      "Epoch[33/60], Step[75/327], Loss: 0.6725\n",
      "Epoch[33/60], Step[100/327], Loss: 0.6045\n",
      "Epoch[33/60], Step[125/327], Loss: 0.5863\n",
      "Epoch[33/60], Step[150/327], Loss: 0.5960\n",
      "Epoch[33/60], Step[175/327], Loss: 0.5962\n",
      "Epoch[33/60], Step[200/327], Loss: 0.6186\n",
      "Epoch[33/60], Step[225/327], Loss: 0.6385\n",
      "Epoch[33/60], Step[250/327], Loss: 0.6583\n",
      "Epoch[33/60], Step[275/327], Loss: 0.6355\n",
      "Epoch[33/60], Step[300/327], Loss: 0.5790\n",
      "Epoch[33/60], Step[325/327], Loss: 0.5774\n",
      "Start validation #33\n"
     ]
    },
    {
     "output_type": "display_data",
     "data": {
      "text/plain": "Validation:   0%|          | 0/82 [00:00<?, ?it/s]",
      "application/vnd.jupyter.widget-view+json": {
       "version_major": 2,
       "version_minor": 0,
       "model_id": "0d121069e8c74170a432f36d815d0ff5"
      }
     },
     "metadata": {}
    },
    {
     "output_type": "stream",
     "name": "stdout",
     "text": [
      "Validation #33 mIoU: 0.4594\noptimizer0.00021681861817906954\n"
     ]
    },
    {
     "output_type": "display_data",
     "data": {
      "text/plain": "Training:   0%|          | 0/327 [00:00<?, ?it/s]",
      "application/vnd.jupyter.widget-view+json": {
       "version_major": 2,
       "version_minor": 0,
       "model_id": "24ba5aa20261494191068bd4868ee951"
      }
     },
     "metadata": {}
    },
    {
     "output_type": "stream",
     "name": "stdout",
     "text": [
      "Epoch[34/60], Step[25/327], Loss: 0.6014\n",
      "Epoch[34/60], Step[50/327], Loss: 0.5846\n",
      "Epoch[34/60], Step[75/327], Loss: 0.6674\n",
      "Epoch[34/60], Step[100/327], Loss: 0.5770\n",
      "Epoch[34/60], Step[125/327], Loss: 0.6015\n",
      "Epoch[34/60], Step[150/327], Loss: 0.5829\n",
      "Epoch[34/60], Step[175/327], Loss: 0.5812\n",
      "Epoch[34/60], Step[200/327], Loss: 0.5934\n",
      "Epoch[34/60], Step[225/327], Loss: 0.6404\n",
      "Epoch[34/60], Step[250/327], Loss: 0.6513\n",
      "Epoch[34/60], Step[275/327], Loss: 0.5660\n",
      "Epoch[34/60], Step[300/327], Loss: 0.6381\n",
      "Epoch[34/60], Step[325/327], Loss: 0.6465\n",
      "Start validation #34\n"
     ]
    },
    {
     "output_type": "display_data",
     "data": {
      "text/plain": "Validation:   0%|          | 0/82 [00:00<?, ?it/s]",
      "application/vnd.jupyter.widget-view+json": {
       "version_major": 2,
       "version_minor": 0,
       "model_id": "db743fc67786437381e4b9ed3a5bf815"
      }
     },
     "metadata": {}
    },
    {
     "output_type": "stream",
     "name": "stdout",
     "text": [
      "Validation #34 mIoU: 0.4462\noptimizer0.0002036778189782214\n"
     ]
    },
    {
     "output_type": "display_data",
     "data": {
      "text/plain": "Training:   0%|          | 0/327 [00:00<?, ?it/s]",
      "application/vnd.jupyter.widget-view+json": {
       "version_major": 2,
       "version_minor": 0,
       "model_id": "a5c67da264224ebb9faf2310da3918b2"
      }
     },
     "metadata": {}
    },
    {
     "output_type": "stream",
     "name": "stdout",
     "text": [
      "Epoch[35/60], Step[25/327], Loss: 0.5498\n",
      "Epoch[35/60], Step[50/327], Loss: 0.6496\n",
      "Epoch[35/60], Step[75/327], Loss: 0.6525\n",
      "Epoch[35/60], Step[100/327], Loss: 0.6700\n",
      "Epoch[35/60], Step[125/327], Loss: 0.5551\n",
      "Epoch[35/60], Step[150/327], Loss: 0.6233\n",
      "Epoch[35/60], Step[175/327], Loss: 0.5495\n",
      "Epoch[35/60], Step[200/327], Loss: 0.5871\n",
      "Epoch[35/60], Step[225/327], Loss: 0.6261\n",
      "Epoch[35/60], Step[250/327], Loss: 0.5973\n",
      "Epoch[35/60], Step[275/327], Loss: 0.5921\n",
      "Epoch[35/60], Step[300/327], Loss: 0.6754\n",
      "Epoch[35/60], Step[325/327], Loss: 0.5662\n",
      "Start validation #35\n"
     ]
    },
    {
     "output_type": "display_data",
     "data": {
      "text/plain": "Validation:   0%|          | 0/82 [00:00<?, ?it/s]",
      "application/vnd.jupyter.widget-view+json": {
       "version_major": 2,
       "version_minor": 0,
       "model_id": "1df54e5a8f584aa2991f306d795331db"
      }
     },
     "metadata": {}
    },
    {
     "output_type": "stream",
     "name": "stdout",
     "text": [
      "Validation #35 mIoU: 0.4614\noptimizer0.00019066832503222128\n"
     ]
    },
    {
     "output_type": "display_data",
     "data": {
      "text/plain": "Training:   0%|          | 0/327 [00:00<?, ?it/s]",
      "application/vnd.jupyter.widget-view+json": {
       "version_major": 2,
       "version_minor": 0,
       "model_id": "89c988273fde4a238304d0ea2f279440"
      }
     },
     "metadata": {}
    },
    {
     "output_type": "stream",
     "name": "stdout",
     "text": [
      "Epoch[36/60], Step[25/327], Loss: 0.6039\n",
      "Epoch[36/60], Step[50/327], Loss: 0.5887\n",
      "Epoch[36/60], Step[75/327], Loss: 0.6049\n",
      "Epoch[36/60], Step[100/327], Loss: 0.6062\n",
      "Epoch[36/60], Step[125/327], Loss: 0.6176\n",
      "Epoch[36/60], Step[150/327], Loss: 0.5825\n",
      "Epoch[36/60], Step[175/327], Loss: 0.5710\n",
      "Epoch[36/60], Step[200/327], Loss: 0.6029\n",
      "Epoch[36/60], Step[225/327], Loss: 0.5904\n",
      "Epoch[36/60], Step[250/327], Loss: 0.5490\n",
      "Epoch[36/60], Step[275/327], Loss: 0.5920\n",
      "Epoch[36/60], Step[300/327], Loss: 0.5934\n",
      "Epoch[36/60], Step[325/327], Loss: 0.5855\n",
      "Start validation #36\n"
     ]
    },
    {
     "output_type": "display_data",
     "data": {
      "text/plain": "Validation:   0%|          | 0/82 [00:00<?, ?it/s]",
      "application/vnd.jupyter.widget-view+json": {
       "version_major": 2,
       "version_minor": 0,
       "model_id": "9d86883366da4a76b06b6365d1125f74"
      }
     },
     "metadata": {}
    },
    {
     "output_type": "stream",
     "name": "stdout",
     "text": [
      "Validation #36 mIoU: 0.4950\n",
      "Best performance at epoch: 36\n",
      "Save model in ./saved\n",
      "optimizer0.0001778270131650948\n"
     ]
    },
    {
     "output_type": "display_data",
     "data": {
      "text/plain": "Training:   0%|          | 0/327 [00:00<?, ?it/s]",
      "application/vnd.jupyter.widget-view+json": {
       "version_major": 2,
       "version_minor": 0,
       "model_id": "6876384dcb4149f6a132a4ace64b81f5"
      }
     },
     "metadata": {}
    },
    {
     "output_type": "stream",
     "name": "stdout",
     "text": [
      "Epoch[37/60], Step[25/327], Loss: 0.5935\n",
      "Epoch[37/60], Step[50/327], Loss: 0.5832\n",
      "Epoch[37/60], Step[75/327], Loss: 0.6204\n",
      "Epoch[37/60], Step[100/327], Loss: 0.6038\n",
      "Epoch[37/60], Step[125/327], Loss: 0.6056\n",
      "Epoch[37/60], Step[150/327], Loss: 0.6082\n",
      "Epoch[37/60], Step[175/327], Loss: 0.5882\n",
      "Epoch[37/60], Step[200/327], Loss: 0.5526\n",
      "Epoch[37/60], Step[225/327], Loss: 0.5700\n",
      "Epoch[37/60], Step[250/327], Loss: 0.5778\n",
      "Epoch[37/60], Step[275/327], Loss: 0.5543\n",
      "Epoch[37/60], Step[300/327], Loss: 0.5888\n",
      "Epoch[37/60], Step[325/327], Loss: 0.5585\n",
      "Start validation #37\n"
     ]
    },
    {
     "output_type": "display_data",
     "data": {
      "text/plain": "Validation:   0%|          | 0/82 [00:00<?, ?it/s]",
      "application/vnd.jupyter.widget-view+json": {
       "version_major": 2,
       "version_minor": 0,
       "model_id": "ad2772be2719420395d029c57194ba26"
      }
     },
     "metadata": {}
    },
    {
     "output_type": "stream",
     "name": "stdout",
     "text": [
      "Validation #37 mIoU: 0.4871\noptimizer0.00016519028347049242\n"
     ]
    },
    {
     "output_type": "display_data",
     "data": {
      "text/plain": "Training:   0%|          | 0/327 [00:00<?, ?it/s]",
      "application/vnd.jupyter.widget-view+json": {
       "version_major": 2,
       "version_minor": 0,
       "model_id": "19d27ac5497f44c8b2081542093a986c"
      }
     },
     "metadata": {}
    },
    {
     "output_type": "stream",
     "name": "stdout",
     "text": [
      "Epoch[38/60], Step[25/327], Loss: 0.5741\n",
      "Epoch[38/60], Step[50/327], Loss: 0.5906\n",
      "Epoch[38/60], Step[75/327], Loss: 0.6101\n",
      "Epoch[38/60], Step[100/327], Loss: 0.5904\n",
      "Epoch[38/60], Step[125/327], Loss: 0.5877\n",
      "Epoch[38/60], Step[150/327], Loss: 0.6285\n",
      "Epoch[38/60], Step[175/327], Loss: 0.6100\n",
      "Epoch[38/60], Step[200/327], Loss: 0.5690\n",
      "Epoch[38/60], Step[225/327], Loss: 0.5681\n",
      "Epoch[38/60], Step[250/327], Loss: 0.5629\n",
      "Epoch[38/60], Step[275/327], Loss: 0.5716\n",
      "Epoch[38/60], Step[300/327], Loss: 0.5668\n",
      "Epoch[38/60], Step[325/327], Loss: 0.5584\n",
      "Start validation #38\n"
     ]
    },
    {
     "output_type": "display_data",
     "data": {
      "text/plain": "Validation:   0%|          | 0/82 [00:00<?, ?it/s]",
      "application/vnd.jupyter.widget-view+json": {
       "version_major": 2,
       "version_minor": 0,
       "model_id": "3ab274cd2bc54b18906c1bdc92207826"
      }
     },
     "metadata": {}
    },
    {
     "output_type": "stream",
     "name": "stdout",
     "text": [
      "Validation #38 mIoU: 0.4479\noptimizer0.00015279395613166985\n"
     ]
    },
    {
     "output_type": "display_data",
     "data": {
      "text/plain": "Training:   0%|          | 0/327 [00:00<?, ?it/s]",
      "application/vnd.jupyter.widget-view+json": {
       "version_major": 2,
       "version_minor": 0,
       "model_id": "3040ceed96c3417fac3703e54408137e"
      }
     },
     "metadata": {}
    },
    {
     "output_type": "stream",
     "name": "stdout",
     "text": [
      "Epoch[39/60], Step[25/327], Loss: 0.5682\n",
      "Epoch[39/60], Step[50/327], Loss: 0.5667\n",
      "Epoch[39/60], Step[75/327], Loss: 0.5536\n",
      "Epoch[39/60], Step[100/327], Loss: 0.5668\n",
      "Epoch[39/60], Step[125/327], Loss: 0.5730\n",
      "Epoch[39/60], Step[150/327], Loss: 0.6251\n",
      "Epoch[39/60], Step[175/327], Loss: 0.5794\n",
      "Epoch[39/60], Step[200/327], Loss: 0.5739\n",
      "Epoch[39/60], Step[225/327], Loss: 0.5670\n",
      "Epoch[39/60], Step[250/327], Loss: 0.5580\n",
      "Epoch[39/60], Step[275/327], Loss: 0.5933\n",
      "Epoch[39/60], Step[300/327], Loss: 0.5670\n",
      "Epoch[39/60], Step[325/327], Loss: 0.5843\n",
      "Start validation #39\n"
     ]
    },
    {
     "output_type": "display_data",
     "data": {
      "text/plain": "Validation:   0%|          | 0/82 [00:00<?, ?it/s]",
      "application/vnd.jupyter.widget-view+json": {
       "version_major": 2,
       "version_minor": 0,
       "model_id": "e3c2f52682914bd1998505deba05ad21"
      }
     },
     "metadata": {}
    },
    {
     "output_type": "stream",
     "name": "stdout",
     "text": [
      "Validation #39 mIoU: 0.4579\noptimizer0.00014067316988528616\n"
     ]
    },
    {
     "output_type": "display_data",
     "data": {
      "text/plain": "Training:   0%|          | 0/327 [00:00<?, ?it/s]",
      "application/vnd.jupyter.widget-view+json": {
       "version_major": 2,
       "version_minor": 0,
       "model_id": "ab31ebf4ebb1455fa18ad07ee6e0502c"
      }
     },
     "metadata": {}
    },
    {
     "output_type": "stream",
     "name": "stdout",
     "text": [
      "Epoch[40/60], Step[25/327], Loss: 0.5959\n",
      "Epoch[40/60], Step[50/327], Loss: 0.5685\n",
      "Epoch[40/60], Step[75/327], Loss: 0.5905\n",
      "Epoch[40/60], Step[100/327], Loss: 0.5712\n",
      "Epoch[40/60], Step[125/327], Loss: 0.6682\n",
      "Epoch[40/60], Step[150/327], Loss: 0.5717\n",
      "Epoch[40/60], Step[175/327], Loss: 0.5683\n",
      "Epoch[40/60], Step[200/327], Loss: 0.6255\n",
      "Epoch[40/60], Step[225/327], Loss: 0.6433\n",
      "Epoch[40/60], Step[250/327], Loss: 0.5731\n",
      "Epoch[40/60], Step[275/327], Loss: 0.5640\n",
      "Epoch[40/60], Step[300/327], Loss: 0.5822\n",
      "Epoch[40/60], Step[325/327], Loss: 0.5706\n",
      "Start validation #40\n"
     ]
    },
    {
     "output_type": "display_data",
     "data": {
      "text/plain": "Validation:   0%|          | 0/82 [00:00<?, ?it/s]",
      "application/vnd.jupyter.widget-view+json": {
       "version_major": 2,
       "version_minor": 0,
       "model_id": "d8978d067f51482b8d60e01f8036546a"
      }
     },
     "metadata": {}
    },
    {
     "output_type": "stream",
     "name": "stdout",
     "text": [
      "Validation #40 mIoU: 0.4787\noptimizer0.0001288622824168375\n"
     ]
    },
    {
     "output_type": "display_data",
     "data": {
      "text/plain": "Training:   0%|          | 0/327 [00:00<?, ?it/s]",
      "application/vnd.jupyter.widget-view+json": {
       "version_major": 2,
       "version_minor": 0,
       "model_id": "f8b2f4ea7b5541bf960ffb436878ead8"
      }
     },
     "metadata": {}
    },
    {
     "output_type": "stream",
     "name": "stdout",
     "text": [
      "Epoch[41/60], Step[25/327], Loss: 0.5994\n",
      "Epoch[41/60], Step[50/327], Loss: 0.5739\n",
      "Epoch[41/60], Step[75/327], Loss: 0.5755\n",
      "Epoch[41/60], Step[100/327], Loss: 0.5589\n",
      "Epoch[41/60], Step[125/327], Loss: 0.5727\n",
      "Epoch[41/60], Step[150/327], Loss: 0.6084\n",
      "Epoch[41/60], Step[175/327], Loss: 0.5874\n",
      "Epoch[41/60], Step[200/327], Loss: 0.5732\n",
      "Epoch[41/60], Step[225/327], Loss: 0.5813\n",
      "Epoch[41/60], Step[250/327], Loss: 0.5430\n",
      "Epoch[41/60], Step[275/327], Loss: 0.5676\n",
      "Epoch[41/60], Step[300/327], Loss: 0.5672\n",
      "Epoch[41/60], Step[325/327], Loss: 0.5839\n",
      "Start validation #41\n"
     ]
    },
    {
     "output_type": "display_data",
     "data": {
      "text/plain": "Validation:   0%|          | 0/82 [00:00<?, ?it/s]",
      "application/vnd.jupyter.widget-view+json": {
       "version_major": 2,
       "version_minor": 0,
       "model_id": "476cbd3d5ec94e22aeab4c5405bfce9f"
      }
     },
     "metadata": {}
    },
    {
     "output_type": "stream",
     "name": "stdout",
     "text": [
      "Validation #41 mIoU: 0.4790\noptimizer0.0001173947729700644\n"
     ]
    },
    {
     "output_type": "display_data",
     "data": {
      "text/plain": "Training:   0%|          | 0/327 [00:00<?, ?it/s]",
      "application/vnd.jupyter.widget-view+json": {
       "version_major": 2,
       "version_minor": 0,
       "model_id": "a5315ebfae384e62a6691357a5719fe8"
      }
     },
     "metadata": {}
    },
    {
     "output_type": "stream",
     "name": "stdout",
     "text": [
      "Epoch[42/60], Step[25/327], Loss: 0.5894\n",
      "Epoch[42/60], Step[50/327], Loss: 0.5950\n",
      "Epoch[42/60], Step[75/327], Loss: 0.5683\n",
      "Epoch[42/60], Step[100/327], Loss: 0.5628\n",
      "Epoch[42/60], Step[125/327], Loss: 0.5655\n",
      "Epoch[42/60], Step[150/327], Loss: 0.5583\n",
      "Epoch[42/60], Step[175/327], Loss: 0.5711\n",
      "Epoch[42/60], Step[200/327], Loss: 0.5447\n",
      "Epoch[42/60], Step[225/327], Loss: 0.5742\n",
      "Epoch[42/60], Step[250/327], Loss: 0.5519\n",
      "Epoch[42/60], Step[275/327], Loss: 0.5844\n",
      "Epoch[42/60], Step[300/327], Loss: 0.5629\n",
      "Epoch[42/60], Step[325/327], Loss: 0.5639\n",
      "Start validation #42\n"
     ]
    },
    {
     "output_type": "display_data",
     "data": {
      "text/plain": "Validation:   0%|          | 0/82 [00:00<?, ?it/s]",
      "application/vnd.jupyter.widget-view+json": {
       "version_major": 2,
       "version_minor": 0,
       "model_id": "deff7af7bae243ceb471cdedd4b5640e"
      }
     },
     "metadata": {}
    },
    {
     "output_type": "stream",
     "name": "stdout",
     "text": [
      "Validation #42 mIoU: 0.4723\noptimizer0.0001063031474463983\n"
     ]
    },
    {
     "output_type": "display_data",
     "data": {
      "text/plain": "Training:   0%|          | 0/327 [00:00<?, ?it/s]",
      "application/vnd.jupyter.widget-view+json": {
       "version_major": 2,
       "version_minor": 0,
       "model_id": "eccb28aaa7034681b7cc47da5c39f46f"
      }
     },
     "metadata": {}
    },
    {
     "output_type": "stream",
     "name": "stdout",
     "text": [
      "Epoch[43/60], Step[25/327], Loss: 0.5768\n",
      "Epoch[43/60], Step[50/327], Loss: 0.5723\n",
      "Epoch[43/60], Step[75/327], Loss: 0.5980\n",
      "Epoch[43/60], Step[100/327], Loss: 0.6416\n",
      "Epoch[43/60], Step[125/327], Loss: 0.5619\n",
      "Epoch[43/60], Step[150/327], Loss: 0.5508\n",
      "Epoch[43/60], Step[175/327], Loss: 0.5795\n",
      "Epoch[43/60], Step[200/327], Loss: 0.5559\n",
      "Epoch[43/60], Step[225/327], Loss: 0.5429\n",
      "Epoch[43/60], Step[250/327], Loss: 0.5550\n",
      "Epoch[43/60], Step[275/327], Loss: 0.5635\n",
      "Epoch[43/60], Step[300/327], Loss: 0.5801\n",
      "Epoch[43/60], Step[325/327], Loss: 0.5952\n",
      "Start validation #43\n"
     ]
    },
    {
     "output_type": "display_data",
     "data": {
      "text/plain": "Validation:   0%|          | 0/82 [00:00<?, ?it/s]",
      "application/vnd.jupyter.widget-view+json": {
       "version_major": 2,
       "version_minor": 0,
       "model_id": "6e425ff763334c53b93bc6cdc48c375c"
      }
     },
     "metadata": {}
    },
    {
     "output_type": "stream",
     "name": "stdout",
     "text": [
      "Validation #43 mIoU: 0.4555\noptimizer9.561884626345205e-05\n"
     ]
    },
    {
     "output_type": "display_data",
     "data": {
      "text/plain": "Training:   0%|          | 0/327 [00:00<?, ?it/s]",
      "application/vnd.jupyter.widget-view+json": {
       "version_major": 2,
       "version_minor": 0,
       "model_id": "17bd6e5bdd9a4045afda0f5dc8c54991"
      }
     },
     "metadata": {}
    },
    {
     "output_type": "stream",
     "name": "stdout",
     "text": [
      "Epoch[44/60], Step[25/327], Loss: 0.5536\n",
      "Epoch[44/60], Step[50/327], Loss: 0.5470\n",
      "Epoch[44/60], Step[75/327], Loss: 0.5990\n",
      "Epoch[44/60], Step[100/327], Loss: 0.5804\n",
      "Epoch[44/60], Step[125/327], Loss: 0.5847\n",
      "Epoch[44/60], Step[150/327], Loss: 0.6187\n",
      "Epoch[44/60], Step[175/327], Loss: 0.5551\n",
      "Epoch[44/60], Step[200/327], Loss: 0.5441\n",
      "Epoch[44/60], Step[225/327], Loss: 0.5538\n",
      "Epoch[44/60], Step[250/327], Loss: 0.5865\n",
      "Epoch[44/60], Step[275/327], Loss: 0.5418\n",
      "Epoch[44/60], Step[300/327], Loss: 0.5597\n",
      "Epoch[44/60], Step[325/327], Loss: 0.6088\n",
      "Start validation #44\n"
     ]
    },
    {
     "output_type": "display_data",
     "data": {
      "text/plain": "Validation:   0%|          | 0/82 [00:00<?, ?it/s]",
      "application/vnd.jupyter.widget-view+json": {
       "version_major": 2,
       "version_minor": 0,
       "model_id": "83773fa00e604b37a54489e2b3610e26"
      }
     },
     "metadata": {}
    },
    {
     "output_type": "stream",
     "name": "stdout",
     "text": [
      "Validation #44 mIoU: 0.4884\noptimizer8.537215523374037e-05\n"
     ]
    },
    {
     "output_type": "display_data",
     "data": {
      "text/plain": "Training:   0%|          | 0/327 [00:00<?, ?it/s]",
      "application/vnd.jupyter.widget-view+json": {
       "version_major": 2,
       "version_minor": 0,
       "model_id": "07677cc3b73540738381fbf97dfcc436"
      }
     },
     "metadata": {}
    },
    {
     "output_type": "stream",
     "name": "stdout",
     "text": [
      "Epoch[45/60], Step[25/327], Loss: 0.5705\n",
      "Epoch[45/60], Step[50/327], Loss: 0.5720\n",
      "Epoch[45/60], Step[75/327], Loss: 0.5594\n",
      "Epoch[45/60], Step[100/327], Loss: 0.5662\n",
      "Epoch[45/60], Step[125/327], Loss: 0.5463\n",
      "Epoch[45/60], Step[150/327], Loss: 0.5825\n",
      "Epoch[45/60], Step[175/327], Loss: 0.5847\n",
      "Epoch[45/60], Step[200/327], Loss: 0.5992\n",
      "Epoch[45/60], Step[225/327], Loss: 0.5607\n",
      "Epoch[45/60], Step[250/327], Loss: 0.5871\n",
      "Epoch[45/60], Step[275/327], Loss: 0.5707\n",
      "Epoch[45/60], Step[300/327], Loss: 0.5502\n",
      "Epoch[45/60], Step[325/327], Loss: 0.5575\n",
      "Start validation #45\n"
     ]
    },
    {
     "output_type": "display_data",
     "data": {
      "text/plain": "Validation:   0%|          | 0/82 [00:00<?, ?it/s]",
      "application/vnd.jupyter.widget-view+json": {
       "version_major": 2,
       "version_minor": 0,
       "model_id": "730e10d856d643c0868de7a7c1ec01b0"
      }
     },
     "metadata": {}
    },
    {
     "output_type": "stream",
     "name": "stdout",
     "text": [
      "Validation #45 mIoU: 0.4873\noptimizer7.559211971625385e-05\n"
     ]
    },
    {
     "output_type": "display_data",
     "data": {
      "text/plain": "Training:   0%|          | 0/327 [00:00<?, ?it/s]",
      "application/vnd.jupyter.widget-view+json": {
       "version_major": 2,
       "version_minor": 0,
       "model_id": "4a92e13dc0fd4f8b8b6424555b07b9d6"
      }
     },
     "metadata": {}
    },
    {
     "output_type": "stream",
     "name": "stdout",
     "text": [
      "Epoch[46/60], Step[25/327], Loss: 0.5448\n",
      "Epoch[46/60], Step[50/327], Loss: 0.5544\n",
      "Epoch[46/60], Step[75/327], Loss: 0.5496\n",
      "Epoch[46/60], Step[100/327], Loss: 0.5742\n",
      "Epoch[46/60], Step[125/327], Loss: 0.5801\n",
      "Epoch[46/60], Step[150/327], Loss: 0.6778\n",
      "Epoch[46/60], Step[175/327], Loss: 0.5424\n",
      "Epoch[46/60], Step[200/327], Loss: 0.5617\n",
      "Epoch[46/60], Step[225/327], Loss: 0.5795\n",
      "Epoch[46/60], Step[250/327], Loss: 0.5552\n",
      "Epoch[46/60], Step[275/327], Loss: 0.5754\n",
      "Epoch[46/60], Step[300/327], Loss: 0.5599\n",
      "Epoch[46/60], Step[325/327], Loss: 0.5976\n",
      "Start validation #46\n"
     ]
    },
    {
     "output_type": "display_data",
     "data": {
      "text/plain": "Validation:   0%|          | 0/82 [00:00<?, ?it/s]",
      "application/vnd.jupyter.widget-view+json": {
       "version_major": 2,
       "version_minor": 0,
       "model_id": "4acc09b300d7452b85a5b16acdd44e35"
      }
     },
     "metadata": {}
    },
    {
     "output_type": "stream",
     "name": "stdout",
     "text": [
      "Validation #46 mIoU: 0.4963\n",
      "Best performance at epoch: 46\n",
      "Save model in ./saved\n",
      "optimizer6.630646228423323e-05\n"
     ]
    },
    {
     "output_type": "display_data",
     "data": {
      "text/plain": "Training:   0%|          | 0/327 [00:00<?, ?it/s]",
      "application/vnd.jupyter.widget-view+json": {
       "version_major": 2,
       "version_minor": 0,
       "model_id": "04e526aa1ab4492185a31b13982e96a4"
      }
     },
     "metadata": {}
    },
    {
     "output_type": "stream",
     "name": "stdout",
     "text": [
      "Epoch[47/60], Step[25/327], Loss: 0.5873\n",
      "Epoch[47/60], Step[50/327], Loss: 0.6065\n",
      "Epoch[47/60], Step[75/327], Loss: 0.6049\n",
      "Epoch[47/60], Step[100/327], Loss: 0.5917\n",
      "Epoch[47/60], Step[125/327], Loss: 0.5567\n",
      "Epoch[47/60], Step[150/327], Loss: 0.5543\n",
      "Epoch[47/60], Step[175/327], Loss: 0.5662\n",
      "Epoch[47/60], Step[200/327], Loss: 0.5773\n",
      "Epoch[47/60], Step[225/327], Loss: 0.5607\n",
      "Epoch[47/60], Step[250/327], Loss: 0.5711\n",
      "Epoch[47/60], Step[275/327], Loss: 0.5430\n",
      "Epoch[47/60], Step[300/327], Loss: 0.5743\n",
      "Epoch[47/60], Step[325/327], Loss: 0.5547\n",
      "Start validation #47\n"
     ]
    },
    {
     "output_type": "display_data",
     "data": {
      "text/plain": "Validation:   0%|          | 0/82 [00:00<?, ?it/s]",
      "application/vnd.jupyter.widget-view+json": {
       "version_major": 2,
       "version_minor": 0,
       "model_id": "445751a43043438685c3964f1e2984ad"
      }
     },
     "metadata": {}
    },
    {
     "output_type": "stream",
     "name": "stdout",
     "text": [
      "Validation #47 mIoU: 0.4902\noptimizer5.754150414252349e-05\n"
     ]
    },
    {
     "output_type": "display_data",
     "data": {
      "text/plain": "Training:   0%|          | 0/327 [00:00<?, ?it/s]",
      "application/vnd.jupyter.widget-view+json": {
       "version_major": 2,
       "version_minor": 0,
       "model_id": "e49d175ebdd04a099e30e8845aa1ab6c"
      }
     },
     "metadata": {}
    },
    {
     "output_type": "stream",
     "name": "stdout",
     "text": [
      "Epoch[48/60], Step[25/327], Loss: 0.5812\n",
      "Epoch[48/60], Step[50/327], Loss: 0.5470\n",
      "Epoch[48/60], Step[75/327], Loss: 0.5571\n",
      "Epoch[48/60], Step[100/327], Loss: 0.5740\n",
      "Epoch[48/60], Step[125/327], Loss: 0.5475\n",
      "Epoch[48/60], Step[150/327], Loss: 0.5680\n",
      "Epoch[48/60], Step[175/327], Loss: 0.5796\n",
      "Epoch[48/60], Step[200/327], Loss: 0.5790\n",
      "Epoch[48/60], Step[225/327], Loss: 0.5614\n",
      "Epoch[48/60], Step[250/327], Loss: 0.5656\n",
      "Epoch[48/60], Step[275/327], Loss: 0.5687\n",
      "Epoch[48/60], Step[300/327], Loss: 0.5634\n",
      "Epoch[48/60], Step[325/327], Loss: 0.5750\n",
      "Start validation #48\n"
     ]
    },
    {
     "output_type": "display_data",
     "data": {
      "text/plain": "Validation:   0%|          | 0/82 [00:00<?, ?it/s]",
      "application/vnd.jupyter.widget-view+json": {
       "version_major": 2,
       "version_minor": 0,
       "model_id": "c0b5b16e047b43eaa0fdce6362073606"
      }
     },
     "metadata": {}
    },
    {
     "output_type": "stream",
     "name": "stdout",
     "text": [
      "Validation #48 mIoU: 0.4854\noptimizer4.932209051725905e-05\n"
     ]
    },
    {
     "output_type": "display_data",
     "data": {
      "text/plain": "Training:   0%|          | 0/327 [00:00<?, ?it/s]",
      "application/vnd.jupyter.widget-view+json": {
       "version_major": 2,
       "version_minor": 0,
       "model_id": "6f6a673130e5458185a51ae848f75d8a"
      }
     },
     "metadata": {}
    },
    {
     "output_type": "stream",
     "name": "stdout",
     "text": [
      "Epoch[49/60], Step[25/327], Loss: 0.5695\n",
      "Epoch[49/60], Step[50/327], Loss: 0.5552\n",
      "Epoch[49/60], Step[75/327], Loss: 0.6135\n",
      "Epoch[49/60], Step[100/327], Loss: 0.5620\n",
      "Epoch[49/60], Step[125/327], Loss: 0.5821\n",
      "Epoch[49/60], Step[150/327], Loss: 0.5701\n",
      "Epoch[49/60], Step[175/327], Loss: 0.5581\n",
      "Epoch[49/60], Step[200/327], Loss: 0.5776\n",
      "Epoch[49/60], Step[225/327], Loss: 0.5581\n",
      "Epoch[49/60], Step[250/327], Loss: 0.5378\n",
      "Epoch[49/60], Step[275/327], Loss: 0.5595\n",
      "Epoch[49/60], Step[300/327], Loss: 0.5637\n",
      "Epoch[49/60], Step[325/327], Loss: 0.5422\n",
      "Start validation #49\n"
     ]
    },
    {
     "output_type": "display_data",
     "data": {
      "text/plain": "Validation:   0%|          | 0/82 [00:00<?, ?it/s]",
      "application/vnd.jupyter.widget-view+json": {
       "version_major": 2,
       "version_minor": 0,
       "model_id": "fece9753613b4c398889b7b666cd1462"
      }
     },
     "metadata": {}
    },
    {
     "output_type": "stream",
     "name": "stdout",
     "text": [
      "Validation #49 mIoU: 0.4934\noptimizer4.167152022937129e-05\n"
     ]
    },
    {
     "output_type": "display_data",
     "data": {
      "text/plain": "Training:   0%|          | 0/327 [00:00<?, ?it/s]",
      "application/vnd.jupyter.widget-view+json": {
       "version_major": 2,
       "version_minor": 0,
       "model_id": "c17d3d125785472384ee6308958b4f46"
      }
     },
     "metadata": {}
    },
    {
     "output_type": "stream",
     "name": "stdout",
     "text": [
      "Epoch[50/60], Step[25/327], Loss: 0.5643\n",
      "Epoch[50/60], Step[50/327], Loss: 0.5619\n",
      "Epoch[50/60], Step[75/327], Loss: 0.5781\n",
      "Epoch[50/60], Step[100/327], Loss: 0.5749\n",
      "Epoch[50/60], Step[125/327], Loss: 0.5578\n",
      "Epoch[50/60], Step[150/327], Loss: 0.5898\n",
      "Epoch[50/60], Step[175/327], Loss: 0.5457\n",
      "Epoch[50/60], Step[200/327], Loss: 0.5669\n",
      "Epoch[50/60], Step[225/327], Loss: 0.5830\n",
      "Epoch[50/60], Step[250/327], Loss: 0.5767\n",
      "Epoch[50/60], Step[275/327], Loss: 0.5482\n",
      "Epoch[50/60], Step[300/327], Loss: 0.5707\n",
      "Epoch[50/60], Step[325/327], Loss: 0.5686\n",
      "Start validation #50\n"
     ]
    },
    {
     "output_type": "display_data",
     "data": {
      "text/plain": "Validation:   0%|          | 0/82 [00:00<?, ?it/s]",
      "application/vnd.jupyter.widget-view+json": {
       "version_major": 2,
       "version_minor": 0,
       "model_id": "ebd838d011574f8da1e4a16e1da6e147"
      }
     },
     "metadata": {}
    },
    {
     "output_type": "stream",
     "name": "stdout",
     "text": [
      "Validation #50 mIoU: 0.4917\noptimizer3.461147965154851e-05\n"
     ]
    },
    {
     "output_type": "display_data",
     "data": {
      "text/plain": "Training:   0%|          | 0/327 [00:00<?, ?it/s]",
      "application/vnd.jupyter.widget-view+json": {
       "version_major": 2,
       "version_minor": 0,
       "model_id": "3b4292d489d84af19a53c24a0925bc36"
      }
     },
     "metadata": {}
    },
    {
     "output_type": "stream",
     "name": "stdout",
     "text": [
      "Epoch[51/60], Step[25/327], Loss: 0.5570\n",
      "Epoch[51/60], Step[50/327], Loss: 0.5849\n",
      "Epoch[51/60], Step[75/327], Loss: 0.5755\n",
      "Epoch[51/60], Step[100/327], Loss: 0.5748\n",
      "Epoch[51/60], Step[125/327], Loss: 0.6141\n",
      "Epoch[51/60], Step[150/327], Loss: 0.5461\n",
      "Epoch[51/60], Step[175/327], Loss: 0.5573\n",
      "Epoch[51/60], Step[200/327], Loss: 0.5573\n",
      "Epoch[51/60], Step[225/327], Loss: 0.5512\n",
      "Epoch[51/60], Step[250/327], Loss: 0.5566\n",
      "Epoch[51/60], Step[275/327], Loss: 0.5551\n",
      "Epoch[51/60], Step[300/327], Loss: 0.5667\n",
      "Epoch[51/60], Step[325/327], Loss: 0.5667\n",
      "Start validation #51\n"
     ]
    },
    {
     "output_type": "display_data",
     "data": {
      "text/plain": "Validation:   0%|          | 0/82 [00:00<?, ?it/s]",
      "application/vnd.jupyter.widget-view+json": {
       "version_major": 2,
       "version_minor": 0,
       "model_id": "8dd8f9c1e169440baf0887be9462543a"
      }
     },
     "metadata": {}
    },
    {
     "output_type": "stream",
     "name": "stdout",
     "text": [
      "Validation #51 mIoU: 0.4980\n",
      "Best performance at epoch: 51\n",
      "Save model in ./saved\n",
      "optimizer2.8161981235857087e-05\n"
     ]
    },
    {
     "output_type": "display_data",
     "data": {
      "text/plain": "Training:   0%|          | 0/327 [00:00<?, ?it/s]",
      "application/vnd.jupyter.widget-view+json": {
       "version_major": 2,
       "version_minor": 0,
       "model_id": "66e7f824d70640df84bf9cabc5e6a9c5"
      }
     },
     "metadata": {}
    },
    {
     "output_type": "stream",
     "name": "stdout",
     "text": [
      "Epoch[52/60], Step[25/327], Loss: 0.5403\n",
      "Epoch[52/60], Step[50/327], Loss: 0.5912\n",
      "Epoch[52/60], Step[75/327], Loss: 0.5543\n",
      "Epoch[52/60], Step[100/327], Loss: 0.5479\n",
      "Epoch[52/60], Step[125/327], Loss: 0.5906\n",
      "Epoch[52/60], Step[150/327], Loss: 0.5390\n",
      "Epoch[52/60], Step[175/327], Loss: 0.6249\n",
      "Epoch[52/60], Step[200/327], Loss: 0.5450\n",
      "Epoch[52/60], Step[225/327], Loss: 0.5342\n",
      "Epoch[52/60], Step[250/327], Loss: 0.5493\n",
      "Epoch[52/60], Step[275/327], Loss: 0.5776\n",
      "Epoch[52/60], Step[300/327], Loss: 0.5406\n",
      "Epoch[52/60], Step[325/327], Loss: 0.5747\n",
      "Start validation #52\n"
     ]
    },
    {
     "output_type": "display_data",
     "data": {
      "text/plain": "Validation:   0%|          | 0/82 [00:00<?, ?it/s]",
      "application/vnd.jupyter.widget-view+json": {
       "version_major": 2,
       "version_minor": 0,
       "model_id": "ad1062c444244f6d8844697a4c3e5374"
      }
     },
     "metadata": {}
    },
    {
     "output_type": "stream",
     "name": "stdout",
     "text": [
      "Validation #52 mIoU: 0.4954\noptimizer2.234130678627175e-05\n"
     ]
    },
    {
     "output_type": "display_data",
     "data": {
      "text/plain": "Training:   0%|          | 0/327 [00:00<?, ?it/s]",
      "application/vnd.jupyter.widget-view+json": {
       "version_major": 2,
       "version_minor": 0,
       "model_id": "c9d2c374481b4230a35c6ff6d3db5cf2"
      }
     },
     "metadata": {}
    },
    {
     "output_type": "stream",
     "name": "stdout",
     "text": [
      "Epoch[53/60], Step[25/327], Loss: 0.5522\n",
      "Epoch[53/60], Step[50/327], Loss: 0.5548\n",
      "Epoch[53/60], Step[75/327], Loss: 0.5526\n",
      "Epoch[53/60], Step[100/327], Loss: 0.5779\n",
      "Epoch[53/60], Step[125/327], Loss: 0.5694\n",
      "Epoch[53/60], Step[150/327], Loss: 0.5833\n",
      "Epoch[53/60], Step[175/327], Loss: 0.5604\n",
      "Epoch[53/60], Step[200/327], Loss: 0.5720\n",
      "Epoch[53/60], Step[225/327], Loss: 0.5784\n",
      "Epoch[53/60], Step[250/327], Loss: 0.5659\n",
      "Epoch[53/60], Step[275/327], Loss: 0.5667\n",
      "Epoch[53/60], Step[300/327], Loss: 0.5505\n",
      "Epoch[53/60], Step[325/327], Loss: 0.5365\n",
      "Start validation #53\n"
     ]
    },
    {
     "output_type": "display_data",
     "data": {
      "text/plain": "Validation:   0%|          | 0/82 [00:00<?, ?it/s]",
      "application/vnd.jupyter.widget-view+json": {
       "version_major": 2,
       "version_minor": 0,
       "model_id": "90ac8db2ecf94729b6e71cab604e28f1"
      }
     },
     "metadata": {}
    },
    {
     "output_type": "stream",
     "name": "stdout",
     "text": [
      "Validation #53 mIoU: 0.5063\n",
      "Best performance at epoch: 53\n",
      "Save model in ./saved\n",
      "optimizer1.716595563691539e-05\n"
     ]
    },
    {
     "output_type": "display_data",
     "data": {
      "text/plain": "Training:   0%|          | 0/327 [00:00<?, ?it/s]",
      "application/vnd.jupyter.widget-view+json": {
       "version_major": 2,
       "version_minor": 0,
       "model_id": "dedbc56fe4274481b80d965524d14c3f"
      }
     },
     "metadata": {}
    },
    {
     "output_type": "stream",
     "name": "stdout",
     "text": [
      "Epoch[54/60], Step[25/327], Loss: 0.5581\n",
      "Epoch[54/60], Step[50/327], Loss: 0.5557\n",
      "Epoch[54/60], Step[75/327], Loss: 0.5470\n",
      "Epoch[54/60], Step[100/327], Loss: 0.5659\n",
      "Epoch[54/60], Step[125/327], Loss: 0.5655\n",
      "Epoch[54/60], Step[150/327], Loss: 0.5537\n",
      "Epoch[54/60], Step[175/327], Loss: 0.5504\n",
      "Epoch[54/60], Step[200/327], Loss: 0.5531\n",
      "Epoch[54/60], Step[225/327], Loss: 0.5493\n",
      "Epoch[54/60], Step[250/327], Loss: 0.5700\n",
      "Epoch[54/60], Step[275/327], Loss: 0.5431\n",
      "Epoch[54/60], Step[300/327], Loss: 0.5633\n",
      "Epoch[54/60], Step[325/327], Loss: 0.5618\n",
      "Start validation #54\n"
     ]
    },
    {
     "output_type": "display_data",
     "data": {
      "text/plain": "Validation:   0%|          | 0/82 [00:00<?, ?it/s]",
      "application/vnd.jupyter.widget-view+json": {
       "version_major": 2,
       "version_minor": 0,
       "model_id": "ac2f18fea6104363b8f1d75a5db410c7"
      }
     },
     "metadata": {}
    },
    {
     "output_type": "stream",
     "name": "stdout",
     "text": [
      "Validation #54 mIoU: 0.4979\noptimizer1.265059788290468e-05\n"
     ]
    },
    {
     "output_type": "display_data",
     "data": {
      "text/plain": "Training:   0%|          | 0/327 [00:00<?, ?it/s]",
      "application/vnd.jupyter.widget-view+json": {
       "version_major": 2,
       "version_minor": 0,
       "model_id": "d141ad3def7445d58140187a1d6106aa"
      }
     },
     "metadata": {}
    },
    {
     "output_type": "stream",
     "name": "stdout",
     "text": [
      "Epoch[55/60], Step[25/327], Loss: 0.5577\n",
      "Epoch[55/60], Step[50/327], Loss: 0.5529\n",
      "Epoch[55/60], Step[75/327], Loss: 0.5746\n",
      "Epoch[55/60], Step[100/327], Loss: 0.5495\n",
      "Epoch[55/60], Step[125/327], Loss: 0.5437\n",
      "Epoch[55/60], Step[150/327], Loss: 0.5663\n",
      "Epoch[55/60], Step[175/327], Loss: 0.5588\n",
      "Epoch[55/60], Step[200/327], Loss: 0.5723\n",
      "Epoch[55/60], Step[225/327], Loss: 0.5622\n",
      "Epoch[55/60], Step[250/327], Loss: 0.5605\n",
      "Epoch[55/60], Step[275/327], Loss: 0.5570\n",
      "Epoch[55/60], Step[300/327], Loss: 0.5368\n",
      "Epoch[55/60], Step[325/327], Loss: 0.5808\n",
      "Start validation #55\n"
     ]
    },
    {
     "output_type": "display_data",
     "data": {
      "text/plain": "Validation:   0%|          | 0/82 [00:00<?, ?it/s]",
      "application/vnd.jupyter.widget-view+json": {
       "version_major": 2,
       "version_minor": 0,
       "model_id": "e6b52e25f9cb4aeeaf2974a07c91d732"
      }
     },
     "metadata": {}
    },
    {
     "output_type": "stream",
     "name": "stdout",
     "text": [
      "Validation #55 mIoU: 0.5013\noptimizer8.808032796371046e-06\n"
     ]
    },
    {
     "output_type": "display_data",
     "data": {
      "text/plain": "Training:   0%|          | 0/327 [00:00<?, ?it/s]",
      "application/vnd.jupyter.widget-view+json": {
       "version_major": 2,
       "version_minor": 0,
       "model_id": "8397475c3c1f40b19f4a0c6e761e9350"
      }
     },
     "metadata": {}
    },
    {
     "output_type": "stream",
     "name": "stdout",
     "text": [
      "Epoch[56/60], Step[25/327], Loss: 0.5506\n",
      "Epoch[56/60], Step[50/327], Loss: 0.5487\n",
      "Epoch[56/60], Step[75/327], Loss: 0.5562\n",
      "Epoch[56/60], Step[100/327], Loss: 0.5632\n",
      "Epoch[56/60], Step[125/327], Loss: 0.5400\n",
      "Epoch[56/60], Step[150/327], Loss: 0.5523\n",
      "Epoch[56/60], Step[175/327], Loss: 0.5468\n",
      "Epoch[56/60], Step[200/327], Loss: 0.5737\n",
      "Epoch[56/60], Step[225/327], Loss: 0.5837\n",
      "Epoch[56/60], Step[250/327], Loss: 0.5831\n",
      "Epoch[56/60], Step[275/327], Loss: 0.5434\n",
      "Epoch[56/60], Step[300/327], Loss: 0.5898\n",
      "Epoch[56/60], Step[325/327], Loss: 0.5641\n",
      "Start validation #56\n"
     ]
    },
    {
     "output_type": "display_data",
     "data": {
      "text/plain": "Validation:   0%|          | 0/82 [00:00<?, ?it/s]",
      "application/vnd.jupyter.widget-view+json": {
       "version_major": 2,
       "version_minor": 0,
       "model_id": "aff5056cd81b4b8683596f433236f18c"
      }
     },
     "metadata": {}
    },
    {
     "output_type": "stream",
     "name": "stdout",
     "text": [
      "Validation #56 mIoU: 0.4962\noptimizer5.649152545533331e-06\n"
     ]
    },
    {
     "output_type": "display_data",
     "data": {
      "text/plain": "Training:   0%|          | 0/327 [00:00<?, ?it/s]",
      "application/vnd.jupyter.widget-view+json": {
       "version_major": 2,
       "version_minor": 0,
       "model_id": "69e8e0dd23c141a4b0ab92a674cc59ad"
      }
     },
     "metadata": {}
    },
    {
     "output_type": "stream",
     "name": "stdout",
     "text": [
      "Epoch[57/60], Step[25/327], Loss: 0.5604\n",
      "Epoch[57/60], Step[50/327], Loss: 0.5733\n",
      "Epoch[57/60], Step[75/327], Loss: 0.5485\n",
      "Epoch[57/60], Step[100/327], Loss: 0.5522\n",
      "Epoch[57/60], Step[125/327], Loss: 0.5725\n",
      "Epoch[57/60], Step[150/327], Loss: 0.5594\n",
      "Epoch[57/60], Step[175/327], Loss: 0.5498\n",
      "Epoch[57/60], Step[200/327], Loss: 0.5694\n",
      "Epoch[57/60], Step[225/327], Loss: 0.5482\n",
      "Epoch[57/60], Step[250/327], Loss: 0.5513\n",
      "Epoch[57/60], Step[275/327], Loss: 0.5477\n",
      "Epoch[57/60], Step[300/327], Loss: 0.5452\n",
      "Epoch[57/60], Step[325/327], Loss: 0.5660\n",
      "Start validation #57\n"
     ]
    },
    {
     "output_type": "display_data",
     "data": {
      "text/plain": "Validation:   0%|          | 0/82 [00:00<?, ?it/s]",
      "application/vnd.jupyter.widget-view+json": {
       "version_major": 2,
       "version_minor": 0,
       "model_id": "a3ad2d1e32944b1ab9657e1afa804ac8"
      }
     },
     "metadata": {}
    },
    {
     "output_type": "stream",
     "name": "stdout",
     "text": [
      "Validation #57 mIoU: 0.4967\noptimizer3.1829113196638614e-06\n"
     ]
    },
    {
     "output_type": "display_data",
     "data": {
      "text/plain": "Training:   0%|          | 0/327 [00:00<?, ?it/s]",
      "application/vnd.jupyter.widget-view+json": {
       "version_major": 2,
       "version_minor": 0,
       "model_id": "738a7b4148c24c8a93f7d4b9160ee0b7"
      }
     },
     "metadata": {}
    },
    {
     "output_type": "stream",
     "name": "stdout",
     "text": [
      "Epoch[58/60], Step[25/327], Loss: 0.5707\n",
      "Epoch[58/60], Step[50/327], Loss: 0.5736\n",
      "Epoch[58/60], Step[75/327], Loss: 0.5605\n",
      "Epoch[58/60], Step[100/327], Loss: 0.5625\n",
      "Epoch[58/60], Step[125/327], Loss: 0.5594\n",
      "Epoch[58/60], Step[150/327], Loss: 0.5666\n",
      "Epoch[58/60], Step[175/327], Loss: 0.5761\n",
      "Epoch[58/60], Step[200/327], Loss: 0.5735\n",
      "Epoch[58/60], Step[225/327], Loss: 0.5471\n",
      "Epoch[58/60], Step[250/327], Loss: 0.5683\n",
      "Epoch[58/60], Step[275/327], Loss: 0.5645\n",
      "Epoch[58/60], Step[300/327], Loss: 0.5565\n",
      "Epoch[58/60], Step[325/327], Loss: 0.5553\n",
      "Start validation #58\n"
     ]
    },
    {
     "output_type": "display_data",
     "data": {
      "text/plain": "Validation:   0%|          | 0/82 [00:00<?, ?it/s]",
      "application/vnd.jupyter.widget-view+json": {
       "version_major": 2,
       "version_minor": 0,
       "model_id": "99161478f965441fb08b89b54158169e"
      }
     },
     "metadata": {}
    },
    {
     "output_type": "stream",
     "name": "stdout",
     "text": [
      "Validation #58 mIoU: 0.4998\noptimizer1.4162999474657267e-06\n"
     ]
    },
    {
     "output_type": "display_data",
     "data": {
      "text/plain": "Training:   0%|          | 0/327 [00:00<?, ?it/s]",
      "application/vnd.jupyter.widget-view+json": {
       "version_major": 2,
       "version_minor": 0,
       "model_id": "2ee13ae2ad2c4ecd9d1c57401a34fe1c"
      }
     },
     "metadata": {}
    },
    {
     "output_type": "stream",
     "name": "stdout",
     "text": [
      "Epoch[59/60], Step[25/327], Loss: 0.5658\n",
      "Epoch[59/60], Step[50/327], Loss: 0.5482\n",
      "Epoch[59/60], Step[75/327], Loss: 0.5386\n",
      "Epoch[59/60], Step[100/327], Loss: 0.5399\n",
      "Epoch[59/60], Step[125/327], Loss: 0.5643\n",
      "Epoch[59/60], Step[150/327], Loss: 0.5398\n",
      "Epoch[59/60], Step[175/327], Loss: 0.5439\n",
      "Epoch[59/60], Step[200/327], Loss: 0.5622\n",
      "Epoch[59/60], Step[225/327], Loss: 0.5804\n",
      "Epoch[59/60], Step[250/327], Loss: 0.5481\n",
      "Epoch[59/60], Step[275/327], Loss: 0.5540\n",
      "Epoch[59/60], Step[300/327], Loss: 0.5324\n",
      "Epoch[59/60], Step[325/327], Loss: 0.5673\n",
      "Start validation #59\n"
     ]
    },
    {
     "output_type": "display_data",
     "data": {
      "text/plain": "Validation:   0%|          | 0/82 [00:00<?, ?it/s]",
      "application/vnd.jupyter.widget-view+json": {
       "version_major": 2,
       "version_minor": 0,
       "model_id": "93a14fe4e72b47b1ad0189b29ff911ee"
      }
     },
     "metadata": {}
    },
    {
     "output_type": "stream",
     "name": "stdout",
     "text": [
      "Validation #59 mIoU: 0.4990\noptimizer3.543260808095139e-07\n"
     ]
    },
    {
     "output_type": "display_data",
     "data": {
      "text/plain": "Training:   0%|          | 0/327 [00:00<?, ?it/s]",
      "application/vnd.jupyter.widget-view+json": {
       "version_major": 2,
       "version_minor": 0,
       "model_id": "8f5eee3a59654e17a40ad8e66f411d04"
      }
     },
     "metadata": {}
    },
    {
     "output_type": "stream",
     "name": "stdout",
     "text": [
      "Epoch[60/60], Step[25/327], Loss: 0.5481\n",
      "Epoch[60/60], Step[50/327], Loss: 0.6052\n",
      "Epoch[60/60], Step[75/327], Loss: 0.5686\n",
      "Epoch[60/60], Step[100/327], Loss: 0.5676\n",
      "Epoch[60/60], Step[125/327], Loss: 0.5634\n",
      "Epoch[60/60], Step[150/327], Loss: 0.5454\n",
      "Epoch[60/60], Step[175/327], Loss: 0.5458\n",
      "Epoch[60/60], Step[200/327], Loss: 0.5817\n",
      "Epoch[60/60], Step[225/327], Loss: 0.5615\n",
      "Epoch[60/60], Step[250/327], Loss: 0.5687\n",
      "Epoch[60/60], Step[275/327], Loss: 0.5963\n",
      "Epoch[60/60], Step[300/327], Loss: 0.5507\n",
      "Epoch[60/60], Step[325/327], Loss: 0.5649\n",
      "Start validation #60\n"
     ]
    },
    {
     "output_type": "display_data",
     "data": {
      "text/plain": "Validation:   0%|          | 0/82 [00:00<?, ?it/s]",
      "application/vnd.jupyter.widget-view+json": {
       "version_major": 2,
       "version_minor": 0,
       "model_id": "b1f67bd20fa84cd1b40e4a36e40b4b73"
      }
     },
     "metadata": {}
    },
    {
     "output_type": "stream",
     "name": "stdout",
     "text": [
      "Validation #60 mIoU: 0.4978\n"
     ]
    },
    {
     "output_type": "execute_result",
     "data": {
      "text/plain": [
       "[0.2658736133065894,\n",
       " 0.2721227170859234,\n",
       " 0.3086709786480146,\n",
       " 0.32119438042777315,\n",
       " 0.36396721504179025,\n",
       " 0.35420742416880735,\n",
       " 0.3520882886678196,\n",
       " 0.387331879061339,\n",
       " 0.33015373318692226,\n",
       " 0.3519429395864824,\n",
       " 0.34395400280193916,\n",
       " 0.38811108891058227,\n",
       " 0.3789410675916069,\n",
       " 0.3862952121751992,\n",
       " 0.3896647157526525,\n",
       " 0.3863651595672491,\n",
       " 0.39118501444827464,\n",
       " 0.44428706560790404,\n",
       " 0.389875084758762,\n",
       " 0.38303400904015694,\n",
       " 0.4290018042119155,\n",
       " 0.42504658996109534,\n",
       " 0.43326107253030366,\n",
       " 0.4421288882503685,\n",
       " 0.4435767440061987,\n",
       " 0.44590738545536385,\n",
       " 0.4787599229391603,\n",
       " 0.42959666389696954,\n",
       " 0.41767441882369405,\n",
       " 0.4356173731529649,\n",
       " 0.44075879231371523,\n",
       " 0.4556643742133539,\n",
       " 0.4594029684642264,\n",
       " 0.44624971303551053,\n",
       " 0.46142663490453883,\n",
       " 0.49502356048612683,\n",
       " 0.48714667790822846,\n",
       " 0.44788617254159524,\n",
       " 0.45793378915179467,\n",
       " 0.47874422517782406,\n",
       " 0.47900147265784915,\n",
       " 0.47234933234958626,\n",
       " 0.45551531076827395,\n",
       " 0.4883760923980996,\n",
       " 0.4873256804726167,\n",
       " 0.4962763695630849,\n",
       " 0.4901690794286972,\n",
       " 0.4854448102245564,\n",
       " 0.4933923870911332,\n",
       " 0.4916901663105045,\n",
       " 0.498013263761786,\n",
       " 0.49540000194091977,\n",
       " 0.5062726599490699,\n",
       " 0.4979024018099208,\n",
       " 0.5012778597490529,\n",
       " 0.49617375290467053,\n",
       " 0.4966672469849071,\n",
       " 0.4998001448867866,\n",
       " 0.4989598795731569,\n",
       " 0.49783067233634043]"
      ]
     },
     "metadata": {},
     "execution_count": 24
    }
   ],
   "source": [
    "set_seed(random_seed)\n",
    "identifier = f'resnext101_32x4d_aug_loss_AdamP_warmup'\n",
    "model = smp.DeepLabV3Plus(\n",
    "    encoder_name=\"resnext101_32x4d\",\n",
    "    encoder_weights=\"imagenet\",\n",
    "    in_channels=3,\n",
    "    classes=N_CLASSES,\n",
    ").to(device)\n",
    "criterion = CustomLoss(0.9, 0.1, device)\n",
    "optimizer = AdamP(model.parameters(), lr=learning_rate)\n",
    "scheduler_cosine = torch.optim.lr_scheduler.CosineAnnealingLR(optimizer, num_epochs-warmup_epo)\n",
    "scheduler_warmup = GradualWarmupSchedulerV2(optimizer, multiplier=10, total_epoch=warmup_epo, after_scheduler=scheduler_cosine)\n",
    "\n",
    "train(identifier, num_epochs, model, train_loader, val_loader, criterion, optimizer, scheduler_warmup, saved_path, print_log=True)"
   ]
  },
  {
   "cell_type": "code",
   "execution_count": 26,
   "metadata": {
    "tags": []
   },
   "outputs": [
    {
     "output_type": "stream",
     "name": "stdout",
     "text": [
      "Start prediction\nDeepLabV3Plus(\n  (encoder): RegNetEncoder(\n    (stem): ConvBnAct(\n      (conv): Conv2d(3, 32, kernel_size=(3, 3), stride=(2, 2), padding=(1, 1), bias=False)\n      (bn): BatchNormAct2d(\n        32, eps=1e-05, momentum=0.1, affine=True, track_running_stats=True\n        (act): ReLU(inplace=True)\n      )\n    )\n    (s1): RegStage(\n      (b1): Bottleneck(\n        (conv1): ConvBnAct(\n          (conv): Conv2d(32, 168, kernel_size=(1, 1), stride=(1, 1), bias=False)\n          (bn): BatchNormAct2d(\n            168, eps=1e-05, momentum=0.1, affine=True, track_running_stats=True\n            (act): ReLU(inplace=True)\n          )\n        )\n        (conv2): ConvBnAct(\n          (conv): Conv2d(168, 168, kernel_size=(3, 3), stride=(2, 2), padding=(1, 1), groups=3, bias=False)\n          (bn): BatchNormAct2d(\n            168, eps=1e-05, momentum=0.1, affine=True, track_running_stats=True\n            (act): ReLU(inplace=True)\n          )\n        )\n        (conv3): ConvBnAct(\n          (conv): Conv2d(168, 168, kernel_size=(1, 1), stride=(1, 1), bias=False)\n          (bn): BatchNormAct2d(168, eps=1e-05, momentum=0.1, affine=True, track_running_stats=True)\n        )\n        (act3): ReLU(inplace=True)\n        (downsample): ConvBnAct(\n          (conv): Conv2d(32, 168, kernel_size=(1, 1), stride=(2, 2), bias=False)\n          (bn): BatchNormAct2d(168, eps=1e-05, momentum=0.1, affine=True, track_running_stats=True)\n        )\n      )\n      (b2): Bottleneck(\n        (conv1): ConvBnAct(\n          (conv): Conv2d(168, 168, kernel_size=(1, 1), stride=(1, 1), bias=False)\n          (bn): BatchNormAct2d(\n            168, eps=1e-05, momentum=0.1, affine=True, track_running_stats=True\n            (act): ReLU(inplace=True)\n          )\n        )\n        (conv2): ConvBnAct(\n          (conv): Conv2d(168, 168, kernel_size=(3, 3), stride=(1, 1), padding=(1, 1), groups=3, bias=False)\n          (bn): BatchNormAct2d(\n            168, eps=1e-05, momentum=0.1, affine=True, track_running_stats=True\n            (act): ReLU(inplace=True)\n          )\n        )\n        (conv3): ConvBnAct(\n          (conv): Conv2d(168, 168, kernel_size=(1, 1), stride=(1, 1), bias=False)\n          (bn): BatchNormAct2d(168, eps=1e-05, momentum=0.1, affine=True, track_running_stats=True)\n        )\n        (act3): ReLU(inplace=True)\n      )\n    )\n    (s2): RegStage(\n      (b1): Bottleneck(\n        (conv1): ConvBnAct(\n          (conv): Conv2d(168, 392, kernel_size=(1, 1), stride=(1, 1), bias=False)\n          (bn): BatchNormAct2d(\n            392, eps=1e-05, momentum=0.1, affine=True, track_running_stats=True\n            (act): ReLU(inplace=True)\n          )\n        )\n        (conv2): ConvBnAct(\n          (conv): Conv2d(392, 392, kernel_size=(3, 3), stride=(2, 2), padding=(1, 1), groups=7, bias=False)\n          (bn): BatchNormAct2d(\n            392, eps=1e-05, momentum=0.1, affine=True, track_running_stats=True\n            (act): ReLU(inplace=True)\n          )\n        )\n        (conv3): ConvBnAct(\n          (conv): Conv2d(392, 392, kernel_size=(1, 1), stride=(1, 1), bias=False)\n          (bn): BatchNormAct2d(392, eps=1e-05, momentum=0.1, affine=True, track_running_stats=True)\n        )\n        (act3): ReLU(inplace=True)\n        (downsample): ConvBnAct(\n          (conv): Conv2d(168, 392, kernel_size=(1, 1), stride=(2, 2), bias=False)\n          (bn): BatchNormAct2d(392, eps=1e-05, momentum=0.1, affine=True, track_running_stats=True)\n        )\n      )\n      (b2): Bottleneck(\n        (conv1): ConvBnAct(\n          (conv): Conv2d(392, 392, kernel_size=(1, 1), stride=(1, 1), bias=False)\n          (bn): BatchNormAct2d(\n            392, eps=1e-05, momentum=0.1, affine=True, track_running_stats=True\n            (act): ReLU(inplace=True)\n          )\n        )\n        (conv2): ConvBnAct(\n          (conv): Conv2d(392, 392, kernel_size=(3, 3), stride=(1, 1), padding=(1, 1), groups=7, bias=False)\n          (bn): BatchNormAct2d(\n            392, eps=1e-05, momentum=0.1, affine=True, track_running_stats=True\n            (act): ReLU(inplace=True)\n          )\n        )\n        (conv3): ConvBnAct(\n          (conv): Conv2d(392, 392, kernel_size=(1, 1), stride=(1, 1), bias=False)\n          (bn): BatchNormAct2d(392, eps=1e-05, momentum=0.1, affine=True, track_running_stats=True)\n        )\n        (act3): ReLU(inplace=True)\n      )\n      (b3): Bottleneck(\n        (conv1): ConvBnAct(\n          (conv): Conv2d(392, 392, kernel_size=(1, 1), stride=(1, 1), bias=False)\n          (bn): BatchNormAct2d(\n            392, eps=1e-05, momentum=0.1, affine=True, track_running_stats=True\n            (act): ReLU(inplace=True)\n          )\n        )\n        (conv2): ConvBnAct(\n          (conv): Conv2d(392, 392, kernel_size=(3, 3), stride=(1, 1), padding=(1, 1), groups=7, bias=False)\n          (bn): BatchNormAct2d(\n            392, eps=1e-05, momentum=0.1, affine=True, track_running_stats=True\n            (act): ReLU(inplace=True)\n          )\n        )\n        (conv3): ConvBnAct(\n          (conv): Conv2d(392, 392, kernel_size=(1, 1), stride=(1, 1), bias=False)\n          (bn): BatchNormAct2d(392, eps=1e-05, momentum=0.1, affine=True, track_running_stats=True)\n        )\n        (act3): ReLU(inplace=True)\n      )\n      (b4): Bottleneck(\n        (conv1): ConvBnAct(\n          (conv): Conv2d(392, 392, kernel_size=(1, 1), stride=(1, 1), bias=False)\n          (bn): BatchNormAct2d(\n            392, eps=1e-05, momentum=0.1, affine=True, track_running_stats=True\n            (act): ReLU(inplace=True)\n          )\n        )\n        (conv2): ConvBnAct(\n          (conv): Conv2d(392, 392, kernel_size=(3, 3), stride=(1, 1), padding=(1, 1), groups=7, bias=False)\n          (bn): BatchNormAct2d(\n            392, eps=1e-05, momentum=0.1, affine=True, track_running_stats=True\n            (act): ReLU(inplace=True)\n          )\n        )\n        (conv3): ConvBnAct(\n          (conv): Conv2d(392, 392, kernel_size=(1, 1), stride=(1, 1), bias=False)\n          (bn): BatchNormAct2d(392, eps=1e-05, momentum=0.1, affine=True, track_running_stats=True)\n        )\n        (act3): ReLU(inplace=True)\n      )\n    )\n    (s3): RegStage(\n      (b1): Bottleneck(\n        (conv1): ConvBnAct(\n          (conv): Conv2d(392, 784, kernel_size=(1, 1), stride=(1, 1), bias=False)\n          (bn): BatchNormAct2d(\n            784, eps=1e-05, momentum=0.1, affine=True, track_running_stats=True\n            (act): ReLU(inplace=True)\n          )\n        )\n        (conv2): ConvBnAct(\n          (conv): Conv2d(784, 784, kernel_size=(3, 3), stride=(2, 2), padding=(1, 1), groups=14, bias=False)\n          (bn): BatchNormAct2d(\n            784, eps=1e-05, momentum=0.1, affine=True, track_running_stats=True\n            (act): ReLU(inplace=True)\n          )\n        )\n        (conv3): ConvBnAct(\n          (conv): Conv2d(784, 784, kernel_size=(1, 1), stride=(1, 1), bias=False)\n          (bn): BatchNormAct2d(784, eps=1e-05, momentum=0.1, affine=True, track_running_stats=True)\n        )\n        (act3): ReLU(inplace=True)\n        (downsample): ConvBnAct(\n          (conv): Conv2d(392, 784, kernel_size=(1, 1), stride=(2, 2), bias=False)\n          (bn): BatchNormAct2d(784, eps=1e-05, momentum=0.1, affine=True, track_running_stats=True)\n        )\n      )\n      (b2): Bottleneck(\n        (conv1): ConvBnAct(\n          (conv): Conv2d(784, 784, kernel_size=(1, 1), stride=(1, 1), bias=False)\n          (bn): BatchNormAct2d(\n            784, eps=1e-05, momentum=0.1, affine=True, track_running_stats=True\n            (act): ReLU(inplace=True)\n          )\n        )\n        (conv2): ConvBnAct(\n          (conv): Conv2d(784, 784, kernel_size=(3, 3), stride=(1, 1), padding=(1, 1), groups=14, bias=False)\n          (bn): BatchNormAct2d(\n            784, eps=1e-05, momentum=0.1, affine=True, track_running_stats=True\n            (act): ReLU(inplace=True)\n          )\n        )\n        (conv3): ConvBnAct(\n          (conv): Conv2d(784, 784, kernel_size=(1, 1), stride=(1, 1), bias=False)\n          (bn): BatchNormAct2d(784, eps=1e-05, momentum=0.1, affine=True, track_running_stats=True)\n        )\n        (act3): ReLU(inplace=True)\n      )\n      (b3): Bottleneck(\n        (conv1): ConvBnAct(\n          (conv): Conv2d(784, 784, kernel_size=(1, 1), stride=(1, 1), bias=False)\n          (bn): BatchNormAct2d(\n            784, eps=1e-05, momentum=0.1, affine=True, track_running_stats=True\n            (act): ReLU(inplace=True)\n          )\n        )\n        (conv2): ConvBnAct(\n          (conv): Conv2d(784, 784, kernel_size=(3, 3), stride=(1, 1), padding=(1, 1), groups=14, bias=False)\n          (bn): BatchNormAct2d(\n            784, eps=1e-05, momentum=0.1, affine=True, track_running_stats=True\n            (act): ReLU(inplace=True)\n          )\n        )\n        (conv3): ConvBnAct(\n          (conv): Conv2d(784, 784, kernel_size=(1, 1), stride=(1, 1), bias=False)\n          (bn): BatchNormAct2d(784, eps=1e-05, momentum=0.1, affine=True, track_running_stats=True)\n        )\n        (act3): ReLU(inplace=True)\n      )\n      (b4): Bottleneck(\n        (conv1): ConvBnAct(\n          (conv): Conv2d(784, 784, kernel_size=(1, 1), stride=(1, 1), bias=False)\n          (bn): BatchNormAct2d(\n            784, eps=1e-05, momentum=0.1, affine=True, track_running_stats=True\n            (act): ReLU(inplace=True)\n          )\n        )\n        (conv2): ConvBnAct(\n          (conv): Conv2d(784, 784, kernel_size=(3, 3), stride=(1, 1), padding=(1, 1), groups=14, bias=False)\n          (bn): BatchNormAct2d(\n            784, eps=1e-05, momentum=0.1, affine=True, track_running_stats=True\n            (act): ReLU(inplace=True)\n          )\n        )\n        (conv3): ConvBnAct(\n          (conv): Conv2d(784, 784, kernel_size=(1, 1), stride=(1, 1), bias=False)\n          (bn): BatchNormAct2d(784, eps=1e-05, momentum=0.1, affine=True, track_running_stats=True)\n        )\n        (act3): ReLU(inplace=True)\n      )\n      (b5): Bottleneck(\n        (conv1): ConvBnAct(\n          (conv): Conv2d(784, 784, kernel_size=(1, 1), stride=(1, 1), bias=False)\n          (bn): BatchNormAct2d(\n            784, eps=1e-05, momentum=0.1, affine=True, track_running_stats=True\n            (act): ReLU(inplace=True)\n          )\n        )\n        (conv2): ConvBnAct(\n          (conv): Conv2d(784, 784, kernel_size=(3, 3), stride=(1, 1), padding=(1, 1), groups=14, bias=False)\n          (bn): BatchNormAct2d(\n            784, eps=1e-05, momentum=0.1, affine=True, track_running_stats=True\n            (act): ReLU(inplace=True)\n          )\n        )\n        (conv3): ConvBnAct(\n          (conv): Conv2d(784, 784, kernel_size=(1, 1), stride=(1, 1), bias=False)\n          (bn): BatchNormAct2d(784, eps=1e-05, momentum=0.1, affine=True, track_running_stats=True)\n        )\n        (act3): ReLU(inplace=True)\n      )\n      (b6): Bottleneck(\n        (conv1): ConvBnAct(\n          (conv): Conv2d(784, 784, kernel_size=(1, 1), stride=(1, 1), bias=False)\n          (bn): BatchNormAct2d(\n            784, eps=1e-05, momentum=0.1, affine=True, track_running_stats=True\n            (act): ReLU(inplace=True)\n          )\n        )\n        (conv2): ConvBnAct(\n          (conv): Conv2d(784, 784, kernel_size=(3, 3), stride=(1, 1), padding=(1, 1), groups=14, bias=False)\n          (bn): BatchNormAct2d(\n            784, eps=1e-05, momentum=0.1, affine=True, track_running_stats=True\n            (act): ReLU(inplace=True)\n          )\n        )\n        (conv3): ConvBnAct(\n          (conv): Conv2d(784, 784, kernel_size=(1, 1), stride=(1, 1), bias=False)\n          (bn): BatchNormAct2d(784, eps=1e-05, momentum=0.1, affine=True, track_running_stats=True)\n        )\n        (act3): ReLU(inplace=True)\n      )\n      (b7): Bottleneck(\n        (conv1): ConvBnAct(\n          (conv): Conv2d(784, 784, kernel_size=(1, 1), stride=(1, 1), bias=False)\n          (bn): BatchNormAct2d(\n            784, eps=1e-05, momentum=0.1, affine=True, track_running_stats=True\n            (act): ReLU(inplace=True)\n          )\n        )\n        (conv2): ConvBnAct(\n          (conv): Conv2d(784, 784, kernel_size=(3, 3), stride=(1, 1), padding=(1, 1), groups=14, bias=False)\n          (bn): BatchNormAct2d(\n            784, eps=1e-05, momentum=0.1, affine=True, track_running_stats=True\n            (act): ReLU(inplace=True)\n          )\n        )\n        (conv3): ConvBnAct(\n          (conv): Conv2d(784, 784, kernel_size=(1, 1), stride=(1, 1), bias=False)\n          (bn): BatchNormAct2d(784, eps=1e-05, momentum=0.1, affine=True, track_running_stats=True)\n        )\n        (act3): ReLU(inplace=True)\n      )\n      (b8): Bottleneck(\n        (conv1): ConvBnAct(\n          (conv): Conv2d(784, 784, kernel_size=(1, 1), stride=(1, 1), bias=False)\n          (bn): BatchNormAct2d(\n            784, eps=1e-05, momentum=0.1, affine=True, track_running_stats=True\n            (act): ReLU(inplace=True)\n          )\n        )\n        (conv2): ConvBnAct(\n          (conv): Conv2d(784, 784, kernel_size=(3, 3), stride=(1, 1), padding=(1, 1), groups=14, bias=False)\n          (bn): BatchNormAct2d(\n            784, eps=1e-05, momentum=0.1, affine=True, track_running_stats=True\n            (act): ReLU(inplace=True)\n          )\n        )\n        (conv3): ConvBnAct(\n          (conv): Conv2d(784, 784, kernel_size=(1, 1), stride=(1, 1), bias=False)\n          (bn): BatchNormAct2d(784, eps=1e-05, momentum=0.1, affine=True, track_running_stats=True)\n        )\n        (act3): ReLU(inplace=True)\n      )\n      (b9): Bottleneck(\n        (conv1): ConvBnAct(\n          (conv): Conv2d(784, 784, kernel_size=(1, 1), stride=(1, 1), bias=False)\n          (bn): BatchNormAct2d(\n            784, eps=1e-05, momentum=0.1, affine=True, track_running_stats=True\n            (act): ReLU(inplace=True)\n          )\n        )\n        (conv2): ConvBnAct(\n          (conv): Conv2d(784, 784, kernel_size=(3, 3), stride=(1, 1), padding=(1, 1), groups=14, bias=False)\n          (bn): BatchNormAct2d(\n            784, eps=1e-05, momentum=0.1, affine=True, track_running_stats=True\n            (act): ReLU(inplace=True)\n          )\n        )\n        (conv3): ConvBnAct(\n          (conv): Conv2d(784, 784, kernel_size=(1, 1), stride=(1, 1), bias=False)\n          (bn): BatchNormAct2d(784, eps=1e-05, momentum=0.1, affine=True, track_running_stats=True)\n        )\n        (act3): ReLU(inplace=True)\n      )\n      (b10): Bottleneck(\n        (conv1): ConvBnAct(\n          (conv): Conv2d(784, 784, kernel_size=(1, 1), stride=(1, 1), bias=False)\n          (bn): BatchNormAct2d(\n            784, eps=1e-05, momentum=0.1, affine=True, track_running_stats=True\n            (act): ReLU(inplace=True)\n          )\n        )\n        (conv2): ConvBnAct(\n          (conv): Conv2d(784, 784, kernel_size=(3, 3), stride=(1, 1), padding=(1, 1), groups=14, bias=False)\n          (bn): BatchNormAct2d(\n            784, eps=1e-05, momentum=0.1, affine=True, track_running_stats=True\n            (act): ReLU(inplace=True)\n          )\n        )\n        (conv3): ConvBnAct(\n          (conv): Conv2d(784, 784, kernel_size=(1, 1), stride=(1, 1), bias=False)\n          (bn): BatchNormAct2d(784, eps=1e-05, momentum=0.1, affine=True, track_running_stats=True)\n        )\n        (act3): ReLU(inplace=True)\n      )\n    )\n    (s4): RegStage(\n      (b1): Bottleneck(\n        (conv1): ConvBnAct(\n          (conv): Conv2d(784, 1624, kernel_size=(1, 1), stride=(1, 1), dilation=(2, 2), bias=False)\n          (bn): BatchNormAct2d(\n            1624, eps=1e-05, momentum=0.1, affine=True, track_running_stats=True\n            (act): ReLU(inplace=True)\n          )\n        )\n        (conv2): ConvBnAct(\n          (conv): Conv2d(1624, 1624, kernel_size=(3, 3), stride=(1, 1), padding=(2, 2), dilation=(2, 2), groups=29, bias=False)\n          (bn): BatchNormAct2d(\n            1624, eps=1e-05, momentum=0.1, affine=True, track_running_stats=True\n            (act): ReLU(inplace=True)\n          )\n        )\n        (conv3): ConvBnAct(\n          (conv): Conv2d(1624, 1624, kernel_size=(1, 1), stride=(1, 1), dilation=(2, 2), bias=False)\n          (bn): BatchNormAct2d(1624, eps=1e-05, momentum=0.1, affine=True, track_running_stats=True)\n        )\n        (act3): ReLU(inplace=True)\n        (downsample): ConvBnAct(\n          (conv): Conv2d(784, 1624, kernel_size=(1, 1), stride=(1, 1), dilation=(2, 2), bias=False)\n          (bn): BatchNormAct2d(1624, eps=1e-05, momentum=0.1, affine=True, track_running_stats=True)\n        )\n      )\n    )\n  )\n  (decoder): DeepLabV3PlusDecoder(\n    (aspp): Sequential(\n      (0): ASPP(\n        (convs): ModuleList(\n          (0): Sequential(\n            (0): Conv2d(1624, 256, kernel_size=(1, 1), stride=(1, 1), bias=False)\n            (1): BatchNorm2d(256, eps=1e-05, momentum=0.1, affine=True, track_running_stats=True)\n            (2): ReLU()\n          )\n          (1): ASPPSeparableConv(\n            (0): SeparableConv2d(\n              (0): Conv2d(1624, 1624, kernel_size=(3, 3), stride=(1, 1), padding=(12, 12), dilation=(12, 12), groups=1624, bias=False)\n              (1): Conv2d(1624, 256, kernel_size=(1, 1), stride=(1, 1), bias=False)\n            )\n            (1): BatchNorm2d(256, eps=1e-05, momentum=0.1, affine=True, track_running_stats=True)\n            (2): ReLU()\n          )\n          (2): ASPPSeparableConv(\n            (0): SeparableConv2d(\n              (0): Conv2d(1624, 1624, kernel_size=(3, 3), stride=(1, 1), padding=(24, 24), dilation=(24, 24), groups=1624, bias=False)\n              (1): Conv2d(1624, 256, kernel_size=(1, 1), stride=(1, 1), bias=False)\n            )\n            (1): BatchNorm2d(256, eps=1e-05, momentum=0.1, affine=True, track_running_stats=True)\n            (2): ReLU()\n          )\n          (3): ASPPSeparableConv(\n            (0): SeparableConv2d(\n              (0): Conv2d(1624, 1624, kernel_size=(3, 3), stride=(1, 1), padding=(36, 36), dilation=(36, 36), groups=1624, bias=False)\n              (1): Conv2d(1624, 256, kernel_size=(1, 1), stride=(1, 1), bias=False)\n            )\n            (1): BatchNorm2d(256, eps=1e-05, momentum=0.1, affine=True, track_running_stats=True)\n            (2): ReLU()\n          )\n          (4): ASPPPooling(\n            (0): AdaptiveAvgPool2d(output_size=1)\n            (1): Conv2d(1624, 256, kernel_size=(1, 1), stride=(1, 1), bias=False)\n            (2): BatchNorm2d(256, eps=1e-05, momentum=0.1, affine=True, track_running_stats=True)\n            (3): ReLU()\n          )\n        )\n        (project): Sequential(\n          (0): Conv2d(1280, 256, kernel_size=(1, 1), stride=(1, 1), bias=False)\n          (1): BatchNorm2d(256, eps=1e-05, momentum=0.1, affine=True, track_running_stats=True)\n          (2): ReLU()\n          (3): Dropout(p=0.5, inplace=False)\n        )\n      )\n      (1): SeparableConv2d(\n        (0): Conv2d(256, 256, kernel_size=(3, 3), stride=(1, 1), padding=(1, 1), groups=256, bias=False)\n        (1): Conv2d(256, 256, kernel_size=(1, 1), stride=(1, 1), bias=False)\n      )\n      (2): BatchNorm2d(256, eps=1e-05, momentum=0.1, affine=True, track_running_stats=True)\n      (3): ReLU()\n    )\n    (up): UpsamplingBilinear2d(scale_factor=4.0, mode=bilinear)\n    (block1): Sequential(\n      (0): Conv2d(168, 48, kernel_size=(1, 1), stride=(1, 1), bias=False)\n      (1): BatchNorm2d(48, eps=1e-05, momentum=0.1, affine=True, track_running_stats=True)\n      (2): ReLU()\n    )\n    (block2): Sequential(\n      (0): SeparableConv2d(\n        (0): Conv2d(304, 304, kernel_size=(3, 3), stride=(1, 1), padding=(1, 1), groups=304, bias=False)\n        (1): Conv2d(304, 256, kernel_size=(1, 1), stride=(1, 1), bias=False)\n      )\n      (1): BatchNorm2d(256, eps=1e-05, momentum=0.1, affine=True, track_running_stats=True)\n      (2): ReLU()\n    )\n  )\n  (segmentation_head): SegmentationHead(\n    (0): Conv2d(256, 12, kernel_size=(1, 1), stride=(1, 1))\n    (1): UpsamplingBilinear2d(scale_factor=4.0, mode=bilinear)\n    (2): Activation(\n      (activation): Identity()\n    )\n  )\n) <class 'segmentation_models_pytorch.deeplabv3.model.DeepLabV3Plus'>\n"
     ]
    },
    {
     "output_type": "display_data",
     "data": {
      "text/plain": "  0%|          | 0/105 [00:00<?, ?it/s]",
      "application/vnd.jupyter.widget-view+json": {
       "version_major": 2,
       "version_minor": 0,
       "model_id": "bfcc2a51b2da409c8c72701525c9e68e"
      }
     },
     "metadata": {}
    },
    {
     "output_type": "stream",
     "name": "stdout",
     "text": [
      "End prediction.\n"
     ]
    }
   ],
   "source": [
    "model_path = saved_path + f'/{identifier}.pt'\n",
    "checkpoint = torch.load(model_path, map_location=device)\n",
    "model.load_state_dict(checkpoint)\n",
    "#model = load_model(model_name, model)\n",
    "make_submission(identifier, model, test_loader)"
   ]
  },
  {
   "cell_type": "code",
   "execution_count": 26,
   "metadata": {},
   "outputs": [
    {
     "output_type": "stream",
     "name": "stdout",
     "text": [
      "Start prediction\nDeepLabV3Plus(\n  (encoder): RegNetEncoder(\n    (stem): ConvBnAct(\n      (conv): Conv2d(3, 32, kernel_size=(3, 3), stride=(2, 2), padding=(1, 1), bias=False)\n      (bn): BatchNormAct2d(\n        32, eps=1e-05, momentum=0.1, affine=True, track_running_stats=True\n        (act): ReLU(inplace=True)\n      )\n    )\n    (s1): RegStage(\n      (b1): Bottleneck(\n        (conv1): ConvBnAct(\n          (conv): Conv2d(32, 168, kernel_size=(1, 1), stride=(1, 1), bias=False)\n          (bn): BatchNormAct2d(\n            168, eps=1e-05, momentum=0.1, affine=True, track_running_stats=True\n            (act): ReLU(inplace=True)\n          )\n        )\n        (conv2): ConvBnAct(\n          (conv): Conv2d(168, 168, kernel_size=(3, 3), stride=(2, 2), padding=(1, 1), groups=3, bias=False)\n          (bn): BatchNormAct2d(\n            168, eps=1e-05, momentum=0.1, affine=True, track_running_stats=True\n            (act): ReLU(inplace=True)\n          )\n        )\n        (conv3): ConvBnAct(\n          (conv): Conv2d(168, 168, kernel_size=(1, 1), stride=(1, 1), bias=False)\n          (bn): BatchNormAct2d(168, eps=1e-05, momentum=0.1, affine=True, track_running_stats=True)\n        )\n        (act3): ReLU(inplace=True)\n        (downsample): ConvBnAct(\n          (conv): Conv2d(32, 168, kernel_size=(1, 1), stride=(2, 2), bias=False)\n          (bn): BatchNormAct2d(168, eps=1e-05, momentum=0.1, affine=True, track_running_stats=True)\n        )\n      )\n      (b2): Bottleneck(\n        (conv1): ConvBnAct(\n          (conv): Conv2d(168, 168, kernel_size=(1, 1), stride=(1, 1), bias=False)\n          (bn): BatchNormAct2d(\n            168, eps=1e-05, momentum=0.1, affine=True, track_running_stats=True\n            (act): ReLU(inplace=True)\n          )\n        )\n        (conv2): ConvBnAct(\n          (conv): Conv2d(168, 168, kernel_size=(3, 3), stride=(1, 1), padding=(1, 1), groups=3, bias=False)\n          (bn): BatchNormAct2d(\n            168, eps=1e-05, momentum=0.1, affine=True, track_running_stats=True\n            (act): ReLU(inplace=True)\n          )\n        )\n        (conv3): ConvBnAct(\n          (conv): Conv2d(168, 168, kernel_size=(1, 1), stride=(1, 1), bias=False)\n          (bn): BatchNormAct2d(168, eps=1e-05, momentum=0.1, affine=True, track_running_stats=True)\n        )\n        (act3): ReLU(inplace=True)\n      )\n    )\n    (s2): RegStage(\n      (b1): Bottleneck(\n        (conv1): ConvBnAct(\n          (conv): Conv2d(168, 392, kernel_size=(1, 1), stride=(1, 1), bias=False)\n          (bn): BatchNormAct2d(\n            392, eps=1e-05, momentum=0.1, affine=True, track_running_stats=True\n            (act): ReLU(inplace=True)\n          )\n        )\n        (conv2): ConvBnAct(\n          (conv): Conv2d(392, 392, kernel_size=(3, 3), stride=(2, 2), padding=(1, 1), groups=7, bias=False)\n          (bn): BatchNormAct2d(\n            392, eps=1e-05, momentum=0.1, affine=True, track_running_stats=True\n            (act): ReLU(inplace=True)\n          )\n        )\n        (conv3): ConvBnAct(\n          (conv): Conv2d(392, 392, kernel_size=(1, 1), stride=(1, 1), bias=False)\n          (bn): BatchNormAct2d(392, eps=1e-05, momentum=0.1, affine=True, track_running_stats=True)\n        )\n        (act3): ReLU(inplace=True)\n        (downsample): ConvBnAct(\n          (conv): Conv2d(168, 392, kernel_size=(1, 1), stride=(2, 2), bias=False)\n          (bn): BatchNormAct2d(392, eps=1e-05, momentum=0.1, affine=True, track_running_stats=True)\n        )\n      )\n      (b2): Bottleneck(\n        (conv1): ConvBnAct(\n          (conv): Conv2d(392, 392, kernel_size=(1, 1), stride=(1, 1), bias=False)\n          (bn): BatchNormAct2d(\n            392, eps=1e-05, momentum=0.1, affine=True, track_running_stats=True\n            (act): ReLU(inplace=True)\n          )\n        )\n        (conv2): ConvBnAct(\n          (conv): Conv2d(392, 392, kernel_size=(3, 3), stride=(1, 1), padding=(1, 1), groups=7, bias=False)\n          (bn): BatchNormAct2d(\n            392, eps=1e-05, momentum=0.1, affine=True, track_running_stats=True\n            (act): ReLU(inplace=True)\n          )\n        )\n        (conv3): ConvBnAct(\n          (conv): Conv2d(392, 392, kernel_size=(1, 1), stride=(1, 1), bias=False)\n          (bn): BatchNormAct2d(392, eps=1e-05, momentum=0.1, affine=True, track_running_stats=True)\n        )\n        (act3): ReLU(inplace=True)\n      )\n      (b3): Bottleneck(\n        (conv1): ConvBnAct(\n          (conv): Conv2d(392, 392, kernel_size=(1, 1), stride=(1, 1), bias=False)\n          (bn): BatchNormAct2d(\n            392, eps=1e-05, momentum=0.1, affine=True, track_running_stats=True\n            (act): ReLU(inplace=True)\n          )\n        )\n        (conv2): ConvBnAct(\n          (conv): Conv2d(392, 392, kernel_size=(3, 3), stride=(1, 1), padding=(1, 1), groups=7, bias=False)\n          (bn): BatchNormAct2d(\n            392, eps=1e-05, momentum=0.1, affine=True, track_running_stats=True\n            (act): ReLU(inplace=True)\n          )\n        )\n        (conv3): ConvBnAct(\n          (conv): Conv2d(392, 392, kernel_size=(1, 1), stride=(1, 1), bias=False)\n          (bn): BatchNormAct2d(392, eps=1e-05, momentum=0.1, affine=True, track_running_stats=True)\n        )\n        (act3): ReLU(inplace=True)\n      )\n      (b4): Bottleneck(\n        (conv1): ConvBnAct(\n          (conv): Conv2d(392, 392, kernel_size=(1, 1), stride=(1, 1), bias=False)\n          (bn): BatchNormAct2d(\n            392, eps=1e-05, momentum=0.1, affine=True, track_running_stats=True\n            (act): ReLU(inplace=True)\n          )\n        )\n        (conv2): ConvBnAct(\n          (conv): Conv2d(392, 392, kernel_size=(3, 3), stride=(1, 1), padding=(1, 1), groups=7, bias=False)\n          (bn): BatchNormAct2d(\n            392, eps=1e-05, momentum=0.1, affine=True, track_running_stats=True\n            (act): ReLU(inplace=True)\n          )\n        )\n        (conv3): ConvBnAct(\n          (conv): Conv2d(392, 392, kernel_size=(1, 1), stride=(1, 1), bias=False)\n          (bn): BatchNormAct2d(392, eps=1e-05, momentum=0.1, affine=True, track_running_stats=True)\n        )\n        (act3): ReLU(inplace=True)\n      )\n    )\n    (s3): RegStage(\n      (b1): Bottleneck(\n        (conv1): ConvBnAct(\n          (conv): Conv2d(392, 784, kernel_size=(1, 1), stride=(1, 1), bias=False)\n          (bn): BatchNormAct2d(\n            784, eps=1e-05, momentum=0.1, affine=True, track_running_stats=True\n            (act): ReLU(inplace=True)\n          )\n        )\n        (conv2): ConvBnAct(\n          (conv): Conv2d(784, 784, kernel_size=(3, 3), stride=(2, 2), padding=(1, 1), groups=14, bias=False)\n          (bn): BatchNormAct2d(\n            784, eps=1e-05, momentum=0.1, affine=True, track_running_stats=True\n            (act): ReLU(inplace=True)\n          )\n        )\n        (conv3): ConvBnAct(\n          (conv): Conv2d(784, 784, kernel_size=(1, 1), stride=(1, 1), bias=False)\n          (bn): BatchNormAct2d(784, eps=1e-05, momentum=0.1, affine=True, track_running_stats=True)\n        )\n        (act3): ReLU(inplace=True)\n        (downsample): ConvBnAct(\n          (conv): Conv2d(392, 784, kernel_size=(1, 1), stride=(2, 2), bias=False)\n          (bn): BatchNormAct2d(784, eps=1e-05, momentum=0.1, affine=True, track_running_stats=True)\n        )\n      )\n      (b2): Bottleneck(\n        (conv1): ConvBnAct(\n          (conv): Conv2d(784, 784, kernel_size=(1, 1), stride=(1, 1), bias=False)\n          (bn): BatchNormAct2d(\n            784, eps=1e-05, momentum=0.1, affine=True, track_running_stats=True\n            (act): ReLU(inplace=True)\n          )\n        )\n        (conv2): ConvBnAct(\n          (conv): Conv2d(784, 784, kernel_size=(3, 3), stride=(1, 1), padding=(1, 1), groups=14, bias=False)\n          (bn): BatchNormAct2d(\n            784, eps=1e-05, momentum=0.1, affine=True, track_running_stats=True\n            (act): ReLU(inplace=True)\n          )\n        )\n        (conv3): ConvBnAct(\n          (conv): Conv2d(784, 784, kernel_size=(1, 1), stride=(1, 1), bias=False)\n          (bn): BatchNormAct2d(784, eps=1e-05, momentum=0.1, affine=True, track_running_stats=True)\n        )\n        (act3): ReLU(inplace=True)\n      )\n      (b3): Bottleneck(\n        (conv1): ConvBnAct(\n          (conv): Conv2d(784, 784, kernel_size=(1, 1), stride=(1, 1), bias=False)\n          (bn): BatchNormAct2d(\n            784, eps=1e-05, momentum=0.1, affine=True, track_running_stats=True\n            (act): ReLU(inplace=True)\n          )\n        )\n        (conv2): ConvBnAct(\n          (conv): Conv2d(784, 784, kernel_size=(3, 3), stride=(1, 1), padding=(1, 1), groups=14, bias=False)\n          (bn): BatchNormAct2d(\n            784, eps=1e-05, momentum=0.1, affine=True, track_running_stats=True\n            (act): ReLU(inplace=True)\n          )\n        )\n        (conv3): ConvBnAct(\n          (conv): Conv2d(784, 784, kernel_size=(1, 1), stride=(1, 1), bias=False)\n          (bn): BatchNormAct2d(784, eps=1e-05, momentum=0.1, affine=True, track_running_stats=True)\n        )\n        (act3): ReLU(inplace=True)\n      )\n      (b4): Bottleneck(\n        (conv1): ConvBnAct(\n          (conv): Conv2d(784, 784, kernel_size=(1, 1), stride=(1, 1), bias=False)\n          (bn): BatchNormAct2d(\n            784, eps=1e-05, momentum=0.1, affine=True, track_running_stats=True\n            (act): ReLU(inplace=True)\n          )\n        )\n        (conv2): ConvBnAct(\n          (conv): Conv2d(784, 784, kernel_size=(3, 3), stride=(1, 1), padding=(1, 1), groups=14, bias=False)\n          (bn): BatchNormAct2d(\n            784, eps=1e-05, momentum=0.1, affine=True, track_running_stats=True\n            (act): ReLU(inplace=True)\n          )\n        )\n        (conv3): ConvBnAct(\n          (conv): Conv2d(784, 784, kernel_size=(1, 1), stride=(1, 1), bias=False)\n          (bn): BatchNormAct2d(784, eps=1e-05, momentum=0.1, affine=True, track_running_stats=True)\n        )\n        (act3): ReLU(inplace=True)\n      )\n      (b5): Bottleneck(\n        (conv1): ConvBnAct(\n          (conv): Conv2d(784, 784, kernel_size=(1, 1), stride=(1, 1), bias=False)\n          (bn): BatchNormAct2d(\n            784, eps=1e-05, momentum=0.1, affine=True, track_running_stats=True\n            (act): ReLU(inplace=True)\n          )\n        )\n        (conv2): ConvBnAct(\n          (conv): Conv2d(784, 784, kernel_size=(3, 3), stride=(1, 1), padding=(1, 1), groups=14, bias=False)\n          (bn): BatchNormAct2d(\n            784, eps=1e-05, momentum=0.1, affine=True, track_running_stats=True\n            (act): ReLU(inplace=True)\n          )\n        )\n        (conv3): ConvBnAct(\n          (conv): Conv2d(784, 784, kernel_size=(1, 1), stride=(1, 1), bias=False)\n          (bn): BatchNormAct2d(784, eps=1e-05, momentum=0.1, affine=True, track_running_stats=True)\n        )\n        (act3): ReLU(inplace=True)\n      )\n      (b6): Bottleneck(\n        (conv1): ConvBnAct(\n          (conv): Conv2d(784, 784, kernel_size=(1, 1), stride=(1, 1), bias=False)\n          (bn): BatchNormAct2d(\n            784, eps=1e-05, momentum=0.1, affine=True, track_running_stats=True\n            (act): ReLU(inplace=True)\n          )\n        )\n        (conv2): ConvBnAct(\n          (conv): Conv2d(784, 784, kernel_size=(3, 3), stride=(1, 1), padding=(1, 1), groups=14, bias=False)\n          (bn): BatchNormAct2d(\n            784, eps=1e-05, momentum=0.1, affine=True, track_running_stats=True\n            (act): ReLU(inplace=True)\n          )\n        )\n        (conv3): ConvBnAct(\n          (conv): Conv2d(784, 784, kernel_size=(1, 1), stride=(1, 1), bias=False)\n          (bn): BatchNormAct2d(784, eps=1e-05, momentum=0.1, affine=True, track_running_stats=True)\n        )\n        (act3): ReLU(inplace=True)\n      )\n      (b7): Bottleneck(\n        (conv1): ConvBnAct(\n          (conv): Conv2d(784, 784, kernel_size=(1, 1), stride=(1, 1), bias=False)\n          (bn): BatchNormAct2d(\n            784, eps=1e-05, momentum=0.1, affine=True, track_running_stats=True\n            (act): ReLU(inplace=True)\n          )\n        )\n        (conv2): ConvBnAct(\n          (conv): Conv2d(784, 784, kernel_size=(3, 3), stride=(1, 1), padding=(1, 1), groups=14, bias=False)\n          (bn): BatchNormAct2d(\n            784, eps=1e-05, momentum=0.1, affine=True, track_running_stats=True\n            (act): ReLU(inplace=True)\n          )\n        )\n        (conv3): ConvBnAct(\n          (conv): Conv2d(784, 784, kernel_size=(1, 1), stride=(1, 1), bias=False)\n          (bn): BatchNormAct2d(784, eps=1e-05, momentum=0.1, affine=True, track_running_stats=True)\n        )\n        (act3): ReLU(inplace=True)\n      )\n      (b8): Bottleneck(\n        (conv1): ConvBnAct(\n          (conv): Conv2d(784, 784, kernel_size=(1, 1), stride=(1, 1), bias=False)\n          (bn): BatchNormAct2d(\n            784, eps=1e-05, momentum=0.1, affine=True, track_running_stats=True\n            (act): ReLU(inplace=True)\n          )\n        )\n        (conv2): ConvBnAct(\n          (conv): Conv2d(784, 784, kernel_size=(3, 3), stride=(1, 1), padding=(1, 1), groups=14, bias=False)\n          (bn): BatchNormAct2d(\n            784, eps=1e-05, momentum=0.1, affine=True, track_running_stats=True\n            (act): ReLU(inplace=True)\n          )\n        )\n        (conv3): ConvBnAct(\n          (conv): Conv2d(784, 784, kernel_size=(1, 1), stride=(1, 1), bias=False)\n          (bn): BatchNormAct2d(784, eps=1e-05, momentum=0.1, affine=True, track_running_stats=True)\n        )\n        (act3): ReLU(inplace=True)\n      )\n      (b9): Bottleneck(\n        (conv1): ConvBnAct(\n          (conv): Conv2d(784, 784, kernel_size=(1, 1), stride=(1, 1), bias=False)\n          (bn): BatchNormAct2d(\n            784, eps=1e-05, momentum=0.1, affine=True, track_running_stats=True\n            (act): ReLU(inplace=True)\n          )\n        )\n        (conv2): ConvBnAct(\n          (conv): Conv2d(784, 784, kernel_size=(3, 3), stride=(1, 1), padding=(1, 1), groups=14, bias=False)\n          (bn): BatchNormAct2d(\n            784, eps=1e-05, momentum=0.1, affine=True, track_running_stats=True\n            (act): ReLU(inplace=True)\n          )\n        )\n        (conv3): ConvBnAct(\n          (conv): Conv2d(784, 784, kernel_size=(1, 1), stride=(1, 1), bias=False)\n          (bn): BatchNormAct2d(784, eps=1e-05, momentum=0.1, affine=True, track_running_stats=True)\n        )\n        (act3): ReLU(inplace=True)\n      )\n      (b10): Bottleneck(\n        (conv1): ConvBnAct(\n          (conv): Conv2d(784, 784, kernel_size=(1, 1), stride=(1, 1), bias=False)\n          (bn): BatchNormAct2d(\n            784, eps=1e-05, momentum=0.1, affine=True, track_running_stats=True\n            (act): ReLU(inplace=True)\n          )\n        )\n        (conv2): ConvBnAct(\n          (conv): Conv2d(784, 784, kernel_size=(3, 3), stride=(1, 1), padding=(1, 1), groups=14, bias=False)\n          (bn): BatchNormAct2d(\n            784, eps=1e-05, momentum=0.1, affine=True, track_running_stats=True\n            (act): ReLU(inplace=True)\n          )\n        )\n        (conv3): ConvBnAct(\n          (conv): Conv2d(784, 784, kernel_size=(1, 1), stride=(1, 1), bias=False)\n          (bn): BatchNormAct2d(784, eps=1e-05, momentum=0.1, affine=True, track_running_stats=True)\n        )\n        (act3): ReLU(inplace=True)\n      )\n    )\n    (s4): RegStage(\n      (b1): Bottleneck(\n        (conv1): ConvBnAct(\n          (conv): Conv2d(784, 1624, kernel_size=(1, 1), stride=(1, 1), dilation=(2, 2), bias=False)\n          (bn): BatchNormAct2d(\n            1624, eps=1e-05, momentum=0.1, affine=True, track_running_stats=True\n            (act): ReLU(inplace=True)\n          )\n        )\n        (conv2): ConvBnAct(\n          (conv): Conv2d(1624, 1624, kernel_size=(3, 3), stride=(1, 1), padding=(2, 2), dilation=(2, 2), groups=29, bias=False)\n          (bn): BatchNormAct2d(\n            1624, eps=1e-05, momentum=0.1, affine=True, track_running_stats=True\n            (act): ReLU(inplace=True)\n          )\n        )\n        (conv3): ConvBnAct(\n          (conv): Conv2d(1624, 1624, kernel_size=(1, 1), stride=(1, 1), dilation=(2, 2), bias=False)\n          (bn): BatchNormAct2d(1624, eps=1e-05, momentum=0.1, affine=True, track_running_stats=True)\n        )\n        (act3): ReLU(inplace=True)\n        (downsample): ConvBnAct(\n          (conv): Conv2d(784, 1624, kernel_size=(1, 1), stride=(1, 1), dilation=(2, 2), bias=False)\n          (bn): BatchNormAct2d(1624, eps=1e-05, momentum=0.1, affine=True, track_running_stats=True)\n        )\n      )\n    )\n  )\n  (decoder): DeepLabV3PlusDecoder(\n    (aspp): Sequential(\n      (0): ASPP(\n        (convs): ModuleList(\n          (0): Sequential(\n            (0): Conv2d(1624, 256, kernel_size=(1, 1), stride=(1, 1), bias=False)\n            (1): BatchNorm2d(256, eps=1e-05, momentum=0.1, affine=True, track_running_stats=True)\n            (2): ReLU()\n          )\n          (1): ASPPSeparableConv(\n            (0): SeparableConv2d(\n              (0): Conv2d(1624, 1624, kernel_size=(3, 3), stride=(1, 1), padding=(12, 12), dilation=(12, 12), groups=1624, bias=False)\n              (1): Conv2d(1624, 256, kernel_size=(1, 1), stride=(1, 1), bias=False)\n            )\n            (1): BatchNorm2d(256, eps=1e-05, momentum=0.1, affine=True, track_running_stats=True)\n            (2): ReLU()\n          )\n          (2): ASPPSeparableConv(\n            (0): SeparableConv2d(\n              (0): Conv2d(1624, 1624, kernel_size=(3, 3), stride=(1, 1), padding=(24, 24), dilation=(24, 24), groups=1624, bias=False)\n              (1): Conv2d(1624, 256, kernel_size=(1, 1), stride=(1, 1), bias=False)\n            )\n            (1): BatchNorm2d(256, eps=1e-05, momentum=0.1, affine=True, track_running_stats=True)\n            (2): ReLU()\n          )\n          (3): ASPPSeparableConv(\n            (0): SeparableConv2d(\n              (0): Conv2d(1624, 1624, kernel_size=(3, 3), stride=(1, 1), padding=(36, 36), dilation=(36, 36), groups=1624, bias=False)\n              (1): Conv2d(1624, 256, kernel_size=(1, 1), stride=(1, 1), bias=False)\n            )\n            (1): BatchNorm2d(256, eps=1e-05, momentum=0.1, affine=True, track_running_stats=True)\n            (2): ReLU()\n          )\n          (4): ASPPPooling(\n            (0): AdaptiveAvgPool2d(output_size=1)\n            (1): Conv2d(1624, 256, kernel_size=(1, 1), stride=(1, 1), bias=False)\n            (2): BatchNorm2d(256, eps=1e-05, momentum=0.1, affine=True, track_running_stats=True)\n            (3): ReLU()\n          )\n        )\n        (project): Sequential(\n          (0): Conv2d(1280, 256, kernel_size=(1, 1), stride=(1, 1), bias=False)\n          (1): BatchNorm2d(256, eps=1e-05, momentum=0.1, affine=True, track_running_stats=True)\n          (2): ReLU()\n          (3): Dropout(p=0.5, inplace=False)\n        )\n      )\n      (1): SeparableConv2d(\n        (0): Conv2d(256, 256, kernel_size=(3, 3), stride=(1, 1), padding=(1, 1), groups=256, bias=False)\n        (1): Conv2d(256, 256, kernel_size=(1, 1), stride=(1, 1), bias=False)\n      )\n      (2): BatchNorm2d(256, eps=1e-05, momentum=0.1, affine=True, track_running_stats=True)\n      (3): ReLU()\n    )\n    (up): UpsamplingBilinear2d(scale_factor=4.0, mode=bilinear)\n    (block1): Sequential(\n      (0): Conv2d(168, 48, kernel_size=(1, 1), stride=(1, 1), bias=False)\n      (1): BatchNorm2d(48, eps=1e-05, momentum=0.1, affine=True, track_running_stats=True)\n      (2): ReLU()\n    )\n    (block2): Sequential(\n      (0): SeparableConv2d(\n        (0): Conv2d(304, 304, kernel_size=(3, 3), stride=(1, 1), padding=(1, 1), groups=304, bias=False)\n        (1): Conv2d(304, 256, kernel_size=(1, 1), stride=(1, 1), bias=False)\n      )\n      (1): BatchNorm2d(256, eps=1e-05, momentum=0.1, affine=True, track_running_stats=True)\n      (2): ReLU()\n    )\n  )\n  (segmentation_head): SegmentationHead(\n    (0): Conv2d(256, 12, kernel_size=(1, 1), stride=(1, 1))\n    (1): UpsamplingBilinear2d(scale_factor=4.0, mode=bilinear)\n    (2): Activation(\n      (activation): Identity()\n    )\n  )\n) <class 'segmentation_models_pytorch.deeplabv3.model.DeepLabV3Plus'>\n"
     ]
    },
    {
     "output_type": "display_data",
     "data": {
      "text/plain": "  0%|          | 0/105 [00:00<?, ?it/s]",
      "application/vnd.jupyter.widget-view+json": {
       "version_major": 2,
       "version_minor": 0,
       "model_id": "20ccc481bc124e5298f4bd3846c6fa2e"
      }
     },
     "metadata": {}
    },
    {
     "output_type": "stream",
     "name": "stdout",
     "text": [
      "End prediction.\n"
     ]
    }
   ],
   "source": [
    "model = smp.DeepLabV3Plus(\n",
    "    encoder_name=\"timm-regnetx_064\",\n",
    "    encoder_weights=\"imagenet\",\n",
    "    in_channels=3,\n",
    "    classes=N_CLASSES,\n",
    ").to(device)\n",
    "model_path = saved_path + f'/model_A.pt'\n",
    "checkpoint = torch.load(model_path, map_location=device)\n",
    "model.load_state_dict(checkpoint)\n",
    "make_submission('model_A', model, test_loader)"
   ]
  }
 ]
}